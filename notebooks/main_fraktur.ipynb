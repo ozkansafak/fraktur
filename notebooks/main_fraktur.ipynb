{
 "cells": [
  {
   "cell_type": "code",
   "execution_count": 24,
   "id": "3fd37c50-412f-4868-a817-ed7ef16f4c69",
   "metadata": {},
   "outputs": [
    {
     "data": {
      "text/plain": [
       "'/Users/ozkansafak/code/fraktur/notebooks'"
      ]
     },
     "execution_count": 24,
     "metadata": {},
     "output_type": "execute_result"
    }
   ],
   "source": [
    "pwd"
   ]
  },
  {
   "cell_type": "code",
   "execution_count": 25,
   "id": "6cd7026f-2a85-4c43-8110-547d0decaa76",
   "metadata": {},
   "outputs": [
    {
     "name": "stdout",
     "output_type": "stream",
     "text": [
      "The autoreload extension is already loaded. To reload it, use:\n",
      "  %reload_ext autoreload\n"
     ]
    },
    {
     "name": "stderr",
     "output_type": "stream",
     "text": [
      "<timed exec>:22: DeprecationWarning: Importing display from IPython.core.display is deprecated since IPython 7.14, please import from IPython.display\n"
     ]
    },
    {
     "data": {
      "text/html": [
       "<style>.container { width:90% !important; }</style>"
      ],
      "text/plain": [
       "<IPython.core.display.HTML object>"
      ]
     },
     "metadata": {},
     "output_type": "display_data"
    },
    {
     "name": "stdout",
     "output_type": "stream",
     "text": [
      "sys.executable: /Users/ozkansafak/code/fraktur/.venv/bin/python3\n",
      "sys.version: 3.10.9 (main, Mar  1 2023, 12:20:14) [Clang 14.0.6 ] \n",
      "\n",
      "CPU times: user 1.75 ms, sys: 1.15 ms, total: 2.91 ms\n",
      "Wall time: 2.19 ms\n"
     ]
    }
   ],
   "source": [
    "%%time\n",
    "%load_ext autoreload\n",
    "%autoreload 2\n",
    "\n",
    "# import standard Python modules\n",
    "import time \n",
    "import numpy as np\n",
    "import os, sys\n",
    "import re\n",
    "import glob\n",
    "import openai\n",
    "\n",
    "# # Get the root path of the project\n",
    "sys.path.append(os.path.abspath(\"..\"))\n",
    "\n",
    "# Import necessary modules from your src directory\n",
    "from src.utils import timeit, encode_image, plt\n",
    "from src.processing import compute_log_spectrum_1d, extract_image_bbox, save_images\n",
    "from src.api_requests import construct_payload, send_gpt_request\n",
    "from src.document_generation import save_document\n",
    "from src.api_requests import single_page\n",
    "\n",
    "from IPython.core.display import display, HTML\n",
    "from IPython.display import clear_output\n",
    "display(HTML(\"<style>.container { width:90% !important; }</style>\"))\n",
    "\n",
    "print('sys.executable:', sys.executable)\n",
    "print('sys.version:', sys.version, '\\n')"
   ]
  },
  {
   "cell_type": "markdown",
   "id": "503e18f5",
   "metadata": {},
   "source": [
    "---\n",
    "## Fraktur Translator"
   ]
  },
  {
   "cell_type": "code",
   "execution_count": 73,
   "id": "1f71423f",
   "metadata": {
    "scrolled": true
   },
   "outputs": [],
   "source": [
    "# Set the OpenAI API key from environment variables\n",
    "openai.api_key = os.getenv(\"OPENAI_API_KEY\")\n",
    "\n",
    "# Set the headers for the API request\n",
    "headers = {\n",
    "    \"Content-Type\": \"application/json\",\n",
    "    \"Authorization\": f\"Bearer {openai.api_key}\"\n",
    "}\n",
    "\n",
    "# Select the value of model_name in [\"gpt-4o-2024-08-06\", \"gpt-4o-mini-2024-07-18\"]\n",
    "model_name = \"gpt-4o-mini-2024-07-18\"\n",
    "plotter = False\n",
    "\n",
    "# Folder containing the Fraktur PDF files\n",
    "image_path = \"../data/Der Weltkrieg v8 Chap 4F (in Fraktur)/*pdf\"\n",
    "\n",
    "# Get the list of PDF file paths\n",
    "fnames = sorted(glob.glob(image_path))\n",
    "german_texts = {}\n",
    "english_texts = {}\n",
    "total_time = 0 "
   ]
  },
  {
   "cell_type": "code",
   "execution_count": 102,
   "id": "07f4d79c-a54b-43f6-a05e-2348f8aede12",
   "metadata": {},
   "outputs": [
    {
     "name": "stdout",
     "output_type": "stream",
     "text": [
      "---------- page:456 (i:0/83) [time:19.77sec] [TotalRuntime:1 mins 20.51 sec] ----------\n",
      "\n",
      "<raw_german>\n",
      "F. Die Operation des Oberbefehlshabers Ost gegen Wilna.  \n",
      "1. Die Kämpfe in Litauen und Kurland bis Ende August¹.  \n",
      "a) Die Kämpfe der Niemen-Armee.  \n",
      "(Karten 6 und 7, Tische 26).  \n",
      "\n",
      "Der Juli-Feldzug gegen Mitau und Schaulen.  \n",
      "Vom Monat Juli an sind die Kämpfe der Niemen-Armee nicht mehr als selbständige Einzelhandlung, sondern als Vorbereitung einer künftigen Offensive auf Wilna zu werten, die der Oberbefehlshaber Ost als wirksame Unterstützung der Offensive in Südpolen am 2. Juli in Posen vorgeschlagen hatte, und die für einen späteren Zeitpunkt auch die Billigung des Generals von Falkenhayn gefunden hatte². Die Oberbefehlshaber Ost behielt sie unentwegt im Auge. Sollte diese Durchbruchsoperation so tief in die feindliche Aufstellung eindringen, dass sie volle Wirkung hatte, dann musste einerseits die große Festung Kowno genommen werden, die den Nordflügel der russischen Niemen-Front sicherte, andererseits die Sicherung gegen die aus dem Inneren des Reiches nach Dünaburg und Riga heranführenden Bahnliniens nötig. Die letztere Aufgabe musste zuerst gelöst werden, wobei Vorgehen bis an die untere Düna und Sperrung dieser Stromlinie das wirksamste Mittel war und auf die Dauer am wenigsten Kräfte erforderte. Da aber von Anfang Juli an die ganze Kraft des Oberbefehlshabers Ost an die Narew-Operation gesetzt werden musste, standen einseitig nur sehr beschränkte Mittel zur Verfügung; Absichten und Ziele mussten sich dem anpassen und daher im einzelnen mehrfach wechseln.  \n",
      "\n",
      "Die 10. Armee hatte am 2. Juli die Weisung erhalten, die schon begonnenen Vorbereitungen für den Angriff auf Kowno³ einzustellen, und das darauf basierende Auftrags, in der bisherigen ausgehobenen Stellung die linke Flanke des Ditierees zu decken; die Niemen-Armee, bei der die 41. Infanterie-Division als neue Kraft zum Eingreifen bereitstand, sollte die russische 5. Armee angreifen, damit zugleich die deutsche 10. Armee entlastet und des Gegners Aufmerksamkeit von der Narew-Operation ablenken.  \n",
      "¹ Anschluss an G. 130 ff. - ² G. 271 ff. - ³ G. 277. - ⁴ G. 280.  \n",
      "</raw_german>\n",
      "--------------------------------------------------------------------\n",
      "<german>\n",
      "<header>Die Operation des Oberbefehlshabers Ost gegen Wilna.</header>\n",
      "<body>\n",
      "1. Die Kämpfe in Litauen und Kurland bis Ende August¹.  \n",
      "a) Die Kämpfe der Niemen-Armee.  \n",
      "(Karten 6 und 7, Tische 26).  \n",
      "\n",
      "Der Juli-Feldzug gegen Mitau und Schaulen.  \n",
      "Vom Monat Juli an sind die Kämpfe der Niemen-Armee nicht mehr als selbständige Einzelhandlung, sondern als Vorbereitung einer künftigen Offensive auf Wilna zu werten, die der Oberbefehlshaber Ost als wirksame Unterstützung der Offensive in Südpolen am 2. Juli in Posen vorgeschlagen hatte, und die für einen späteren Zeitpunkt auch die Billigung des Generals von Falkenhayn gefunden hatte². Die Oberbefehlshaber Ost behielt sie unentwegt im Auge. Sollte diese Durchbruchsoperation so tief in die feindliche Aufstellung eindringen, dass sie volle Wirkung hatte, dann musste einerseits die große Festung Kowno genommen werden, die den Nordflügel der russischen Niemen-Front sicherte, andererseits die Sicherung gegen die aus dem Inneren des Reiches nach Dünaburg und Riga heranführenden Bahnliniens nötig. Die letztere Aufgabe musste zuerst gelöst werden, wobei Vorgehen bis an die untere Düna und Sperrung dieser Stromlinie das wirksamste Mittel war und auf die Dauer am wenigsten Kräfte erforderte. Da aber von Anfang Juli an die ganze Kraft des Oberbefehlshabers Ost an die Narew-Operation gesetzt werden musste, standen einseitig nur sehr beschränkte Mittel zur Verfügung; Absichten und Ziele mussten sich dem anpassen und daher im einzelnen mehrfach wechseln.  \n",
      "\n",
      "Die 10. Armee hatte am 2. Juli die Weisung erhalten, die schon begonnenen Vorbereitungen für den Angriff auf Kowno³ einzustellen, und das darauf basierende Auftrags, in der bisherigen ausgehobenen Stellung die linke Flanke des Ditierees zu decken; die Niemen-Armee, bei der die 41. Infanterie-Division als neue Kraft zum Eingreifen bereitstand, sollte die russische 5. Armee angreifen, damit zugleich die deutsche 10. Armee entlastet und des Gegners Aufmerksamkeit von der Narew-Operation ablenken.\n",
      "</body>\n",
      "<footer>¹ Anschluss an G. 130 ff. - ² G. 271 ff. - ³ G. 277. - ⁴ G. 280.</footer>\n",
      "</german>\n",
      "--------------------------------------------------------------------\n",
      "<english>\n",
      "<header>The Operation of the Supreme Commander East Against Wilna.</header>\n",
      "<body>\n",
      "1. The Battles in Lithuania and Courland until the End of August¹.  \n",
      "a) The Battles of the Niemen Army.  \n",
      "(Maps 6 and 7, Tables 26).  \n",
      "\n",
      "The July Campaign Against Mitau and Schaulen.  \n",
      "From the month of July onwards, the battles of the Niemen Army are no longer to be regarded as independent actions, but as preparations for a future offensive against Wilna, which the Supreme Commander East proposed as an effective support for the offensive in South Poland on July 2 in Posen, and which also received the approval of General von Falkenhayn for a later date². The Supreme Commander East kept this constantly in view. Should this breakthrough operation penetrate so deeply into the enemy's deployment that it had full effect, then on the one hand, the large fortress of Kowno had to be taken, which secured the northern flank of the Russian Niemen front; on the other hand, securing against the railway lines leading from the interior of the empire to Dünaburg and Riga was necessary. The latter task had to be solved first, with the approach to the lower Düna and the blocking of this power line being the most effective means and requiring the least forces over time. However, from the beginning of July, as all the strength of the Supreme Commander East had to be directed towards the Narew operation, only very limited resources were available; intentions and objectives had to adapt to this and therefore change repeatedly in detail.  \n",
      "\n",
      "The 10th Army received orders on July 2 to suspend the preparations already begun for the attack on Kowno³, and based on that order, to cover the left flank of the Ditierees in the previously established position; the Niemen Army, with the 41st Infantry Division as a new force ready to intervene, was to attack the Russian 5th Army, thereby relieving the German 10th Army and distracting the enemy's attention from the Narew operation.\n",
      "</body>\n",
      "<footer>¹ Connection to G. 130 ff. - ² G. 271 ff. - ³ G. 277. - ⁴ G. 280.</footer>\n",
      "</english>\n",
      "---------- page:457 (i:1/83) [time:22.94sec] [TotalRuntime:1 mins 43.45 sec] ----------\n",
      "\n",
      "<raw_german>\n",
      "Die Njemen-Armee unter General der Infanterie Otto von Below befand sich zu dieser Zeit mit rund sieben Infanterie-Divisionen und fünf Kavallerie-Divisionen) ben Raum nördlich des Njemen von der unteren Dubissa bis in die Gegend östlich von Libau in einer Frontbreite von etwa 250 Kilometern. Der gegenüberstehende Feind schien am Zaun (etwas überlegen). General von Below wollte den Angriff, ähnlich wie es der Oberbefehlshaber oft seinerzeit in der Weisung vom 14. Juni) angeordnet hatte, unter Vermeidung der starken feindlichen Stellungen bei Schauern, die den vorliegenden aus Kavallerie bestehenden russischen Nordflügel führten, um dann gegen Flanke und Rücken der Schauern-Stellung einzuschwenken. Dementsprechend gliederte er seine Truppen unter Schwächung des rechten Flügels wie folgt:\n",
      "Südgruppe unter Generallieutenant Freiherr von Richthofen (Höherer Kavalleriekommandeur 1 mit Abteilung Esbed, 36. Reserve-Division, Division Beckmann, 3. und bayerisch Kavallerie-Division) vom Njemen bis zum Rakiewo-See südlich Schaueln,\n",
      "Korp 3 Morgen (Generalkommando des 1. Reservekorps mit Brigade Homeyer und 1. Reserve-Division) in den Stellungen vor Schaueln,\n",
      "Nordkorps unter General von Lauenstein (Generalkommando des XXXIX. Reservekorps mit 6. und 78. Reserve- und 41. Infanterie-Division) nördlich anschließend hinter dem Laufe der Windau bis nördlich der Bahnlinie Libau–Murawjewo,\n",
      "Kavalleriekorps des Generallieutenant Egon Grafen von Schmetton (6. und 2. Kavallerie-Division) nördlich anschließend,\n",
      "Gruppe des Generallieutenant von Pappritz (Gouverneur von Libau mit 8. Kavallerie-Division und Truppen der Festung) bei hasenpot und östlich davon.\n",
      "Die Einnahme dieser Gliederung erforderte erhebliche Märsche; der Angriff konnte daher erst etwa am 15. Juli beginnen. Dabei sollte das Nordkorps, durch die Kavallerie in der linken Flanke begleitet, zunächst in der allgemeinen Richtung auf Mitau, der linke Flügel der Gruppe Pappritz\n",
      "</raw_german>\n",
      "--------------------------------------------------------------------\n",
      "<german>\n",
      "<header>Aufgabe und Gliederung der Njemen-Armee.</header>\n",
      "<body>Die Njemen-Armee unter General der Infanterie Otto von Below befand sich zu dieser Zeit mit rund sieben Infanterie-Divisionen und fünf Kavallerie-Divisionen) ben Raum nördlich des Njemen von der unteren Dubissa bis in die Gegend östlich von Libau in einer Frontbreite von etwa 250 Kilometern. Der gegenüberstehende Feind schien am Zaun (etwas überlegen). General von Below wollte den Angriff, ähnlich wie es der Oberbefehlshaber oft seinerzeit in der Weisung vom 14. Juni) angeordnet hatte, unter Vermeidung der starken feindlichen Stellungen bei Schauern, die den vorliegenden aus Kavallerie bestehenden russischen Nordflügel führten, um dann gegen Flanke und Rücken der Schauern-Stellung einzuschwenken. Dementsprechend gliederte er seine Truppen unter Schwächung des rechten Flügels wie folgt: Südgruppe unter Generallieutenant Freiherr von Richthofen (Höherer Kavalleriekommandeur 1 mit Abteilung Esbed, 36. Reserve-Division, Division Beckmann, 3. und bayerisch Kavallerie-Division) vom Njemen bis zum Rakiewo-See südlich Schaueln, Korp 3 Morgen (Generalkommando des 1. Reservekorps mit Brigade Homeyer und 1. Reserve-Division) in den Stellungen vor Schaueln, Nordkorps unter General von Lauenstein (Generalkommando des XXXIX. Reservekorps mit 6. und 78. Reserve- und 41. Infanterie-Division) nördlich anschließend hinter dem Laufe der Windau bis nördlich der Bahnlinie Libau–Murawjewo, Kavalleriekorps des Generallieutenant Egon Grafen von Schmetton (6. und 2. Kavallerie-Division) nördlich anschließend, Gruppe des Generallieutenant von Pappritz (Gouverneur von Libau mit 8. Kavallerie-Division und Truppen der Festung) bei hasenpot und östlich davon. Die Einnahme dieser Gliederung erforderte erhebliche Märsche; der Angriff konnte daher erst etwa am 15. Juli beginnen. Dabei sollte das Nordkorps, durch die Kavallerie in der linken Flanke begleitet, zunächst in der allgemeinen Richtung auf Mitau, der linke Flügel der Gruppe Pappritz</body>\n",
      "<footer>1) I. und ½ XXXIX. R.R. 41. I.D., 6. R.R.D., Div. Beckmann, Abt. Esbed und Truppen von Libau; 2), 3., 6. und bayer. R.D. 2) Tatsächlich etwa neun Infanterie- und sieben Kavallerie-Divisionen, im wesentlichen dieselben Kräfte wie aus S. 469 ersichtlich. 3) S. 127. 4) Gren. Regt. 2 und Erl. Regt. Königsberg nebst Artillerie u.s.w. 5) Dabei 29. Abw. und zwei Brigaden der 4. R.D.</footer>\n",
      "</german>\n",
      "--------------------------------------------------------------------\n",
      "<english>\n",
      "<header>Task and Organization of the Njemen Army.</header>\n",
      "<body>The Njemen Army under General of Infantry Otto von Below was at that time with around seven infantry divisions and five cavalry divisions in the area north of the Njemen from the lower Dubissa to the area east of Libau in a front width of about 250 kilometers. The opposing enemy seemed to be superior (somewhat). General von Below wanted to launch the attack, similar to how the Supreme Commander had often ordered at that time in the directive of June 14, to avoid the strong enemy positions at Schauern, which led the present Russian northern wing consisting of cavalry, in order to then swing against the flank and rear of the Schauern position. Accordingly, he organized his troops under the weakening of the right wing as follows: Southern group under Lieutenant General Freiherr von Richthofen (Higher Cavalry Commander 1 with Department Esbed, 36th Reserve Division, Division Beckmann, 3rd and Bavarian Cavalry Division) from the Njemen to the Rakiewo Lake south of Schaueln, Corps 3 Morning (General Command of the 1st Reserve Corps with Brigade Homeyer and 1st Reserve Division) in the positions before Schaueln, Northern Corps under General von Lauenstein (General Command of the XXXIX Reserve Corps with 6th and 78th Reserve and 41st Infantry Division) northward following behind the course of the Windau up to north of the railway line Libau–Murawjewo, Cavalry Corps of Lieutenant General Egon Graf von Schmetton (6th and 2nd Cavalry Division) northward following, Group of Lieutenant General von Pappritz (Governor of Libau with 8th Cavalry Division and troops of the fortress) at Hasenpot and east of it. The implementation of this organization required considerable marches; the attack could therefore only begin around July 15. In this context, the Northern Corps, accompanied by cavalry on the left flank, was to initially move in the general direction of Mitau, the left wing of the Pappritz group.</body>\n",
      "<footer>1) I. and ½ XXXIX. R.R. 41. I.D., 6. R.R.D., Div. Beckmann, Dept. Esbed and troops from Libau; 2), 3., 6. and Bavarian R.D. 2) In fact, about nine infantry and seven cavalry divisions, essentially the same forces as seen from p. 469. 3) p. 127. 4) Gren. Regt. 2 and Erl. Regt. Königsberg including artillery, etc. 5) Including 29. Abw. and two brigades of the 4th R.D.</footer>\n",
      "</english>\n",
      "---------- page:458 (i:2/83) [time:19.05sec] [TotalRuntime:2 mins 2.50 sec] ----------\n",
      "\n",
      "<raw_german>\n",
      "Die Operation des Oberbefehlshabers Ost gegen Wilna. \n",
      "Da die Truppen von Libau hierbei mitwirken hatten, wurde die Marine in Schutz des Platzes gegen See gegeben, außerdem aber auch um unmittelbare Unterstützung durch Seestreitkräfte beim Vorgehen gegen Wilna. Wegen der beim Borridien bald zu erwartenden Nachschubschwierigkeiten wurde der Weiterbau der Bolbahn Memel-Bajohren über die Grenze bis zum Anschluss an die Bahn Libau-Schallen beim Chef des Feldbahnbauwesens beantragt, der dafür aber sechs Monate Bauzeit in Aussicht nahm; damit war den nächsten Operationen wenig geboten. Sie einigten sich auch die Bahn Libau-Schallen. Der Gegner verbietet sich nötig, es scheint, dass er seinen Nordflügel angreift der Front in Polen schwäche. Nordwestlich von Schallen rechnete man im ganzen mit nur etwa zwei russischen Infanterie-Divisionen gegen die vier deutsche zum Angriff bestimmt waren. Auch lagen seit längerer Zeit Anzeichen dafür vor, dass die Russen das westliche Kurland bis zur bei weiteren deutschen Angriff räumen würden. \n",
      "Da der Angriff der Armee-Gruppe Gallwitz gegen den Narew am 13. Juli beginnen sollte, wurde das Vorgehen in Kurland auf Wunsch des Oberbefehlshabers Ost schließlich doch schon auf den 14. Juli festgesetzt, um die ersehnte ablenkende Wirkung herzustellen. An diesem Tage trat das Nordkorps, mit dem linken Flügel (41. Infanterie-Division) nördlich der Stadt Muranowo-Mitik, zum Angriff an, links daneben der Kavallerie-Divisionen. Auf etwa 30 Kilometer breiter Front wurde der Übergang über Windau erzwungen, Mitte und linker Flügel gewannen gegen russische Kavallerie und Landwehr bis zu 15 Kilometer Raum nach vorwärts. Flieger meldeten im Norden fortgesetzte Brände sowie zahlreiche Flüchtlingskolonnen und ließen damit den Eindruck von Gewichtigkeit werden, dass Gegner abziehen wollte. Andererseits kam auf dem rechten Flügel des Nordkorps die 6. Reserve-Division gegen stärkeren feindlichen Widerstand nur wenig vorwärts. \n",
      "Am 15. Juli konnten die räumlichen Erfolge auf der ganzen Angriffsfront, vor allem aber auf dem Nordflügel, erweitert werden. Der Versuch, Teile des Gegners abzuschneiden, glückte aber ebenso wenig wie Tage vorher. Am 16. Juli verstärkte sich der russische Widerstand. Bei der 78. Reserve-Division kam nur der linke Flügel vorwärts.\n",
      "</raw_german>\n",
      "--------------------------------------------------------------------\n",
      "<german>\n",
      "<header>Die Operation des Oberbefehlshabers Ost gegen Wilna.</header>\n",
      "<body>Da die Truppen von Libau hierbei mitwirken hatten, wurde die Marine in Schutz des Platzes gegen See gegeben, außerdem aber auch um unmittelbare Unterstützung durch Seestreitkräfte beim Vorgehen gegen Wilna. Wegen der beim Borridien bald zu erwartenden Nachschubschwierigkeiten wurde der Weiterbau der Bolbahn Memel-Bajohren über die Grenze bis zum Anschluss an die Bahn Libau-Schallen beim Chef des Feldbahnbauwesens beantragt, der dafür aber sechs Monate Bauzeit in Aussicht nahm; damit war den nächsten Operationen wenig geboten. Sie einigten sich auch die Bahn Libau-Schallen. Der Gegner verbietet sich nötig, es scheint, dass er seinen Nordflügel angreift der Front in Polen schwäche. Nordwestlich von Schallen rechnete man im ganzen mit nur etwa zwei russischen Infanterie-Divisionen gegen die vier deutsche zum Angriff bestimmt waren. Auch lagen seit längerer Zeit Anzeichen dafür vor, dass die Russen das westliche Kurland bis zur bei weiteren deutschen Angriff räumen würden. Da der Angriff der Armee-Gruppe Gallwitz gegen den Narew am 13. Juli beginnen sollte, wurde das Vorgehen in Kurland auf Wunsch des Oberbefehlshabers Ost schließlich doch schon auf den 14. Juli festgesetzt, um die ersehnte ablenkende Wirkung herzustellen. An diesem Tage trat das Nordkorps, mit dem linken Flügel (41. Infanterie-Division) nördlich der Stadt Muranowo-Mitik, zum Angriff an, links daneben der Kavallerie-Divisionen. Auf etwa 30 Kilometer breiter Front wurde der Übergang über Windau erzwungen, Mitte und linker Flügel gewannen gegen russische Kavallerie und Landwehr bis zu 15 Kilometer Raum nach vorwärts. Flieger meldeten im Norden fortgesetzte Brände sowie zahlreiche Flüchtlingskolonnen und ließen damit den Eindruck von Gewichtigkeit werden, dass Gegner abziehen wollte. Andererseits kam auf dem rechten Flügel des Nordkorps die 6. Reserve-Division gegen stärkeren feindlichen Widerstand nur wenig vorwärts. Am 15. Juli konnten die räumlichen Erfolge auf der ganzen Angriffsfront, vor allem aber auf dem Nordflügel, erweitert werden. Der Versuch, Teile des Gegners abzuschneiden, glückte aber ebenso wenig wie Tage vorher. Am 16. Juli verstärkte sich der russische Widerstand. Bei der 78. Reserve-Division kam nur der linke Flügel vorwärts.</body>\n",
      "</german>\n",
      "--------------------------------------------------------------------\n",
      "<english>\n",
      "<header>The Operation of the Supreme Commander East against Wilna.</header>\n",
      "<body>As the troops from Libau were involved here, the navy was provided for the protection of the place against the sea, but also for immediate support through naval forces in the advance against Wilna. Due to the expected supply difficulties at Borridien, the further construction of the Bolbahn Memel-Bajohren across the border to connect with the Libau-Schallen railway was requested from the chief of railway construction, who, however, estimated a construction time of six months; thus, little was offered for the upcoming operations. They also agreed on the Libau-Schallen railway. The enemy deems it necessary, it seems, that he is attacking his northern flank of the front in Poland. Northwest of Schallen, it was estimated that there were only about two Russian infantry divisions against the four Germans designated for the attack. There had also been signs for a long time that the Russians would clear the western Courland in the event of further German attacks. Since the attack of Army Group Gallwitz against the Narew was to begin on July 13, the advance in Courland was finally set for July 14 at the request of the Supreme Commander East, in order to achieve the desired distracting effect. On this day, the Northern Corps, with the left wing (41st Infantry Division) north of the town of Muranowo-Mitik, launched the attack, alongside the cavalry divisions. Over a front of about 30 kilometers, the crossing over Windau was forced, and the middle and left wings gained ground against Russian cavalry and landwehr up to 15 kilometers forward. Aircraft reported continued fires in the north as well as numerous refugee columns, thus creating the impression of significance that the enemy wanted to withdraw. On the other hand, on the right wing of the Northern Corps, the 6th Reserve Division made little progress against stronger enemy resistance. On July 15, the spatial successes across the entire attack front, especially on the northern wing, could be expanded. The attempt to cut off parts of the enemy succeeded, but just as little as days before. On July 16, the Russian resistance intensified. In the 78th Reserve Division, only the left wing advanced.</body>\n",
      "</english>\n"
     ]
    }
   ],
   "source": [
    "for i, fname in enumerate(fnames[0:3]):\n",
    "    start = time.time()\n",
    "\n",
    "    pageno = re.search(r'page_(.*?)\\.pdf', fname, re.DOTALL).group(1)\n",
    "    print(f\"{'-'*10} page:{pageno} (i:{i}/{len(fnames)-1}) \", end=\"\")\n",
    "    \n",
    "    raw_text, raw_german_text, german_text, english_text = single_page(fname, model_name, headers, plotter, pageno)\n",
    "    \n",
    "    german_texts[pageno] = german_text\n",
    "    english_texts[pageno] = english_text\n",
    "    delta = time.time() - start \n",
    "    total_time += delta\n",
    "    print(f\"[time:{delta:.2f}sec] [TotalRuntime:{int(total_time//60)} mins {(total_time - int(total_time//60)*60):.2f} sec] {'-'*10}\\n\")\n",
    "    print(raw_text)\n"
   ]
  },
  {
   "cell_type": "code",
   "execution_count": 101,
   "id": "420883ef",
   "metadata": {},
   "outputs": [],
   "source": [
    "import json\n",
    "folder_name = 'third_attempt'\n",
    "with open(f'../output/{folder_name}/english_texts.json', 'w') as f:\n",
    "    json.dump(english_texts, f)\n",
    "with open(f'../output/{folder_name}/german_texts.json', 'w') as f:\n",
    "    json.dump(german_texts, f)\n",
    "\n",
    "save_document(german_texts, folder_name, language='German')\n",
    "save_document(english_texts, folder_name, language='English')\n"
   ]
  },
  {
   "cell_type": "markdown",
   "id": "ac63eac8",
   "metadata": {},
   "source": [
    "``` \n",
    "1.  Upload Input folder of pdfs to blob storage.\n",
    "2.  Read file from s3.\n",
    "3.  FFT in y -> (x_hi, x_lo), write half_cropped_image to s3\n",
    "4.  FFT in x -> (y_hi, y_lo), write cropped_image to s3\n",
    "5.  Read cropped image from s3 -> encode_image -> translate and transcribe -> JSON output\n",
    "\n",
    "# Define available GPT-4o models with pricing information\n",
    "\n",
    "\n",
    "\"gpt-4o-2024-08-06\":\n",
    "    \"price_txt\": \"$2.50 / 1M input tokens\"\n",
    "    \"price_img\": \"$0.001913 / 1500px^2\"\n",
    "    \n",
    "\"gpt-4o-mini-2024-07-18\":\n",
    "    \"price_txt\": \"$0.150 / 1M input tokens\"\n",
    "    \"price_img\": \"$0.003825 / 1500px^2\"\n",
    "    \n",
    "```"
   ]
  },
  {
   "cell_type": "code",
   "execution_count": null,
   "id": "9a1ee237-b0c0-4fdf-9c97-6b6df6469a18",
   "metadata": {},
   "outputs": [],
   "source": []
  },
  {
   "cell_type": "code",
   "execution_count": null,
   "id": "678eeab6-b8aa-4f00-8ed9-c175cf0b9e0b",
   "metadata": {},
   "outputs": [],
   "source": []
  },
  {
   "cell_type": "code",
   "execution_count": null,
   "id": "586132c4-0a5a-4413-b2ea-26f8243dd243",
   "metadata": {},
   "outputs": [],
   "source": []
  },
  {
   "cell_type": "code",
   "execution_count": null,
   "id": "20507485-e1dd-439e-bd27-fbfcd6bd47d1",
   "metadata": {},
   "outputs": [],
   "source": []
  },
  {
   "cell_type": "code",
   "execution_count": null,
   "id": "e4023a51-640e-4c25-b8ec-c7c1618f0f12",
   "metadata": {},
   "outputs": [],
   "source": []
  },
  {
   "cell_type": "code",
   "execution_count": null,
   "id": "8dcba338",
   "metadata": {},
   "outputs": [],
   "source": []
  },
  {
   "cell_type": "code",
   "execution_count": null,
   "id": "2b7d93ac",
   "metadata": {},
   "outputs": [],
   "source": []
  },
  {
   "cell_type": "code",
   "execution_count": null,
   "id": "5b2c6ef3-08b5-469d-b5b0-7f7ae42ae87b",
   "metadata": {},
   "outputs": [],
   "source": []
  },
  {
   "cell_type": "code",
   "execution_count": null,
   "id": "8c5c423f-4116-470f-b1a8-c1620876d035",
   "metadata": {},
   "outputs": [],
   "source": []
  },
  {
   "cell_type": "code",
   "execution_count": null,
   "id": "af9149e2-dba5-46b8-815b-9c8955527e5a",
   "metadata": {},
   "outputs": [],
   "source": []
  },
  {
   "cell_type": "code",
   "execution_count": null,
   "id": "3d6321e9-6ba9-4947-a11d-1df5ffc915a3",
   "metadata": {},
   "outputs": [],
   "source": []
  },
  {
   "cell_type": "code",
   "execution_count": null,
   "id": "8a52581f-0622-492f-a145-e605f6a74a27",
   "metadata": {},
   "outputs": [],
   "source": []
  },
  {
   "cell_type": "code",
   "execution_count": null,
   "id": "221ddd9b",
   "metadata": {},
   "outputs": [],
   "source": []
  },
  {
   "cell_type": "code",
   "execution_count": null,
   "id": "1ecefe2a",
   "metadata": {},
   "outputs": [],
   "source": []
  }
 ],
 "metadata": {
  "kernelspec": {
   "display_name": "Python 3 (ipykernel)",
   "language": "python",
   "name": "python3"
  },
  "language_info": {
   "codemirror_mode": {
    "name": "ipython",
    "version": 3
   },
   "file_extension": ".py",
   "mimetype": "text/x-python",
   "name": "python",
   "nbconvert_exporter": "python",
   "pygments_lexer": "ipython3",
   "version": "3.10.9"
  }
 },
 "nbformat": 4,
 "nbformat_minor": 5
}
