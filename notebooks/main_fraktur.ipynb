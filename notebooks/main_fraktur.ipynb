{
 "cells": [
  {
   "cell_type": "code",
   "execution_count": 27,
   "id": "3fd37c50-412f-4868-a817-ed7ef16f4c69",
   "metadata": {},
   "outputs": [
    {
     "data": {
      "text/plain": [
       "'/Users/ozkansafak/code/fraktur/notebooks'"
      ]
     },
     "execution_count": 27,
     "metadata": {},
     "output_type": "execute_result"
    }
   ],
   "source": [
    "pwd"
   ]
  },
  {
   "cell_type": "code",
   "execution_count": 26,
   "id": "6cd7026f-2a85-4c43-8110-547d0decaa76",
   "metadata": {},
   "outputs": [
    {
     "name": "stdout",
     "output_type": "stream",
     "text": [
      "The autoreload extension is already loaded. To reload it, use:\n",
      "  %reload_ext autoreload\n"
     ]
    },
    {
     "name": "stderr",
     "output_type": "stream",
     "text": [
      "<timed exec>:23: DeprecationWarning: Importing display from IPython.core.display is deprecated since IPython 7.14, please import from IPython.display\n"
     ]
    },
    {
     "data": {
      "text/html": [
       "<style>.container { width:90% !important; }</style>"
      ],
      "text/plain": [
       "<IPython.core.display.HTML object>"
      ]
     },
     "metadata": {},
     "output_type": "display_data"
    },
    {
     "name": "stdout",
     "output_type": "stream",
     "text": [
      "sys.executable: /Users/ozkansafak/code/fraktur/.venv/bin/python3\n",
      "sys.version: 3.10.9 (main, Mar  1 2023, 12:20:14) [Clang 14.0.6 ] \n",
      "\n",
      "CPU times: user 1.69 ms, sys: 1.37 ms, total: 3.06 ms\n",
      "Wall time: 2.29 ms\n"
     ]
    }
   ],
   "source": [
    "%%time\n",
    "%load_ext autoreload\n",
    "%autoreload 2\n",
    "\n",
    "# import standard Python modules\n",
    "import time \n",
    "import numpy as np\n",
    "import os, sys\n",
    "import json\n",
    "import re\n",
    "import glob\n",
    "import openai\n",
    "\n",
    "# # Get the root path of the project\n",
    "sys.path.append(os.path.abspath(\"..\"))\n",
    "\n",
    "# Import necessary modules from your src directory\n",
    "from src.utils import timeit, encode_image, plt\n",
    "from src.processing import compute_log_spectrum_1d, extract_image_bbox, save_images\n",
    "from src.api_requests import construct_payload, send_gpt_request\n",
    "from src.document_generation import save_document\n",
    "from src.api_requests import single_page\n",
    "\n",
    "from IPython.core.display import display, HTML\n",
    "from IPython.display import clear_output\n",
    "display(HTML(\"<style>.container { width:90% !important; }</style>\"))\n",
    "\n",
    "print('sys.executable:', sys.executable)\n",
    "print('sys.version:', sys.version, '\\n')"
   ]
  },
  {
   "cell_type": "markdown",
   "id": "503e18f5",
   "metadata": {},
   "source": [
    "---\n",
    "## Fraktur Translator"
   ]
  },
  {
   "cell_type": "code",
   "execution_count": 3,
   "id": "1f71423f",
   "metadata": {
    "scrolled": true
   },
   "outputs": [],
   "source": [
    "# Set the OpenAI API key from environment variables\n",
    "openai.api_key = os.getenv(\"OPENAI_API_KEY\")\n",
    "\n",
    "# Set the headers for the API request\n",
    "headers = {\n",
    "    \"Content-Type\": \"application/json\",\n",
    "    \"Authorization\": f\"Bearer {openai.api_key}\"\n",
    "}\n",
    "\n",
    "# Select the value of model_name in [\"gpt-4o-2024-08-06\", \"gpt-4o-mini-2024-07-18\"]\n",
    "model_name = \"gpt-4o-2024-08-06\"\n",
    "plotter = False\n",
    "\n",
    "# Folder containing the Fraktur PDF files\n",
    "image_path = \"../data/Der Weltkrieg v8 Chap 4F (in Fraktur)/*pdf\"\n",
    "\n",
    "# Get the list of PDF file paths\n",
    "fnames = sorted(glob.glob(image_path))\n",
    "german_texts = {}\n",
    "english_texts = {}\n",
    "total_time = 0 "
   ]
  },
  {
   "cell_type": "code",
   "execution_count": 49,
   "id": "07f4d79c-a54b-43f6-a05e-2348f8aede12",
   "metadata": {},
   "outputs": [
    {
     "name": "stdout",
     "output_type": "stream",
     "text": [
      "\n",
      ">>>>>>>>>> page:457 (i:0/83) [time:22.92sec] [TotalRuntime:40 mins 33.38 sec] >>>>>>>>>>\n",
      "\n",
      "<raw_german>\n",
      "Aufgabe und Gliederung der Njemen-Armee.\n",
      "Die N j e m e n - A r m e e unter General der Infanterie O t t o\n",
      "v o n B e l o w deckte zu dieser Zeit mit rund sieben Infanterie-Divisionen\n",
      "und fünf Kavallerie-Divisionen1) den Raum nördlich des Njemen von der\n",
      "unteren Dubissa bis in die Gegend östlich von Libau in einer Frontbreite\n",
      "von etwa 250 Kilometern. Der gegenüberstehende Feind schien an Zahl\n",
      "etwas überlegen2). General von Below wollte den Angriff, ähnlich wie es\n",
      "der Oberbefehlshaber Ost seinerzeit in der Weisung vom 14. Juni3) ange-\n",
      "ordnet hatte, unter Vermeidung der starken feindlichen Stellungen bei Schau-\n",
      "len gegen den vorwiegend aus Kavallerie bestehenden russischen Nordflügel\n",
      "führen, um dann gegen Flanke und Rücken der Schaulen-Stellung einzu-\n",
      "schwenken. Dementsprechend gliederte er seine Truppen unter Schwächung\n",
      "des rechten Flügels wie folgt:\n",
      "S ü d g r u p p e unter Generalleutnant Freiherr von Richthofen\n",
      "(Höherer Kavalleriekommandeur 1 mit Abteilung Eßebd, 36. Reserve-\n",
      "Division, Division Beckmann, 3. und bayerische Kavallerie-Division)\n",
      "vom Njemen bis zum Rakisewo-See südlich Schaulen,\n",
      "K o r p s M o r g e n (Generalkommando des I. Reservekorps mit\n",
      "Brigade Horne4) und 1. Reserve-Division) in den Stellungen vor\n",
      "Schaulen,\n",
      "N o r d k o r p s unter General von Lauenstein (Generalkommando\n",
      "des XXXIX. Reservekorps mit 6. und 78. Reserve- und 41. Infanterie-\n",
      "Division) nördlich anschließend hinter dem Laufe der Windau bis nörd-\n",
      "lich der Bahnlinie Libau—Murawjewo,\n",
      "K a v a l l e r i e k o r p s des Generalleutnants E g o n G r a f e n\n",
      "v o n S c h m e t t o w (6. und 2. Kavallerie-Division) nördlich anschließend,\n",
      "G r u p p e des Generalleutnants v o n P a p p r i t z (Gouverneur\n",
      "von Libau mit 8. Kavallerie-Division und Truppen der Festung5) bei\n",
      "Hasenpot und östlich davon.\n",
      "Die Einnahme dieser Gliederung erforderte erhebliche Märsche; der\n",
      "Angriff konnte daher erst etwa am 15. Juli beginnen. Dabei sollte das\n",
      "Nordkorps, durch die Kavallerie in der linken Flanke begleitet, zunächst in\n",
      "der allgemeinen Richtung auf Mitau, der linke Flügel der Gruppe Pappritz\n",
      "1) I. und ½ XXXIX. R. K., 41. I. D., 6. R. D., Div. Beckmann, Abt. Eßebd\n",
      "und Truppen von Libau; 2., 3., 6., 8. und bayer. R. D.\n",
      "2) Tatsächlich etwa neun Infanterie- und sieben Kavallerie-Divisionen, im\n",
      "wesentlichen dieselben Kräfte wie aus S. 469 ersichtlich.\n",
      "3) S. 127.\n",
      "4) Gren. Regt. 2 und Ers. Regt. Königsberg nebst Artillerie usw.\n",
      "5) Dabei 29. Abw. Br. und zwei Brigaden der 4. R. D.\n",
      "</raw_german>\n",
      "--------------------------------------------------------------------\n",
      "<german>\n",
      "<header>Aufgabe und Gliederung der Njemen-Armee.</header>\n",
      "<body>\n",
      "Die N j e m e n - A r m e e unter General der Infanterie O t t o\n",
      "v o n B e l o w deckte zu dieser Zeit mit rund sieben Infanterie-Divisionen\n",
      "und fünf Kavallerie-Divisionen den Raum nördlich des Njemen von der\n",
      "unteren Dubissa bis in die Gegend östlich von Libau in einer Frontbreite\n",
      "von etwa 250 Kilometern. Der gegenüberstehende Feind schien an Zahl\n",
      "etwas überlegen. General von Below wollte den Angriff, ähnlich wie es\n",
      "der Oberbefehlshaber Ost seinerzeit in der Weisung vom 14. Juni ange-\n",
      "ordnet hatte, unter Vermeidung der starken feindlichen Stellungen bei Schau-\n",
      "len gegen den vorwiegend aus Kavallerie bestehenden russischen Nordflügel\n",
      "führen, um dann gegen Flanke und Rücken der Schaulen-Stellung einzu-\n",
      "schwenken. Dementsprechend gliederte er seine Truppen unter Schwächung\n",
      "des rechten Flügels wie folgt:\n",
      "S ü d g r u p p e unter Generalleutnant Freiherr von Richthofen\n",
      "(Höherer Kavalleriekommandeur 1 mit Abteilung Eßebd, 36. Reserve-\n",
      "Division, Division Beckmann, 3. und bayerische Kavallerie-Division)\n",
      "vom Njemen bis zum Rakisewo-See südlich Schaulen,\n",
      "K o r p s M o r g e n (Generalkommando des I. Reservekorps mit\n",
      "Brigade Horne und 1. Reserve-Division) in den Stellungen vor\n",
      "Schaulen,\n",
      "N o r d k o r p s unter General von Lauenstein (Generalkommando\n",
      "des XXXIX. Reservekorps mit 6. und 78. Reserve- und 41. Infanterie-\n",
      "Division) nördlich anschließend hinter dem Laufe der Windau bis nörd-\n",
      "lich der Bahnlinie Libau—Murawjewo,\n",
      "K a v a l l e r i e k o r p s des Generalleutnants E g o n G r a f e n\n",
      "v o n S c h m e t t o w (6. und 2. Kavallerie-Division) nördlich anschließend,\n",
      "G r u p p e des Generalleutnants v o n P a p p r i t z (Gouverneur\n",
      "von Libau mit 8. Kavallerie-Division und Truppen der Festung bei\n",
      "Hasenpot und östlich davon.\n",
      "Die Einnahme dieser Gliederung erforderte erhebliche Märsche; der\n",
      "Angriff konnte daher erst etwa am 15. Juli beginnen. Dabei sollte das\n",
      "Nordkorps, durch die Kavallerie in der linken Flanke begleitet, zunächst in\n",
      "der allgemeinen Richtung auf Mitau, der linke Flügel der Gruppe Pappritz\n",
      "</body>\n",
      "<footer>\n",
      "1) I. und ½ XXXIX. R. K., 41. I. D., 6. R. D., Div. Beckmann, Abt. Eßebd\n",
      "und Truppen von Libau; 2., 3., 6., 8. und bayer. R. D.\n",
      "2) Tatsächlich etwa neun Infanterie- und sieben Kavallerie-Divisionen, im\n",
      "wesentlichen dieselben Kräfte wie aus S. 469 ersichtlich.\n",
      "3) S. 127.\n",
      "4) Gren. Regt. 2 und Ers. Regt. Königsberg nebst Artillerie usw.\n",
      "5) Dabei 29. Abw. Br. und zwei Brigaden der 4. R. D.\n",
      "</footer>\n",
      "</german>\n",
      "--------------------------------------------------------------------\n",
      "<english>\n",
      "<header>Task and Organization of the Njemen Army.</header>\n",
      "<body>\n",
      "The N j e m e n A r m y under General of Infantry O t t o\n",
      "v o n B e l o w covered at this time with about seven infantry divisions\n",
      "and five cavalry divisions the area north of the Njemen from the\n",
      "lower Dubissa to the area east of Libau in a front width\n",
      "of about 250 kilometers. The opposing enemy seemed numerically\n",
      "somewhat superior. General von Below wanted to launch the attack, similar to\n",
      "the order given by the Commander-in-Chief East on June 14,\n",
      "avoiding the strong enemy positions at Schaulen, against the predominantly cavalry-based Russian northern flank,\n",
      "to then swing against the flank and rear of the Schaulen position. Accordingly, he organized his troops, weakening\n",
      "the right wing as follows:\n",
      "S o u t h e r n G r o u p under Lieutenant General Baron von Richthofen\n",
      "(Higher Cavalry Commander 1 with Detachment Eßebd, 36th Reserve\n",
      "Division, Division Beckmann, 3rd and Bavarian Cavalry Division)\n",
      "from the Njemen to Lake Rakisewo south of Schaulen,\n",
      "C o r p s M o r g e n (General Command of the I Reserve Corps with\n",
      "Brigade Horne and 1st Reserve Division) in positions before\n",
      "Schaulen,\n",
      "N o r t h e r n C o r p s under General von Lauenstein (General Command\n",
      "of the XXXIX Reserve Corps with 6th and 78th Reserve and 41st Infantry\n",
      "Division) northward behind the course of the Windau to north\n",
      "of the railway line Libau—Murawjewo,\n",
      "C a v a l r y C o r p s of Lieutenant General E g o n C o u n t\n",
      "v o n S c h m e t t o w (6th and 2nd Cavalry Division) northward adjoining,\n",
      "G r o u p of Lieutenant General v o n P a p p r i t z (Governor\n",
      "of Libau with 8th Cavalry Division and Fortress Troops at\n",
      "Hasenpot and east of it.\n",
      "The adoption of this organization required considerable marches; the\n",
      "attack could therefore only begin around July 15. The Northern Corps, accompanied by cavalry on the left flank, was to initially move in\n",
      "the general direction of Mitau, the left wing of the Pappritz Group\n",
      "</body>\n",
      "<footer>\n",
      "1) I and ½ XXXIX R. C., 41 I. D., 6 R. D., Div. Beckmann, Det. Eßebd\n",
      "and troops from Libau; 2nd, 3rd, 6th, 8th and Bavarian R. D.\n",
      "2) Actually about nine infantry and seven cavalry divisions, essentially\n",
      "the same forces as evident from p. 469.\n",
      "3) p. 127.\n",
      "4) Gren. Regt. 2 and Ers. Regt. Königsberg with artillery etc.\n",
      "5) Including 29th Abw. Br. and two brigades of the 4th R. D.\n",
      "</footer>\n",
      "</english>\n"
     ]
    }
   ],
   "source": [
    "for i, fname in enumerate(fnames[1:2]):\n",
    "    start = time.time()\n",
    "\n",
    "    pageno = re.search(r'page_(.*?)\\.pdf', fname, re.DOTALL).group(1)\n",
    "    print(f\"\\n{'>'*10} page:{pageno} (i:{i}/{len(fnames)-1}) \", end=\"\")\n",
    "    \n",
    "    raw_text, raw_german_text, german_text, english_text = single_page(fname, model_name, headers, plotter, pageno)\n",
    "    \n",
    "    german_texts[pageno] = german_text\n",
    "    english_texts[pageno] = english_text\n",
    "    delta = time.time() - start \n",
    "    total_time += delta\n",
    "    print(f\"[time:{delta:.2f}sec] [TotalRuntime:{int(total_time//60)} mins {(total_time - int(total_time//60)*60):.2f} sec] {'>'*10}\\n\")\n",
    "    print(raw_text)\n"
   ]
  },
  {
   "cell_type": "code",
   "execution_count": 33,
   "id": "420883ef",
   "metadata": {},
   "outputs": [],
   "source": [
    "# # save json outputs\n",
    "# folder_name = 'third_attempt'\n",
    "# with open(f'../output/{folder_name}/english_texts.json', 'w') as f:\n",
    "#     json.dump(english_texts, f)\n",
    "# with open(f'../output/{folder_name}/german_texts.json', 'w') as f:\n",
    "#     json.dump(german_texts, f)\n",
    "\n",
    "doc1, fname1 = save_document(german_texts, folder_name, language='German')\n",
    "doc2, fname2 = save_document(english_texts, folder_name, language='English')\n"
   ]
  },
  {
   "cell_type": "markdown",
   "id": "ac63eac8",
   "metadata": {},
   "source": [
    "``` \n",
    "1.  Upload Input folder of pdfs to blob storage.\n",
    "2.  Read file from s3.\n",
    "3.  FFT in y -> (x_hi, x_lo), write half_cropped_image to s3\n",
    "4.  FFT in x -> (y_hi, y_lo), write cropped_image to s3\n",
    "5.  Read cropped image from s3 -> encode_image -> translate and transcribe -> JSON output\n",
    "\n",
    "```\n",
    "\n",
    "### Available models and pricing:\n",
    "```\n",
    "\"gpt-4o-2024-08-06\":\n",
    "    \"price_txt\": \"$2.50 / 1M input tokens\"\n",
    "    \"price_img\": \"$0.001913 / 1500px^2\"\n",
    "    \n",
    "\"gpt-4o-mini-2024-07-18\":\n",
    "    \"price_txt\": \"$0.150 / 1M input tokens\"\n",
    "    \"price_img\": \"$0.003825 / 1500px^2\"\n",
    "    \n",
    "```"
   ]
  },
  {
   "cell_type": "code",
   "execution_count": 35,
   "id": "9a1ee237-b0c0-4fdf-9c97-6b6df6469a18",
   "metadata": {
    "collapsed": true,
    "jupyter": {
     "outputs_hidden": true
    }
   },
   "outputs": [
    {
     "ename": "RuntimeError",
     "evalue": "Pandoc died with exitcode \"47\" during conversion: pdflatex not found. Please select a different --pdf-engine or install pdflatex\n",
     "output_type": "error",
     "traceback": [
      "\u001b[0;31m---------------------------------------------------------------------------\u001b[0m",
      "\u001b[0;31mRuntimeError\u001b[0m                              Traceback (most recent call last)",
      "Cell \u001b[0;32mIn[35], line 8\u001b[0m\n\u001b[1;32m      5\u001b[0m doc1\u001b[38;5;241m.\u001b[39msave(\u001b[38;5;124mf\u001b[39m\u001b[38;5;124m'\u001b[39m\u001b[38;5;132;01m{\u001b[39;00mfname\u001b[38;5;132;01m}\u001b[39;00m\u001b[38;5;124m.docx\u001b[39m\u001b[38;5;124m'\u001b[39m)\n\u001b[1;32m      7\u001b[0m \u001b[38;5;66;03m# Convert the .docx file to .pdf\u001b[39;00m\n\u001b[0;32m----> 8\u001b[0m output_pdf \u001b[38;5;241m=\u001b[39m \u001b[43mpypandoc\u001b[49m\u001b[38;5;241;43m.\u001b[39;49m\u001b[43mconvert_file\u001b[49m\u001b[43m(\u001b[49m\u001b[38;5;124;43mf\u001b[39;49m\u001b[38;5;124;43m'\u001b[39;49m\u001b[38;5;132;43;01m{\u001b[39;49;00m\u001b[43mfname\u001b[49m\u001b[38;5;132;43;01m}\u001b[39;49;00m\u001b[38;5;124;43m.docx\u001b[39;49m\u001b[38;5;124;43m'\u001b[39;49m\u001b[43m,\u001b[49m\u001b[43m \u001b[49m\u001b[38;5;124;43m'\u001b[39;49m\u001b[38;5;124;43mpdf\u001b[39;49m\u001b[38;5;124;43m'\u001b[39;49m\u001b[43m,\u001b[49m\u001b[43m \u001b[49m\u001b[43moutputfile\u001b[49m\u001b[38;5;241;43m=\u001b[39;49m\u001b[38;5;124;43mf\u001b[39;49m\u001b[38;5;124;43m'\u001b[39;49m\u001b[38;5;132;43;01m{\u001b[39;49;00m\u001b[43mfname\u001b[49m\u001b[38;5;132;43;01m}\u001b[39;49;00m\u001b[38;5;124;43m.pdf\u001b[39;49m\u001b[38;5;124;43m'\u001b[39;49m\u001b[43m)\u001b[49m\n\u001b[1;32m      9\u001b[0m \u001b[38;5;28;01massert\u001b[39;00m output_pdf \u001b[38;5;241m==\u001b[39m \u001b[38;5;124m\"\u001b[39m\u001b[38;5;124m\"\u001b[39m\n",
      "File \u001b[0;32m~/code/fraktur/.venv/lib/python3.10/site-packages/pypandoc/__init__.py:200\u001b[0m, in \u001b[0;36mconvert_file\u001b[0;34m(source_file, to, format, extra_args, encoding, outputfile, filters, verify_format, sandbox, cworkdir)\u001b[0m\n\u001b[1;32m    197\u001b[0m \u001b[38;5;28;01mif\u001b[39;00m \u001b[38;5;28mlen\u001b[39m(discovered_source_files) \u001b[38;5;241m==\u001b[39m \u001b[38;5;241m1\u001b[39m:\n\u001b[1;32m    198\u001b[0m     discovered_source_files \u001b[38;5;241m=\u001b[39m discovered_source_files[\u001b[38;5;241m0\u001b[39m]\n\u001b[0;32m--> 200\u001b[0m \u001b[38;5;28;01mreturn\u001b[39;00m \u001b[43m_convert_input\u001b[49m\u001b[43m(\u001b[49m\u001b[43mdiscovered_source_files\u001b[49m\u001b[43m,\u001b[49m\u001b[43m \u001b[49m\u001b[38;5;28;43mformat\u001b[39;49m\u001b[43m,\u001b[49m\u001b[43m \u001b[49m\u001b[38;5;124;43m'\u001b[39;49m\u001b[38;5;124;43mpath\u001b[39;49m\u001b[38;5;124;43m'\u001b[39;49m\u001b[43m,\u001b[49m\u001b[43m \u001b[49m\u001b[43mto\u001b[49m\u001b[43m,\u001b[49m\u001b[43m \u001b[49m\u001b[43mextra_args\u001b[49m\u001b[38;5;241;43m=\u001b[39;49m\u001b[43mextra_args\u001b[49m\u001b[43m,\u001b[49m\n\u001b[1;32m    201\u001b[0m \u001b[43m                  \u001b[49m\u001b[43moutputfile\u001b[49m\u001b[38;5;241;43m=\u001b[39;49m\u001b[43moutputfile\u001b[49m\u001b[43m,\u001b[49m\u001b[43m \u001b[49m\u001b[43mfilters\u001b[49m\u001b[38;5;241;43m=\u001b[39;49m\u001b[43mfilters\u001b[49m\u001b[43m,\u001b[49m\n\u001b[1;32m    202\u001b[0m \u001b[43m                  \u001b[49m\u001b[43mverify_format\u001b[49m\u001b[38;5;241;43m=\u001b[39;49m\u001b[43mverify_format\u001b[49m\u001b[43m,\u001b[49m\u001b[43m \u001b[49m\u001b[43msandbox\u001b[49m\u001b[38;5;241;43m=\u001b[39;49m\u001b[43msandbox\u001b[49m\u001b[43m,\u001b[49m\n\u001b[1;32m    203\u001b[0m \u001b[43m                  \u001b[49m\u001b[43mcworkdir\u001b[49m\u001b[38;5;241;43m=\u001b[39;49m\u001b[43mcworkdir\u001b[49m\u001b[43m)\u001b[49m\n",
      "File \u001b[0;32m~/code/fraktur/.venv/lib/python3.10/site-packages/pypandoc/__init__.py:467\u001b[0m, in \u001b[0;36m_convert_input\u001b[0;34m(source, format, input_type, to, extra_args, outputfile, filters, verify_format, sandbox, cworkdir)\u001b[0m\n\u001b[1;32m    465\u001b[0m \u001b[38;5;66;03m# check that pandoc returned successfully\u001b[39;00m\n\u001b[1;32m    466\u001b[0m \u001b[38;5;28;01mif\u001b[39;00m p\u001b[38;5;241m.\u001b[39mreturncode \u001b[38;5;241m!=\u001b[39m \u001b[38;5;241m0\u001b[39m:\n\u001b[0;32m--> 467\u001b[0m     \u001b[38;5;28;01mraise\u001b[39;00m \u001b[38;5;167;01mRuntimeError\u001b[39;00m(\n\u001b[1;32m    468\u001b[0m         \u001b[38;5;124m'\u001b[39m\u001b[38;5;124mPandoc died with exitcode \u001b[39m\u001b[38;5;124m\"\u001b[39m\u001b[38;5;132;01m%s\u001b[39;00m\u001b[38;5;124m\"\u001b[39m\u001b[38;5;124m during conversion: \u001b[39m\u001b[38;5;132;01m%s\u001b[39;00m\u001b[38;5;124m'\u001b[39m \u001b[38;5;241m%\u001b[39m (p\u001b[38;5;241m.\u001b[39mreturncode, stderr)\n\u001b[1;32m    469\u001b[0m     )\n\u001b[1;32m    471\u001b[0m \u001b[38;5;66;03m# if there is output on stderr, process it and send to logger\u001b[39;00m\n\u001b[1;32m    472\u001b[0m \u001b[38;5;28;01mif\u001b[39;00m stderr:\n",
      "\u001b[0;31mRuntimeError\u001b[0m: Pandoc died with exitcode \"47\" during conversion: pdflatex not found. Please select a different --pdf-engine or install pdflatex\n"
     ]
    }
   ],
   "source": [
    "import pypandoc\n",
    "\n",
    "# Save your .docx file\n",
    "fname = 'output_filename'\n",
    "doc1.save(f'{fname}.docx')\n",
    "\n",
    "# Convert the .docx file to .pdf\n",
    "output_pdf = pypandoc.convert_file(f'{fname}.docx', 'pdf', outputfile=f'{fname}.pdf')\n",
    "assert output_pdf == \"\"\n"
   ]
  },
  {
   "cell_type": "code",
   "execution_count": 47,
   "id": "586132c4-0a5a-4413-b2ea-26f8243dd243",
   "metadata": {},
   "outputs": [
    {
     "ename": "RuntimeError",
     "evalue": "Pandoc died with exitcode \"4\" during conversion: pdf-engine wkhtmltopdf is not compatible with output format latex\n",
     "output_type": "error",
     "traceback": [
      "\u001b[0;31m---------------------------------------------------------------------------\u001b[0m",
      "\u001b[0;31mRuntimeError\u001b[0m                              Traceback (most recent call last)",
      "Cell \u001b[0;32mIn[47], line 1\u001b[0m\n\u001b[0;32m----> 1\u001b[0m output_pdf \u001b[38;5;241m=\u001b[39m \u001b[43mpypandoc\u001b[49m\u001b[38;5;241;43m.\u001b[39;49m\u001b[43mconvert_file\u001b[49m\u001b[43m(\u001b[49m\n\u001b[1;32m      2\u001b[0m \u001b[43m    \u001b[49m\u001b[38;5;124;43mf\u001b[39;49m\u001b[38;5;124;43m'\u001b[39;49m\u001b[38;5;132;43;01m{\u001b[39;49;00m\u001b[43mfname\u001b[49m\u001b[38;5;132;43;01m}\u001b[39;49;00m\u001b[38;5;124;43m.docx\u001b[39;49m\u001b[38;5;124;43m'\u001b[39;49m\u001b[43m,\u001b[49m\u001b[43m \u001b[49m\n\u001b[1;32m      3\u001b[0m \u001b[43m    \u001b[49m\u001b[38;5;124;43m'\u001b[39;49m\u001b[38;5;124;43mpdf\u001b[39;49m\u001b[38;5;124;43m'\u001b[39;49m\u001b[43m,\u001b[49m\u001b[43m \u001b[49m\n\u001b[1;32m      4\u001b[0m \u001b[43m    \u001b[49m\u001b[43moutputfile\u001b[49m\u001b[38;5;241;43m=\u001b[39;49m\u001b[38;5;124;43mf\u001b[39;49m\u001b[38;5;124;43m'\u001b[39;49m\u001b[38;5;132;43;01m{\u001b[39;49;00m\u001b[43mfname\u001b[49m\u001b[38;5;132;43;01m}\u001b[39;49;00m\u001b[38;5;124;43m.pdf\u001b[39;49m\u001b[38;5;124;43m'\u001b[39;49m\u001b[43m,\u001b[49m\u001b[43m \u001b[49m\n\u001b[1;32m      5\u001b[0m \u001b[43m    \u001b[49m\u001b[43mextra_args\u001b[49m\u001b[38;5;241;43m=\u001b[39;49m\u001b[43m[\u001b[49m\u001b[38;5;124;43m'\u001b[39;49m\u001b[38;5;124;43m--pdf-engine=wkhtmltopdf\u001b[39;49m\u001b[38;5;124;43m'\u001b[39;49m\u001b[43m]\u001b[49m\n\u001b[1;32m      6\u001b[0m \u001b[43m)\u001b[49m\n",
      "File \u001b[0;32m~/code/fraktur/.venv/lib/python3.10/site-packages/pypandoc/__init__.py:200\u001b[0m, in \u001b[0;36mconvert_file\u001b[0;34m(source_file, to, format, extra_args, encoding, outputfile, filters, verify_format, sandbox, cworkdir)\u001b[0m\n\u001b[1;32m    197\u001b[0m \u001b[38;5;28;01mif\u001b[39;00m \u001b[38;5;28mlen\u001b[39m(discovered_source_files) \u001b[38;5;241m==\u001b[39m \u001b[38;5;241m1\u001b[39m:\n\u001b[1;32m    198\u001b[0m     discovered_source_files \u001b[38;5;241m=\u001b[39m discovered_source_files[\u001b[38;5;241m0\u001b[39m]\n\u001b[0;32m--> 200\u001b[0m \u001b[38;5;28;01mreturn\u001b[39;00m \u001b[43m_convert_input\u001b[49m\u001b[43m(\u001b[49m\u001b[43mdiscovered_source_files\u001b[49m\u001b[43m,\u001b[49m\u001b[43m \u001b[49m\u001b[38;5;28;43mformat\u001b[39;49m\u001b[43m,\u001b[49m\u001b[43m \u001b[49m\u001b[38;5;124;43m'\u001b[39;49m\u001b[38;5;124;43mpath\u001b[39;49m\u001b[38;5;124;43m'\u001b[39;49m\u001b[43m,\u001b[49m\u001b[43m \u001b[49m\u001b[43mto\u001b[49m\u001b[43m,\u001b[49m\u001b[43m \u001b[49m\u001b[43mextra_args\u001b[49m\u001b[38;5;241;43m=\u001b[39;49m\u001b[43mextra_args\u001b[49m\u001b[43m,\u001b[49m\n\u001b[1;32m    201\u001b[0m \u001b[43m                  \u001b[49m\u001b[43moutputfile\u001b[49m\u001b[38;5;241;43m=\u001b[39;49m\u001b[43moutputfile\u001b[49m\u001b[43m,\u001b[49m\u001b[43m \u001b[49m\u001b[43mfilters\u001b[49m\u001b[38;5;241;43m=\u001b[39;49m\u001b[43mfilters\u001b[49m\u001b[43m,\u001b[49m\n\u001b[1;32m    202\u001b[0m \u001b[43m                  \u001b[49m\u001b[43mverify_format\u001b[49m\u001b[38;5;241;43m=\u001b[39;49m\u001b[43mverify_format\u001b[49m\u001b[43m,\u001b[49m\u001b[43m \u001b[49m\u001b[43msandbox\u001b[49m\u001b[38;5;241;43m=\u001b[39;49m\u001b[43msandbox\u001b[49m\u001b[43m,\u001b[49m\n\u001b[1;32m    203\u001b[0m \u001b[43m                  \u001b[49m\u001b[43mcworkdir\u001b[49m\u001b[38;5;241;43m=\u001b[39;49m\u001b[43mcworkdir\u001b[49m\u001b[43m)\u001b[49m\n",
      "File \u001b[0;32m~/code/fraktur/.venv/lib/python3.10/site-packages/pypandoc/__init__.py:467\u001b[0m, in \u001b[0;36m_convert_input\u001b[0;34m(source, format, input_type, to, extra_args, outputfile, filters, verify_format, sandbox, cworkdir)\u001b[0m\n\u001b[1;32m    465\u001b[0m \u001b[38;5;66;03m# check that pandoc returned successfully\u001b[39;00m\n\u001b[1;32m    466\u001b[0m \u001b[38;5;28;01mif\u001b[39;00m p\u001b[38;5;241m.\u001b[39mreturncode \u001b[38;5;241m!=\u001b[39m \u001b[38;5;241m0\u001b[39m:\n\u001b[0;32m--> 467\u001b[0m     \u001b[38;5;28;01mraise\u001b[39;00m \u001b[38;5;167;01mRuntimeError\u001b[39;00m(\n\u001b[1;32m    468\u001b[0m         \u001b[38;5;124m'\u001b[39m\u001b[38;5;124mPandoc died with exitcode \u001b[39m\u001b[38;5;124m\"\u001b[39m\u001b[38;5;132;01m%s\u001b[39;00m\u001b[38;5;124m\"\u001b[39m\u001b[38;5;124m during conversion: \u001b[39m\u001b[38;5;132;01m%s\u001b[39;00m\u001b[38;5;124m'\u001b[39m \u001b[38;5;241m%\u001b[39m (p\u001b[38;5;241m.\u001b[39mreturncode, stderr)\n\u001b[1;32m    469\u001b[0m     )\n\u001b[1;32m    471\u001b[0m \u001b[38;5;66;03m# if there is output on stderr, process it and send to logger\u001b[39;00m\n\u001b[1;32m    472\u001b[0m \u001b[38;5;28;01mif\u001b[39;00m stderr:\n",
      "\u001b[0;31mRuntimeError\u001b[0m: Pandoc died with exitcode \"4\" during conversion: pdf-engine wkhtmltopdf is not compatible with output format latex\n"
     ]
    }
   ],
   "source": [
    "output_pdf = pypandoc.convert_file(\n",
    "    f'{fname}.docx', \n",
    "    'pdf', \n",
    "    outputfile=f'{fname}.pdf', \n",
    "    extra_args=['--pdf-engine=wkhtmltopdf']\n",
    ")\n"
   ]
  },
  {
   "cell_type": "code",
   "execution_count": 44,
   "id": "20507485-e1dd-439e-bd27-fbfcd6bd47d1",
   "metadata": {},
   "outputs": [
    {
     "data": {
      "text/plain": [
       "['.DS_Store',\n",
       " 'output_filename.docx',\n",
       " '.ipynb_checkpoints',\n",
       " 'main_fraktur.ipynb']"
      ]
     },
     "execution_count": 44,
     "metadata": {},
     "output_type": "execute_result"
    }
   ],
   "source": [
    "os.listdir()"
   ]
  },
  {
   "cell_type": "code",
   "execution_count": null,
   "id": "8dcba338",
   "metadata": {},
   "outputs": [],
   "source": []
  },
  {
   "cell_type": "code",
   "execution_count": null,
   "id": "2b7d93ac",
   "metadata": {},
   "outputs": [],
   "source": []
  },
  {
   "cell_type": "code",
   "execution_count": null,
   "id": "5b2c6ef3-08b5-469d-b5b0-7f7ae42ae87b",
   "metadata": {},
   "outputs": [],
   "source": []
  },
  {
   "cell_type": "code",
   "execution_count": null,
   "id": "8c5c423f-4116-470f-b1a8-c1620876d035",
   "metadata": {},
   "outputs": [],
   "source": []
  },
  {
   "cell_type": "code",
   "execution_count": null,
   "id": "af9149e2-dba5-46b8-815b-9c8955527e5a",
   "metadata": {},
   "outputs": [],
   "source": []
  },
  {
   "cell_type": "code",
   "execution_count": null,
   "id": "3d6321e9-6ba9-4947-a11d-1df5ffc915a3",
   "metadata": {},
   "outputs": [],
   "source": []
  },
  {
   "cell_type": "code",
   "execution_count": null,
   "id": "8a52581f-0622-492f-a145-e605f6a74a27",
   "metadata": {},
   "outputs": [],
   "source": []
  },
  {
   "cell_type": "code",
   "execution_count": null,
   "id": "221ddd9b",
   "metadata": {},
   "outputs": [],
   "source": []
  },
  {
   "cell_type": "code",
   "execution_count": null,
   "id": "1ecefe2a",
   "metadata": {},
   "outputs": [],
   "source": []
  }
 ],
 "metadata": {
  "kernelspec": {
   "display_name": "Python 3 (ipykernel)",
   "language": "python",
   "name": "python3"
  },
  "language_info": {
   "codemirror_mode": {
    "name": "ipython",
    "version": 3
   },
   "file_extension": ".py",
   "mimetype": "text/x-python",
   "name": "python",
   "nbconvert_exporter": "python",
   "pygments_lexer": "ipython3",
   "version": "3.10.9"
  }
 },
 "nbformat": 4,
 "nbformat_minor": 5
}
