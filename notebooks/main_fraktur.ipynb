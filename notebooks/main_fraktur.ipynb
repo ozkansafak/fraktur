{
 "cells": [
  {
   "cell_type": "code",
   "execution_count": 27,
   "id": "3fd37c50-412f-4868-a817-ed7ef16f4c69",
   "metadata": {},
   "outputs": [
    {
     "data": {
      "text/plain": [
       "'/Users/ozkansafak/code/fraktur/notebooks'"
      ]
     },
     "execution_count": 27,
     "metadata": {},
     "output_type": "execute_result"
    }
   ],
   "source": [
    "pwd"
   ]
  },
  {
   "cell_type": "code",
   "execution_count": 26,
   "id": "6cd7026f-2a85-4c43-8110-547d0decaa76",
   "metadata": {},
   "outputs": [
    {
     "name": "stdout",
     "output_type": "stream",
     "text": [
      "The autoreload extension is already loaded. To reload it, use:\n",
      "  %reload_ext autoreload\n"
     ]
    },
    {
     "name": "stderr",
     "output_type": "stream",
     "text": [
      "<timed exec>:23: DeprecationWarning: Importing display from IPython.core.display is deprecated since IPython 7.14, please import from IPython.display\n"
     ]
    },
    {
     "data": {
      "text/html": [
       "<style>.container { width:90% !important; }</style>"
      ],
      "text/plain": [
       "<IPython.core.display.HTML object>"
      ]
     },
     "metadata": {},
     "output_type": "display_data"
    },
    {
     "name": "stdout",
     "output_type": "stream",
     "text": [
      "sys.executable: /Users/ozkansafak/code/fraktur/.venv/bin/python3\n",
      "sys.version: 3.10.9 (main, Mar  1 2023, 12:20:14) [Clang 14.0.6 ] \n",
      "\n",
      "CPU times: user 1.69 ms, sys: 1.37 ms, total: 3.06 ms\n",
      "Wall time: 2.29 ms\n"
     ]
    }
   ],
   "source": [
    "%%time\n",
    "%load_ext autoreload\n",
    "%autoreload 2\n",
    "\n",
    "# import standard Python modules\n",
    "import time \n",
    "import numpy as np\n",
    "import os, sys\n",
    "import json\n",
    "import re\n",
    "import glob\n",
    "import openai\n",
    "\n",
    "# # Get the root path of the project\n",
    "sys.path.append(os.path.abspath(\"..\"))\n",
    "\n",
    "# Import necessary modules from your src directory\n",
    "from src.utils import timeit, encode_image, plt\n",
    "from src.processing import compute_log_spectrum_1d, extract_image_bbox, save_images\n",
    "from src.api_requests import construct_payload, send_gpt_request\n",
    "from src.document_generation import save_document\n",
    "from src.api_requests import single_page\n",
    "\n",
    "from IPython.core.display import display, HTML\n",
    "from IPython.display import clear_output\n",
    "display(HTML(\"<style>.container { width:90% !important; }</style>\"))\n",
    "\n",
    "print('sys.executable:', sys.executable)\n",
    "print('sys.version:', sys.version, '\\n')"
   ]
  },
  {
   "cell_type": "markdown",
   "id": "503e18f5",
   "metadata": {},
   "source": [
    "---\n",
    "## Fraktur Translator"
   ]
  },
  {
   "cell_type": "code",
   "execution_count": 80,
   "id": "1f71423f",
   "metadata": {
    "scrolled": true
   },
   "outputs": [],
   "source": [
    "# Set the OpenAI API key from environment variables\n",
    "openai.api_key = os.getenv(\"OPENAI_API_KEY\")\n",
    "\n",
    "# Set the headers for the API request\n",
    "headers = {\n",
    "    \"Content-Type\": \"application/json\",\n",
    "    \"Authorization\": f\"Bearer {openai.api_key}\"\n",
    "}\n",
    "\n",
    "# Select the value of model_name in [\"gpt-4o-2024-08-06\", \"gpt-4o-mini-2024-07-18\"]\n",
    "model_name = \"gpt-4o-2024-08-06\"\n",
    "plotter = False\n",
    "\n",
    "# Folder containing the Fraktur PDF files\n",
    "image_path = \"../data/Der Weltkrieg v8 Chap 4F (in Fraktur)/*pdf\"\n",
    "\n",
    "# Get the list of PDF file paths\n",
    "fnames = sorted(glob.glob(image_path))\n",
    "german_texts = {}\n",
    "english_texts = {}\n",
    "total_time = 0 "
   ]
  },
  {
   "cell_type": "code",
   "execution_count": 91,
   "id": "07f4d79c-a54b-43f6-a05e-2348f8aede12",
   "metadata": {
    "scrolled": true
   },
   "outputs": [
    {
     "name": "stdout",
     "output_type": "stream",
     "text": [
      "\n",
      ">>>>>>>>>> page:456 (i:0/83) \n",
      ">>>>>>>>>> page:457 (i:1/83) \n",
      ">>>>>>>>>> page:458 (i:2/83) \n",
      ">>>>>>>>>> page:459 (i:3/83) \n",
      ">>>>>>>>>> page:460 (i:4/83) \n",
      ">>>>>>>>>> page:461 (i:5/83) \n",
      ">>>>>>>>>> page:462 (i:6/83) \n",
      ">>>>>>>>>> page:463 (i:7/83) \n",
      ">>>>>>>>>> page:464 (i:8/83) \n",
      ">>>>>>>>>> page:465 (i:9/83) \n",
      ">>>>>>>>>> page:466 (i:10/83) \n",
      ">>>>>>>>>> page:467 (i:11/83) \n",
      ">>>>>>>>>> page:468 (i:12/83) \n",
      ">>>>>>>>>> page:469 (i:13/83) \n",
      ">>>>>>>>>> page:470 (i:14/83) \n",
      ">>>>>>>>>> page:471 (i:15/83) \n",
      ">>>>>>>>>> page:472 (i:16/83) \n",
      ">>>>>>>>>> page:473 (i:17/83) \n",
      ">>>>>>>>>> page:474 (i:18/83) \n",
      ">>>>>>>>>> page:475 (i:19/83) \n",
      ">>>>>>>>>> page:476 (i:20/83) \n",
      ">>>>>>>>>> page:477 (i:21/83) \n",
      ">>>>>>>>>> page:478 (i:22/83) \n",
      ">>>>>>>>>> page:479 (i:23/83) \n",
      ">>>>>>>>>> page:480 (i:24/83) \n",
      ">>>>>>>>>> page:481 (i:25/83) \n",
      ">>>>>>>>>> page:482 (i:26/83) \n",
      ">>>>>>>>>> page:483 (i:27/83) \n",
      ">>>>>>>>>> page:484 (i:28/83) \n",
      ">>>>>>>>>> page:485 (i:29/83) \n",
      ">>>>>>>>>> page:486 (i:30/83) \n",
      ">>>>>>>>>> page:487 (i:31/83) \n",
      ">>>>>>>>>> page:488 (i:32/83) \n",
      ">>>>>>>>>> page:489 (i:33/83) \n",
      ">>>>>>>>>> page:490 (i:34/83) \n",
      ">>>>>>>>>> page:491 (i:35/83) \n",
      ">>>>>>>>>> page:492 (i:36/83) \n",
      ">>>>>>>>>> page:493 (i:37/83) \n",
      ">>>>>>>>>> page:494 (i:38/83) \n",
      ">>>>>>>>>> page:495 (i:39/83) \n",
      ">>>>>>>>>> page:496 (i:40/83) \n",
      ">>>>>>>>>> page:497 (i:41/83) \n",
      ">>>>>>>>>> page:498 (i:42/83) \n",
      ">>>>>>>>>> page:499 (i:43/83) \n",
      ">>>>>>>>>> page:500 (i:44/83) \n",
      ">>>>>>>>>> page:501 (i:45/83) \n",
      ">>>>>>>>>> page:502 (i:46/83) \n",
      ">>>>>>>>>> page:503 (i:47/83) \n",
      ">>>>>>>>>> page:504 (i:48/83) \n",
      ">>>>>>>>>> page:505 (i:49/83) \n",
      ">>>>>>>>>> page:506 (i:50/83) \n",
      ">>>>>>>>>> page:507 (i:51/83) \n",
      ">>>>>>>>>> page:508 (i:52/83) \n",
      ">>>>>>>>>> page:509 (i:53/83) \n",
      ">>>>>>>>>> page:510 (i:54/83) \n",
      ">>>>>>>>>> page:511 (i:55/83) \n",
      ">>>>>>>>>> page:512 (i:56/83) \n",
      ">>>>>>>>>> page:513 (i:57/83) \n",
      ">>>>>>>>>> page:514 (i:58/83) \n",
      ">>>>>>>>>> page:515 (i:59/83) \n",
      ">>>>>>>>>> page:516 (i:60/83) \n",
      ">>>>>>>>>> page:517 (i:61/83) \n",
      ">>>>>>>>>> page:518 (i:62/83) \n",
      ">>>>>>>>>> page:519 (i:63/83) \n",
      ">>>>>>>>>> page:520 (i:64/83) \n",
      ">>>>>>>>>> page:521 (i:65/83) \n",
      ">>>>>>>>>> page:522 (i:66/83) \n",
      ">>>>>>>>>> page:523 (i:67/83) \n",
      ">>>>>>>>>> page:524 (i:68/83) \n",
      ">>>>>>>>>> page:525 (i:69/83) [time:39.83sec] [TotalRuntime:1 mins 1.02 sec] >>>>>>>>>>\n",
      "\n",
      "<raw_german>\n",
      "Das Ende der Schlacht bei Wilna.\n",
      "Damit war am 26. September durch den Stillstand des rechten Armeeflügels bei gleichzeitigen Zurückbiegen des linken der Gedanke der umfassenden Angriffsschlacht endgültig aufgegeben. Als die Armee am folgenden Tage vom Oberbefehlshaber OHL den Befehl zum Beziehen einer Dauerstellung erhielt, handelte es sich um eine Maßnahme, die auch durch die Kampflage vollauf begründet war.\n",
      "e) Operationen der Russen¹) und Betrachtungen.\n",
      "Karten 6 und 7, Skizzen 28, 29 und 30.\n",
      "Als am 18. August Kowno, der nördliche Schöpfeiler der russischen Nordwestfront, wider Erwarten schnell fiel²), war dadurch bereits eine Bresche in die russische Gesamtfront geschlagen, denn die weiter nördlich in Kurland operierende 5. Armee hatte die Wege nach Petersburg zu decken und ihre Rückzugsrichtung daher in nordöstlicher Richtung. Somit war jetzt der rechte Flügel der russischen Hauptfront, die 10. Armee, von Norden mit Umfassung bedroht; ihr Führer, General Radkewitsch, ordnete selbständig den allmählichen Rückzug nach Osten auf das rechte Njemen-Ufer an, während die 5. Armee vor dem deutschen Drucke bereits nordwärts gegen die untere Düna ausgewichen war. Damit hatte der deutsche Angriff zwischen den beiden russischen Armeen in der Richtung auf Wilkomierz-Swenzjany eine wohl 100 Kilometer breite Lücke aufgerissen und die Vorbedingungen geschaffen für eine große Umfassungsoperation gegen die bei Wilna und südlich noch haltenden Russen. Eine starke Stoßgruppe, die günstige Gelegenheit auszunutzen, fehlte aber.\n",
      "Als dann die deutsche 10. Armee von Westen her gegen Wilna vorging, schärfte General Alerjejev, der Oberbefehlshaber der Nordwestfront, seiner 10. Armee am 20. und nochmals am 26. August ein, daß sie Wilna und den Weg nach Minsk zu decken und damit Flanke und Rücken der südlich anschließenden vier Armeen (1., 2., 4. und 3.) zu schützen habe. General Radkewitsch verlängerte seinen rechten Flügel gegen drohende Umfassung über die Wilia nach Norden und konnte dahinter aus Verbänden, die ihm aus der zurückweichenden Front in Polen zugeführt waren, starke und fliegende Reserven zusammenziehen. Damit waren aber bei gleichzeitigen Anforderungen der Front in Kurland die zur Schließung der Lücke von Swenzjany bestimmten Kräfte verbraucht. Bei der deutschen 12. und 8. Armee standen jetzt die russische 2. und 1. Armee mit zusammen 32 Divisionen, vor der deutschen 10. die russische 10. Armee mit etwa 18½ Divisionen. Von diesen waren am 25. August, als General\n",
      "¹) Gesamtoperationen s. T. C. 451 ff.\n",
      "²) S. 481.\n",
      "</raw_german>\n",
      "--------------------------------------------------------------------\n",
      "<german>\n",
      "<header>Das Ende der Schlacht bei Wilna.</header>\n",
      "<body>Damit war am 26. September durch den Stillstand des rechten Armeeflügels bei gleichzeitigen Zurückbiegen des linken der Gedanke der umfassenden Angriffsschlacht endgültig aufgegeben. Als die Armee am folgenden Tage vom Oberbefehlshaber OHL den Befehl zum Beziehen einer Dauerstellung erhielt, handelte es sich um eine Maßnahme, die auch durch die Kampflage vollauf begründet war.\n",
      "e) Operationen der Russen¹) und Betrachtungen.\n",
      "Karten 6 und 7, Skizzen 28, 29 und 30.\n",
      "Als am 18. August Kowno, der nördliche Schöpfeiler der russischen Nordwestfront, wider Erwarten schnell fiel²), war dadurch bereits eine Bresche in die russische Gesamtfront geschlagen, denn die weiter nördlich in Kurland operierende 5. Armee hatte die Wege nach Petersburg zu decken und ihre Rückzugsrichtung daher in nordöstlicher Richtung. Somit war jetzt der rechte Flügel der russischen Hauptfront, die 10. Armee, von Norden mit Umfassung bedroht; ihr Führer, General Radkewitsch, ordnete selbständig den allmählichen Rückzug nach Osten auf das rechte Njemen-Ufer an, während die 5. Armee vor dem deutschen Drucke bereits nordwärts gegen die untere Düna ausgewichen war. Damit hatte der deutsche Angriff zwischen den beiden russischen Armeen in der Richtung auf Wilkomierz-Swenzjany eine wohl 100 Kilometer breite Lücke aufgerissen und die Vorbedingungen geschaffen für eine große Umfassungsoperation gegen die bei Wilna und südlich noch haltenden Russen. Eine starke Stoßgruppe, die günstige Gelegenheit auszunutzen, fehlte aber.\n",
      "Als dann die deutsche 10. Armee von Westen her gegen Wilna vorging, schärfte General Alerjejev, der Oberbefehlshaber der Nordwestfront, seiner 10. Armee am 20. und nochmals am 26. August ein, daß sie Wilna und den Weg nach Minsk zu decken und damit Flanke und Rücken der südlich anschließenden vier Armeen (1., 2., 4. und 3.) zu schützen habe. General Radkewitsch verlängerte seinen rechten Flügel gegen drohende Umfassung über die Wilia nach Norden und konnte dahinter aus Verbänden, die ihm aus der zurückweichenden Front in Polen zugeführt waren, starke und fliegende Reserven zusammenziehen. Damit waren aber bei gleichzeitigen Anforderungen der Front in Kurland die zur Schließung der Lücke von Swenzjany bestimmten Kräfte verbraucht. Bei der deutschen 12. und 8. Armee standen jetzt die russische 2. und 1. Armee mit zusammen 32 Divisionen, vor der deutschen 10. die russische 10. Armee mit etwa 18½ Divisionen. Von diesen waren am 25. August, als General</body>\n",
      "<footer>¹) Gesamtoperationen s. T. C. 451 ff.\n",
      "²) S. 481.</footer>\n",
      "</german>\n",
      "--------------------------------------------------------------------\n",
      "<english>\n",
      "<header>The End of the Battle of Wilna.</header>\n",
      "<body>Thus, on September 26, with the cessation of the right wing of the army and the simultaneous bending back of the left, the idea of a comprehensive offensive battle was finally abandoned. When the army received the order from the Supreme Command the following day to occupy a permanent position, it was a measure fully justified by the combat situation.\n",
      "e) Operations of the Russians¹) and Considerations.\n",
      "Maps 6 and 7, Sketches 28, 29, and 30.\n",
      "When Kowno, the northern pillar of the Russian Northwest Front, unexpectedly fell quickly on August 18²), a breach had already been made in the overall Russian front, as the 5th Army operating further north in Courland had to cover the routes to Petersburg and thus its retreat direction was northeast. Thus, the right wing of the main Russian front, the 10th Army, was now threatened with encirclement from the north; its leader, General Radkewitsch, independently ordered a gradual retreat eastward to the right bank of the Njemen, while the 5th Army had already moved northward against the lower Dvina under German pressure. This created a gap about 100 kilometers wide between the two Russian armies in the direction of Wilkomierz-Swenzjany, setting the stage for a major encirclement operation against the Russians still holding at Wilna and southward. However, a strong assault group to exploit the favorable opportunity was lacking.\n",
      "When the German 10th Army advanced from the west against Wilna, General Alerjejev, the commander of the Northwest Front, instructed his 10th Army on August 20 and again on August 26 to cover Wilna and the route to Minsk, thereby protecting the flank and rear of the four armies (1st, 2nd, 4th, and 3rd) to the south. General Radkewitsch extended his right wing against the threatening encirclement northward over the Wilia and was able to gather strong and mobile reserves from units brought to him from the retreating front in Poland. However, with simultaneous demands from the front in Courland, the forces intended to close the gap at Swenzjany were exhausted. The Russian 2nd and 1st Armies, with a total of 32 divisions, now faced the German 12th and 8th Armies, while the Russian 10th Army, with about 18½ divisions, faced the German 10th. Of these, on August 25, when General</body>\n",
      "<footer>¹) For overall operations see T. C. 451 ff.\n",
      "²) See p. 481.</footer>\n",
      "</english>\n",
      "\n",
      ">>>>>>>>>> page:526 (i:70/83) \n",
      ">>>>>>>>>> page:527 (i:71/83) \n",
      ">>>>>>>>>> page:528 (i:72/83) \n",
      ">>>>>>>>>> page:529 (i:73/83) \n",
      ">>>>>>>>>> page:530 (i:74/83) \n",
      ">>>>>>>>>> page:531 (i:75/83) \n",
      ">>>>>>>>>> page:532 (i:76/83) \n",
      ">>>>>>>>>> page:533 (i:77/83) \n",
      ">>>>>>>>>> page:534 (i:78/83) \n",
      ">>>>>>>>>> page:535 (i:79/83) [time:18.48sec] [TotalRuntime:1 mins 19.50 sec] >>>>>>>>>>\n",
      "\n",
      "<raw_german>\n",
      "Die Kämpfe der Njemen-Armee.\n",
      "so wirksam unter Feuer hielt, daß die Russen den Verkehr über Pleskau\n",
      "umleiten mußten). Im übrigen hatte das elftägige Unternehmen rund\n",
      "5000 Gefangene, davon fast die Hälfte am 2. und 3. September, und zwei\n",
      "Geschütze als Beute gebracht.\n",
      "Inzwischen hatte auf dem rechten Flügel der Armee die Gruppe\n",
      "Lauenstein schon gegen Ende August ihre Linien an verschiedenen Stellen\n",
      "über die Swjenta vorschieben können. Hier bildete die 3. Kavallerie-Divi-\n",
      "sion, nachdem die 4. zur 10. Armee) zurückgetreten war, den rechten Flügel\n",
      "und hat bis zum 3. September im Anschluß an das Vorgehen des Kaval-\n",
      "leriekorps Garnier dieser Armee bis in die Gegend südlich von Wilkomierz\n",
      "vorgedrückt.\n",
      "Der Heeresgruppen-Befehl vom 29. August) hatte an der\n",
      "Aufgabe nichts geändert. General von Below wollte dazu den Feind\n",
      "angreifen, der vor der Mitte seiner Armee, dem I. Reservekorps, beiderseits\n",
      "der Bahn nach Dünaburg stand. Er dachte, ihn durch Vorstoß der Gruppe\n",
      "Lauenstein auf Uxkany im Süden und Umfassung durch die Gruppe Rich-\n",
      "thofen von Norden zum Weichen zu bringen und auf Dünaburg zurück-\n",
      "zuwerfen. Der Oberbefehlshaber Ost überwies die zunächst zur 10. Armee\n",
      "bestimmte 88. Infanterie-Division dem rechten Flügel der Njemen-Armee.\n",
      "Die Ausführung des Unternehmens verzögerte sich. Die Gruppe\n",
      "Richthofen traf bei dem Versuche, für die spätere Umfassung zunächst\n",
      "längs der Düna nach Osten, gegen Tabokfabr, Raum zu gewinnen, auf\n",
      "einen starken feindlichen Gegenstoß und kam daher nur langsam vorwärts.\n",
      "Das Oberkommando hatte bis zum 9. September Nachrichten, daß nörd-\n",
      "lich der bisher gegenüberstehenden russischen 5. Armee noch eine neue russische\n",
      "12. Armee aus Teilen der 5. und neu herbeigeschafften Truppen in der Bil-\n",
      "dung sei. Die Gruppe Richthofen, inzwischen durch die 78. Reserve-\n",
      "Division verstärkt, lag ihr gegenüber am Pfister-Abschnitt zunächst fest.\n",
      "Im übrigen standen die weiteren Unternehmungen der Armee unter dem\n",
      "Leitgedanken, die linke Flanke des an diesem Tage gegen Wilna\n",
      "einsetzenden deutschen Angriffs zu decken. Dazu war zunächst am 9. Sep-\n",
      "tember auf dem Südflügel die Gruppe Lauenstein (jetzt 3. Kavallerie-Divi-\n",
      "sion, Division Bödmann und dahinter folgend 88. Infanterie-Division) im\n",
      "unmittelbaren Zusammenhange mit dem Vorgehen der Kavallerie\n",
      "10. Armee zum Angriff auf Uxkany angetreten. Es erschien aber dringend,\n",
      "die Russen auf der ganzen Front zurückzuwerfen und dazu auch den Wider-\n",
      "stand im Norden zu brechen. General von Below suchte dabei den Erfolg\n",
      "</raw_german>\n",
      "--------------------------------------------------------------------\n",
      "<german>\n",
      "<header>Die Kämpfe der Njemen-Armee.</header>\n",
      "<body>so wirksam unter Feuer hielt, daß die Russen den Verkehr über Pleskau umleiten mußten). Im übrigen hatte das elftägige Unternehmen rund 5000 Gefangene, davon fast die Hälfte am 2. und 3. September, und zwei Geschütze als Beute gebracht.\n",
      "Inzwischen hatte auf dem rechten Flügel der Armee die Gruppe Lauenstein schon gegen Ende August ihre Linien an verschiedenen Stellen über die Swjenta vorschieben können. Hier bildete die 3. Kavallerie-Division, nachdem die 4. zur 10. Armee) zurückgetreten war, den rechten Flügel und hat bis zum 3. September im Anschluß an das Vorgehen des Kavalleriekorps Garnier dieser Armee bis in die Gegend südlich von Wilkomierz vorgedrückt.\n",
      "Der Heeresgruppen-Befehl vom 29. August) hatte an der Aufgabe nichts geändert. General von Below wollte dazu den Feind angreifen, der vor der Mitte seiner Armee, dem I. Reservekorps, beiderseits der Bahn nach Dünaburg stand. Er dachte, ihn durch Vorstoß der Gruppe Lauenstein auf Uxkany im Süden und Umfassung durch die Gruppe Richthofen von Norden zum Weichen zu bringen und auf Dünaburg zurückzuwerfen. Der Oberbefehlshaber Ost überwies die zunächst zur 10. Armee bestimmte 88. Infanterie-Division dem rechten Flügel der Njemen-Armee.\n",
      "Die Ausführung des Unternehmens verzögerte sich. Die Gruppe Richthofen traf bei dem Versuche, für die spätere Umfassung zunächst längs der Düna nach Osten, gegen Tabokfabr, Raum zu gewinnen, auf einen starken feindlichen Gegenstoß und kam daher nur langsam vorwärts. Das Oberkommando hatte bis zum 9. September Nachrichten, daß nördlich der bisher gegenüberstehenden russischen 5. Armee noch eine neue russische 12. Armee aus Teilen der 5. und neu herbeigeschafften Truppen in der Bildung sei. Die Gruppe Richthofen, inzwischen durch die 78. Reserve-Division verstärkt, lag ihr gegenüber am Pfister-Abschnitt zunächst fest. Im übrigen standen die weiteren Unternehmungen der Armee unter dem Leitgedanken, die linke Flanke des an diesem Tage gegen Wilna einsetzenden deutschen Angriffs zu decken. Dazu war zunächst am 9. September auf dem Südflügel die Gruppe Lauenstein (jetzt 3. Kavallerie-Division, Division Bödmann und dahinter folgend 88. Infanterie-Division) im unmittelbaren Zusammenhange mit dem Vorgehen der Kavallerie 10. Armee zum Angriff auf Uxkany angetreten. Es erschien aber dringend, die Russen auf der ganzen Front zurückzuwerfen und dazu auch den Widerstand im Norden zu brechen. General von Below suchte dabei den Erfolg</body>\n",
      "</german>\n",
      "--------------------------------------------------------------------\n",
      "<english>\n",
      "<header>The Battles of the Njemen Army.</header>\n",
      "<body>held so effectively under fire that the Russians had to reroute traffic over Pleskau. Moreover, the eleven-day operation captured around 5000 prisoners, almost half on September 2 and 3, and brought two guns as spoils.\n",
      "Meanwhile, on the right flank of the army, the Lauenstein group had already been able to advance their lines at various points over the Swjenta by the end of August. Here, the 3rd Cavalry Division, after the 4th had withdrawn to the 10th Army, formed the right flank and advanced until September 3, following the advance of the Garnier Cavalry Corps of this army into the area south of Wilkomierz.\n",
      "The army group order of August 29 had not changed the task. General von Below wanted to attack the enemy, who was positioned in front of the center of his army, the I Reserve Corps, on both sides of the railway to Dünaburg. He planned to force them to retreat to Dünaburg by advancing the Lauenstein group on Uxkany in the south and encircling them with the Richthofen group from the north. The Commander-in-Chief East assigned the 88th Infantry Division, initially intended for the 10th Army, to the right flank of the Njemen Army.\n",
      "The execution of the operation was delayed. The Richthofen group, in attempting to gain space for the later encirclement initially along the Düna to the east, towards Tabokfabr, encountered a strong enemy counterattack and therefore advanced only slowly. The High Command had reports by September 9 that a new Russian 12th Army was forming north of the previously opposing Russian 5th Army, composed of parts of the 5th and newly brought-in troops. The Richthofen group, meanwhile reinforced by the 78th Reserve Division, was initially fixed opposite them at the Pfister section. Furthermore, the army's subsequent operations were guided by the idea of covering the left flank of the German attack on Wilna that day. To this end, on September 9, the Lauenstein group (now 3rd Cavalry Division, Division Bödmann, and subsequently the 88th Infantry Division) on the southern flank, in direct connection with the advance of the 10th Army's cavalry, launched an attack on Uxkany. However, it seemed urgent to push the Russians back across the entire front and also to break the resistance in the north. General von Below sought success in this endeavor.</body>\n",
      "</english>\n",
      "\n",
      ">>>>>>>>>> page:536 (i:80/83) \n",
      ">>>>>>>>>> page:537 (i:81/83) \n",
      ">>>>>>>>>> page:538 (i:82/83) \n",
      ">>>>>>>>>> page:539 (i:83/83) "
     ]
    }
   ],
   "source": [
    "for i, fname in enumerate(fnames):\n",
    "    start = time.time()\n",
    "\n",
    "    pageno = re.search(r'page_(.*?)\\.pdf', fname, re.DOTALL).group(1)\n",
    "    print(f\"\\n{'>'*10} page:{pageno} (i:{i}/{len(fnames)-1}) \", end=\"\")\n",
    "    if int(pageno) not in [525, 535]:\n",
    "        continue\n",
    "    \n",
    "    raw_text, raw_german_text, german_text, english_text = single_page(fname, model_name, headers, plotter, pageno)\n",
    "    \n",
    "    german_texts[pageno] = german_text\n",
    "    english_texts[pageno] = english_text\n",
    "    delta = time.time() - start \n",
    "    total_time += delta\n",
    "    print(f\"[time:{delta:.2f}sec] [TotalRuntime:{int(total_time//60)} mins {(total_time - int(total_time//60)*60):.2f} sec] {'>'*10}\\n\")\n",
    "    print(raw_text)\n"
   ]
  },
  {
   "cell_type": "code",
   "execution_count": 94,
   "id": "420883ef",
   "metadata": {},
   "outputs": [],
   "source": [
    "# save json outputs\n",
    "folder_name = 'third_attempt'\n",
    "with open(f'../output/{folder_name}/english_texts.json', 'w') as f:\n",
    "    json.dump(english_texts, f)\n",
    "with open(f'../output/{folder_name}/german_texts.json', 'w') as f:\n",
    "    json.dump(german_texts, f)\n",
    "\n",
    "doc1, fname1 = save_document(german_texts, folder_name, language='German')\n",
    "doc2, fname2 = save_document(english_texts, folder_name, language='English')\n"
   ]
  },
  {
   "cell_type": "markdown",
   "id": "ac63eac8",
   "metadata": {},
   "source": [
    "``` \n",
    "1.  Upload Input folder of pdfs to blob storage.\n",
    "2.  Read file from s3.\n",
    "3.  FFT in y -> (x_hi, x_lo), write half_cropped_image to s3\n",
    "4.  FFT in x -> (y_hi, y_lo), write cropped_image to s3\n",
    "5.  Read cropped image from s3 -> encode_image -> translate and transcribe -> JSON output\n",
    "\n",
    "```\n",
    "\n",
    "### Available models and pricing:\n",
    "```\n",
    "\"gpt-4o-2024-08-06\":\n",
    "    \"price_txt\": \"$2.50 / 1M input tokens\"\n",
    "    \"price_img\": \"$0.001913 / 1500px^2\"\n",
    "    \n",
    "\"gpt-4o-mini-2024-07-18\":\n",
    "    \"price_txt\": \"$0.150 / 1M input tokens\"\n",
    "    \"price_img\": \"$0.003825 / 1500px^2\"\n",
    "    \n",
    "```"
   ]
  },
  {
   "cell_type": "code",
   "execution_count": null,
   "id": "8dcba338",
   "metadata": {},
   "outputs": [],
   "source": []
  },
  {
   "cell_type": "code",
   "execution_count": null,
   "id": "2b7d93ac",
   "metadata": {},
   "outputs": [],
   "source": []
  },
  {
   "cell_type": "code",
   "execution_count": null,
   "id": "5b2c6ef3-08b5-469d-b5b0-7f7ae42ae87b",
   "metadata": {},
   "outputs": [],
   "source": []
  },
  {
   "cell_type": "code",
   "execution_count": null,
   "id": "8c5c423f-4116-470f-b1a8-c1620876d035",
   "metadata": {},
   "outputs": [],
   "source": []
  },
  {
   "cell_type": "code",
   "execution_count": null,
   "id": "af9149e2-dba5-46b8-815b-9c8955527e5a",
   "metadata": {},
   "outputs": [],
   "source": []
  },
  {
   "cell_type": "code",
   "execution_count": null,
   "id": "3d6321e9-6ba9-4947-a11d-1df5ffc915a3",
   "metadata": {},
   "outputs": [],
   "source": []
  },
  {
   "cell_type": "code",
   "execution_count": null,
   "id": "8a52581f-0622-492f-a145-e605f6a74a27",
   "metadata": {},
   "outputs": [],
   "source": []
  },
  {
   "cell_type": "code",
   "execution_count": null,
   "id": "221ddd9b",
   "metadata": {},
   "outputs": [],
   "source": []
  },
  {
   "cell_type": "code",
   "execution_count": null,
   "id": "1ecefe2a",
   "metadata": {},
   "outputs": [],
   "source": []
  }
 ],
 "metadata": {
  "kernelspec": {
   "display_name": "Python 3 (ipykernel)",
   "language": "python",
   "name": "python3"
  },
  "language_info": {
   "codemirror_mode": {
    "name": "ipython",
    "version": 3
   },
   "file_extension": ".py",
   "mimetype": "text/x-python",
   "name": "python",
   "nbconvert_exporter": "python",
   "pygments_lexer": "ipython3",
   "version": "3.10.9"
  }
 },
 "nbformat": 4,
 "nbformat_minor": 5
}
