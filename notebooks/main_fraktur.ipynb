{
 "cells": [
  {
   "cell_type": "code",
   "execution_count": 27,
   "id": "3fd37c50-412f-4868-a817-ed7ef16f4c69",
   "metadata": {},
   "outputs": [
    {
     "data": {
      "text/plain": [
       "'/Users/ozkansafak/code/fraktur/notebooks'"
      ]
     },
     "execution_count": 27,
     "metadata": {},
     "output_type": "execute_result"
    }
   ],
   "source": [
    "pwd"
   ]
  },
  {
   "cell_type": "code",
   "execution_count": 26,
   "id": "6cd7026f-2a85-4c43-8110-547d0decaa76",
   "metadata": {},
   "outputs": [
    {
     "name": "stdout",
     "output_type": "stream",
     "text": [
      "The autoreload extension is already loaded. To reload it, use:\n",
      "  %reload_ext autoreload\n"
     ]
    },
    {
     "name": "stderr",
     "output_type": "stream",
     "text": [
      "<timed exec>:23: DeprecationWarning: Importing display from IPython.core.display is deprecated since IPython 7.14, please import from IPython.display\n"
     ]
    },
    {
     "data": {
      "text/html": [
       "<style>.container { width:90% !important; }</style>"
      ],
      "text/plain": [
       "<IPython.core.display.HTML object>"
      ]
     },
     "metadata": {},
     "output_type": "display_data"
    },
    {
     "name": "stdout",
     "output_type": "stream",
     "text": [
      "sys.executable: /Users/ozkansafak/code/fraktur/.venv/bin/python3\n",
      "sys.version: 3.10.9 (main, Mar  1 2023, 12:20:14) [Clang 14.0.6 ] \n",
      "\n",
      "CPU times: user 1.69 ms, sys: 1.37 ms, total: 3.06 ms\n",
      "Wall time: 2.29 ms\n"
     ]
    }
   ],
   "source": [
    "%%time\n",
    "%load_ext autoreload\n",
    "%autoreload 2\n",
    "\n",
    "# import standard Python modules\n",
    "import time \n",
    "import numpy as np\n",
    "import os, sys\n",
    "import json\n",
    "import re\n",
    "import glob\n",
    "import openai\n",
    "\n",
    "# # Get the root path of the project\n",
    "sys.path.append(os.path.abspath(\"..\"))\n",
    "\n",
    "# Import necessary modules from your src directory\n",
    "from src.utils import timeit, encode_image, plt\n",
    "from src.processing import compute_log_spectrum_1d, extract_image_bbox, save_images\n",
    "from src.api_requests import construct_payload, send_gpt_request\n",
    "from src.document_generation import save_document\n",
    "from src.api_requests import single_page\n",
    "\n",
    "from IPython.core.display import display, HTML\n",
    "from IPython.display import clear_output\n",
    "display(HTML(\"<style>.container { width:90% !important; }</style>\"))\n",
    "\n",
    "print('sys.executable:', sys.executable)\n",
    "print('sys.version:', sys.version, '\\n')"
   ]
  },
  {
   "cell_type": "markdown",
   "id": "503e18f5",
   "metadata": {},
   "source": [
    "---\n",
    "## Fraktur Translator"
   ]
  },
  {
   "cell_type": "code",
   "execution_count": 80,
   "id": "1f71423f",
   "metadata": {
    "scrolled": true
   },
   "outputs": [],
   "source": [
    "# Set the OpenAI API key from environment variables\n",
    "openai.api_key = os.getenv(\"OPENAI_API_KEY\")\n",
    "\n",
    "# Set the headers for the API request\n",
    "headers = {\n",
    "    \"Content-Type\": \"application/json\",\n",
    "    \"Authorization\": f\"Bearer {openai.api_key}\"\n",
    "}\n",
    "\n",
    "# Select the value of model_name in [\"gpt-4o-2024-08-06\", \"gpt-4o-mini-2024-07-18\"]\n",
    "model_name = \"gpt-4o-2024-08-06\"\n",
    "plotter = False\n",
    "\n",
    "# Folder containing the Fraktur PDF files\n",
    "image_path = \"../data/Der Weltkrieg v8 Chap 4F (in Fraktur)/*pdf\"\n",
    "\n",
    "# Get the list of PDF file paths\n",
    "fnames = sorted(glob.glob(image_path))\n",
    "german_texts = {}\n",
    "english_texts = {}\n",
    "total_time = 0 "
   ]
  },
  {
   "cell_type": "code",
   "execution_count": null,
   "id": "07f4d79c-a54b-43f6-a05e-2348f8aede12",
   "metadata": {
    "scrolled": true
   },
   "outputs": [
    {
     "name": "stdout",
     "output_type": "stream",
     "text": [
      "\n",
      ">>>>>>>>>> page:456 (i:0/83) \n",
      ">>>>>>>>>> page:457 (i:1/83) \n",
      ">>>>>>>>>> page:458 (i:2/83) \n",
      ">>>>>>>>>> page:459 (i:3/83) \n",
      ">>>>>>>>>> page:460 (i:4/83) \n",
      ">>>>>>>>>> page:461 (i:5/83) \n",
      ">>>>>>>>>> page:462 (i:6/83) \n",
      ">>>>>>>>>> page:463 (i:7/83) \n",
      ">>>>>>>>>> page:464 (i:8/83) \n",
      ">>>>>>>>>> page:465 (i:9/83) \n",
      ">>>>>>>>>> page:466 (i:10/83) \n",
      ">>>>>>>>>> page:467 (i:11/83) \n",
      ">>>>>>>>>> page:468 (i:12/83) \n",
      ">>>>>>>>>> page:469 (i:13/83) \n",
      ">>>>>>>>>> page:470 (i:14/83) \n",
      ">>>>>>>>>> page:471 (i:15/83) \n",
      ">>>>>>>>>> page:472 (i:16/83) \n",
      ">>>>>>>>>> page:473 (i:17/83) \n",
      ">>>>>>>>>> page:474 (i:18/83) \n",
      ">>>>>>>>>> page:475 (i:19/83) \n",
      ">>>>>>>>>> page:476 (i:20/83) \n",
      ">>>>>>>>>> page:477 (i:21/83) \n",
      ">>>>>>>>>> page:478 (i:22/83) \n",
      ">>>>>>>>>> page:479 (i:23/83) \n",
      ">>>>>>>>>> page:480 (i:24/83) \n",
      ">>>>>>>>>> page:481 (i:25/83) \n",
      ">>>>>>>>>> page:482 (i:26/83) \n",
      ">>>>>>>>>> page:483 (i:27/83) \n",
      ">>>>>>>>>> page:484 (i:28/83) \n",
      ">>>>>>>>>> page:485 (i:29/83) \n",
      ">>>>>>>>>> page:486 (i:30/83) \n",
      ">>>>>>>>>> page:487 (i:31/83) \n",
      ">>>>>>>>>> page:488 (i:32/83) \n",
      ">>>>>>>>>> page:489 (i:33/83) \n",
      ">>>>>>>>>> page:490 (i:34/83) \n",
      ">>>>>>>>>> page:491 (i:35/83) \n",
      ">>>>>>>>>> page:492 (i:36/83) \n",
      ">>>>>>>>>> page:493 (i:37/83) \n",
      ">>>>>>>>>> page:494 (i:38/83) \n",
      ">>>>>>>>>> page:495 (i:39/83) \n",
      ">>>>>>>>>> page:496 (i:40/83) \n",
      ">>>>>>>>>> page:497 (i:41/83) \n",
      ">>>>>>>>>> page:498 (i:42/83) \n",
      ">>>>>>>>>> page:499 (i:43/83) \n",
      ">>>>>>>>>> page:500 (i:44/83) \n",
      ">>>>>>>>>> page:501 (i:45/83) \n",
      ">>>>>>>>>> page:502 (i:46/83) \n",
      ">>>>>>>>>> page:503 (i:47/83) \n",
      ">>>>>>>>>> page:504 (i:48/83) \n",
      ">>>>>>>>>> page:505 (i:49/83) \n",
      ">>>>>>>>>> page:506 (i:50/83) \n",
      ">>>>>>>>>> page:507 (i:51/83) \n",
      ">>>>>>>>>> page:508 (i:52/83) \n",
      ">>>>>>>>>> page:509 (i:53/83) \n",
      ">>>>>>>>>> page:510 (i:54/83) \n",
      ">>>>>>>>>> page:511 (i:55/83) \n",
      ">>>>>>>>>> page:512 (i:56/83) \n",
      ">>>>>>>>>> page:513 (i:57/83) \n",
      ">>>>>>>>>> page:514 (i:58/83) \n",
      ">>>>>>>>>> page:515 (i:59/83) \n",
      ">>>>>>>>>> page:516 (i:60/83) \n",
      ">>>>>>>>>> page:517 (i:61/83) \n",
      ">>>>>>>>>> page:518 (i:62/83) \n",
      ">>>>>>>>>> page:519 (i:63/83) \n",
      ">>>>>>>>>> page:520 (i:64/83) \n",
      ">>>>>>>>>> page:521 (i:65/83) \n",
      ">>>>>>>>>> page:522 (i:66/83) \n",
      ">>>>>>>>>> page:523 (i:67/83) \n",
      ">>>>>>>>>> page:524 (i:68/83) \n",
      ">>>>>>>>>> page:525 (i:69/83) > \u001b[0;32m/Users/ozkansafak/code/fraktur/src/api_requests.py\u001b[0m(161)\u001b[0;36msingle_page\u001b[0;34m()\u001b[0m\n",
      "\u001b[0;32m    160 \u001b[0;31m    \u001b[0;31m# Extract German\u001b[0m\u001b[0;34m\u001b[0m\u001b[0;34m\u001b[0m\u001b[0m\n",
      "\u001b[0m\u001b[0;32m--> 161 \u001b[0;31m    \u001b[0mre_search\u001b[0m \u001b[0;34m=\u001b[0m \u001b[0mre\u001b[0m\u001b[0;34m.\u001b[0m\u001b[0msearch\u001b[0m\u001b[0;34m(\u001b[0m\u001b[0;34mr'<german>(.*?)</german>'\u001b[0m\u001b[0;34m,\u001b[0m \u001b[0mcontent\u001b[0m\u001b[0;34m,\u001b[0m \u001b[0mre\u001b[0m\u001b[0;34m.\u001b[0m\u001b[0mDOTALL\u001b[0m\u001b[0;34m)\u001b[0m\u001b[0;34m\u001b[0m\u001b[0;34m\u001b[0m\u001b[0m\n",
      "\u001b[0m\u001b[0;32m    162 \u001b[0;31m    \u001b[0;32mif\u001b[0m \u001b[0mre_search\u001b[0m \u001b[0;32mis\u001b[0m \u001b[0;32mNone\u001b[0m\u001b[0;34m:\u001b[0m\u001b[0;34m\u001b[0m\u001b[0;34m\u001b[0m\u001b[0m\n",
      "\u001b[0m\n"
     ]
    },
    {
     "name": "stdin",
     "output_type": "stream",
     "text": [
      "ipdb>  content\n"
     ]
    },
    {
     "name": "stdout",
     "output_type": "stream",
     "text": [
      "'<raw_german>\\nDas Ende der Schlacht bei Wilna.\\nDamit war am 26. September durch den Stillstand des rechten Armeeflügels bei gleichzeitigem Zurückbiegen des linken der Gedanke der umfassenden Angriffsschlacht endgültig aufgegeben. Als die Armee am folgenden Tage vom Oberbefehlshaber Ost den Befehl zum Beziehen einer Dauerstellung erhielt, handelte es sich um eine Maßnahme, die auch durch die Kampflage vollauf begründet war.\\ne) Operationen der Russen und Betrachtungen.\\nKarten 6 und 7, Skizzen 28, 29 und 30.\\nAls am 18. August Kowno, der nördliche Schpfeiler der russischen Nordwestfront, wider Erwarten schnell fiel, war dadurch bereits eine Bresche in die russische Gesamtfront geschlagen, denn die weiter nördlich in Kurland operierende 5. Armee hatte die Wege nach Petersburg zu decken und ihre Rückzugsrichtung aber in nordöstlicher Richtung. Somit war jetzt der rechte Flügel der russischen Hauptfront, die 10. Armee, von Norden mit Umfassung bedroht; ihr Führer, General Radkewitsch, ordnete selbständig den allmählichen Rückzug nach Osten auf das rechte Njemen-Ufer an, während die 5. Armee vor dem deutschen Druck bereits nordostwärts gegen die untere Düna ausgewichen war. Damit hatte der deutsche Angriff zwischen den beiden russischen Armeen in der Richtung auf Wilkomierz-Swenzjany eine wohl 100 Kilometer breite Lücke aufgerissen und die Vorbedingungen geschaffen für eine große Umfassungsoperation gegen die bei Wilna und südlich noch haltenden Russen. Eine starke Stoßgruppe, die günstige Gelegenheit auszunutzen, fehlte aber.\\nAls dann die deutsche 10. Armee von Westen her gegen Wilna vorging, schärfte General Alerjeew, der Oberbefehlshaber der Nordwestfront, seiner 10. Armee am 20. um nochmals am 26. August ein, daß sie Wilna und den Weg nach Minsk zu decken und damit Flanke und Rücken der südlich anschließenden vier Armeen (1., 2., 4. und 3.) zu schützen habe. General Radkewitsch verlängerte seinen rechten Flügel gegen drohende Umfassung über die Wilia nach Norden und konnte abtretende und aus der ihm aus der zurückweichenden Front in Polen zugeführte Verbänden, wie ihm aus der zurückweichenden Front in Polen zugeführte Verbänden, wie ihm aus der zurückweichenden Front in Polen zugeführte Verbänden, wie ihm aus der zurückweichenden Front in Polen zugeführte Verbänden, wie ihm aus der zurückweichenden Front in Polen zugeführte Verbänden, wie ihm aus der zurückweichenden Front in Polen zugeführte Verbänden, wie ihm aus der zurückweichenden Front in Polen zugeführte Verbänden, wie ihm aus der zurückweichenden Front in Polen zugeführte Verbänden, wie ihm aus der zurückweichenden Front in Polen zugeführte Verbänden, wie ihm aus der zurückweichenden Front in Polen zugeführte Verbänden, wie ihm aus der zurückweichenden Front in Polen zugeführte Verbänden, wie ihm aus der zurückweichenden Front in Polen zugeführte Verbänden, wie ihm aus der zurückweichenden Front in Polen zugeführte Verbänden, wie ihm aus der zurückweichenden Front in Polen zugeführte Verbänden, wie ihm aus der zurückweichenden Front in Polen zugeführte Verbänden, wie ihm aus der zurückweichenden Front in Polen zugeführte Verbänden, wie ihm aus der zurückweichenden Front in Polen zugeführte Verbänden, wie ihm aus der zurückweichenden Front in Polen zugeführte Verbänden, wie ihm aus der zurückweichenden Front in Polen zugeführte Verbänden, wie ihm aus der zurückweichenden Front in Polen zugeführte Verbänden, wie ihm aus der zurückweichenden Front in Polen zugeführte Verbänden, wie ihm aus der zurückweichenden Front in Polen zugeführte Verbänden, wie ihm aus der zurückweichenden Front in Polen zugeführte Verbänden, wie ihm aus der zurückweichenden Front in Polen zugeführte Verbänden, wie ihm aus der zurückweichenden Front in Polen zugeführte Verbänden, wie ihm aus der zurückweichenden Front in Polen zugeführte Verbänden, wie ihm aus der zurückweichenden Front in Polen zugeführte Verbänden, wie ihm aus der zurückweichenden Front in Polen zugeführte Verbänden, wie ihm aus der zurückweichenden Front in Polen zugeführte Verbänden, wie ihm aus der zurückweichenden Front in Polen zugeführte Verbänden, wie ihm aus der zurückweichenden Front in Polen zugeführte Verbänden, wie ihm aus der zurückweichenden Front in Polen zugeführte Verbänden, wie ihm aus der zurückweichenden Front in Polen zugeführte Verbänden, wie ihm aus der zurückweichenden Front in Polen zugeführte Verbänden, wie ihm aus der zurückweichenden Front in Polen zugeführte Verbänden, wie ihm aus der zurückweichenden Front in Polen zugeführte Verbänden, wie ihm aus der zurückweichenden Front in Polen zugeführte Verbänden, wie ihm aus der zurückweichenden Front in Polen zugeführte Verbänden, wie ihm aus der zurückweichenden Front in Polen zugeführte Verbänden, wie ihm aus der zurückweichenden Front in Polen zugeführte Verbänden, wie ihm aus der zurückweichenden Front in Polen zugeführte Verbänden, wie ihm aus der zurückweichenden Front in Polen zugeführte Verbänden, wie ihm aus der zurückweichenden Front in Polen zugeführte Verbänden, wie ihm aus der zurückweichenden Front in Polen zugeführte Verbänden, wie ihm aus der zurückweichenden Front in Polen zugeführte Verbänden, wie ihm aus der zurückweichenden Front in Polen zugeführte Verbänden, wie ihm aus der zurückweichenden Front in Polen zugeführte Verbänden, wie ihm aus der zurückweichenden Front in Polen zugeführte Verbänden, wie ihm aus der zurückweichenden Front in Polen zugeführte Verbänden, wie ihm aus der zurückweichenden Front in Polen zugeführte Verbänden, wie ihm aus der zurückweichenden Front in Polen zugeführte Verbänden, wie ihm aus der zurückweichenden Front in Polen zugeführte Verbänden, wie ihm aus der zurückweichenden Front in Polen zugeführte Verbänden, wie ihm aus der zurückweichenden Front in Polen zugeführte Verbänden, wie ihm aus der zurückweichenden Front in Polen zugeführte Verbänden, wie ihm aus der zurückweichenden Front in Polen zugeführte Verbänden, wie ihm aus der zurückweichenden Front in Polen zugeführte Verbänden, wie ihm aus der zurückweichenden Front in Polen zugeführte Verbänden, wie ihm aus der zurückweichenden Front in Polen zugeführte Verbänden, wie ihm aus der zurückweichenden Front in Polen zugeführte Verbänden, wie ihm aus der zurückweichenden Front in Polen zugeführte Verbänden, wie ihm aus der zurückweichenden Front in Polen zugeführte Verbänden, wie ihm aus der zurückweichenden Front in Polen zugeführte Verbänden, wie ihm aus der zurückweichenden Front in Polen zugeführte Verbänden, wie ihm aus der zurückweichenden Front in Polen zugeführte Verbänden, wie ihm aus der zurückweichenden Front in Polen zugeführte Verbänden, wie ihm aus der zurückweichenden Front in Polen zugeführte Verbänden, wie ihm aus der zurückweichenden Front in Polen zugeführte Verbänden, wie ihm aus der zurückweichenden Front in Polen zugeführte Verbänden, wie ihm aus der zurückweichenden Front in Polen zugeführte Verbänden, wie ihm aus der zurückweichenden Front in Polen zugeführte Verbänden, wie ihm aus der zurückweichenden Front in Polen zugeführte Verbänden, wie ihm aus der zurückweichenden Front in Polen zugeführte Verbänden, wie ihm aus der zurückweichenden Front in Polen zugeführte Verbänden, wie ihm aus der zurückweichenden Front in Polen zugeführte Verbänden, wie ihm aus der zurückweichenden Front in Polen zugeführte Verbänden, wie ihm aus der zurückweichenden Front in Polen zugeführte Verbänden, wie ihm aus der zurückweichenden Front in Polen zugeführte Verbänden, wie ihm aus der zurückweichenden Front in Polen zugeführte Verbänden, wie ihm aus der zurückweichenden Front in Polen zugeführte Verbänden, wie ihm aus der zurückweichenden Front in Polen zugeführte Verbänden, wie ihm aus der zurückweichenden Front in Polen zugeführte Verbänden, wie ihm aus der zurückweichenden Front in Polen zugeführte Verbänden, wie ihm aus der zurückweichenden Front in Polen zugeführte Verbänden, wie ihm aus der zurückweichenden Front in Polen zugeführte Verbänden, wie ihm aus der zurückweichenden Front in Polen zugeführte Verbänden, wie ihm aus der zurückweichenden Front in Polen zugeführte Verbänden, wie ihm aus der zurückweichenden Front in Polen zugeführte Verbänden, wie ihm aus der zurückweichenden Front in Polen zugeführte Verbänden, wie ihm aus der zurückweichenden Front in Polen zugeführte Verbänden, wie ihm aus der zurückweichenden Front in Polen zugeführte Verbänden, wie ihm aus der zurückweichenden Front in Polen zugeführte Verbänden, wie ihm aus der zurückweichenden Front in Polen zugeführte Verbänden, wie ihm aus der zurückweichenden Front in Polen zugeführte Verbänden, wie ihm aus der zurückweichenden Front in Polen zugeführte Verbänden, wie ihm aus der zurückweichenden Front in Polen zugeführte Verbänden, wie ihm aus der zurückweichenden Front in Polen zugeführte Verbänden, wie ihm aus der zurückweichenden Front in Polen zugeführte Verbänden, wie ihm aus der zurückweichenden Front in Polen zugeführte Verbänden, wie ihm aus der zurückweichenden Front in Polen zugeführte Verbänden, wie ihm aus der zurückweichenden Front in Polen zugeführte Verbänden, wie ihm aus der zurückweichenden Front in Polen zugeführte Verbänden, wie ihm aus der zurückweichenden Front in Polen zugeführte Verbänden, wie ihm aus der zurückweichenden Front in Polen zugeführte Verbänden, wie ihm aus der zurückweichenden Front in Polen zugeführte Verbänden, wie ihm aus der zurückweichenden Front in Polen zugeführte Verbänden, wie ihm aus der zurückweichenden Front in Polen zugeführte Verbänden, wie ihm aus der zurückweichenden Front in Polen zugeführte Verbänden, wie ihm aus der zurückweichenden Front in Polen zugeführte Verbänden, wie ihm aus der zurückweichenden Front in Polen zugeführte Verbänden, wie ihm aus der zurückweichenden Front in Polen zugeführte Verbänden, wie ihm aus der zurückweichenden Front in Polen zugeführte Verbänden, wie ihm aus der zurückweichenden Front in Polen zugeführte Verbänden, wie ihm aus der zurückweichenden Front in Polen zugeführte Verbänden, wie ihm aus der zurückweichenden Front in Polen zugeführte Verbänden, wie ihm aus der zurückweichenden Front in Polen zugeführte Verbänden, wie ihm aus der zurückweichenden Front in Polen zugeführte Verbänden, wie ihm aus der zurückweichenden Front in Polen zugeführte Verbänden, wie ihm aus der zurückweichenden Front in Polen zugeführte Verbänden, wie ihm aus der zurückweichenden Front in Polen zugeführte Verbänden, wie ihm aus der zurückweichenden Front in Polen zugeführte Verbänden, wie ihm aus der zurückweichenden Front in Polen zugeführte Verbänden, wie ihm aus der zurückweichenden Front in Polen zugeführte Verbänden, wie ihm aus der zurückweichenden Front in Polen zugeführte Verbänden, wie ihm aus der zurückweichenden Front in Polen zugeführte Verbänden, wie ihm aus der zurückweichenden Front in Polen zugeführte Verbänden, wie ihm aus der zurückweichenden Front in Polen zugeführte Verbänden, wie ihm aus der zurückweichenden Front in Polen zugeführte Verbänden, wie ihm aus der zurückweichenden Front in Polen zugeführte Verbänden, wie ihm aus der zurückweichenden Front in Polen zugeführte Verbänden, wie ihm aus der zurückweichenden Front in Polen zugeführte Verbänden, wie ihm aus der zurückweichenden Front in Polen zugeführte Verbänden, wie ihm aus der zurückweichenden Front in Polen zugeführte Verbänden, wie ihm aus der zurückweichenden Front in Polen zugeführte Verbänden, wie ihm aus der zurückweichenden Front in Polen zugeführte Verbänden, wie ihm aus der zurückweichenden Front in Polen zugeführte Verbänden, wie ihm aus der zurückweichenden Front in Polen zugeführte Verbänden, wie ihm aus der zurückweichenden Front in Polen zugeführte Verbänden, wie ihm aus der zurückweichenden Front in Polen zugeführte Verbänden, wie ihm aus der zurückweichenden Front in Polen zugeführte Verbänden, wie ihm aus der zurückweichenden Front in Polen zugeführte Verbänden, wie ihm aus der zurückweichenden Front in Polen zugeführte Verbänden, wie ihm aus der zurückweichenden Front in Polen zugeführte Verbänden, wie ihm aus der zurückweichenden Front in Polen zugeführte Verbänden, wie ihm aus der zurückweichenden Front in Polen zugeführte Verbänden, wie ihm aus der zurückweichenden Front in Polen zugeführte Verbänden,'\n"
     ]
    }
   ],
   "source": [
    "for i, fname in enumerate(fnames):\n",
    "    start = time.time()\n",
    "\n",
    "    pageno = re.search(r'page_(.*?)\\.pdf', fname, re.DOTALL).group(1)\n",
    "    print(f\"\\n{'>'*10} page:{pageno} (i:{i}/{len(fnames)-1}) \", end=\"\")\n",
    "    if int(pageno) not in [525, 535]:\n",
    "        continue\n",
    "    \n",
    "    raw_text, raw_german_text, german_text, english_text = single_page(fname, model_name, headers, plotter, pageno)\n",
    "    \n",
    "    german_texts[pageno] = german_text\n",
    "    english_texts[pageno] = english_text\n",
    "    delta = time.time() - start \n",
    "    total_time += delta\n",
    "    print(f\"[time:{delta:.2f}sec] [TotalRuntime:{int(total_time//60)} mins {(total_time - int(total_time//60)*60):.2f} sec] {'>'*10}\\n\")\n",
    "    print(raw_text)\n"
   ]
  },
  {
   "cell_type": "code",
   "execution_count": null,
   "id": "c02a6a8c-1a23-4890-a5b4-dab2a75cdac1",
   "metadata": {},
   "outputs": [],
   "source": [
    "english_texts.k"
   ]
  },
  {
   "cell_type": "code",
   "execution_count": 82,
   "id": "4bf5d876-6b9a-40ab-88f8-7d3763670e53",
   "metadata": {},
   "outputs": [],
   "source": [
    "folder_name = 'third_attempt'\n",
    "with open(f'../output/{folder_name}/english_texts.json', 'r') as f:\n",
    "    english_texts = json.load( f)\n",
    "with open(f'../output/{folder_name}/german_texts.json', 'r') as f:\n",
    "    german_texts = json.load( f)\n"
   ]
  },
  {
   "cell_type": "code",
   "execution_count": 87,
   "id": "420883ef",
   "metadata": {},
   "outputs": [],
   "source": [
    "# save json outputs\n",
    "folder_name = 'third_attempt'\n",
    "with open(f'../output/{folder_name}/english_texts.json', 'w') as f:\n",
    "    json.dump(english_texts, f)\n",
    "with open(f'../output/{folder_name}/german_texts.json', 'w') as f:\n",
    "    json.dump(german_texts, f)\n",
    "\n",
    "doc1, fname1 = save_document(german_texts, folder_name, language='German')\n",
    "doc2, fname2 = save_document(english_texts, folder_name, language='English')\n"
   ]
  },
  {
   "cell_type": "markdown",
   "id": "ac63eac8",
   "metadata": {},
   "source": [
    "``` \n",
    "1.  Upload Input folder of pdfs to blob storage.\n",
    "2.  Read file from s3.\n",
    "3.  FFT in y -> (x_hi, x_lo), write half_cropped_image to s3\n",
    "4.  FFT in x -> (y_hi, y_lo), write cropped_image to s3\n",
    "5.  Read cropped image from s3 -> encode_image -> translate and transcribe -> JSON output\n",
    "\n",
    "```\n",
    "\n",
    "### Available models and pricing:\n",
    "```\n",
    "\"gpt-4o-2024-08-06\":\n",
    "    \"price_txt\": \"$2.50 / 1M input tokens\"\n",
    "    \"price_img\": \"$0.001913 / 1500px^2\"\n",
    "    \n",
    "\"gpt-4o-mini-2024-07-18\":\n",
    "    \"price_txt\": \"$0.150 / 1M input tokens\"\n",
    "    \"price_img\": \"$0.003825 / 1500px^2\"\n",
    "    \n",
    "```"
   ]
  },
  {
   "cell_type": "code",
   "execution_count": null,
   "id": "8dcba338",
   "metadata": {},
   "outputs": [],
   "source": []
  },
  {
   "cell_type": "code",
   "execution_count": null,
   "id": "2b7d93ac",
   "metadata": {},
   "outputs": [],
   "source": []
  },
  {
   "cell_type": "code",
   "execution_count": null,
   "id": "5b2c6ef3-08b5-469d-b5b0-7f7ae42ae87b",
   "metadata": {},
   "outputs": [],
   "source": []
  },
  {
   "cell_type": "code",
   "execution_count": null,
   "id": "8c5c423f-4116-470f-b1a8-c1620876d035",
   "metadata": {},
   "outputs": [],
   "source": []
  },
  {
   "cell_type": "code",
   "execution_count": null,
   "id": "af9149e2-dba5-46b8-815b-9c8955527e5a",
   "metadata": {},
   "outputs": [],
   "source": []
  },
  {
   "cell_type": "code",
   "execution_count": null,
   "id": "3d6321e9-6ba9-4947-a11d-1df5ffc915a3",
   "metadata": {},
   "outputs": [],
   "source": []
  },
  {
   "cell_type": "code",
   "execution_count": null,
   "id": "8a52581f-0622-492f-a145-e605f6a74a27",
   "metadata": {},
   "outputs": [],
   "source": []
  },
  {
   "cell_type": "code",
   "execution_count": null,
   "id": "221ddd9b",
   "metadata": {},
   "outputs": [],
   "source": []
  },
  {
   "cell_type": "code",
   "execution_count": null,
   "id": "1ecefe2a",
   "metadata": {},
   "outputs": [],
   "source": []
  }
 ],
 "metadata": {
  "kernelspec": {
   "display_name": "Python 3 (ipykernel)",
   "language": "python",
   "name": "python3"
  },
  "language_info": {
   "codemirror_mode": {
    "name": "ipython",
    "version": 3
   },
   "file_extension": ".py",
   "mimetype": "text/x-python",
   "name": "python",
   "nbconvert_exporter": "python",
   "pygments_lexer": "ipython3",
   "version": "3.10.9"
  }
 },
 "nbformat": 4,
 "nbformat_minor": 5
}
