{
 "cells": [
  {
   "cell_type": "code",
   "execution_count": 27,
   "id": "3fd37c50-412f-4868-a817-ed7ef16f4c69",
   "metadata": {},
   "outputs": [
    {
     "data": {
      "text/plain": [
       "'/Users/ozkansafak/code/fraktur/notebooks'"
      ]
     },
     "execution_count": 27,
     "metadata": {},
     "output_type": "execute_result"
    }
   ],
   "source": [
    "pwd"
   ]
  },
  {
   "cell_type": "code",
   "execution_count": 26,
   "id": "6cd7026f-2a85-4c43-8110-547d0decaa76",
   "metadata": {},
   "outputs": [
    {
     "name": "stdout",
     "output_type": "stream",
     "text": [
      "The autoreload extension is already loaded. To reload it, use:\n",
      "  %reload_ext autoreload\n"
     ]
    },
    {
     "name": "stderr",
     "output_type": "stream",
     "text": [
      "<timed exec>:23: DeprecationWarning: Importing display from IPython.core.display is deprecated since IPython 7.14, please import from IPython.display\n"
     ]
    },
    {
     "data": {
      "text/html": [
       "<style>.container { width:90% !important; }</style>"
      ],
      "text/plain": [
       "<IPython.core.display.HTML object>"
      ]
     },
     "metadata": {},
     "output_type": "display_data"
    },
    {
     "name": "stdout",
     "output_type": "stream",
     "text": [
      "sys.executable: /Users/ozkansafak/code/fraktur/.venv/bin/python3\n",
      "sys.version: 3.10.9 (main, Mar  1 2023, 12:20:14) [Clang 14.0.6 ] \n",
      "\n",
      "CPU times: user 1.69 ms, sys: 1.37 ms, total: 3.06 ms\n",
      "Wall time: 2.29 ms\n"
     ]
    }
   ],
   "source": [
    "%%time\n",
    "%load_ext autoreload\n",
    "%autoreload 2\n",
    "\n",
    "# import standard Python modules\n",
    "import time \n",
    "import numpy as np\n",
    "import os, sys\n",
    "import json\n",
    "import re\n",
    "import glob\n",
    "import openai\n",
    "\n",
    "# # Get the root path of the project\n",
    "sys.path.append(os.path.abspath(\"..\"))\n",
    "\n",
    "# Import necessary modules from your src directory\n",
    "from src.utils import timeit, encode_image, plt\n",
    "from src.processing import compute_log_spectrum_1d, extract_image_bbox, save_images\n",
    "from src.api_requests import construct_payload, send_gpt_request\n",
    "from src.document_generation import save_document\n",
    "from src.api_requests import single_page\n",
    "\n",
    "from IPython.core.display import display, HTML\n",
    "from IPython.display import clear_output\n",
    "display(HTML(\"<style>.container { width:90% !important; }</style>\"))\n",
    "\n",
    "print('sys.executable:', sys.executable)\n",
    "print('sys.version:', sys.version, '\\n')"
   ]
  },
  {
   "cell_type": "markdown",
   "id": "503e18f5",
   "metadata": {},
   "source": [
    "---\n",
    "## Fraktur Translator"
   ]
  },
  {
   "cell_type": "code",
   "execution_count": 3,
   "id": "1f71423f",
   "metadata": {
    "scrolled": true
   },
   "outputs": [],
   "source": [
    "# Set the OpenAI API key from environment variables\n",
    "openai.api_key = os.getenv(\"OPENAI_API_KEY\")\n",
    "\n",
    "# Set the headers for the API request\n",
    "headers = {\n",
    "    \"Content-Type\": \"application/json\",\n",
    "    \"Authorization\": f\"Bearer {openai.api_key}\"\n",
    "}\n",
    "\n",
    "# Select the value of model_name in [\"gpt-4o-2024-08-06\", \"gpt-4o-mini-2024-07-18\"]\n",
    "model_name = \"gpt-4o-2024-08-06\"\n",
    "plotter = False\n",
    "\n",
    "# Folder containing the Fraktur PDF files\n",
    "image_path = \"../data/Der Weltkrieg v8 Chap 4F (in Fraktur)/*pdf\"\n",
    "\n",
    "# Get the list of PDF file paths\n",
    "fnames = sorted(glob.glob(image_path))\n",
    "german_texts = {}\n",
    "english_texts = {}\n",
    "total_time = 0 "
   ]
  },
  {
   "cell_type": "code",
   "execution_count": 64,
   "id": "acacd7b9-60c4-4f88-aa8d-600da38fa1cb",
   "metadata": {},
   "outputs": [
    {
     "data": {
      "text/plain": [
       "24"
      ]
     },
     "execution_count": 64,
     "metadata": {},
     "output_type": "execute_result"
    }
   ],
   "source": [
    "480 - 456"
   ]
  },
  {
   "cell_type": "code",
   "execution_count": null,
   "id": "07f4d79c-a54b-43f6-a05e-2348f8aede12",
   "metadata": {
    "scrolled": true
   },
   "outputs": [
    {
     "name": "stdout",
     "output_type": "stream",
     "text": [
      "\n",
      ">>>>>>>>>> page:456 (i:0/83) \n",
      ">>>>>>>>>> page:457 (i:1/83) \n",
      ">>>>>>>>>> page:458 (i:2/83) \n",
      ">>>>>>>>>> page:459 (i:3/83) \n",
      ">>>>>>>>>> page:460 (i:4/83) \n",
      ">>>>>>>>>> page:461 (i:5/83) \n",
      ">>>>>>>>>> page:462 (i:6/83) \n",
      ">>>>>>>>>> page:463 (i:7/83) \n",
      ">>>>>>>>>> page:464 (i:8/83) \n",
      ">>>>>>>>>> page:465 (i:9/83) \n",
      ">>>>>>>>>> page:466 (i:10/83) \n",
      ">>>>>>>>>> page:467 (i:11/83) \n",
      ">>>>>>>>>> page:468 (i:12/83) \n",
      ">>>>>>>>>> page:469 (i:13/83) \n",
      ">>>>>>>>>> page:470 (i:14/83) \n",
      ">>>>>>>>>> page:471 (i:15/83) \n",
      ">>>>>>>>>> page:472 (i:16/83) \n",
      ">>>>>>>>>> page:473 (i:17/83) \n",
      ">>>>>>>>>> page:474 (i:18/83) \n",
      ">>>>>>>>>> page:475 (i:19/83) \n",
      ">>>>>>>>>> page:476 (i:20/83) \n",
      ">>>>>>>>>> page:477 (i:21/83) \n",
      ">>>>>>>>>> page:478 (i:22/83) \n",
      ">>>>>>>>>> page:479 (i:23/83) \n",
      ">>>>>>>>>> page:480 (i:24/83) \n",
      ">>>>>>>>>> page:481 (i:25/83) \n",
      ">>>>>>>>>> page:482 (i:26/83) [time:23.92sec] [TotalRuntime:46 mins 56.74 sec] >>>>>>>>>>\n",
      "\n",
      "<raw_german>\n",
      "Die Operation des Oberbefehlshabers Ost gegen Wilna.\n",
      "der Gegner, der vor der 10. und Njemen-Armee in zusammenhängender, aber nordöstlich von Rowno nur dünn besetzter Front stand, durchbrochen, das heißt einerseits über Wilna nach Südwesten und Süden, andererseits gegen die Düna nach Nordwesten und Norden zurückgeworfen werden, um für die Kavallerie-Divisionen den Weg auf Minsk—Polozk freizumachen. „Es blieb aber die Frage“, so schrieb General Ludendorff weiter, „ob bei den sehr weit nach Osten fortgeschrittenen Rückzug der Russen die Operation jetzt noch gewinnbringend sein konnte. Es war kein Zweifel, daß jeder Tag, um den sie hinausgeschoben wurde, sie weniger aussichtsreich machte. Ich erwog, mich nicht mit einem Stoß über Olita—Orany auf Lida begnügen zu sollen. Ich verwarf dies, weil alle ähnlichen Versuche, zu einer Flankierung zu kommen, in dem vergangenen Sommerfeldzuge zu keinem Erfolge geführt hatten. Somit blieb ich meinem Gedanken bei der großen Operation treu, weil sie noch einen größeren Erfolg haben konnte. Wir waren auch hier gezwungen, in das Ungewisse zu handeln.“ Der Durchbruch selbst mußte der 10. Armee zufallen. Dazu war erforderlich, daß ihre rechte Flanke durch weiteres Vorrücken der 8. und 12. Armee gegen den Feind nördlich der Rokitno-Sümpfe, die linke gegen die Russen an der Düna durch weitere Kräfte gesichert wurde, für deren Antransport die Bahnverhältnisse dort recht günstig lagen. Diese Sicherung mußte Aufgabe der Njemen-Armee sein, die gegen die untere Düna vorzuziehen hatte, während die weit ausgreifenden Kavalleriemassen die Bahnnbenutzung möglichst frühzeitig lahmzulegen hatten. Sie wurden bereits seit Anfang August auf dem Südufer der Njemen-Armee zusammengezogen.\n",
      "Truppen waren in erster Linie der 10. Armee zuzuführen. Der Oberbefehlshaber Ost dachte dabei an Herausziehen von Teilen aus der Verfolgungsfront in Polen. Angesichts der abweichenden Auffassung der Obersten Heeresleitung konnte er sich aber in dieser Hinsicht einstweilen keine großen Hoffnungen machen. Zur erfolgreichen Durchführung der Operation war den zu erwartenden Mehranforderungen des Nachschubs Rechnung zu tragen, wie das der Narew-Feldzug soeben deutlich gezeigt hatte. Diese Vorbereitungen mußten mit erheblicher Verstärkung an Truppen Hand in Hand gehen, denn je mehr die einzusetzenden Kräfte anschwollen und je tiefer und rascher der Stoß geführt werden mußte, um so wirksamer und, wenn möglich, um so mehr mußte sich der Bedarf an Bahnlinien und Transportmitteln für den Nachschub steigern. Diesem Bedürfnisse entsprachen aber die rückwärtigen Verbindungen einstweilen noch in keiner Weise.\n",
      "</raw_german>\n",
      "--------------------------------------------------------------------\n",
      "<german>\n",
      "<header>Die Operation des Oberbefehlshabers Ost gegen Wilna.</header>\n",
      "<body>der Gegner, der vor der 10. und Njemen-Armee in zusammenhängender, aber nordöstlich von Rowno nur dünn besetzter Front stand, durchbrochen, das heißt einerseits über Wilna nach Südwesten und Süden, andererseits gegen die Düna nach Nordwesten und Norden zurückgeworfen werden, um für die Kavallerie-Divisionen den Weg auf Minsk—Polotsk freizumachen. „Es blieb aber die Frage“, so schrieb General Ludendorff weiter, „ob bei den sehr weit nach Osten fortgeschrittenen Rückzug der Russen die Operation jetzt noch gewinnbringend sein konnte. Es war kein Zweifel, daß jeder Tag, um den sie hinausgeschoben wurde, sie weniger aussichtsreich machte. Ich erwog, mich nicht mit einem Stoß über Olita—Orany auf Lida begnügen zu sollen. Ich verwarf dies, weil alle ähnlichen Versuche, zu einer Flankierung zu kommen, in dem vergangenen Sommerfeldzuge zu keinem Erfolge geführt hatten. Somit blieb ich meinem Gedanken bei der großen Operation treu, weil sie noch einen größeren Erfolg haben konnte. Wir waren auch hier gezwungen, in das Ungewisse zu handeln.“ Der Durchbruch selbst mußte der 10. Armee zufallen. Dazu war erforderlich, daß ihre rechte Flanke durch weiteres Vorrücken der 8. und 12. Armee gegen den Feind nördlich der Rokitno-Sümpfe, die linke gegen die Russen an der Düna durch weitere Kräfte gesichert wurde, für deren Antransport die Bahnverhältnisse dort recht günstig lagen. Diese Sicherung mußte Aufgabe der Njemen-Armee sein, die gegen die untere Düna vorzuziehen hatte, während die weit ausgreifenden Kavalleriemassen die Bahnnbenutzung möglichst frühzeitig lahmzulegen hatten. Sie wurden bereits seit Anfang August auf dem Südufer der Njemen-Armee zusammengezogen.\n",
      "Truppen waren in erster Linie der 10. Armee zuzuführen. Der Oberbefehlshaber Ost dachte dabei an Herausziehen von Teilen aus der Verfolgungsfront in Polen. Angesichts der abweichenden Auffassung der Obersten Heeresleitung konnte er sich aber in dieser Hinsicht einstweilen keine großen Hoffnungen machen. Zur erfolgreichen Durchführung der Operation war den zu erwartenden Mehranforderungen des Nachschubs Rechnung zu tragen, wie das der Narew-Feldzug soeben deutlich gezeigt hatte. Diese Vorbereitungen mußten mit erheblicher Verstärkung an Truppen Hand in Hand gehen, denn je mehr die einzusetzenden Kräfte anschwollen und je tiefer und rascher der Stoß geführt werden mußte, um so wirksamer und, wenn möglich, um so mehr mußte sich der Bedarf an Bahnlinien und Transportmitteln für den Nachschub steigern. Diesem Bedürfnisse entsprachen aber die rückwärtigen Verbindungen einstweilen noch in keiner Weise.</body>\n",
      "</german>\n",
      "--------------------------------------------------------------------\n",
      "<english>\n",
      "<header>The Operation of the Eastern Commander-in-Chief against Vilna.</header>\n",
      "<body>The enemy, who stood before the 10th and Njemen Army in a continuous but thinly occupied front northeast of Rovno, was to be broken through, that is, on the one hand, pushed back over Vilna to the southwest and south, and on the other hand, against the Dvina to the northwest and north, to clear the way for the cavalry divisions towards Minsk—Polotsk. \"But the question remained,\" General Ludendorff continued, \"whether the operation could still be profitable given the Russians' very advanced retreat to the east. There was no doubt that every day it was postponed made it less promising. I considered not being content with a thrust over Olita—Orany to Lida. I rejected this because all similar attempts to achieve a flanking maneuver in the past summer campaign had led to no success. Thus, I remained true to my idea of the major operation, as it could still achieve a greater success. We were also forced here to act in uncertainty.\" The breakthrough itself had to fall to the 10th Army. For this, it was necessary that its right flank be secured by further advances of the 8th and 12th Army against the enemy north of the Rokitno Swamps, and the left against the Russians on the Dvina by additional forces, for whose transport the railway conditions there were quite favorable. This securing had to be the task of the Njemen Army, which had to advance against the lower Dvina, while the far-reaching cavalry masses had to paralyze the use of the railways as early as possible. They had already been concentrated on the southern bank of the Njemen Army since the beginning of August.\n",
      "Troops were to be brought primarily to the 10th Army. The Eastern Commander-in-Chief was considering withdrawing parts from the pursuit front in Poland. In view of the differing views of the Supreme Army Command, he could not have any great hopes in this regard for the time being. To successfully carry out the operation, the expected additional demands of the supply had to be taken into account, as the Narew campaign had just clearly shown. These preparations had to go hand in hand with a significant reinforcement of troops, because the more the forces to be deployed swelled and the deeper and faster the thrust had to be carried out, the more effective and, if possible, the more the need for railway lines and transport means for the supply had to increase. However, the rear connections did not yet meet this need in any way.</body>\n",
      "</english>\n",
      "\n",
      ">>>>>>>>>> page:483 (i:27/83) \n",
      ">>>>>>>>>> page:484 (i:28/83) \n",
      ">>>>>>>>>> page:485 (i:29/83) \n",
      ">>>>>>>>>> page:486 (i:30/83) [time:24.48sec] [TotalRuntime:47 mins 21.21 sec] >>>>>>>>>>\n",
      "\n",
      "<raw_german>\n",
      "Wirkung zu bringen, setzte es Generaloberst von Eichhorn nunmehr auf dem westlichen Njemen-Ufer nach Norden in Marsch, damit es nördlich von Preny das Inufer gewinne.\n",
      "Inzwischen wich der Gegner auf diesem Ufer vor der Gruppe Litzmann weiter aus. Auf dem äußersten Nordflügel überschritten die 4. und 1. Kavallerie-Division nebst Abteilung Esebeck, jetzt unter einheitlicher Leitung des inzwischen neu aufgestellten Höheren Kavalleriekommandeurs 6, Generallutnants von Garnier, am 24. August die Wilia und nahmen nordwärts Anschluß an den westlich von Wilkomierz stehenden Südflügel der Njemen-Armee.\n",
      "Am 25. August wurde das Kavalleriekorps Garnier zum Vorgehen auf dem rechten Wilia-Ufer gegen Wilna angesetzt, wo der russische Widerstand einweilen nur schwach zu sein schien. General Litzmann hielt es daher für aussichtsvoll, seine drei nördlichen Divisionen ebenfalls über die Wilia zu führen, um auch mit ihnen, von Norden umfassend gegen Wilna vorzugehen. Generaloberst von Eichhorn, dessen Hauptquartier seit dem 23. August nach Kowno vorverlegt worden war, lehnte dieses Vorhaben aber ab, da es \"eine Zersplitterung der Armee unter zu starker Schwächung der südlich der Wilia im Kampf stehenden Kräfte ergeben\" hätte, ohne die Gewähr schnellen Fortschreitens nördlich der Wilia zu bieten. \"Vorgehen südlich an Wilna vorbei mit versammelter Kraft unter Deckung der Nordflanke nördlich der Wilia\" durch das Kavalleriekorps machte nach Ansicht des Armee-Oberkommandos zu schnellerem und gesichertem Fortschreiten führen. \"Dabei wurde nicht verkannt, daß bei Verfügbarkeit weiterer Kräfte ein Vorstoß nördlich Wilna vermehrte Hoffnung auf zeitgerechtes Vorlegen vor die zurückgehenden feindlichen Hauptkräfte gegeben hätte.\" Es wurde befohlen: \"Der Umfassungsflügel bleibt südlich der Wilia.\"\n",
      "Am 26. August näherte sich die Gruppe Litzmann in der Verfolgung bereits dem Sengebiet von Troki-Nowe, wo sie etwa 30 Kilometer westlich von Wilna auf starken Widerstand stieß. Links daneben war nördlich von der Wilia das Kavalleriekorps Garnier bis auf gleiche Höhe vorwärtsgekommen, hatte aber seine 4. Kavallerie-Division stark zurückhalten müssen, um die nach Nordosten weitgedehnte offene Flanke zu sichern, in der die bereits 3. Kavallerie-Division der Njemen-Armee an diesem Tage erst Wilkomierz nahm. Rechts von der Gruppe Litzmann hatte das XXI. Armeekorps unter Generallutnant von Hutier, mit den Hauptkräften\n",
      "1) S. 535.\n",
      "2) Eintragung im Kriegstagebuch des Oberkommandos 10 vom 25. August 1915.\n",
      "</raw_german>\n",
      "--------------------------------------------------------------------\n",
      "<german>\n",
      "<body>Wirkung zu bringen, setzte es Generaloberst von Eichhorn nunmehr auf dem westlichen Njemen-Ufer nach Norden in Marsch, damit es nördlich von Preny das Inufer gewinne.\n",
      "Inzwischen wich der Gegner auf diesem Ufer vor der Gruppe Litzmann weiter aus. Auf dem äußersten Nordflügel überschritten die 4. und 1. Kavallerie-Division nebst Abteilung Esebeck, jetzt unter einheitlicher Leitung des inzwischen neu aufgestellten Höheren Kavalleriekommandeurs 6, Generallutnants von Garnier, am 24. August die Wilia und nahmen nordwärts Anschluß an den westlich von Wilkomierz stehenden Südflügel der Njemen-Armee.\n",
      "Am 25. August wurde das Kavalleriekorps Garnier zum Vorgehen auf dem rechten Wilia-Ufer gegen Wilna angesetzt, wo der russische Widerstand einweilen nur schwach zu sein schien. General Litzmann hielt es daher für aussichtsvoll, seine drei nördlichen Divisionen ebenfalls über die Wilia zu führen, um auch mit ihnen, von Norden umfassend gegen Wilna vorzugehen. Generaloberst von Eichhorn, dessen Hauptquartier seit dem 23. August nach Kowno vorverlegt worden war, lehnte dieses Vorhaben aber ab, da es \"eine Zersplitterung der Armee unter zu starker Schwächung der südlich der Wilia im Kampf stehenden Kräfte ergeben\" hätte, ohne die Gewähr schnellen Fortschreitens nördlich der Wilia zu bieten. \"Vorgehen südlich an Wilna vorbei mit versammelter Kraft unter Deckung der Nordflanke nördlich der Wilia\" durch das Kavalleriekorps machte nach Ansicht des Armee-Oberkommandos zu schnellerem und gesichertem Fortschreiten führen. \"Dabei wurde nicht verkannt, daß bei Verfügbarkeit weiterer Kräfte ein Vorstoß nördlich Wilna vermehrte Hoffnung auf zeitgerechtes Vorlegen vor die zurückgehenden feindlichen Hauptkräfte gegeben hätte.\" Es wurde befohlen: \"Der Umfassungsflügel bleibt südlich der Wilia.\"\n",
      "Am 26. August näherte sich die Gruppe Litzmann in der Verfolgung bereits dem Sengebiet von Troki-Nowe, wo sie etwa 30 Kilometer westlich von Wilna auf starken Widerstand stieß. Links daneben war nördlich von der Wilia das Kavalleriekorps Garnier bis auf gleiche Höhe vorwärtsgekommen, hatte aber seine 4. Kavallerie-Division stark zurückhalten müssen, um die nach Nordosten weitgedehnte offene Flanke zu sichern, in der die bereits 3. Kavallerie-Division der Njemen-Armee an diesem Tage erst Wilkomierz nahm. Rechts von der Gruppe Litzmann hatte das XXI. Armeekorps unter Generallutnant von Hutier, mit den Hauptkräften</body>\n",
      "<footer>1) S. 535.\n",
      "2) Eintragung im Kriegstagebuch des Oberkommandos 10 vom 25. August 1915.</footer>\n",
      "</german>\n",
      "--------------------------------------------------------------------\n",
      "<english>\n",
      "<body>To bring about an effect, Generaloberst von Eichhorn now marched north on the western Njemen bank, so that it would gain the bank north of Preny.\n",
      "Meanwhile, the enemy continued to retreat on this bank before the Litzmann group. On the extreme northern flank, the 4th and 1st Cavalry Divisions, along with the Esebeck detachment, now under the unified command of the newly established Higher Cavalry Commander 6, Lieutenant General von Garnier, crossed the Wilia on August 24 and made a northern connection to the southern flank of the Njemen Army standing west of Wilkomierz.\n",
      "On August 25, the Garnier Cavalry Corps was set to advance on the right Wilia bank against Wilna, where the Russian resistance seemed temporarily weak. General Litzmann therefore considered it promising to also lead his three northern divisions across the Wilia, in order to advance comprehensively from the north against Wilna with them. Generaloberst von Eichhorn, whose headquarters had been moved forward to Kowno since August 23, rejected this plan, as it would have \"resulted in a fragmentation of the army with too much weakening of the forces fighting south of the Wilia,\" without guaranteeing rapid progress north of the Wilia. \"Advancing south past Wilna with assembled force under cover of the northern flank north of the Wilia\" by the Cavalry Corps was considered by the Army High Command to lead to faster and more secure progress. \"It was not overlooked that, with the availability of additional forces, an advance north of Wilna would have given increased hope of timely positioning before the retreating enemy main forces.\" It was ordered: \"The encircling wing remains south of the Wilia.\"\n",
      "On August 26, the Litzmann group, in pursuit, was already approaching the Troki-Nowe area, where it encountered strong resistance about 30 kilometers west of Wilna. To the left, north of the Wilia, the Garnier Cavalry Corps had advanced to the same level, but had to hold back its 4th Cavalry Division significantly to secure the open flank extended far to the northeast, where the already 3rd Cavalry Division of the Njemen Army only took Wilkomierz on this day. To the right of the Litzmann group, the XXI Army Corps under Lieutenant General von Hutier, with the main forces</body>\n",
      "<footer>1) p. 535.\n",
      "2) Entry in the war diary of the High Command 10 from August 25, 1915.</footer>\n",
      "</english>\n",
      "\n",
      ">>>>>>>>>> page:487 (i:31/83) [time:29.24sec] [TotalRuntime:47 mins 50.45 sec] >>>>>>>>>>\n",
      "\n",
      "<raw_german>\n",
      "Vormarsch der 10. Armee auf Wilna.\n",
      "Jetzt bereits auf dem östlichen Njemen-Ufer, die Gegend nördlich von Ditta erreicht, heißen westlich des Stromes gelegene Werke, vier ältere Forts, von den Russen verlassen und schon in deutscher Hand waren. Von diesem Hauptkräften der Armee durch 25 Kilometer Zwischenraum getrennt, hatte der auf drei Divisionen verstärkte Südflügel in der Richtung auf den Flussbogen von Merecz und im Augustower Walde weiter Raum gewinnen können. Alles in allem vollzog sich dieses Vorgehen auf der ganzen Armee- front unter dauernden Kämpfen, wobei der Gegner verhältnismäßig viel Artillerie zeigte, darunter auch schwere.\n",
      "Der Oberbefehlshaber Ost hatte bereits damit gerechnet, daß die Russen weiter langsam hinter den Njemen ausweichen und möglichst zahlreiche Kräfte nach Norden verschieben würden. Um so mehr bedauerte er, gegen Wilna nicht schon stärker zu sein; auf die bei Nowo- georgiewsk freigewordenen Kräfte war erst in diesen Tagen zu rechnen. Inzwischen konnte er am 26. August, „um den Druck des linken Flügels der 10. Armee zu erhöhen“, deren weitere Verstärkung durch drei Divisionen der 12. und 8. Armee anordnen, nachdem die Aussicht, bei diesen Armeen noch Größeres zu erreichen, so weit gesunken war, daß auch die Oberste Heeresleitung gegen die Abgabe keinen Einspruch mehr erhob. Er legte die weiteren Aufgaben des linken Heeresflügels in einem Heeres- gruppen-Befehl nochmals fest: „10. Armee drängt mit ihren Sicher- ungen gegen Grodno gegen Bahnlinie Bahnlysch Drang Wilna vor. Njemen-Armee deckt weiterhin die Flanke des Heeres. Sie schiebt ihren äußersten rechten Flügel über die Swjenta und ihren linken möglichst bis an die Düna vor“.\n",
      "Zur 10. Armee rollten inzwischen von Nowogeorgiewsk her das Generalkommando des III. Reservekorps, die 87. und 89. Infanterie- und 14. Landwehr-Division an, außerdem einige kleinere Verstärkungen. Generaloberst von Eichhorn übertrug dem Generalkommando des III. Reservekorps mit 2½ Divisionen des Südflügels (16. Landwehr-, 89. In- fanterie-Division, 6. Landwehr-Brigade) die Einschließung der Festung Grodno (gegen die jetzt südlich des Bobr auf Dombrowo auch der linke Flügel der 8. Armee im Anrücken war). Die bisher auf Merecz angesetzte 77. Reserve-Division und die neu eingetroffene 87. Infanterie-\n",
      "1) Nach Aufzeichnungen des Hauptmanns von Waldow vom 22. August 1915. S. 367... S. 534.\n",
      "4) Für General von Beseler, der inzwischen Generalgouverneur des General- gouvernements Warschau geworden war (S. 351), wurde an diesem Tage General von Carlowitz zum Chef des Generalstabs ernannt.\n",
      "5) S. 364 ff. und 495.\n",
      "</raw_german>\n",
      "--------------------------------------------------------------------\n",
      "<german>\n",
      "<header>Vormarsch der 10. Armee auf Wilna.</header>\n",
      "<body>Jetzt bereits auf dem östlichen Njemen-Ufer, die Gegend nördlich von Ditta erreicht, heißen westlich des Stromes gelegene Werke, vier ältere Forts, von den Russen verlassen und schon in deutscher Hand waren. Von diesem Hauptkräften der Armee durch 25 Kilometer Zwischenraum getrennt, hatte der auf drei Divisionen verstärkte Südflügel in der Richtung auf den Flussbogen von Merecz und im Augustower Walde weiter Raum gewinnen können. Alles in allem vollzog sich dieses Vorgehen auf der ganzen Armee- front unter dauernden Kämpfen, wobei der Gegner verhältnismäßig viel Artillerie zeigte, darunter auch schwere.\n",
      "Der Oberbefehlshaber Ost hatte bereits damit gerechnet, daß die Russen weiter langsam hinter den Njemen ausweichen und möglichst zahlreiche Kräfte nach Norden verschieben würden. Um so mehr bedauerte er, gegen Wilna nicht schon stärker zu sein; auf die bei Nowo- georgiewsk freigewordenen Kräfte war erst in diesen Tagen zu rechnen. Inzwischen konnte er am 26. August, „um den Druck des linken Flügels der 10. Armee zu erhöhen“, deren weitere Verstärkung durch drei Divisionen der 12. und 8. Armee anordnen, nachdem die Aussicht, bei diesen Armeen noch Größeres zu erreichen, so weit gesunken war, daß auch die Oberste Heeresleitung gegen die Abgabe keinen Einspruch mehr erhob. Er legte die weiteren Aufgaben des linken Heeresflügels in einem Heeres- gruppen-Befehl nochmals fest: „10. Armee drängt mit ihren Sicher- ungen gegen Grodno gegen Bahnlinie Bahnlysch Drang Wilna vor. Njemen-Armee deckt weiterhin die Flanke des Heeres. Sie schiebt ihren äußersten rechten Flügel über die Swjenta und ihren linken möglichst bis an die Düna vor“.\n",
      "Zur 10. Armee rollten inzwischen von Nowogeorgiewsk her das Generalkommando des III. Reservekorps, die 87. und 89. Infanterie- und 14. Landwehr-Division an, außerdem einige kleinere Verstärkungen. Generaloberst von Eichhorn übertrug dem Generalkommando des III. Reservekorps mit 2½ Divisionen des Südflügels (16. Landwehr-, 89. In- fanterie-Division, 6. Landwehr-Brigade) die Einschließung der Festung Grodno (gegen die jetzt südlich des Bobr auf Dombrowo auch der linke Flügel der 8. Armee im Anrücken war). Die bisher auf Merecz angesetzte 77. Reserve-Division und die neu eingetroffene 87. Infanterie-</body>\n",
      "<footer>1) Nach Aufzeichnungen des Hauptmanns von Waldow vom 22. August 1915. S. 367... S. 534.\n",
      "4) Für General von Beseler, der inzwischen Generalgouverneur des General- gouvernements Warschau geworden war (S. 351), wurde an diesem Tage General von Carlowitz zum Chef des Generalstabs ernannt.\n",
      "5) S. 364 ff. und 495.</footer>\n",
      "</german>\n",
      "--------------------------------------------------------------------\n",
      "<english>\n",
      "<header>Advance of the 10th Army on Vilnius.</header>\n",
      "<body>Now already on the eastern Njemen bank, having reached the area north of Ditta, the works located west of the river, four older forts, were abandoned by the Russians and were already in German hands. Separated from these main forces of the army by a 25-kilometer gap, the southern wing, reinforced by three divisions, was able to gain further ground in the direction of the Merecz river bend and in the Augustów forest. All in all, this advance took place across the entire army front under continuous fighting, with the enemy showing a relatively large amount of artillery, including heavy ones.\n",
      "The Commander-in-Chief East had already anticipated that the Russians would continue to slowly retreat behind the Njemen and possibly shift numerous forces northward. He regretted all the more not being stronger against Vilnius; the forces freed up at Nowogeorgiewsk were only to be counted on in these days. Meanwhile, on August 26, he was able to order further reinforcement of the 10th Army's left wing by three divisions of the 12th and 8th Armies, after the prospect of achieving something greater with these armies had diminished to the point that even the Supreme Army Command no longer raised any objections to the transfer. He reiterated the further tasks of the left army wing in an army group order: \"10th Army pushes with its security forces against Grodno towards the railway line Bahnlysch Drang Vilnius. Njemen Army continues to cover the flank of the army. It pushes its outermost right wing over the Swjenta and its left as far as possible to the Dvina.\"\n",
      "Meanwhile, the command of the III Reserve Corps, the 87th and 89th Infantry and 14th Landwehr Divisions, as well as some smaller reinforcements, were rolling towards the 10th Army from Nowogeorgiewsk. Generaloberst von Eichhorn entrusted the command of the III Reserve Corps with 2½ divisions of the southern wing (16th Landwehr, 89th Infantry Division, 6th Landwehr Brigade) with the encirclement of the fortress Grodno (against which the left wing of the 8th Army was also advancing south of the Bobr towards Dombrowo). The 77th Reserve Division, previously assigned to Merecz, and the newly arrived 87th Infantry-</body>\n",
      "<footer>1) According to the records of Captain von Waldow from August 22, 1915. p. 367... p. 534.\n",
      "4) For General von Beseler, who had meanwhile become the Governor-General of the General Government of Warsaw (p. 351), General von Carlowitz was appointed Chief of the General Staff on this day.\n",
      "5) p. 364 ff. and 495.</footer>\n",
      "</english>\n",
      "\n",
      ">>>>>>>>>> page:488 (i:32/83) \n",
      ">>>>>>>>>> page:489 (i:33/83) \n",
      ">>>>>>>>>> page:490 (i:34/83) \n",
      ">>>>>>>>>> page:491 (i:35/83) [time:25.03sec] [TotalRuntime:48 mins 15.48 sec] >>>>>>>>>>\n",
      "\n",
      "<raw_german>\n",
      "Auseinandersetzungen mit der Obersten Heeresleitung.\n",
      "schwere Artillerie, die in Augustow eintrifft, wird ihr unterstellt. Anschluß nach rechts an 12. Armee; nach links dehnt sie sich bis an den Augustow- Kanal nördlich Sopockinie aus. 10. Armee greift weiter Richtung Druskniki—Wilna an, Schwerpunkt möglichst auf und nördlich Wilna. Niemen-Armee greift vor Friedrichstadt an und deckt weiterhin gegen die obere Düna.\" Damit war der 10. Armee der Angriff auf Grodno abgenommen, so daß sie ihre ganze Kraft gegen Wilna einsetzen konnte. Der Befehl wurde am 30. August dahin ergänzt, daß die 12. und 8. Armee das General kommando des I. Armeekorps nebst 2., 58., 88. Infanterie-, 10. Landwehr- und 9. Kavallerie-Division an die 10. Armee abzugeben hatten, also noch etwas mehr als am 26. August beabsichtigt war, \"um dadurch zu einem möglichst einheitlichen Vorgehen südlich der Sejntara (bei Wilkomierz). Umfassung des feindlichen Flügels nördlich Wilna ist von höchster Bedeutung. Im übrigen bleibt 10. Armee im Angriff, wie unter dem 29. August befohlen, unter Sicherung Niemen-aufwärts bis Druskieniki einschließlich\". Die 16. Landwehr-Division, bisher rechter Flügel der 10. Armee, wurde vorläufig der 8. Armee unterstellt, die Vorbereitungen zu treffen hatte, um demnächst beiderseits von Grodno Brücken über den Niemen zu schlagen.\n",
      "Inzwischen war die Oberste Heeresleitung durch die Absichten der Heeresgruppe Prinz Leopold auf die verschiedene Auffassung über die Dauerstellung aufmerksam geworden und fragte beim Oberbefehlshaber Ost an, wie der Lauf der Dauerstellung im allgemeinen beabsichtigt sei. Dieser antwortete: \"Falls Oberste Heeresleitung Festhalten an Narewta-Mündung befiehlt, habe ich keine Wahl. Als Stellung kommt nach dem Fall von Grodno und Wilna allein die Linie Narewta- Mündung—Wilna—Niemen—Mitau in Betracht. Ich kann aber diese Stellung nicht empfehlen, da sie an einzelnen Stellen mit einem dauernden Zurückführen der Armee verbunden sein würde, falls die Operation, wie von der Obersten Heeresleitung in Aussicht genommen und wie es dringend erforderlich ist, fortgesetzt wird, um den Russen endgültig zu schlagen.\" Welche Linie dann in Frage käme, könne noch nicht übersehen werden. Für den rechten Flügel werde aber der Narewta—Szczara-Abschnitt nicht mehr Truppen erfordern als die bisher vorgesehene Stellung.\n",
      "\"Den Russen endgültig zu schlagen\" hatte General von Falkenhayn allerdings nicht in Aussicht genommen. Im übrigen hielt er an der einmal getroffenen Entscheidung fest, wollte aber auch den Oberbefehlshaber\n",
      "</raw_german>\n",
      "--------------------------------------------------------------------\n",
      "<german>\n",
      "<header>Auseinandersetzungen mit der Obersten Heeresleitung.</header>\n",
      "<body>schwere Artillerie, die in Augustow eintrifft, wird ihr unterstellt. Anschluß nach rechts an 12. Armee; nach links dehnt sie sich bis an den Augustow- Kanal nördlich Sopockinie aus. 10. Armee greift weiter Richtung Druskniki—Wilna an, Schwerpunkt möglichst auf und nördlich Wilna. Niemen-Armee greift vor Friedrichstadt an und deckt weiterhin gegen die obere Düna.\" Damit war der 10. Armee der Angriff auf Grodno abgenommen, so daß sie ihre ganze Kraft gegen Wilna einsetzen konnte. Der Befehl wurde am 30. August dahin ergänzt, daß die 12. und 8. Armee das General kommando des I. Armeekorps nebst 2., 58., 88. Infanterie-, 10. Landwehr- und 9. Kavallerie-Division an die 10. Armee abzugeben hatten, also noch etwas mehr als am 26. August beabsichtigt war, \"um dadurch zu einem möglichst einheitlichen Vorgehen südlich der Sejntara (bei Wilkomierz). Umfassung des feindlichen Flügels nördlich Wilna ist von höchster Bedeutung. Im übrigen bleibt 10. Armee im Angriff, wie unter dem 29. August befohlen, unter Sicherung Niemen-aufwärts bis Druskieniki einschließlich\". Die 16. Landwehr-Division, bisher rechter Flügel der 10. Armee, wurde vorläufig der 8. Armee unterstellt, die Vorbereitungen zu treffen hatte, um demnächst beiderseits von Grodno Brücken über den Niemen zu schlagen.\n",
      "Inzwischen war die Oberste Heeresleitung durch die Absichten der Heeresgruppe Prinz Leopold auf die verschiedene Auffassung über die Dauerstellung aufmerksam geworden und fragte beim Oberbefehlshaber Ost an, wie der Lauf der Dauerstellung im allgemeinen beabsichtigt sei. Dieser antwortete: \"Falls Oberste Heeresleitung Festhalten an Narewta-Mündung befiehlt, habe ich keine Wahl. Als Stellung kommt nach dem Fall von Grodno und Wilna allein die Linie Narewta- Mündung—Wilna—Niemen—Mitau in Betracht. Ich kann aber diese Stellung nicht empfehlen, da sie an einzelnen Stellen mit einem dauernden Zurückführen der Armee verbunden sein würde, falls die Operation, wie von der Obersten Heeresleitung in Aussicht genommen und wie es dringend erforderlich ist, fortgesetzt wird, um den Russen endgültig zu schlagen.\" Welche Linie dann in Frage käme, könne noch nicht übersehen werden. Für den rechten Flügel werde aber der Narewta—Szczara-Abschnitt nicht mehr Truppen erfordern als die bisher vorgesehene Stellung.\n",
      "\"Den Russen endgültig zu schlagen\" hatte General von Falkenhayn allerdings nicht in Aussicht genommen. Im übrigen hielt er an der einmal getroffenen Entscheidung fest, wollte aber auch den Oberbefehlshaber</body>\n",
      "</german>\n",
      "--------------------------------------------------------------------\n",
      "<english>\n",
      "<header>Conflicts with the Supreme Army Command.</header>\n",
      "<body>Heavy artillery arriving in Augustow is subordinated to it. Connection to the right with the 12th Army; to the left, it extends to the Augustow Canal north of Sopockinie. The 10th Army continues to advance towards Druskniki—Wilna, with the main focus as much as possible on and north of Wilna. The Niemen Army attacks in front of Friedrichstadt and continues to cover against the upper Dvina.\" Thus, the 10th Army was relieved of the attack on Grodno, allowing it to concentrate all its strength against Wilna. The order was supplemented on August 30, stating that the 12th and 8th Armies had to transfer the General Command of the I Army Corps along with the 2nd, 58th, 88th Infantry, 10th Landwehr, and 9th Cavalry Divisions to the 10th Army, slightly more than intended on August 26, \"to achieve a unified approach south of the Sejntara (near Wilkomierz). Enveloping the enemy's flank north of Wilna is of utmost importance. Otherwise, the 10th Army remains on the offensive, as ordered on August 29, securing upwards along the Niemen to Druskieniki inclusive.\" The 16th Landwehr Division, previously the right wing of the 10th Army, was temporarily subordinated to the 8th Army, which had to prepare to soon build bridges over the Niemen on both sides of Grodno.\n",
      "Meanwhile, the Supreme Army Command became aware of the different views on the permanent position through the intentions of Army Group Prince Leopold and inquired with the Eastern Commander-in-Chief about the general course of the permanent position. He replied: \"If the Supreme Army Command orders holding at the Narewta estuary, I have no choice. As a position, only the line Narewta estuary—Wilna—Niemen—Mitau comes into consideration after the fall of Grodno and Wilna. However, I cannot recommend this position, as it would involve a permanent withdrawal of the army at certain points if the operation, as envisaged by the Supreme Army Command and as urgently necessary, is continued to finally defeat the Russians.\" Which line would then be considered cannot yet be foreseen. For the right wing, however, the Narewta—Szczara section will not require more troops than the previously planned position.\n",
      "\"To finally defeat the Russians\" was not envisaged by General von Falkenhayn. Otherwise, he adhered to the decision once made, but also wanted the Commander-in-Chief</body>\n",
      "</english>\n",
      "\n",
      ">>>>>>>>>> page:492 (i:36/83) \n",
      ">>>>>>>>>> page:493 (i:37/83) \n",
      ">>>>>>>>>> page:494 (i:38/83) \n",
      ">>>>>>>>>> page:495 (i:39/83) [time:26.13sec] [TotalRuntime:48 mins 41.61 sec] >>>>>>>>>>\n",
      "\n",
      "<raw_german>\n",
      "durchgeführt und die Verstärkungen heran waren, mußte etwa eine Woche vergehen.\n",
      "Inzwischen führte der Gegner, der die drohende Gefahr immer mehr erkennen mußte und durch den Rückzug aus Polen Kräfte frei bekommen hatte, unter Einsatz seines Gardekorps am 1. und 2. September heftige, aber für ihn selbst überaus verlustreiche Gegenstöße im Raume von Troki Nowe und nördlich der Wilia. Alle diese Versuche scheiterten an der Abwehr der Gruppen Litzmann und Garnier. Am 3. September flauten die russischen Angriffe ab.\n",
      "Im Norden wollte die Njemen-Armee ihren Druck, der bisher mit Erfolg gegen die untere Düna, auf Friedrichstadt, gerichtet gewesen war, allmählich mehr südwärts ausdehnen). Als äußerster rechter Flügel dieser Armee hielt die 3. Kavallerie-Division seit dem 3. September an der Schirwintn nordwestlich von Schirwintn Fühlung mit dem Nordflügel der 10. Armee.\n",
      "Vor dem rechten Flügel der 10. Armee und weiter südlich hatte die russische Gegenwirkung in den letzten Augusttagen nachgelassen. Für die Verfolgungsbewegungen der 12. und 8. Armee bildete der Befehl des Oberbefehlshabers Ost vom 29. August die Grundlage. Während der Generalstabschef der 12. Armee, Oberst Marquard, wegen der Nachschubschwierigkeiten für diese Armee zunächst noch einen mehrtägigen Halt für notwendig erachtete, bestand Generalleutnant Ludendorff auf der sofortigen Fortsetzung des Vormarsches, zum mindesten mit Teilen. Der Druck sollte auf dem rechten Flügel liegen, das nächste Ziel war der Swislocz-Abschnitt zwischen dem gleichnamigen Orte und Indura, während die 8. Armee die Richtung auf die Njemen-Festung Grodno erhielt, die sie angreifen sollte. Insgesamt verfügte die 12. Armee am 30. August über 10½ Divisionen, davon nur vier in vorderer Linie, die 8. Armee über 5½ Divisionen, davon 4½ in vorderer Linie; für den Angriff auf Grodno wurden zu ihr noch 21 schwere und 75. R. d. 1. Ldw. D., 169. R. d. 50. R. D., 11. Ldw. D.\n",
      "</raw_german>\n",
      "--------------------------------------------------------------------\n",
      "<german>\n",
      "<body>\n",
      "durchgeführt und die Verstärkungen heran waren, mußte etwa eine Woche vergehen.\n",
      "Inzwischen führte der Gegner, der die drohende Gefahr immer mehr erkennen mußte und durch den Rückzug aus Polen Kräfte frei bekommen hatte, unter Einsatz seines Gardekorps am 1. und 2. September heftige, aber für ihn selbst überaus verlustreiche Gegenstöße im Raume von Troki Nowe und nördlich der Wilia. Alle diese Versuche scheiterten an der Abwehr der Gruppen Litzmann und Garnier. Am 3. September flauten die russischen Angriffe ab.\n",
      "Im Norden wollte die Njemen-Armee ihren Druck, der bisher mit Erfolg gegen die untere Düna, auf Friedrichstadt, gerichtet gewesen war, allmählich mehr südwärts ausdehnen). Als äußerster rechter Flügel dieser Armee hielt die 3. Kavallerie-Division seit dem 3. September an der Schirwintn nordwestlich von Schirwintn Fühlung mit dem Nordflügel der 10. Armee.\n",
      "Vor dem rechten Flügel der 10. Armee und weiter südlich hatte die russische Gegenwirkung in den letzten Augusttagen nachgelassen. Für die Verfolgungsbewegungen der 12. und 8. Armee bildete der Befehl des Oberbefehlshabers Ost vom 29. August die Grundlage. Während der Generalstabschef der 12. Armee, Oberst Marquard, wegen der Nachschubschwierigkeiten für diese Armee zunächst noch einen mehrtägigen Halt für notwendig erachtete, bestand Generalleutnant Ludendorff auf der sofortigen Fortsetzung des Vormarsches, zum mindesten mit Teilen. Der Druck sollte auf dem rechten Flügel liegen, das nächste Ziel war der Swislocz-Abschnitt zwischen dem gleichnamigen Orte und Indura, während die 8. Armee die Richtung auf die Njemen-Festung Grodno erhielt, die sie angreifen sollte. Insgesamt verfügte die 12. Armee am 30. August über 10½ Divisionen, davon nur vier in vorderer Linie, die 8. Armee über 5½ Divisionen, davon 4½ in vorderer Linie; für den Angriff auf Grodno wurden zu ihr noch 21 schwere und 75. R. d. 1. Ldw. D., 169. R. d. 50. R. D., 11. Ldw. D.\n",
      "</body>\n",
      "<footer>\n",
      "1) G. 535. — 2) G. 367 und 490.\n",
      "3) Gliederung von rechts beginnend: verf. XVII. A. K. (3., dahinter 35. u. 36. J. D.), Korps Batter (Gen. Kdo. XIII. A. K. mit 26. I. G. D., dahinter 1. G. R. D. u. 4. G. S. D.), XVII. R. R. (½ 85. Dn. D., dahinter 86. I. G. D.), Korps Pfülf (Gen. Kdo. XI. R. R. mit 54. u. 38. S. D., Ldst. Abt., dahinter 50. R. D.)\n",
      "4) Gliederung von rechts beginnend: 5. Sollen (37., dahinter 83. S. D.), 75. R. d. 1. Ldw. D., 169. R. d. 50. R. D., 11. Ldw. D.\n",
      "</footer>\n",
      "</german>\n",
      "--------------------------------------------------------------------\n",
      "<english>\n",
      "<body>\n",
      "Once the operations were carried out and reinforcements had arrived, about a week had to pass.\n",
      "Meanwhile, the enemy, who increasingly recognized the looming danger and had freed up forces by retreating from Poland, launched fierce but extremely costly counterattacks for themselves on September 1 and 2, in the area of Troki Nowe and north of the Wilia. All these attempts failed against the defense of the Litzmann and Garnier groups. On September 3, the Russian attacks subsided.\n",
      "In the north, the Njemen Army wanted to extend its pressure, which had previously been successfully directed against the lower Dvina towards Friedrichstadt, gradually more southwards. As the outermost right wing of this army, the 3rd Cavalry Division maintained contact with the northern wing of the 10th Army northwest of Schirwintn since September 3.\n",
      "In front of the right wing of the 10th Army and further south, the Russian counteraction had subsided in the last days of August. The order of the Supreme Commander East from August 29 formed the basis for the pursuit movements of the 12th and 8th Armies. While the Chief of Staff of the 12th Army, Colonel Marquard, initially considered a multi-day halt necessary due to supply difficulties for this army, Lieutenant General Ludendorff insisted on the immediate continuation of the advance, at least with parts. The pressure was to be on the right wing, the next target was the Swislocz section between the place of the same name and Indura, while the 8th Army was directed towards the Njemen fortress Grodno, which it was to attack. Overall, the 12th Army had 10½ divisions on August 30, of which only four were in the front line, the 8th Army had 5½ divisions, of which 4½ were in the front line; for the attack on Grodno, 21 heavy and 75. R. d. 1. Ldw. D., 169. R. d. 50. R. D., 11. Ldw. D. were brought up.\n",
      "</body>\n",
      "<footer>\n",
      "1) G. 535. — 2) G. 367 and 490.\n",
      "3) Formation starting from the right: deployed XVII. A. K. (3rd, behind 35th and 36th J. D.), Corps Battery (Gen. Kdo. XIII. A. K. with 26th I. G. D., behind 1st G. R. D. and 4th G. S. D.), XVII. R. R. (½ 85th Dn. D., behind 86th I. G. D.), Corps Pfülf (Gen. Kdo. XI. R. R. with 54th and 38th S. D., Ldst. Abt., behind 50th R. D.)\n",
      "4) Formation starting from the right: 5. Sollen (37th, behind 83rd S. D.), 75. R. d. 1. Ldw. D., 169. R. d. 50. R. D., 11. Ldw. D.\n",
      "</footer>\n",
      "</english>\n",
      "\n",
      ">>>>>>>>>> page:496 (i:40/83) \n",
      ">>>>>>>>>> page:497 (i:41/83) [time:22.41sec] [TotalRuntime:49 mins 4.02 sec] >>>>>>>>>>\n",
      "\n",
      "<raw_german>\n",
      "8. Armee. Einnahme von Grodno.\n",
      "Auch die südlich anschließende deutsche 12. Armee hatte weiter Raum gewonnen, rechts begleitet von der Heeresgruppe Prinz Leopold. Am 3. und 4. September stieß sie zehn Kilometer westlich von Wolkowysk sowie östlich von Sniadow auf neuen Widerstand, gegen den sie in vielfach schwierigen Gelände im Frontalangriff nur sehr langsam Raum gewann, während die 8. Armee durch den Njemen-Übergang noch aufgehalten war. Bereits am Nachmittage 4. September vernahmen jedoch aufgefangene russische Funkprüfe, daß der Gegner den Rückzug auf der ganzen Front zwischen den Rokitno-Sümpfen und Grodno, vom Südflügel beginnend, in der nächsten Nacht fortsetzen werde. Dementsprechend ging es am 5. September auf dem rechten Flügel der 12. Armee, am 6. auch auf deren linken Flügel wieder weiter. Vor der 8. Armee aber hatte sich der Gegner 20 Kilometer östlich von Grodno im Njemen-Bogen von südlich Eidtel über die Seen von Jeziory bis Druskieniki in starker Stellung von neuem gesetzt.\n",
      "Inzwischen war beim Oberbefehlshaber Ost der Gesamtplan für die Fortsetzung der Offensive gegen den Nordflügel der russischen Heeresfront weiter ausgereift. Angesichts der bevorstehenden Aufgaben von zehn bis zwölf Divisionen, die mit zwei Divisionen schon am 15. September, wenn nicht sogar noch früher ihren Anfang nehmen sollten, sowie auch wegen der herannahenden ungünstigeren Jahreszeit, war Eile immer mehr geboten, wenn noch Entscheidendes erreicht werden sollte. Das Einverständnis der Obersten Heeresleitung zur Mitwirkung der Heeresgruppen Mackensen und Prinz Leopold ermöglichte es, die 12. und 8. Armee weiterhin in der allgemeinen Richtung auf Lida und nördlich, also nach Nordosten, zum Angriff einzusetzen und wenn möglich in dieser Richtung durchzustoßen, um Wilna auch von Süden zu fassen. Dabei bot der rund 120 Kilometer südlich von Wilna auf längerer Strecke aus nordöstlicher Richtung fließende Njemen eine geeignete Begrenzung des Angriffszentrums nach rechts. Die 12. Armee sollte ihre Hauptkräfte alsbald auf das nordwestliche, rechte Ufer des Flusses hinüberführen, während auf dem Südostufer schwächere Teile im Anschluß an die Heeresgruppe Prinz Leopold die Flanke deckten. Im Norden konnte die Sicherung gegen die russische 5. Armee und gegen die von Smolensk, Petersburg und Riga nach Dünaburg führenden Bahnen durch Angriff der Njemen-Armee in dieser Richtung am wirksamsten gestaltet werden. Wie weit die 10. Armee dann\n",
      "1) G. 555. — 2) C. 492 f. — 3) S. Ebenda.\n",
      "* Weltkrieg. VIII. Band. 32\n",
      "</raw_german>\n",
      "--------------------------------------------------------------------\n",
      "<german>\n",
      "<header>8. Armee. Einnahme von Grodno.</header>\n",
      "<body>Auch die südlich anschließende deutsche 12. Armee hatte weiter Raum gewonnen, rechts begleitet von der Heeresgruppe Prinz Leopold. Am 3. und 4. September stieß sie zehn Kilometer westlich von Wolkowysk sowie östlich von Sniadow auf neuen Widerstand, gegen den sie in vielfach schwierigen Gelände im Frontalangriff nur sehr langsam Raum gewann, während die 8. Armee durch den Njemen-Übergang noch aufgehalten war. Bereits am Nachmittage 4. September vernahmen jedoch aufgefangene russische Funkprüfe, daß der Gegner den Rückzug auf der ganzen Front zwischen den Rokitno-Sümpfen und Grodno, vom Südflügel beginnend, in der nächsten Nacht fortsetzen werde. Dementsprechend ging es am 5. September auf dem rechten Flügel der 12. Armee, am 6. auch auf deren linken Flügel wieder weiter. Vor der 8. Armee aber hatte sich der Gegner 20 Kilometer östlich von Grodno im Njemen-Bogen von südlich Eidtel über die Seen von Jeziory bis Druskieniki in starker Stellung von neuem gesetzt.\n",
      "Inzwischen war beim Oberbefehlshaber Ost der Gesamtplan für die Fortsetzung der Offensive gegen den Nordflügel der russischen Heeresfront weiter ausgereift. Angesichts der bevorstehenden Aufgaben von zehn bis zwölf Divisionen, die mit zwei Divisionen schon am 15. September, wenn nicht sogar noch früher ihren Anfang nehmen sollten, sowie auch wegen der herannahenden ungünstigeren Jahreszeit, war Eile immer mehr geboten, wenn noch Entscheidendes erreicht werden sollte. Das Einverständnis der Obersten Heeresleitung zur Mitwirkung der Heeresgruppen Mackensen und Prinz Leopold ermöglichte es, die 12. und 8. Armee weiterhin in der allgemeinen Richtung auf Lida und nördlich, also nach Nordosten, zum Angriff einzusetzen und wenn möglich in dieser Richtung durchzustoßen, um Wilna auch von Süden zu fassen. Dabei bot der rund 120 Kilometer südlich von Wilna auf längerer Strecke aus nordöstlicher Richtung fließende Njemen eine geeignete Begrenzung des Angriffszentrums nach rechts. Die 12. Armee sollte ihre Hauptkräfte alsbald auf das nordwestliche, rechte Ufer des Flusses hinüberführen, während auf dem Südostufer schwächere Teile im Anschluß an die Heeresgruppe Prinz Leopold die Flanke deckten. Im Norden konnte die Sicherung gegen die russische 5. Armee und gegen die von Smolensk, Petersburg und Riga nach Dünaburg führenden Bahnen durch Angriff der Njemen-Armee in dieser Richtung am wirksamsten gestaltet werden. Wie weit die 10. Armee dann</body>\n",
      "<footer>1) G. 555. — 2) C. 492 f. — 3) S. Ebenda. * Weltkrieg. VIII. Band. 32</footer>\n",
      "</german>\n",
      "--------------------------------------------------------------------\n",
      "<english>\n",
      "<header>8th Army. Capture of Grodno.</header>\n",
      "<body>The southernly adjacent German 12th Army had gained further ground, accompanied on the right by the army group Prince Leopold. On September 3rd and 4th, it encountered new resistance ten kilometers west of Wolkowysk and east of Sniadow, against which it gained ground only very slowly in frontal attacks in often difficult terrain, while the 8th Army was still held up by the Njemen crossing. However, on the afternoon of September 4th, intercepted Russian radio messages indicated that the enemy would continue the retreat across the entire front between the Rokitno Swamps and Grodno, starting from the southern flank, the following night. Accordingly, on September 5th, the right wing of the 12th Army, and on the 6th, its left wing, advanced again. However, in front of the 8th Army, the enemy had re-established a strong position 20 kilometers east of Grodno in the Njemen bend from south of Eidtel over the lakes of Jeziory to Druskieniki.\n",
      "Meanwhile, the overall plan for continuing the offensive against the northern flank of the Russian army front had further matured at the headquarters of the Eastern Command. In view of the upcoming tasks of ten to twelve divisions, which were to begin with two divisions as early as September 15th, if not even earlier, and also due to the approaching unfavorable season, haste was increasingly necessary if anything decisive was to be achieved. The agreement of the Supreme Army Command to the cooperation of the army groups Mackensen and Prince Leopold made it possible to continue deploying the 12th and 8th Armies in the general direction of Lida and northwards, thus to the northeast, to attack and, if possible, to break through in this direction to also capture Wilna from the south. The Njemen, flowing about 120 kilometers south of Wilna from a northeasterly direction over a longer stretch, offered a suitable boundary for the attack center to the right. The 12th Army was to soon lead its main forces to the northwestern, right bank of the river, while weaker parts on the southeastern bank covered the flank in connection with the army group Prince Leopold. In the north, the security against the Russian 5th Army and against the railways leading from Smolensk, Petersburg, and Riga to Dünaburg could be most effectively shaped by the attack of the Njemen Army in this direction. How far the 10th Army then</body>\n",
      "<footer>1) G. 555. — 2) C. 492 f. — 3) S. Ibid. * World War. VIII. Volume. 32</footer>\n",
      "</english>\n",
      "\n",
      ">>>>>>>>>> page:498 (i:42/83) \n",
      ">>>>>>>>>> page:499 (i:43/83) \n",
      ">>>>>>>>>> page:500 (i:44/83) "
     ]
    }
   ],
   "source": [
    "for i, fname in enumerate(fnames):\n",
    "    start = time.time()\n",
    "\n",
    "    pageno = re.search(r'page_(.*?)\\.pdf', fname, re.DOTALL).group(1)\n",
    "    print(f\"\\n{'>'*10} page:{pageno} (i:{i}/{len(fnames)-1}) \", end=\"\")\n",
    "    if int(pageno) not in [482, 486, 487, 491, 495, 497, 500, 505, 507, 509, 512, 516, 517, 518, 520, 524, 525, 527, 529, 532, \\\n",
    "                          535, 539, ]:\n",
    "        continue\n",
    "    \n",
    "    raw_text, raw_german_text, german_text, english_text = single_page(fname, model_name, headers, plotter, pageno)\n",
    "    \n",
    "    german_texts[pageno] = german_text\n",
    "    english_texts[pageno] = english_text\n",
    "    delta = time.time() - start \n",
    "    total_time += delta\n",
    "    print(f\"[time:{delta:.2f}sec] [TotalRuntime:{int(total_time//60)} mins {(total_time - int(total_time//60)*60):.2f} sec] {'>'*10}\\n\")\n",
    "    print(raw_text)\n"
   ]
  },
  {
   "cell_type": "code",
   "execution_count": 69,
   "id": "420883ef",
   "metadata": {},
   "outputs": [],
   "source": [
    "# save json outputs\n",
    "folder_name = 'third_attempt'\n",
    "with open(f'../output/{folder_name}/english_texts.json', 'w') as f:\n",
    "    json.dump(english_texts, f)\n",
    "with open(f'../output/{folder_name}/german_texts.json', 'w') as f:\n",
    "    json.dump(german_texts, f)\n",
    "\n",
    "doc1, fname1 = save_document(german_texts, folder_name, language='German')\n",
    "doc2, fname2 = save_document(english_texts, folder_name, language='English')\n"
   ]
  },
  {
   "cell_type": "markdown",
   "id": "ac63eac8",
   "metadata": {},
   "source": [
    "``` \n",
    "1.  Upload Input folder of pdfs to blob storage.\n",
    "2.  Read file from s3.\n",
    "3.  FFT in y -> (x_hi, x_lo), write half_cropped_image to s3\n",
    "4.  FFT in x -> (y_hi, y_lo), write cropped_image to s3\n",
    "5.  Read cropped image from s3 -> encode_image -> translate and transcribe -> JSON output\n",
    "\n",
    "```\n",
    "\n",
    "### Available models and pricing:\n",
    "```\n",
    "\"gpt-4o-2024-08-06\":\n",
    "    \"price_txt\": \"$2.50 / 1M input tokens\"\n",
    "    \"price_img\": \"$0.001913 / 1500px^2\"\n",
    "    \n",
    "\"gpt-4o-mini-2024-07-18\":\n",
    "    \"price_txt\": \"$0.150 / 1M input tokens\"\n",
    "    \"price_img\": \"$0.003825 / 1500px^2\"\n",
    "    \n",
    "```"
   ]
  },
  {
   "cell_type": "code",
   "execution_count": null,
   "id": "8dcba338",
   "metadata": {},
   "outputs": [],
   "source": []
  },
  {
   "cell_type": "code",
   "execution_count": null,
   "id": "2b7d93ac",
   "metadata": {},
   "outputs": [],
   "source": []
  },
  {
   "cell_type": "code",
   "execution_count": null,
   "id": "5b2c6ef3-08b5-469d-b5b0-7f7ae42ae87b",
   "metadata": {},
   "outputs": [],
   "source": []
  },
  {
   "cell_type": "code",
   "execution_count": null,
   "id": "8c5c423f-4116-470f-b1a8-c1620876d035",
   "metadata": {},
   "outputs": [],
   "source": []
  },
  {
   "cell_type": "code",
   "execution_count": null,
   "id": "af9149e2-dba5-46b8-815b-9c8955527e5a",
   "metadata": {},
   "outputs": [],
   "source": []
  },
  {
   "cell_type": "code",
   "execution_count": null,
   "id": "3d6321e9-6ba9-4947-a11d-1df5ffc915a3",
   "metadata": {},
   "outputs": [],
   "source": []
  },
  {
   "cell_type": "code",
   "execution_count": null,
   "id": "8a52581f-0622-492f-a145-e605f6a74a27",
   "metadata": {},
   "outputs": [],
   "source": []
  },
  {
   "cell_type": "code",
   "execution_count": null,
   "id": "221ddd9b",
   "metadata": {},
   "outputs": [],
   "source": []
  },
  {
   "cell_type": "code",
   "execution_count": null,
   "id": "1ecefe2a",
   "metadata": {},
   "outputs": [],
   "source": []
  }
 ],
 "metadata": {
  "kernelspec": {
   "display_name": "Python 3 (ipykernel)",
   "language": "python",
   "name": "python3"
  },
  "language_info": {
   "codemirror_mode": {
    "name": "ipython",
    "version": 3
   },
   "file_extension": ".py",
   "mimetype": "text/x-python",
   "name": "python",
   "nbconvert_exporter": "python",
   "pygments_lexer": "ipython3",
   "version": "3.10.9"
  }
 },
 "nbformat": 4,
 "nbformat_minor": 5
}
