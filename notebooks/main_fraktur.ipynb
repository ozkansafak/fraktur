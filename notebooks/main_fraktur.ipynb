{
 "cells": [
  {
   "cell_type": "code",
   "execution_count": 49,
   "id": "3fd37c50-412f-4868-a817-ed7ef16f4c69",
   "metadata": {},
   "outputs": [
    {
     "data": {
      "text/plain": [
       "'/Users/ozkansafak/code/fraktur/notebooks'"
      ]
     },
     "execution_count": 49,
     "metadata": {},
     "output_type": "execute_result"
    }
   ],
   "source": [
    "pwd"
   ]
  },
  {
   "cell_type": "code",
   "execution_count": 58,
   "id": "6cd7026f-2a85-4c43-8110-547d0decaa76",
   "metadata": {},
   "outputs": [
    {
     "name": "stdout",
     "output_type": "stream",
     "text": [
      "The autoreload extension is already loaded. To reload it, use:\n",
      "  %reload_ext autoreload\n"
     ]
    },
    {
     "name": "stderr",
     "output_type": "stream",
     "text": [
      "<timed exec>:22: DeprecationWarning: Importing display from IPython.core.display is deprecated since IPython 7.14, please import from IPython.display\n"
     ]
    },
    {
     "data": {
      "text/html": [
       "<style>.container { width:90% !important; }</style>"
      ],
      "text/plain": [
       "<IPython.core.display.HTML object>"
      ]
     },
     "metadata": {},
     "output_type": "display_data"
    },
    {
     "name": "stdout",
     "output_type": "stream",
     "text": [
      "sys.executable: /Users/ozkansafak/code/fraktur/.venv/bin/python3\n",
      "sys.version: 3.10.9 (main, Mar  1 2023, 12:20:14) [Clang 14.0.6 ] \n",
      "\n",
      "CPU times: user 1.72 ms, sys: 1.2 ms, total: 2.92 ms\n",
      "Wall time: 2.31 ms\n"
     ]
    }
   ],
   "source": [
    "%%time\n",
    "%load_ext autoreload\n",
    "%autoreload 2\n",
    "\n",
    "# import standard Python modules\n",
    "import time \n",
    "import numpy as np\n",
    "import os, sys\n",
    "import re\n",
    "import glob\n",
    "import openai\n",
    "\n",
    "# # Get the root path of the project\n",
    "sys.path.append(os.path.abspath(\"..\"))\n",
    "\n",
    "# Import necessary modules from your src directory\n",
    "from src.utils import timeit, encode_image\n",
    "from src.processing import compute_log_spectrum_1d, extract_image_bbox, save_images\n",
    "from src.api_requests import construct_payload, send_gpt_request\n",
    "from src.document_generation import create_docx\n",
    "from src.api_requests import single_page\n",
    "\n",
    "from IPython.core.display import display, HTML\n",
    "from IPython.display import clear_output\n",
    "display(HTML(\"<style>.container { width:90% !important; }</style>\"))\n",
    "\n",
    "pylab.rcParams.update(\n",
    "    {\n",
    "        \"legend.fontsize\": \"small\",\n",
    "        \"font.size\": 12,\n",
    "        \"figure.figsize\": (6*3, 2.2*3),\n",
    "        \"axes.labelsize\": \"small\",\n",
    "        \"axes.titlesize\": \"medium\",\n",
    "        \"axes.grid\": \"on\",\n",
    "        \"xtick.labelsize\": \"small\",\n",
    "        \"ytick.labelsize\": \"small\",\n",
    "    }\n",
    ")\n",
    "\n",
    "print('sys.executable:', sys.executable)\n",
    "print('sys.version:', sys.version, '\\n')"
   ]
  },
  {
   "cell_type": "markdown",
   "id": "503e18f5",
   "metadata": {},
   "source": [
    "---\n",
    "## Fraktur Translator"
   ]
  },
  {
   "cell_type": "code",
   "execution_count": 59,
   "id": "1f71423f",
   "metadata": {
    "scrolled": true
   },
   "outputs": [],
   "source": [
    "# Set the OpenAI API key from environment variables\n",
    "openai.api_key = os.getenv(\"OPENAI_API_KEY\")\n",
    "\n",
    "# Set the headers for the API request\n",
    "headers = {\n",
    "    \"Content-Type\": \"application/json\",\n",
    "    \"Authorization\": f\"Bearer {openai.api_key}\"\n",
    "}\n",
    "\n",
    "model_name = \"gpt-4o-mini-2024-07-18\" # [\"gpt-4o-2024-08-06\", \"gpt-4o-mini-2024-07-18\"]\n",
    "plotter = False\n"
   ]
  },
  {
   "cell_type": "code",
   "execution_count": 121,
   "id": "07f4d79c-a54b-43f6-a05e-2348f8aede12",
   "metadata": {},
   "outputs": [
    {
     "name": "stdout",
     "output_type": "stream",
     "text": [
      "--------------------------------------------------\n",
      "page:459 (0/83) time:27.61 sec\n",
      "--------------------------------------------------\n",
      "<raw_german_text>und 41. Infanterie-Division fuhren bei Alt Aus auf starken Feind, gegen ben die Entscheidung auf den folgenden Tag verschoben wurde. Inzwischen konnte das Kavalleriekorps Schmettoff etwa zwölf Kilometer nordwestlich des Ortes nachmittags starke russische Kavallerie zurückdrängen und fiel in die Vorderlaces des Gegners vorbringens; die vordersten Teile der 6. Kavallerie-Division kamen dabei bis Dubben, standen also bereits mehr als 30 Kilometer östnördöstlich von Alt Aus. Mehrere tausend Gefangene und einige Geschütze wurden die Beute dieser ersten Kampfage. Der Versuch, den Gegner bei Alt Aus am 17. Juli durch umfassenden Angriff zu vernichten, glitt nicht, da er unübersehbar starke Kräfte gegen Norden herausgeschoben hatte. Es kam zu ernsten Kämpfe, der ihn notwendig, so eilig nach Osten ausweichen, darf es abermals 4000 Gefangene und einige Geschütze zurück. Abends war die Mittel Bahn bis südlich von Dubben in befreiter Hand. Damit hatte man sich Mitau selbst auf 25 Kilometer zurückgezogen im Norden die Truppen des Generalstaats von Pappritz bis dicht vor Tudum gekommen waren. \n",
      "\n",
      "Der Erfolg auf dem Nordflügel stand ein Richterschlag auf dem Südflügel gegenüber, wo am 17. Juli der Angriff des Korps Morgen begonnen hatte. Seine 1. Reserve-Division kam nur wenig vorwärts, links von ihr aber wurde die 6. Reserve-Division durch einen Gegenschlag fenomenää Reifscu bag Paasch unter ernsten Verlusten wieder gegen die Windau zurückzuweisen. \n",
      "\n",
      "In dieser Lage ließ General von Below an der Absicht fest, zu 18. Juli nächst den Angriff gegen den Feind im Norden fortzusetzen, um ihn, wenn möglich, von Mitau abzudringen, dann erst wollte er mit ganz Kraft nach Süden gegen den Schaulater Gegner einbrechen. So gelangte die deutschen Truppen im Laufe des 18. Juli bis vor russische Stellung, die Mitau in einem Abstand von etwa zwölf Kilometern gegen Westen bedekten. Bei Tudum wurde der Westland des großen Sumpflandes der Ala-Mündungen erreicht. An der Küste wurde Windau besetzt, dessen Hafen durch verstärkte russische Schiffe gesichert war. Der Bereich des westlichen Teils von Kurland war gesichert, der erste Abschnitt des geplanten Angriffs durchgeführt, die militärische Beute auf mehr als 6000 Gefangene und neun Geschütze geflossen.\n",
      "\n",
      "Für die nun folgende Operation gegen die russischen Hauptkräfte hatte General von Below mittags die ersten Weisungen gegeben. Die 6. Reserve-Division sollte ihre Stellung behaupten, das</raw_german_text>\n",
      "\n",
      "<german_text><body>und 41. Infanterie-Division fuhren bei Alt Aus auf starken Feind, gegen ben die Entscheidung auf den folgenden Tag verschoben wurde. Inzwischen konnte das Kavalleriekorps Schmettoff etwa zwölf Kilometer nordwestlich des Ortes nachmittags starke russische Kavallerie zurückdrängen und fiel in die Vorderlaces des Gegners vorbringens; die vordersten Teile der 6. Kavallerie-Division kamen dabei bis Dubben, standen also bereits mehr als 30 Kilometer östnördöstlich von Alt Aus. Mehrere tausend Gefangene und einige Geschütze wurden die Beute dieser ersten Kampfage. Der Versuch, den Gegner bei Alt Aus am 17. Juli durch umfassenden Angriff zu vernichten, glitt nicht, da er unübersehbar starke Kräfte gegen Norden herausgeschoben hatte. Es kam zu ernsten Kämpfe, der ihn notwendig, so eilig nach Osten ausweichen, darf es abermals 4000 Gefangene und einige Geschütze zurück. Abends war die Mittel Bahn bis südlich von Dubben in befreiter Hand. Damit hatte man sich Mitau selbst auf 25 Kilometer zurückgezogen im Norden die Truppen des Generalstaats von Pappritz bis dicht vor Tudum gekommen waren. \n",
      "\n",
      "Der Erfolg auf dem Nordflügel stand ein Richterschlag auf dem Südflügel gegenüber, wo am 17. Juli der Angriff des Korps Morgen begonnen hatte. Seine 1. Reserve-Division kam nur wenig vorwärts, links von ihr aber wurde die 6. Reserve-Division durch einen Gegenschlag fenomenää Reifscu bag Paasch unter ernsten Verlusten wieder gegen die Windau zurückzuweisen. \n",
      "\n",
      "In dieser Lage ließ General von Below an der Absicht fest, zu 18. Juli nächst den Angriff gegen den Feind im Norden fortzusetzen, um ihn, wenn möglich, von Mitau abzudringen, dann erst wollte er mit ganz Kraft nach Süden gegen den Schaulater Gegner einbrechen. So gelangte die deutschen Truppen im Laufe des 18. Juli bis vor russische Stellung, die Mitau in einem Abstand von etwa zwölf Kilometern gegen Westen bedekten. Bei Tudum wurde der Westland des großen Sumpflandes der Ala-Mündungen erreicht. An der Küste wurde Windau besetzt, dessen Hafen durch verstärkte russische Schiffe gesichert war. Der Bereich des westlichen Teils von Kurland war gesichert, der erste Abschnitt des geplanten Angriffs durchgeführt, die militärische Beute auf mehr als 6000 Gefangene und neun Geschütze geflossen. \n",
      "\n",
      "Für die nun folgende Operation gegen die russischen Hauptkräfte hatte General von Below mittags die ersten Weisungen gegeben. Die 6. Reserve-Division sollte ihre Stellung behaupten, das</body></german_text>\n",
      "\n",
      "<english_text>and 41st Infantry Division drove against a strong enemy at Alt Aus, where the decision was postponed to the following day. In the meantime, the cavalry corps Schmettoff was able to push back strong Russian cavalry about twelve kilometers northwest of the place in the afternoon and fell into the forward lines of the enemy; the foremost parts of the 6th Cavalry Division reached Dubben, thus standing already more than 30 kilometers east-northeast of Alt Aus. Several thousand prisoners and some guns were the spoils of this first battle. The attempt to destroy the enemy at Alt Aus on July 17 through a comprehensive attack failed since he had pushed considerable forces towards the north. There was fierce fighting, which necessitated the urgent retreat to the east, resulting in another 4000 prisoners and several guns being lost. In the evening, the middle route was in liberated hands south of Dubben. Thus, one had withdrawn Mitau itself to 25 kilometers, while to the north the troops of the General Staff from Pappritz had advanced closely to Tudum.\n",
      "\n",
      "The success on the northern flank faced a counter-strike against the southern flank, where the attack of the Corps Morgen had begun on July 17. The 1st Reserve Division only advanced slowly, while the 6th Reserve Division was pushed back against the Windau after facing severe losses from an enemy counterattack.\n",
      "\n",
      "In this situation, General von Below resolved to continue the attack against the enemy in the north on July 18, if possible to push him away from Mitau, and only then would he want to break through with full force against the southern enemy. Thus, the German troops were able to advance to the Russian positions by July 18, which covered Mitau at a distance of about twelve kilometers to the west. At Tudum, the western edge of the large swampy areas of the Ala mouths was reached. At the coast, Windau was occupied, its harbor secured by reinforced Russian ships. The area of western Kurland was secured, the first section of the planned attack carried out, with military spoils amounting to more than 6000 prisoners and nine guns.\n",
      "\n",
      "For the subsequent operation against the Russian main forces, General von Below gave the first instructions at noon. The 6th Reserve Division was to hold its position,</english_text>\n",
      "\n",
      "[Runtime 0 mins 27.61 sec]\n"
     ]
    }
   ],
   "source": [
    "# Folder containing the Fraktur PDF files\n",
    "image_path = \"../Der Weltkrieg v8 Chap 4F (in Fraktur)/*pdf\"\n",
    "\n",
    "# Get the list of PDF file paths\n",
    "fnames = sorted(glob.glob(image_path))\n",
    "german_texts = {}\n",
    "english_texts = {}\n",
    "\n",
    "for i, fname in enumerate(fnames[3:4]):\n",
    "    total_time = 0    \n",
    "    start = time.time()\n",
    "\n",
    "    pageno = re.search(r'page_(.*?)\\.pdf', fname, re.DOTALL).group(1)\n",
    "    print(f\"{'-'*50}\\npage:{pageno} ({i}/{len(fnames)-1}) \",end=\"\")\n",
    "    \n",
    "    raw_german_text, german_text, english_text = single_page(fname, model_name, headers, plotter, pageno)\n",
    "    \n",
    "    german_texts[pageno] = german_text\n",
    "    english_texts[pageno] = english_text\n",
    "    delta = time.time() - start \n",
    "    total_time += delta\n",
    "    print(f\"time:{delta:.2f} sec\\n{'-'*50}\")\n",
    "    print(f\"<raw_german_text>{raw_german_text}</raw_german_text>\\n\")\n",
    "    print(f\"<german_text>{german_text}</german_text>\\n\")\n",
    "    print(f\"<english_text>{english_text}</english_text>\")\n",
    "    print(f\"\\n[Runtime {int(total_time//60)} mins {(total_time - int(total_time//60)*60):.2f} sec]\") \n"
   ]
  },
  {
   "cell_type": "code",
   "execution_count": 120,
   "id": "6a253e3b-7101-4467-8fc1-6dc930660edc",
   "metadata": {},
   "outputs": [
    {
     "name": "stdout",
     "output_type": "stream",
     "text": [
      "This work consists of three distinct subtasks:\n",
      "\n",
      "**Step 1. OCR:** Transcribe the whole page into German and wrap the output in <raw_german></raw_german> tags. Pay great attention to transcribing all the text and all the fraktur characters you detect in your OCR work \n",
      "\n",
      "**Step 2. Layout Analysis:**. Look at the image of the page and your transcription again and redo the transcription like this: \n",
      "   - Wrap your second transcription inside <german></german> tags.\n",
      "   - Stay loyal to the new line characters (\\n) you have detected and transcribed in the OCR step above. I want you to divide the parts of the transcription inside the <raw_german></raw_german> tags into header, body, and footer sections: \n",
      "   - If, and only if, there's a header text (like a chapter title or a section heading), wrap the it inside <header></header> tags. If there's no header text, don't include any <header></header> tags at all. \n",
      "   - Next, wrap the body of the text inside <body></body> tags. \n",
      "   - Finally, and if, and only if,  there are is footnotes, wrap them inside <footer></footer> tags. \n",
      "\n",
      "If there's no footer text, don't include any <footer></footer> tags at all. **Step 3. Translation DE2EN:**. Translate the German text into English while maintaining the header, body, and footer sections.\n",
      "\n",
      "EXAMPLE OUTPUT FORMAT:\n",
      "<raw_german>.................</raw_german>\n",
      "\n",
      "<german><header>....</header>\n",
      "<body>..............</body>\n",
      "<footer>......</footer>\n",
      "</german>\n",
      "\n",
      "<english>....................</english>\n",
      "\n"
     ]
    }
   ],
   "source": [
    "text =  {                \"text\": \"This work consists of three distinct subtasks:\\n\\n\"\n",
    "                        \"**Step 1. OCR:** Transcribe the whole page into German and wrap the output in <raw_german></raw_german> tags. \"\n",
    "                        \"Pay great attention to transcribing all the text and all the fraktur characters you detect in your OCR work \\n\\n\"\n",
    "                        \"**Step 2. Layout Analysis:**. Look at the image of the page and your transcription again \"\n",
    "                        \"and redo the transcription like this: \\n\"\n",
    "                        \"   - Wrap your second transcription inside <german></german> tags.\\n\"\n",
    "                        \"   - Stay loyal to the new line characters (\\\\n) you have detected and transcribed in the OCR step above. \"\n",
    "                        \"I want you to divide the parts of the transcription inside the <raw_german></raw_german> tags \"\n",
    "                        \"into header, body, and footer sections: \\n\"\n",
    "                        \"   - If, and only if, there's a header text (like a chapter title or a section heading), \"\n",
    "                        \"wrap the it inside <header></header> tags. If there's no header text, \"\n",
    "                        \"don't include any <header></header> tags at all. \\n\"\n",
    "                        \"   - Next, wrap the body of the text inside <body></body> tags. \\n\"\n",
    "                        \"   - Finally, and if, and only if,  there are is footnotes, wrap them inside <footer></footer> tags. \\n\\n\"\n",
    "                        \"If there's no footer text, don't include any <footer></footer> tags at all. \"\n",
    "                        \"**Step 3. Translation DE2EN:**. Translate the German text into English while maintaining the header, \"\n",
    "                        \"body, and footer sections.\\n\\n\"\n",
    "                        \"EXAMPLE OUTPUT FORMAT:\\n\"\n",
    "                        \"<raw_german>.................</raw_german>\\n\\n\"\n",
    "                        \"<german><header>....</header>\\n<body>..............</body>\\n<footer>......</footer>\\n</german>\\n\\n\"\n",
    "                        \"<english>....................</english>\\n\"\n",
    "}\n",
    "print(text['text'])"
   ]
  },
  {
   "cell_type": "code",
   "execution_count": 13,
   "id": "420883ef",
   "metadata": {
    "scrolled": true
   },
   "outputs": [],
   "source": [
    "folder_name = 'third_attempt'\n",
    "with open(f'output/{folder_name}/english_texts.json', 'w') as f:\n",
    "    json.dump(english_texts, f)\n",
    "with open(f'output/{folder_name}/german_texts.json', 'w') as f:\n",
    "    json.dump(german_texts, f)\n",
    "\n",
    "create_docx(english_texts, folder_name, English='English')\n",
    "create_docx(german_texts, folder_name, English='German')\n"
   ]
  },
  {
   "cell_type": "markdown",
   "id": "ac63eac8",
   "metadata": {},
   "source": [
    "``` \n",
    "1.  Upload Input folder of pdfs to blob storage.\n",
    "2.  Read file from s3.\n",
    "3.  FFT in y -> (x_hi, x_lo), write half_cropped_image to s3\n",
    "4.  FFT in x -> (y_hi, y_lo), write cropped_image to s3\n",
    "5.  Read cropped image from s3 -> encode_image -> translate and transcribe -> JSON output\n",
    "\n",
    "```"
   ]
  },
  {
   "cell_type": "code",
   "execution_count": 23,
   "id": "3a45a9f7",
   "metadata": {},
   "outputs": [],
   "source": [
    "# Define available GPT-4o models with pricing information\n",
    "\"\"\"\n",
    "models = {\n",
    "    \"gpt-4o-2024-08-06\": {\n",
    "        \"price_txt\": \"$2.50 / 1M input tokens\", \n",
    "        \"price_img\": \"$0.001913 / 1500px^2\"\n",
    "    },\n",
    "    \"gpt-4o-mini-2024-07-18\": {\n",
    "        \"price_txt\": \"$0.150 / 1M input tokens\", \n",
    "        \"price_img\": \"$0.003825 / 1500px^2\"\n",
    "    }\n",
    "}\n",
    "\n",
    "\"\"\";\n"
   ]
  },
  {
   "cell_type": "code",
   "execution_count": null,
   "id": "d17a888f",
   "metadata": {},
   "outputs": [],
   "source": []
  },
  {
   "cell_type": "code",
   "execution_count": null,
   "id": "8dcba338",
   "metadata": {},
   "outputs": [],
   "source": []
  },
  {
   "cell_type": "code",
   "execution_count": null,
   "id": "2b7d93ac",
   "metadata": {},
   "outputs": [],
   "source": []
  },
  {
   "cell_type": "code",
   "execution_count": null,
   "id": "561e0cce",
   "metadata": {},
   "outputs": [],
   "source": []
  },
  {
   "cell_type": "code",
   "execution_count": null,
   "id": "eeceebda",
   "metadata": {},
   "outputs": [],
   "source": []
  },
  {
   "cell_type": "code",
   "execution_count": null,
   "id": "6ee77b9f",
   "metadata": {},
   "outputs": [],
   "source": []
  },
  {
   "cell_type": "code",
   "execution_count": null,
   "id": "82925e24",
   "metadata": {},
   "outputs": [],
   "source": []
  },
  {
   "cell_type": "code",
   "execution_count": null,
   "id": "d08fabc5",
   "metadata": {},
   "outputs": [],
   "source": []
  },
  {
   "cell_type": "code",
   "execution_count": null,
   "id": "29e4698b",
   "metadata": {},
   "outputs": [],
   "source": []
  },
  {
   "cell_type": "code",
   "execution_count": null,
   "id": "5838a0e4",
   "metadata": {},
   "outputs": [],
   "source": []
  },
  {
   "cell_type": "code",
   "execution_count": null,
   "id": "7bba052d",
   "metadata": {},
   "outputs": [],
   "source": []
  },
  {
   "cell_type": "code",
   "execution_count": null,
   "id": "c93b55ad",
   "metadata": {},
   "outputs": [],
   "source": []
  },
  {
   "cell_type": "code",
   "execution_count": null,
   "id": "221ddd9b",
   "metadata": {},
   "outputs": [],
   "source": []
  },
  {
   "cell_type": "code",
   "execution_count": null,
   "id": "1ecefe2a",
   "metadata": {},
   "outputs": [],
   "source": []
  }
 ],
 "metadata": {
  "kernelspec": {
   "display_name": "Python 3 (ipykernel)",
   "language": "python",
   "name": "python3"
  },
  "language_info": {
   "codemirror_mode": {
    "name": "ipython",
    "version": 3
   },
   "file_extension": ".py",
   "mimetype": "text/x-python",
   "name": "python",
   "nbconvert_exporter": "python",
   "pygments_lexer": "ipython3",
   "version": "3.10.9"
  }
 },
 "nbformat": 4,
 "nbformat_minor": 5
}
