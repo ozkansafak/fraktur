{
 "cells": [
  {
   "cell_type": "code",
   "execution_count": 1,
   "id": "ce99f5d9-4191-4c1c-81d8-1eb78e165ecd",
   "metadata": {},
   "outputs": [
    {
     "data": {
      "text/html": [
       "<style>.container { width:90% !important; }</style>"
      ],
      "text/plain": [
       "<IPython.core.display.HTML object>"
      ]
     },
     "metadata": {},
     "output_type": "display_data"
    },
    {
     "name": "stderr",
     "output_type": "stream",
     "text": [
      "chapter_splitter - L31 - INFO - Extracted 381 pages from PDF\n"
     ]
    },
    {
     "name": "stdout",
     "output_type": "stream",
     "text": [
      "sys.executable: /Users/ozkansafak/code/fraktur/.venv/bin/python3\n",
      "sys.version: 3.10.9 (main, Mar  1 2023, 12:20:14) [Clang 14.0.6 ] \n",
      "\n"
     ]
    },
    {
     "name": "stderr",
     "output_type": "stream",
     "text": [
      "chapter_splitter - L45 - INFO - All pages have been split and saved to ../input_data/Der Weltkrieg v2\n"
     ]
    },
    {
     "name": "stdout",
     "output_type": "stream",
     "text": [
      "CPU times: user 1.21 s, sys: 2.68 s, total: 3.89 s\n",
      "Wall time: 1.35 s\n"
     ]
    }
   ],
   "source": [
    "%%time\n",
    "%load_ext autoreload\n",
    "%autoreload 2\n",
    "\n",
    "# Standard Python modules\n",
    "import time \n",
    "import numpy as np\n",
    "import os\n",
    "import sys\n",
    "import ipdb\n",
    "import requests\n",
    "\n",
    "sys.path.append(os.path.abspath(\"..\"))\n",
    "import json\n",
    "import re\n",
    "import glob\n",
    "import asyncio\n",
    "import aiohttp\n",
    "import openai\n",
    "from typing import Dict, Tuple, List, Callable\n",
    "from dotenv import load_dotenv\n",
    "from pathlib import Path\n",
    "import PyPDF2\n",
    "\n",
    "# Project imports\n",
    "from src.utils import (timeit, encode_image, plt, pylab, find_bad_pagenos, \n",
    "                    delete_bad_pagenos, dump_fragmented_output_to_json, get_corresponding_bad_fnames,\n",
    "                    load_output_from_json, logging_for_main, dump_output_to_json, log_execution_time, count_num_tokens)\n",
    "from src.processing import compute_log_spectrum_1d, extract_image_bbox, save_images\n",
    "from src.api_requests import construct_payload_for_gpt, process_single_page\n",
    "from src.document_generation import save_document, setup_logger, chapter_splitter\n",
    "\n",
    "# Display and plotting, set notebook display width\n",
    "from IPython.display import display, HTML, clear_output\n",
    "\n",
    "display(HTML(\"<style>.container { width:90% !important; }</style>\"))\n",
    "\n",
    "# Print Python environment info\n",
    "print('sys.executable:', sys.executable)\n",
    "print('sys.version:', sys.version, '\\n')\n",
    "\n",
    "# Load environment variables from .env file\n",
    "env_path = Path('../.env')  # Adjust path if needed\n",
    "load_dotenv(dotenv_path=env_path)\n",
    "\n",
    "# OpenAI API setup\n",
    "openai.api_key = os.getenv(\"OPENAI_API_KEY\")\n",
    "\n",
    "# Setup for PDF processing\n",
    "foldername = \"Der Weltkrieg v2\"\n",
    "\n",
    "# # split the pdf into separate pages\n",
    "chapter_splitter(input_pdf_path=f\"../input_data/{foldername} East Front.pdf\", \n",
    "                 output_folder=f\"../input_data/{foldername}\")"
   ]
  },
  {
   "cell_type": "code",
   "execution_count": 2,
   "id": "6cd7026f-2a85-4c43-8110-547d0decaa76",
   "metadata": {},
   "outputs": [],
   "source": [
    "# Initialize variables\n",
    "plotter = False\n",
    "image_path = f\"../input_data/{foldername}/*pdf\"\n",
    "fnames = sorted(glob.glob(image_path))\n",
    "all_pagenos = [re.search(r'page_(.*?)\\.pdf', fname, re.DOTALL).group(1) for fname in fnames]\n",
    "\n",
    "# Storage for processed texts\n",
    "raw_german_texts: Dict[str, str] = {}\n",
    "german_texts: Dict[str, str] = {}\n",
    "english_texts: Dict[str, str] = {}\n",
    "\n",
    "# Configure logging\n",
    "logger = setup_logger('time_logger')"
   ]
  },
  {
   "cell_type": "markdown",
   "id": "503e18f5",
   "metadata": {},
   "source": [
    "---\n",
    "## PART 1\n",
    "## Fraktur Translator (GPT-4o)"
   ]
  },
  {
   "cell_type": "code",
   "execution_count": 3,
   "id": "a7837e54-0b95-4dc2-a9e4-0d88443bf55f",
   "metadata": {},
   "outputs": [],
   "source": [
    "# raw_german_texts, german_texts, english_texts, _ = load_output_from_json(foldername) "
   ]
  },
  {
   "cell_type": "code",
   "execution_count": 4,
   "id": "1adb975a-b3e6-4d87-904b-48b7095f2bbb",
   "metadata": {
    "scrolled": true
   },
   "outputs": [
    {
     "name": "stdout",
     "output_type": "stream",
     "text": [
      "Composing tasks to be executed with asyncio, semaphore_count = 10 \n",
      "001 002 003 004 005 006 007 008 009 010 011 012 013 014 015 016 017 018 019 020 021 022 023 024 025 026 027 028 029 030 031 032 033 034 035 036 037 038 039 040 041 042 043 044 045 046 047 048 049 050 051 052 053 054 055 056 057 058 059 060 061 062 063 064 065 066 067 068 069 070 071 072 073 074 075 076 077 078 079 080 081 082 083 084 085 086 087 088 089 090 091 092 093 094 095 096 097 098 099 100 101 102 103 104 105 106 107 108 109 110 111 112 113 114 115 116 117 118 119 120 121 122 123 124 125 126 127 128 129 130 131 132 133 134 135 136 137 138 139 140 141 142 143 144 145 146 147 148 149 150 151 152 153 154 155 156 157 158 159 160 161 162 163 164 165 166 167 168 169 170 171 172 173 174 175 176 177 178 179 180 181 182 183 184 185 186 187 188 189 190 191 192 193 194 195 196 197 198 199 200 201 202 203 204 205 206 207 208 209 210 211 212 213 214 215 216 217 218 219 220 221 222 223 224 225 226 227 228 229 230 231 232 233 234 235 236 237 238 239 240 241 242 243 244 245 246 247 248 249 250 251 252 253 254 255 256 257 258 259 260 261 262 263 264 265 266 267 268 269 270 271 272 273 274 275 276 277 278 279 280 281 282 283 284 285 286 287 288 289 290 291 292 293 294 295 296 297 298 299 300 301 302 303 304 305 306 307 308 309 310 311 312 313 314 315 316 317 318 319 320 321 322 323 324 325 326 327 328 329 330 331 332 333 334 335 336 337 338 339 340 341 342 343 344 345 346 347 348 349 350 351 352 353 354 355 356 357 358 359 360 361 362 363 364 365 366 367 368 369 370 371 372 373 374 375 376 377 378 379 380 381 main: len(tasks): 381 -- Processing tasks as they complete\n"
     ]
    },
    {
     "name": "stderr",
     "output_type": "stream",
     "text": [
      "logging_for_main - L251 - INFO - 0 of 380 -- Successfully processed pageno:331. token_count:1804\n",
      "logging_for_main - L251 - INFO - 1 of 380 -- Successfully processed pageno:239. token_count:1930\n",
      "logging_for_main - L251 - INFO - 2 of 380 -- Successfully processed pageno:330. token_count:1706\n",
      "logging_for_main - L251 - INFO - 3 of 380 -- Successfully processed pageno:134. token_count:1831\n",
      "logging_for_main - L251 - INFO - 4 of 380 -- Successfully processed pageno:133. token_count:1895\n",
      "logging_for_main - L251 - INFO - 5 of 380 -- Successfully processed pageno:327. token_count:1916\n",
      "logging_for_main - L251 - INFO - 6 of 380 -- Successfully processed pageno:019. token_count:1921\n",
      "logging_for_main - L251 - INFO - 7 of 380 -- Successfully processed pageno:241. token_count:2045\n",
      "logging_for_main - L251 - INFO - 8 of 380 -- Successfully processed pageno:018. token_count:2051\n",
      "logging_for_main - L251 - INFO - 9 of 380 -- Successfully processed pageno:243. token_count:140\n",
      "logging_for_main - L251 - INFO - 10 of 380 -- Successfully processed pageno:346. token_count:1561\n",
      "logging_for_main - L251 - INFO - 11 of 380 -- Successfully processed pageno:235. token_count:1414\n",
      "logging_for_main - L251 - INFO - 12 of 380 -- Successfully processed pageno:375. token_count:3898\n",
      "logging_for_main - L251 - INFO - 13 of 380 -- Successfully processed pageno:021. token_count:777\n",
      "logging_for_main - L251 - INFO - 14 of 380 -- Successfully processed pageno:022. token_count:1458\n",
      "logging_for_main - L251 - INFO - 15 of 380 -- Successfully processed pageno:362. token_count:2447\n",
      "logging_for_main - L251 - INFO - 16 of 380 -- Successfully processed pageno:152. token_count:2204\n",
      "logging_for_main - L251 - INFO - 17 of 380 -- Successfully processed pageno:020. token_count:1904\n",
      "logging_for_main - L251 - INFO - 18 of 380 -- Successfully processed pageno:226. token_count:1905\n",
      "logging_for_main - L251 - INFO - 19 of 380 -- Successfully processed pageno:207. token_count:1537\n",
      "logging_for_main - L251 - INFO - 20 of 380 -- Successfully processed pageno:230. token_count:1995\n",
      "logging_for_main - L251 - INFO - 21 of 380 -- Successfully processed pageno:318. token_count:1784\n",
      "logging_for_main - L251 - INFO - 22 of 380 -- Successfully processed pageno:323. token_count:1992\n",
      "logging_for_main - L251 - INFO - 23 of 380 -- Successfully processed pageno:136. token_count:1806\n",
      "logging_for_main - L251 - INFO - 24 of 380 -- Successfully processed pageno:376. token_count:4689\n",
      "logging_for_main - L251 - INFO - 25 of 380 -- Successfully processed pageno:212. token_count:1798\n",
      "logging_for_main - L251 - INFO - 26 of 380 -- Successfully processed pageno:326. token_count:1667\n",
      "logging_for_main - L251 - INFO - 27 of 380 -- Successfully processed pageno:325. token_count:1052\n",
      "logging_for_main - L251 - INFO - 28 of 380 -- Successfully processed pageno:209. token_count:1831\n",
      "extract_text_section - L241 - ERROR - pageno: 023, section name:\"raw_german\" was not found. token_count=5000\n",
      "extract_text_section - L241 - ERROR - pageno: 023, section name:\"german\" was not found. token_count=5000\n",
      "extract_text_section - L241 - ERROR - pageno: 023, section name:\"english\" was not found. token_count=5000\n",
      "logging_for_main - L241 - ERROR - main pageno:023. `english_text` contains 'section was not found'. token_count:5000\n",
      "logging_for_main - L251 - INFO - 30 of 380 -- Successfully processed pageno:215. token_count:1896\n",
      "logging_for_main - L251 - INFO - 31 of 380 -- Successfully processed pageno:231. token_count:2031\n",
      "logging_for_main - L251 - INFO - 32 of 380 -- Successfully processed pageno:028. token_count:2010\n",
      "logging_for_main - L251 - INFO - 33 of 380 -- Successfully processed pageno:378. token_count:1840\n",
      "logging_for_main - L251 - INFO - 34 of 380 -- Successfully processed pageno:313. token_count:1545\n",
      "logging_for_main - L251 - INFO - 35 of 380 -- Successfully processed pageno:244. token_count:1593\n",
      "logging_for_main - L251 - INFO - 36 of 380 -- Successfully processed pageno:348. token_count:1640\n",
      "logging_for_main - L251 - INFO - 37 of 380 -- Successfully processed pageno:139. token_count:1864\n",
      "logging_for_main - L251 - INFO - 38 of 380 -- Successfully processed pageno:303. token_count:2117\n",
      "logging_for_main - L251 - INFO - 39 of 380 -- Successfully processed pageno:371. token_count:3150\n",
      "logging_for_main - L251 - INFO - 40 of 380 -- Successfully processed pageno:208. token_count:1934\n",
      "logging_for_main - L251 - INFO - 41 of 380 -- Successfully processed pageno:245. token_count:1711\n",
      "logging_for_main - L251 - INFO - 42 of 380 -- Successfully processed pageno:344. token_count:1609\n",
      "logging_for_main - L251 - INFO - 43 of 380 -- Successfully processed pageno:379. token_count:4789\n",
      "logging_for_main - L251 - INFO - 44 of 380 -- Successfully processed pageno:373. token_count:3843\n",
      "logging_for_main - L251 - INFO - 45 of 380 -- Successfully processed pageno:347. token_count:66\n",
      "logging_for_main - L251 - INFO - 46 of 380 -- Successfully processed pageno:027. token_count:1604\n",
      "logging_for_main - L251 - INFO - 47 of 380 -- Successfully processed pageno:132. token_count:1963\n",
      "logging_for_main - L251 - INFO - 48 of 380 -- Successfully processed pageno:122. token_count:1632\n",
      "logging_for_main - L251 - INFO - 49 of 380 -- Successfully processed pageno:370. token_count:2334\n",
      "logging_for_main - L251 - INFO - 50 of 380 -- Successfully processed pageno:274. token_count:1963\n",
      "logging_for_main - L251 - INFO - 51 of 380 -- Successfully processed pageno:310. token_count:1812\n",
      "logging_for_main - L251 - INFO - 52 of 380 -- Successfully processed pageno:229. token_count:1953\n",
      "logging_for_main - L251 - INFO - 53 of 380 -- Successfully processed pageno:363. token_count:2096\n",
      "logging_for_main - L251 - INFO - 54 of 380 -- Successfully processed pageno:113. token_count:1328\n",
      "logging_for_main - L251 - INFO - 55 of 380 -- Successfully processed pageno:364. token_count:2451\n",
      "extract_text_section - L241 - ERROR - pageno: 360, section name:\"raw_german\" was not found. token_count=4999\n",
      "extract_text_section - L241 - ERROR - pageno: 360, section name:\"german\" was not found. token_count=4999\n",
      "extract_text_section - L241 - ERROR - pageno: 360, section name:\"english\" was not found. token_count=4999\n",
      "logging_for_main - L241 - ERROR - main pageno:360. `english_text` contains 'section was not found'. token_count:4999\n",
      "logging_for_main - L251 - INFO - 57 of 380 -- Successfully processed pageno:135. token_count:1646\n",
      "logging_for_main - L251 - INFO - 58 of 380 -- Successfully processed pageno:237. token_count:1948\n",
      "logging_for_main - L251 - INFO - 59 of 380 -- Successfully processed pageno:129. token_count:2021\n",
      "logging_for_main - L251 - INFO - 60 of 380 -- Successfully processed pageno:329. token_count:1839\n",
      "logging_for_main - L251 - INFO - 61 of 380 -- Successfully processed pageno:125. token_count:2176\n",
      "logging_for_main - L251 - INFO - 62 of 380 -- Successfully processed pageno:307. token_count:2006\n",
      "logging_for_main - L251 - INFO - 63 of 380 -- Successfully processed pageno:233. token_count:1983\n",
      "logging_for_main - L251 - INFO - 64 of 380 -- Successfully processed pageno:123. token_count:2160\n",
      "logging_for_main - L251 - INFO - 65 of 380 -- Successfully processed pageno:316. token_count:1727\n",
      "logging_for_main - L251 - INFO - 66 of 380 -- Successfully processed pageno:374. token_count:3288\n",
      "logging_for_main - L251 - INFO - 67 of 380 -- Successfully processed pageno:143. token_count:1978\n",
      "logging_for_main - L251 - INFO - 68 of 380 -- Successfully processed pageno:359. token_count:2029\n",
      "logging_for_main - L251 - INFO - 69 of 380 -- Successfully processed pageno:240. token_count:1849\n",
      "logging_for_main - L251 - INFO - 70 of 380 -- Successfully processed pageno:319. token_count:1766\n",
      "logging_for_main - L251 - INFO - 71 of 380 -- Successfully processed pageno:147. token_count:2118\n",
      "logging_for_main - L251 - INFO - 72 of 380 -- Successfully processed pageno:214. token_count:2137\n",
      "extract_text_section - L241 - ERROR - pageno: 238, section name:\"raw_german\" was not found. token_count=5001\n",
      "extract_text_section - L241 - ERROR - pageno: 238, section name:\"german\" was not found. token_count=5001\n",
      "extract_text_section - L241 - ERROR - pageno: 238, section name:\"english\" was not found. token_count=5001\n",
      "logging_for_main - L241 - ERROR - main pageno:238. `english_text` contains 'section was not found'. token_count:5001\n",
      "logging_for_main - L251 - INFO - 74 of 380 -- Successfully processed pageno:369. token_count:2710\n",
      "logging_for_main - L251 - INFO - 75 of 380 -- Successfully processed pageno:367. token_count:1488\n",
      "logging_for_main - L251 - INFO - 76 of 380 -- Successfully processed pageno:148. token_count:1477\n",
      "logging_for_main - L251 - INFO - 77 of 380 -- Successfully processed pageno:114. token_count:1990\n",
      "logging_for_main - L251 - INFO - 78 of 380 -- Successfully processed pageno:128. token_count:1868\n",
      "logging_for_main - L251 - INFO - 79 of 380 -- Successfully processed pageno:242. token_count:779\n",
      "logging_for_main - L251 - INFO - 80 of 380 -- Successfully processed pageno:216. token_count:1905\n",
      "logging_for_main - L251 - INFO - 81 of 380 -- Successfully processed pageno:302. token_count:1879\n",
      "logging_for_main - L251 - INFO - 82 of 380 -- Successfully processed pageno:121. token_count:1940\n",
      "logging_for_main - L251 - INFO - 83 of 380 -- Successfully processed pageno:210. token_count:1982\n",
      "logging_for_main - L251 - INFO - 84 of 380 -- Successfully processed pageno:324. token_count:1694\n",
      "logging_for_main - L251 - INFO - 85 of 380 -- Successfully processed pageno:308. token_count:1938\n",
      "logging_for_main - L251 - INFO - 86 of 380 -- Successfully processed pageno:213. token_count:2205\n",
      "logging_for_main - L251 - INFO - 87 of 380 -- Successfully processed pageno:138. token_count:1851\n",
      "logging_for_main - L251 - INFO - 88 of 380 -- Successfully processed pageno:119. token_count:1837\n",
      "logging_for_main - L251 - INFO - 89 of 380 -- Successfully processed pageno:315. token_count:1675\n",
      "logging_for_main - L251 - INFO - 90 of 380 -- Successfully processed pageno:131. token_count:1560\n",
      "logging_for_main - L251 - INFO - 91 of 380 -- Successfully processed pageno:211. token_count:2087\n",
      "logging_for_main - L251 - INFO - 92 of 380 -- Successfully processed pageno:305. token_count:2112\n",
      "logging_for_main - L251 - INFO - 93 of 380 -- Successfully processed pageno:306. token_count:1898\n",
      "logging_for_main - L251 - INFO - 94 of 380 -- Successfully processed pageno:126. token_count:1873\n",
      "logging_for_main - L251 - INFO - 95 of 380 -- Successfully processed pageno:368. token_count:1855\n",
      "logging_for_main - L251 - INFO - 96 of 380 -- Successfully processed pageno:127. token_count:2027\n",
      "logging_for_main - L251 - INFO - 97 of 380 -- Successfully processed pageno:118. token_count:1968\n",
      "logging_for_main - L251 - INFO - 98 of 380 -- Successfully processed pageno:124. token_count:1969\n",
      "logging_for_main - L251 - INFO - 99 of 380 -- Successfully processed pageno:314. token_count:1810\n",
      "logging_for_main - L251 - INFO - 100 of 380 -- Successfully processed pageno:120. token_count:1868\n",
      "logging_for_main - L251 - INFO - 101 of 380 -- Successfully processed pageno:320. token_count:1909\n",
      "logging_for_main - L251 - INFO - 102 of 380 -- Successfully processed pageno:322. token_count:1652\n",
      "logging_for_main - L251 - INFO - 103 of 380 -- Successfully processed pageno:117. token_count:1987\n",
      "logging_for_main - L251 - INFO - 104 of 380 -- Successfully processed pageno:317. token_count:1871\n",
      "logging_for_main - L251 - INFO - 105 of 380 -- Successfully processed pageno:153. token_count:1924\n",
      "logging_for_main - L251 - INFO - 106 of 380 -- Successfully processed pageno:321. token_count:1885\n",
      "logging_for_main - L251 - INFO - 107 of 380 -- Successfully processed pageno:149. token_count:2183\n",
      "logging_for_main - L251 - INFO - 108 of 380 -- Successfully processed pageno:144. token_count:1906\n",
      "logging_for_main - L251 - INFO - 109 of 380 -- Successfully processed pageno:150. token_count:2085\n",
      "logging_for_main - L251 - INFO - 110 of 380 -- Successfully processed pageno:025. token_count:1670\n",
      "logging_for_main - L251 - INFO - 111 of 380 -- Successfully processed pageno:328. token_count:2135\n",
      "logging_for_main - L251 - INFO - 112 of 380 -- Successfully processed pageno:311. token_count:1814\n",
      "logging_for_main - L251 - INFO - 113 of 380 -- Successfully processed pageno:366. token_count:2662\n",
      "logging_for_main - L251 - INFO - 114 of 380 -- Successfully processed pageno:309. token_count:1666\n",
      "logging_for_main - L251 - INFO - 115 of 380 -- Successfully processed pageno:130. token_count:934\n",
      "logging_for_main - L251 - INFO - 116 of 380 -- Successfully processed pageno:365. token_count:2389\n",
      "logging_for_main - L251 - INFO - 117 of 380 -- Successfully processed pageno:232. token_count:2034\n",
      "logging_for_main - L251 - INFO - 118 of 380 -- Successfully processed pageno:116. token_count:1824\n",
      "logging_for_main - L251 - INFO - 119 of 380 -- Successfully processed pageno:228. token_count:1723\n",
      "logging_for_main - L251 - INFO - 120 of 380 -- Successfully processed pageno:361. token_count:2160\n",
      "logging_for_main - L251 - INFO - 121 of 380 -- Successfully processed pageno:377. token_count:2451\n",
      "logging_for_main - L251 - INFO - 122 of 380 -- Successfully processed pageno:372. token_count:3974\n",
      "logging_for_main - L251 - INFO - 123 of 380 -- Successfully processed pageno:115. token_count:1882\n",
      "logging_for_main - L251 - INFO - 124 of 380 -- Successfully processed pageno:234. token_count:2174\n",
      "logging_for_main - L251 - INFO - 125 of 380 -- Successfully processed pageno:154. token_count:1735\n",
      "logging_for_main - L251 - INFO - 126 of 380 -- Successfully processed pageno:380. token_count:4235\n",
      "logging_for_main - L251 - INFO - 127 of 380 -- Successfully processed pageno:137. token_count:2032\n",
      "logging_for_main - L251 - INFO - 128 of 380 -- Successfully processed pageno:024. token_count:1786\n",
      "logging_for_main - L251 - INFO - 129 of 380 -- Successfully processed pageno:345. token_count:1763\n",
      "logging_for_main - L251 - INFO - 130 of 380 -- Successfully processed pageno:140. token_count:1724\n",
      "logging_for_main - L251 - INFO - 131 of 380 -- Successfully processed pageno:026. token_count:1759\n",
      "logging_for_main - L251 - INFO - 132 of 380 -- Successfully processed pageno:151. token_count:1843\n",
      "logging_for_main - L251 - INFO - 133 of 380 -- Successfully processed pageno:312. token_count:1397\n",
      "logging_for_main - L251 - INFO - 134 of 380 -- Successfully processed pageno:141. token_count:2144\n",
      "logging_for_main - L251 - INFO - 135 of 380 -- Successfully processed pageno:236. token_count:754\n",
      "logging_for_main - L251 - INFO - 136 of 380 -- Successfully processed pageno:146. token_count:1993\n",
      "logging_for_main - L251 - INFO - 137 of 380 -- Successfully processed pageno:145. token_count:2030\n",
      "logging_for_main - L251 - INFO - 138 of 380 -- Successfully processed pageno:142. token_count:1928\n",
      "logging_for_main - L251 - INFO - 139 of 380 -- Successfully processed pageno:105. token_count:1474\n",
      "logging_for_main - L251 - INFO - 140 of 380 -- Successfully processed pageno:304. token_count:2234\n",
      "logging_for_main - L251 - INFO - 141 of 380 -- Successfully processed pageno:341. token_count:1869\n",
      "logging_for_main - L251 - INFO - 142 of 380 -- Successfully processed pageno:336. token_count:1406\n",
      "logging_for_main - L251 - INFO - 143 of 380 -- Successfully processed pageno:101. token_count:1991\n",
      "logging_for_main - L251 - INFO - 144 of 380 -- Successfully processed pageno:223. token_count:2072\n",
      "logging_for_main - L251 - INFO - 145 of 380 -- Successfully processed pageno:275. token_count:2040\n",
      "logging_for_main - L251 - INFO - 146 of 380 -- Successfully processed pageno:071. token_count:1802\n",
      "logging_for_main - L251 - INFO - 147 of 380 -- Successfully processed pageno:335. token_count:107\n",
      "logging_for_main - L251 - INFO - 148 of 380 -- Successfully processed pageno:110. token_count:1911\n",
      "logging_for_main - L251 - INFO - 149 of 380 -- Successfully processed pageno:100. token_count:1949\n",
      "logging_for_main - L251 - INFO - 150 of 380 -- Successfully processed pageno:222. token_count:2004\n",
      "logging_for_main - L251 - INFO - 151 of 380 -- Successfully processed pageno:097. token_count:2006\n",
      "logging_for_main - L251 - INFO - 152 of 380 -- Successfully processed pageno:289. token_count:2008\n",
      "logging_for_main - L251 - INFO - 153 of 380 -- Successfully processed pageno:298. token_count:2058\n",
      "logging_for_main - L251 - INFO - 154 of 380 -- Successfully processed pageno:094. token_count:2120\n",
      "logging_for_main - L251 - INFO - 155 of 380 -- Successfully processed pageno:109. token_count:1962\n",
      "logging_for_main - L251 - INFO - 156 of 380 -- Successfully processed pageno:095. token_count:1847\n",
      "logging_for_main - L251 - INFO - 157 of 380 -- Successfully processed pageno:259. token_count:1819\n",
      "logging_for_main - L251 - INFO - 158 of 380 -- Successfully processed pageno:252. token_count:1965\n",
      "logging_for_main - L251 - INFO - 159 of 380 -- Successfully processed pageno:096. token_count:1818\n",
      "logging_for_main - L251 - INFO - 160 of 380 -- Successfully processed pageno:200. token_count:1900\n",
      "logging_for_main - L251 - INFO - 161 of 380 -- Successfully processed pageno:082. token_count:1459\n",
      "logging_for_main - L251 - INFO - 162 of 380 -- Successfully processed pageno:334. token_count:1369\n",
      "logging_for_main - L251 - INFO - 163 of 380 -- Successfully processed pageno:288. token_count:1939\n",
      "logging_for_main - L251 - INFO - 164 of 380 -- Successfully processed pageno:001. token_count:195\n",
      "logging_for_main - L251 - INFO - 165 of 380 -- Successfully processed pageno:093. token_count:1925\n",
      "logging_for_main - L251 - INFO - 166 of 380 -- Successfully processed pageno:272. token_count:1951\n",
      "logging_for_main - L251 - INFO - 167 of 380 -- Successfully processed pageno:184. token_count:2091\n",
      "logging_for_main - L251 - INFO - 168 of 380 -- Successfully processed pageno:271. token_count:1988\n",
      "logging_for_main - L251 - INFO - 169 of 380 -- Successfully processed pageno:170. token_count:2014\n",
      "logging_for_main - L251 - INFO - 170 of 380 -- Successfully processed pageno:265. token_count:1736\n",
      "logging_for_main - L251 - INFO - 171 of 380 -- Successfully processed pageno:004. token_count:377\n",
      "logging_for_main - L251 - INFO - 172 of 380 -- Successfully processed pageno:003. token_count:1194\n",
      "logging_for_main - L251 - INFO - 173 of 380 -- Successfully processed pageno:081. token_count:2043\n",
      "logging_for_main - L251 - INFO - 174 of 380 -- Successfully processed pageno:083. token_count:1396\n",
      "logging_for_main - L251 - INFO - 175 of 380 -- Successfully processed pageno:173. token_count:1865\n",
      "logging_for_main - L251 - INFO - 176 of 380 -- Successfully processed pageno:286. token_count:1876\n",
      "logging_for_main - L251 - INFO - 177 of 380 -- Successfully processed pageno:277. token_count:2091\n",
      "logging_for_main - L251 - INFO - 178 of 380 -- Successfully processed pageno:253. token_count:1846\n",
      "logging_for_main - L251 - INFO - 179 of 380 -- Successfully processed pageno:175. token_count:1778\n",
      "logging_for_main - L251 - INFO - 180 of 380 -- Successfully processed pageno:201. token_count:1981\n",
      "logging_for_main - L251 - INFO - 181 of 380 -- Successfully processed pageno:015. token_count:1909\n",
      "logging_for_main - L251 - INFO - 182 of 380 -- Successfully processed pageno:185. token_count:2138\n",
      "logging_for_main - L251 - INFO - 183 of 380 -- Successfully processed pageno:195. token_count:1915\n",
      "logging_for_main - L251 - INFO - 184 of 380 -- Successfully processed pageno:014. token_count:2055\n",
      "logging_for_main - L251 - INFO - 185 of 380 -- Successfully processed pageno:187. token_count:1985\n",
      "logging_for_main - L251 - INFO - 186 of 380 -- Successfully processed pageno:291. token_count:2066\n",
      "logging_for_main - L251 - INFO - 187 of 380 -- Successfully processed pageno:264. token_count:1382\n",
      "logging_for_main - L251 - INFO - 188 of 380 -- Successfully processed pageno:196. token_count:1797\n",
      "logging_for_main - L251 - INFO - 189 of 380 -- Successfully processed pageno:339. token_count:1820\n",
      "logging_for_main - L251 - INFO - 190 of 380 -- Successfully processed pageno:193. token_count:1913\n",
      "logging_for_main - L251 - INFO - 191 of 380 -- Successfully processed pageno:295. token_count:1994\n",
      "logging_for_main - L251 - INFO - 192 of 380 -- Successfully processed pageno:188. token_count:2239\n",
      "logging_for_main - L251 - INFO - 193 of 380 -- Successfully processed pageno:284. token_count:2037\n",
      "logging_for_main - L251 - INFO - 194 of 380 -- Successfully processed pageno:268. token_count:1827\n",
      "logging_for_main - L251 - INFO - 195 of 380 -- Successfully processed pageno:254. token_count:1983\n",
      "logging_for_main - L251 - INFO - 196 of 380 -- Successfully processed pageno:174. token_count:2055\n",
      "logging_for_main - L251 - INFO - 197 of 380 -- Successfully processed pageno:032. token_count:1583\n",
      "logging_for_main - L251 - INFO - 198 of 380 -- Successfully processed pageno:035. token_count:1793\n",
      "logging_for_main - L251 - INFO - 199 of 380 -- Successfully processed pageno:161. token_count:1935\n",
      "logging_for_main - L251 - INFO - 200 of 380 -- Successfully processed pageno:283. token_count:1940\n",
      "logging_for_main - L251 - INFO - 201 of 380 -- Successfully processed pageno:269. token_count:1799\n",
      "logging_for_main - L251 - INFO - 202 of 380 -- Successfully processed pageno:282. token_count:1904\n",
      "logging_for_main - L251 - INFO - 203 of 380 -- Successfully processed pageno:034. token_count:2054\n",
      "logging_for_main - L251 - INFO - 204 of 380 -- Successfully processed pageno:075. token_count:1654\n",
      "logging_for_main - L251 - INFO - 205 of 380 -- Successfully processed pageno:074. token_count:1843\n",
      "logging_for_main - L251 - INFO - 206 of 380 -- Successfully processed pageno:270. token_count:1769\n",
      "logging_for_main - L251 - INFO - 207 of 380 -- Successfully processed pageno:160. token_count:1814\n",
      "logging_for_main - L251 - INFO - 208 of 380 -- Successfully processed pageno:267. token_count:1981\n",
      "logging_for_main - L251 - INFO - 209 of 380 -- Successfully processed pageno:033. token_count:1949\n",
      "logging_for_main - L251 - INFO - 210 of 380 -- Successfully processed pageno:112. token_count:74\n",
      "logging_for_main - L251 - INFO - 211 of 380 -- Successfully processed pageno:076. token_count:1967\n",
      "logging_for_main - L251 - INFO - 212 of 380 -- Successfully processed pageno:219. token_count:1896\n",
      "logging_for_main - L251 - INFO - 213 of 380 -- Successfully processed pageno:077. token_count:1915\n",
      "logging_for_main - L251 - INFO - 214 of 380 -- Successfully processed pageno:217. token_count:1915\n",
      "logging_for_main - L251 - INFO - 215 of 380 -- Successfully processed pageno:098. token_count:1973\n",
      "logging_for_main - L251 - INFO - 216 of 380 -- Successfully processed pageno:355. token_count:2212\n",
      "logging_for_main - L251 - INFO - 217 of 380 -- Successfully processed pageno:078. token_count:2081\n",
      "logging_for_main - L251 - INFO - 218 of 380 -- Successfully processed pageno:002. token_count:166\n",
      "logging_for_main - L251 - INFO - 219 of 380 -- Successfully processed pageno:016. token_count:1740\n",
      "logging_for_main - L244 - ERROR - main pageno:247. '[' present in english_text. token_count:1776\n"
     ]
    },
    {
     "name": "stdout",
     "output_type": "stream",
     "text": [
      "pageno:247[this involved 2½ divisions of Landsturm²)] as a special army group near Krakow. This group was to cross the border on August 17 and advance shoulder to shoulder with the German Landwehr Corps against the Vistula north of the San estuary.\n",
      "For the main forces to be assembled between Stanislau and the San estuary, it was stated: \"From this assembly, the offensive will begin — depending on the deployment and behavior of the Russian forces — in an easterly direction (in the unlikely event that the mass of the Russians marched against the Galician eastern border) on the 20th, in a northerly direction on August 22 from the left flank. To support this offensive of the Austro-Hungarian army, it is desired in all cases that the offensive of the 4½ army corps of Generaloberst v. Prittwitz proceed in the direction over Siedlce.\" ... — That was much further than the 1909 promoted offensive \"against the Narew\"³).\n",
      "General v. Conrad repeated this new demand in a letter dated August 15⁴) and finally concluded that \"only then can success be considered if these German forces also unite with ours between the Bug and Vistula to strike.\" It was no longer a \"binding\" of Russian forces, as demanded and promised in 1909, or a \"relief,\" as was still presented as the goal of German support in January 1913, but it aimed at immediate cooperation on the battlefield, with General v. Conrad continuing to envision the subordination of the German 8th Army under Austro-Hungarian command as a desirable solution⁵).\n",
      "The execution of the offensive \"over Siedlce\" seems to have been definitely expected by General v. Conrad⁶). However, for such an offensive, a German commitment was never given and could\n",
      "</body>\n",
      "<footer>\n",
      "¹) Further details on the combat value of Austro-Hungarian units can be found in the comparative compilation in Appendix 2.\n",
      "²) The explanations in parentheses were not given in the letter itself.\n",
      "³) See p. 8ff.\n",
      "⁴) Conrad IV, p. 210.\n",
      "⁵) Ibid., p. 261.\n",
      "⁶) Ibid., p. 282.\n",
      "</footer>\n",
      "\n",
      "------------------------------------------------------------------\n"
     ]
    },
    {
     "name": "stderr",
     "output_type": "stream",
     "text": [
      "logging_for_main - L251 - INFO - 221 of 380 -- Successfully processed pageno:261. token_count:1963\n",
      "logging_for_main - L251 - INFO - 222 of 380 -- Successfully processed pageno:206. token_count:685\n",
      "logging_for_main - L251 - INFO - 223 of 380 -- Successfully processed pageno:352. token_count:3245\n",
      "logging_for_main - L251 - INFO - 224 of 380 -- Successfully processed pageno:013. token_count:2026\n",
      "logging_for_main - L251 - INFO - 225 of 380 -- Successfully processed pageno:104. token_count:1495\n",
      "logging_for_main - L251 - INFO - 226 of 380 -- Successfully processed pageno:358. token_count:2896\n",
      "logging_for_main - L251 - INFO - 227 of 380 -- Successfully processed pageno:258. token_count:1970\n",
      "logging_for_main - L251 - INFO - 228 of 380 -- Successfully processed pageno:249. token_count:1759\n",
      "extract_text_section - L241 - ERROR - pageno: 205, section name:\"raw_german\" was not found. token_count=5000\n",
      "extract_text_section - L241 - ERROR - pageno: 205, section name:\"german\" was not found. token_count=5000\n",
      "extract_text_section - L241 - ERROR - pageno: 205, section name:\"english\" was not found. token_count=5000\n",
      "logging_for_main - L241 - ERROR - main pageno:205. `english_text` contains 'section was not found'. token_count:5000\n",
      "logging_for_main - L251 - INFO - 230 of 380 -- Successfully processed pageno:300. token_count:1893\n",
      "logging_for_main - L251 - INFO - 231 of 380 -- Successfully processed pageno:102. token_count:2033\n",
      "logging_for_main - L251 - INFO - 232 of 380 -- Successfully processed pageno:343. token_count:1645\n",
      "logging_for_main - L251 - INFO - 233 of 380 -- Successfully processed pageno:103. token_count:1847\n",
      "logging_for_main - L251 - INFO - 234 of 380 -- Successfully processed pageno:297. token_count:2171\n",
      "logging_for_main - L251 - INFO - 235 of 380 -- Successfully processed pageno:292. token_count:1897\n",
      "logging_for_main - L251 - INFO - 236 of 380 -- Successfully processed pageno:162. token_count:2166\n",
      "logging_for_main - L251 - INFO - 237 of 380 -- Successfully processed pageno:183. token_count:2090\n",
      "logging_for_main - L251 - INFO - 238 of 380 -- Successfully processed pageno:285. token_count:1899\n",
      "logging_for_main - L251 - INFO - 239 of 380 -- Successfully processed pageno:354. token_count:2864\n",
      "extract_text_section - L241 - ERROR - pageno: 166, section name:\"german\" was not found. token_count=714\n",
      "extract_text_section - L241 - ERROR - pageno: 166, section name:\"english\" was not found. token_count=714\n",
      "logging_for_main - L241 - ERROR - main pageno:166. `english_text` contains 'section was not found'. token_count:714\n",
      "extract_text_section - L241 - ERROR - pageno: 169, section name:\"english\" was not found. token_count=1556\n",
      "logging_for_main - L241 - ERROR - main pageno:169. `english_text` contains 'section was not found'. token_count:1556\n",
      "logging_for_main - L251 - INFO - 242 of 380 -- Successfully processed pageno:017. token_count:1802\n",
      "logging_for_main - L251 - INFO - 243 of 380 -- Successfully processed pageno:191. token_count:1993\n",
      "logging_for_main - L251 - INFO - 244 of 380 -- Successfully processed pageno:276. token_count:1947\n",
      "logging_for_main - L251 - INFO - 245 of 380 -- Successfully processed pageno:192. token_count:2045\n",
      "logging_for_main - L251 - INFO - 246 of 380 -- Successfully processed pageno:189. token_count:1812\n",
      "logging_for_main - L251 - INFO - 247 of 380 -- Successfully processed pageno:176. token_count:1880\n",
      "logging_for_main - L251 - INFO - 248 of 380 -- Successfully processed pageno:009. token_count:952\n",
      "logging_for_main - L251 - INFO - 249 of 380 -- Successfully processed pageno:257. token_count:1880\n",
      "logging_for_main - L251 - INFO - 250 of 380 -- Successfully processed pageno:037. token_count:1641\n",
      "logging_for_main - L251 - INFO - 251 of 380 -- Successfully processed pageno:036. token_count:2085\n",
      "logging_for_main - L251 - INFO - 252 of 380 -- Successfully processed pageno:356. token_count:2134\n",
      "logging_for_main - L251 - INFO - 253 of 380 -- Successfully processed pageno:011. token_count:1834\n",
      "logging_for_main - L251 - INFO - 254 of 380 -- Successfully processed pageno:156. token_count:1905\n",
      "logging_for_main - L251 - INFO - 255 of 380 -- Successfully processed pageno:012. token_count:1879\n",
      "logging_for_main - L251 - INFO - 256 of 380 -- Successfully processed pageno:351. token_count:2731\n",
      "logging_for_main - L251 - INFO - 257 of 380 -- Successfully processed pageno:010. token_count:1505\n",
      "logging_for_main - L251 - INFO - 258 of 380 -- Successfully processed pageno:066. token_count:1946\n",
      "logging_for_main - L251 - INFO - 259 of 380 -- Successfully processed pageno:067. token_count:1833\n",
      "logging_for_main - L251 - INFO - 260 of 380 -- Successfully processed pageno:070. token_count:2049\n",
      "logging_for_main - L251 - INFO - 261 of 380 -- Successfully processed pageno:178. token_count:1179\n",
      "logging_for_main - L251 - INFO - 262 of 380 -- Successfully processed pageno:069. token_count:1701\n",
      "logging_for_main - L251 - INFO - 263 of 380 -- Successfully processed pageno:332. token_count:1910\n",
      "logging_for_main - L251 - INFO - 264 of 380 -- Successfully processed pageno:177. token_count:2039\n",
      "logging_for_main - L251 - INFO - 265 of 380 -- Successfully processed pageno:068. token_count:2131\n",
      "logging_for_main - L251 - INFO - 266 of 380 -- Successfully processed pageno:227. token_count:2131\n",
      "logging_for_main - L251 - INFO - 267 of 380 -- Successfully processed pageno:190. token_count:2079\n",
      "logging_for_main - L251 - INFO - 268 of 380 -- Successfully processed pageno:273. token_count:1989\n",
      "extract_text_section - L241 - ERROR - pageno: 008, section name:\"raw_german\" was not found. token_count=5000\n",
      "extract_text_section - L241 - ERROR - pageno: 008, section name:\"german\" was not found. token_count=5000\n",
      "extract_text_section - L241 - ERROR - pageno: 008, section name:\"english\" was not found. token_count=5000\n",
      "logging_for_main - L241 - ERROR - main pageno:008. `english_text` contains 'section was not found'. token_count:5000\n",
      "logging_for_main - L251 - INFO - 270 of 380 -- Successfully processed pageno:262. token_count:2021\n",
      "logging_for_main - L251 - INFO - 271 of 380 -- Successfully processed pageno:299. token_count:2158\n",
      "logging_for_main - L251 - INFO - 272 of 380 -- Successfully processed pageno:172. token_count:1956\n",
      "logging_for_main - L251 - INFO - 273 of 380 -- Successfully processed pageno:163. token_count:2058\n",
      "logging_for_main - L251 - INFO - 274 of 380 -- Successfully processed pageno:294. token_count:1890\n",
      "logging_for_main - L251 - INFO - 275 of 380 -- Successfully processed pageno:338. token_count:2178\n",
      "logging_for_main - L251 - INFO - 276 of 380 -- Successfully processed pageno:260. token_count:1735\n",
      "logging_for_main - L251 - INFO - 277 of 380 -- Successfully processed pageno:255. token_count:1920\n",
      "logging_for_main - L251 - INFO - 278 of 380 -- Successfully processed pageno:080. token_count:2079\n",
      "logging_for_main - L251 - INFO - 279 of 380 -- Successfully processed pageno:157. token_count:1929\n",
      "logging_for_main - L251 - INFO - 280 of 380 -- Successfully processed pageno:079. token_count:2167\n",
      "logging_for_main - L251 - INFO - 281 of 380 -- Successfully processed pageno:181. token_count:1916\n",
      "logging_for_main - L251 - INFO - 282 of 380 -- Successfully processed pageno:088. token_count:1949\n",
      "extract_text_section - L241 - ERROR - pageno: 007, section name:\"raw_german\" was not found. token_count=5000\n",
      "extract_text_section - L241 - ERROR - pageno: 007, section name:\"german\" was not found. token_count=5000\n",
      "extract_text_section - L241 - ERROR - pageno: 007, section name:\"english\" was not found. token_count=5000\n",
      "logging_for_main - L241 - ERROR - main pageno:007. `english_text` contains 'section was not found'. token_count:5000\n",
      "logging_for_main - L251 - INFO - 284 of 380 -- Successfully processed pageno:164. token_count:1820\n",
      "logging_for_main - L251 - INFO - 285 of 380 -- Successfully processed pageno:179. token_count:1527\n",
      "logging_for_main - L251 - INFO - 286 of 380 -- Successfully processed pageno:350. token_count:2751\n",
      "logging_for_main - L251 - INFO - 287 of 380 -- Successfully processed pageno:165. token_count:1925\n",
      "logging_for_main - L251 - INFO - 288 of 380 -- Successfully processed pageno:072. token_count:1815\n",
      "logging_for_main - L251 - INFO - 289 of 380 -- Successfully processed pageno:340. token_count:1961\n",
      "logging_for_main - L251 - INFO - 290 of 380 -- Successfully processed pageno:198. token_count:1921\n",
      "logging_for_main - L251 - INFO - 291 of 380 -- Successfully processed pageno:225. token_count:1962\n",
      "logging_for_main - L251 - INFO - 292 of 380 -- Successfully processed pageno:293. token_count:2132\n",
      "logging_for_main - L251 - INFO - 293 of 380 -- Successfully processed pageno:256. token_count:1800\n",
      "logging_for_main - L251 - INFO - 294 of 380 -- Successfully processed pageno:296. token_count:1920\n",
      "logging_for_main - L251 - INFO - 295 of 380 -- Successfully processed pageno:171. token_count:2096\n",
      "logging_for_main - L251 - INFO - 296 of 380 -- Successfully processed pageno:084. token_count:2129\n",
      "logging_for_main - L244 - ERROR - main pageno:246. '[' present in english_text. token_count:1813\n"
     ]
    },
    {
     "name": "stdout",
     "output_type": "stream",
     "text": [
      "pageno:246[Landwehr Corps1) 2)] against Tschenstochau and Kalisch. — Further 5 Reserve Divisions [Replacement Divisions1) 3)] would be available by the 11th day of mobilization and then deployed according to the situation. — The commander-in-chief has the task of binding as many enemy forces as possible and thereby facilitating victory for the Austro-Hungarian army. An early, strongly superior offensive by the Russians against East Prussia would, as further explained, in itself bring about the desired result. If such a result does not occur, the German Eastern Army will advance into Russia in a direction that brings the greatest relief to the Austrian army.” — The corps prepared against Tschenstochau—Kalisch is to carry out such an operation under all circumstances, to begin on the 12th day of mobilization (= August 13) and to march relentlessly over Radom against the Vistula above Iwangrod. — “The Austrian army can thus definitely count on active support for its offensive into Russia from all the forces marching in the east of Germany. The joint success will be all the greater, the earlier and more relentlessly the advance into Russia takes place.”\n",
      "General v. Conrad replied on August 4 that the following Austro-Hungarian forces would march against Russia: 38½ infantry divisions [that was 2 fewer than planned for the “Russia Case”4); they were then missing from the 4th Army5)], 12 March Brigades [they corresponded roughly to the German replacement brigades, but were without any artillery and therefore only represented a significant infantry reinforcement5)], 8 Landsturm Brigades [they corresponded to the German Landwehr brigades, but had even less artillery than these5)], 10 Cavalry Divisions [1 fewer than planned for the “Russia Case”4)5)].\n",
      "1) The explanations in parentheses were not given in the letter itself.\n",
      "2) That the corps against Tschenstochau and Kalisch would consist of Landwehr was known to General v. Conrad. — See Appendix 1 for the order of battle.\n",
      "3) The formation of “Replacement” divisions was to be kept strictly secret; the marginal notes of the reserve divisions only according to combat value.\n",
      "4) See p. 25.\n",
      "5) The explanations in parentheses were not given in the letter itself.</body>\n",
      "\n",
      "------------------------------------------------------------------\n"
     ]
    },
    {
     "name": "stderr",
     "output_type": "stream",
     "text": [
      "logging_for_main - L251 - INFO - 298 of 380 -- Successfully processed pageno:199. token_count:1915\n",
      "logging_for_main - L251 - INFO - 299 of 380 -- Successfully processed pageno:251. token_count:1788\n",
      "logging_for_main - L251 - INFO - 300 of 380 -- Successfully processed pageno:281. token_count:2069\n",
      "logging_for_main - L251 - INFO - 301 of 380 -- Successfully processed pageno:224. token_count:1870\n",
      "logging_for_main - L251 - INFO - 302 of 380 -- Successfully processed pageno:108. token_count:2135\n",
      "logging_for_main - L251 - INFO - 303 of 380 -- Successfully processed pageno:168. token_count:1959\n",
      "logging_for_main - L251 - INFO - 304 of 380 -- Successfully processed pageno:248. token_count:2287\n",
      "logging_for_main - L251 - INFO - 305 of 380 -- Successfully processed pageno:031. token_count:1427\n",
      "logging_for_main - L251 - INFO - 306 of 380 -- Successfully processed pageno:221. token_count:1861\n",
      "logging_for_main - L251 - INFO - 307 of 380 -- Successfully processed pageno:030. token_count:463\n",
      "logging_for_main - L251 - INFO - 308 of 380 -- Successfully processed pageno:107. token_count:1863\n",
      "logging_for_main - L251 - INFO - 309 of 380 -- Successfully processed pageno:278. token_count:1838\n",
      "logging_for_main - L251 - INFO - 310 of 380 -- Successfully processed pageno:250. token_count:1645\n",
      "logging_for_main - L251 - INFO - 311 of 380 -- Successfully processed pageno:085. token_count:2163\n",
      "logging_for_main - L251 - INFO - 312 of 380 -- Successfully processed pageno:041. token_count:1894\n",
      "logging_for_main - L251 - INFO - 313 of 380 -- Successfully processed pageno:287. token_count:2064\n",
      "logging_for_main - L251 - INFO - 314 of 380 -- Successfully processed pageno:220. token_count:1843\n",
      "logging_for_main - L251 - INFO - 315 of 380 -- Successfully processed pageno:301. token_count:1860\n",
      "logging_for_main - L251 - INFO - 316 of 380 -- Successfully processed pageno:029. token_count:1848\n",
      "logging_for_main - L251 - INFO - 317 of 380 -- Successfully processed pageno:342. token_count:1916\n",
      "logging_for_main - L251 - INFO - 318 of 380 -- Successfully processed pageno:042. token_count:1687\n",
      "logging_for_main - L251 - INFO - 319 of 380 -- Successfully processed pageno:263. token_count:1323\n",
      "logging_for_main - L251 - INFO - 320 of 380 -- Successfully processed pageno:039. token_count:1380\n",
      "logging_for_main - L251 - INFO - 321 of 380 -- Successfully processed pageno:038. token_count:1620\n",
      "logging_for_main - L251 - INFO - 322 of 380 -- Successfully processed pageno:337. token_count:1710\n",
      "logging_for_main - L251 - INFO - 323 of 380 -- Successfully processed pageno:049. token_count:1614\n",
      "logging_for_main - L251 - INFO - 324 of 380 -- Successfully processed pageno:266. token_count:1830\n",
      "logging_for_main - L251 - INFO - 325 of 380 -- Successfully processed pageno:040. token_count:1799\n",
      "logging_for_main - L251 - INFO - 326 of 380 -- Successfully processed pageno:197. token_count:1921\n",
      "logging_for_main - L251 - INFO - 327 of 380 -- Successfully processed pageno:050. token_count:1708\n",
      "logging_for_main - L251 - INFO - 328 of 380 -- Successfully processed pageno:202. token_count:2050\n",
      "logging_for_main - L251 - INFO - 329 of 380 -- Successfully processed pageno:218. token_count:1880\n",
      "logging_for_main - L251 - INFO - 330 of 380 -- Successfully processed pageno:048. token_count:1829\n",
      "logging_for_main - L251 - INFO - 331 of 380 -- Successfully processed pageno:204. token_count:2001\n",
      "logging_for_main - L251 - INFO - 332 of 380 -- Successfully processed pageno:047. token_count:1624\n",
      "logging_for_main - L251 - INFO - 333 of 380 -- Successfully processed pageno:333. token_count:1823\n",
      "logging_for_main - L251 - INFO - 334 of 380 -- Successfully processed pageno:194. token_count:1913\n",
      "logging_for_main - L251 - INFO - 335 of 380 -- Successfully processed pageno:290. token_count:1946\n",
      "logging_for_main - L251 - INFO - 336 of 380 -- Successfully processed pageno:046. token_count:1420\n",
      "logging_for_main - L251 - INFO - 337 of 380 -- Successfully processed pageno:279. token_count:2142\n",
      "logging_for_main - L251 - INFO - 338 of 380 -- Successfully processed pageno:073. token_count:2018\n",
      "logging_for_main - L251 - INFO - 339 of 380 -- Successfully processed pageno:203. token_count:1950\n",
      "logging_for_main - L251 - INFO - 340 of 380 -- Successfully processed pageno:062. token_count:1906\n",
      "logging_for_main - L251 - INFO - 341 of 380 -- Successfully processed pageno:111. token_count:1595\n",
      "logging_for_main - L251 - INFO - 342 of 380 -- Successfully processed pageno:167. token_count:1717\n",
      "logging_for_main - L251 - INFO - 343 of 380 -- Successfully processed pageno:058. token_count:1081\n",
      "logging_for_main - L251 - INFO - 344 of 380 -- Successfully processed pageno:059. token_count:1480\n",
      "logging_for_main - L251 - INFO - 345 of 380 -- Successfully processed pageno:155. token_count:1950\n",
      "logging_for_main - L251 - INFO - 346 of 380 -- Successfully processed pageno:060. token_count:1885\n",
      "logging_for_main - L251 - INFO - 347 of 380 -- Successfully processed pageno:086. token_count:1967\n",
      "logging_for_main - L251 - INFO - 348 of 380 -- Successfully processed pageno:061. token_count:1873\n",
      "logging_for_main - L251 - INFO - 349 of 380 -- Successfully processed pageno:089. token_count:1945\n",
      "logging_for_main - L251 - INFO - 350 of 380 -- Successfully processed pageno:381. token_count:526\n",
      "logging_for_main - L251 - INFO - 351 of 380 -- Successfully processed pageno:091. token_count:2069\n",
      "logging_for_main - L251 - INFO - 352 of 380 -- Successfully processed pageno:063. token_count:1600\n",
      "logging_for_main - L251 - INFO - 353 of 380 -- Successfully processed pageno:182. token_count:1797\n",
      "logging_for_main - L251 - INFO - 354 of 380 -- Successfully processed pageno:099. token_count:1774\n",
      "logging_for_main - L251 - INFO - 355 of 380 -- Successfully processed pageno:065. token_count:1975\n",
      "logging_for_main - L251 - INFO - 356 of 380 -- Successfully processed pageno:092. token_count:2037\n",
      "logging_for_main - L251 - INFO - 357 of 380 -- Successfully processed pageno:186. token_count:2140\n",
      "logging_for_main - L251 - INFO - 358 of 380 -- Successfully processed pageno:064. token_count:2073\n",
      "logging_for_main - L251 - INFO - 359 of 380 -- Successfully processed pageno:349. token_count:2352\n",
      "logging_for_main - L251 - INFO - 360 of 380 -- Successfully processed pageno:090. token_count:1907\n",
      "logging_for_main - L251 - INFO - 361 of 380 -- Successfully processed pageno:057. token_count:1618\n",
      "logging_for_main - L251 - INFO - 362 of 380 -- Successfully processed pageno:353. token_count:2717\n",
      "logging_for_main - L251 - INFO - 363 of 380 -- Successfully processed pageno:180. token_count:1953\n",
      "logging_for_main - L251 - INFO - 364 of 380 -- Successfully processed pageno:053. token_count:1694\n",
      "logging_for_main - L251 - INFO - 365 of 380 -- Successfully processed pageno:055. token_count:1839\n",
      "logging_for_main - L251 - INFO - 366 of 380 -- Successfully processed pageno:056. token_count:1804\n",
      "logging_for_main - L251 - INFO - 367 of 380 -- Successfully processed pageno:087. token_count:1868\n",
      "logging_for_main - L251 - INFO - 368 of 380 -- Successfully processed pageno:051. token_count:1850\n",
      "logging_for_main - L251 - INFO - 369 of 380 -- Successfully processed pageno:280. token_count:1930\n",
      "logging_for_main - L251 - INFO - 370 of 380 -- Successfully processed pageno:054. token_count:1864\n",
      "logging_for_main - L251 - INFO - 371 of 380 -- Successfully processed pageno:357. token_count:1561\n",
      "logging_for_main - L251 - INFO - 372 of 380 -- Successfully processed pageno:158. token_count:2068\n",
      "logging_for_main - L251 - INFO - 373 of 380 -- Successfully processed pageno:045. token_count:34\n",
      "logging_for_main - L251 - INFO - 374 of 380 -- Successfully processed pageno:044. token_count:101\n",
      "logging_for_main - L251 - INFO - 375 of 380 -- Successfully processed pageno:005. token_count:1624\n",
      "logging_for_main - L251 - INFO - 376 of 380 -- Successfully processed pageno:052. token_count:1763\n",
      "logging_for_main - L251 - INFO - 377 of 380 -- Successfully processed pageno:106. token_count:2022\n",
      "logging_for_main - L251 - INFO - 378 of 380 -- Successfully processed pageno:159. token_count:2146\n",
      "logging_for_main - L251 - INFO - 379 of 380 -- Successfully processed pageno:043. token_count:1649\n",
      "extract_text_section - L241 - ERROR - pageno: 006, section name:\"raw_german\" was not found. token_count=5000\n",
      "extract_text_section - L241 - ERROR - pageno: 006, section name:\"german\" was not found. token_count=5000\n",
      "extract_text_section - L241 - ERROR - pageno: 006, section name:\"english\" was not found. token_count=5000\n",
      "logging_for_main - L241 - ERROR - main pageno:006. `english_text` contains 'section was not found'. token_count:5000\n",
      "wrapper - L88 - INFO - Finished main in 1462.04 seconds.\n"
     ]
    }
   ],
   "source": [
    "@log_execution_time\n",
    "async def main(fnames, model_name=\"\", semaphore_count=10, extract=True):\n",
    "    semaphore = asyncio.Semaphore(semaphore_count)  # Adjust number based on API limits\n",
    "    async def wrapper_process_page(fname: str) -> Tuple[str, Dict]:\n",
    "        global raw_german_texts, german_texts, english_texts  # Explicitly declare globals\n",
    "        async with semaphore:\n",
    "            pageno = re.search(r'page_(.*?)\\.pdf', fname, re.DOTALL).group(1)\n",
    "            result = await process_single_page(fname, model_name, plotter, pageno, extract) \n",
    "            return pageno, result\n",
    "    \n",
    "    # A list of coroutine objects. include only the unprocessed pages.\n",
    "    tasks = []\n",
    "    print(f'Composing tasks to be executed with asyncio, semaphore_count = {semaphore_count} ')\n",
    "    for fname in fnames:\n",
    "        pageno = re.search(r'page_(.*?)\\.pdf', fname, re.DOTALL).group(1)\n",
    "        if pageno not in set(raw_german_texts.keys()):\n",
    "            print(f'{pageno} ', end='')\n",
    "            tasks.append(wrapper_process_page(fname))\n",
    "    print(f\"main: len(tasks): {len(tasks)} -- Processing tasks as they complete\")\n",
    "    \n",
    "    # Process tasks as they complete\n",
    "    for i, task in enumerate(asyncio.as_completed(tasks)):\n",
    "        try:\n",
    "            pageno, (content, token_count, raw_german_text, german_text, english_text) = await task\n",
    "            raw_german_texts[pageno] = raw_german_text\n",
    "            german_texts[pageno] = german_text\n",
    "            english_texts[pageno] = english_text\n",
    "            \n",
    "            logging_for_main(i, tasks, pageno, token_count, raw_german_text, german_text, english_text)\n",
    "        except Exception as e:\n",
    "            logger.error(f\"{i} of {len(tasks)-1} - Error processing a task: {e}. token_count:{token_count}\")\n",
    "    return \n",
    "\n",
    "# Run the async code\n",
    "await main(fnames, model_name=\"gpt-4o-2024-08-06\", semaphore_count=10)\n"
   ]
  },
  {
   "cell_type": "code",
   "execution_count": 8,
   "id": "723b03ad-3851-4b07-bb8e-a66a13698268",
   "metadata": {},
   "outputs": [
    {
     "name": "stdout",
     "output_type": "stream",
     "text": [
      "\n",
      "> pageno: 006. `raw_german_texts['006']`: pageno: 006, \"<raw_german>\" section was not found\n",
      "\n",
      "> pageno: 007. `raw_german_texts['007']`: pageno: 007, \"<raw_german>\" section was not found\n",
      "\n",
      "> pageno: 008. `raw_german_texts['008']`: pageno: 008, \"<raw_german>\" section was not found\n",
      "\n",
      "> pageno: 023. `raw_german_texts['023']`: pageno: 023, \"<raw_german>\" section was not found\n",
      "\n",
      "> pageno: 166. `german_texts['166']`: pageno: 166, \"<german>\" section was not found\n",
      "\n",
      "> pageno: 169. `english_texts['169']`: pageno: 169, \"<english>\" section was not found\n",
      "\n",
      "> pageno: 205. `raw_german_texts['205']`: pageno: 205, \"<raw_german>\" section was not found\n",
      "\n",
      "> pageno: 238. `raw_german_texts['238']`: pageno: 238, \"<raw_german>\" section was not found\n",
      "\n",
      "> pageno: 360. `raw_german_texts['360']`: pageno: 360, \"<raw_german>\" section was not found\n",
      "\n",
      "bad_pagenos (9): ['006', '007', '008', '023', '166', '169', '205', '238', '360']\n"
     ]
    }
   ],
   "source": [
    "## V5\n",
    "good_pagenos = {}\n",
    "good_pagenos['Der Weltkrieg v5'] = {'213', '225', '221'}\n",
    "good_pagenos['Der Weltkrieg v6'] = {'377', '378', '379'}\n",
    "\n",
    "## V7 ('417' and '429' does not get OCRed by GPT-4o, and it gets summarized by Claude)\n",
    "good_pagenos['Der Weltkrieg v7'] = {'265', '407', '409', '410', '412', '418', '420', '421', '423', '424', '428'} \n",
    "\n",
    "## V8 looks fine\n",
    "good_pagenos['Der Weltkrieg v8'] = {'064', '369'}\n",
    "\n",
    "## v10\n",
    "good_pagenos['Der Weltkrieg v10'] = {'083'}\n",
    "good_pagenos['Der Weltkrieg v11'] = {}\n",
    "good_pagenos['Der Weltkrieg v2'] = {'246','247'}\n",
    "\n",
    "bad_pagenos = find_bad_pagenos(all_pagenos, raw_german_texts, german_texts, english_texts, good_pagenos[foldername])\n",
    "# delete_bad_pagenos(bad_pagenos, raw_german_texts, german_texts, english_texts)"
   ]
  },
  {
   "cell_type": "markdown",
   "id": "d33bdf17-5961-49e5-a101-cccfe6cded0c",
   "metadata": {},
   "source": [
    "---\n",
    "## PART 2\n",
    "##  Handle missing keys (Claude Sonnet)"
   ]
  },
  {
   "cell_type": "code",
   "execution_count": 9,
   "id": "004d68e6-4fd4-4a7d-bf9b-cf220be5f925",
   "metadata": {
    "scrolled": true
   },
   "outputs": [
    {
     "name": "stdout",
     "output_type": "stream",
     "text": [
      "\n",
      "> pageno: 006. `raw_german_texts['006']`: pageno: 006, \"<raw_german>\" section was not found\n",
      "\n",
      "> pageno: 007. `raw_german_texts['007']`: pageno: 007, \"<raw_german>\" section was not found\n",
      "\n",
      "> pageno: 008. `raw_german_texts['008']`: pageno: 008, \"<raw_german>\" section was not found\n",
      "\n",
      "> pageno: 023. `raw_german_texts['023']`: pageno: 023, \"<raw_german>\" section was not found\n",
      "\n",
      "> pageno: 166. `german_texts['166']`: pageno: 166, \"<german>\" section was not found\n",
      "\n",
      "> pageno: 169. `english_texts['169']`: pageno: 169, \"<english>\" section was not found\n",
      "\n",
      "> pageno: 205. `raw_german_texts['205']`: pageno: 205, \"<raw_german>\" section was not found\n",
      "\n",
      "> pageno: 238. `raw_german_texts['238']`: pageno: 238, \"<raw_german>\" section was not found\n",
      "\n",
      "> pageno: 360. `raw_german_texts['360']`: pageno: 360, \"<raw_german>\" section was not found\n",
      "\n",
      "bad_pagenos (9): ['006', '007', '008', '023', '166', '169', '205', '238', '360']\n",
      "------------------------------------------------------------------\n",
      "> Deleting pageno: 006. Please run `await main(fnames, model_name, semaphore_count)` again \n",
      "> Deleting pageno: 007. Please run `await main(fnames, model_name, semaphore_count)` again \n",
      "> Deleting pageno: 008. Please run `await main(fnames, model_name, semaphore_count)` again \n",
      "> Deleting pageno: 023. Please run `await main(fnames, model_name, semaphore_count)` again \n",
      "> Deleting pageno: 166. Please run `await main(fnames, model_name, semaphore_count)` again \n",
      "> Deleting pageno: 169. Please run `await main(fnames, model_name, semaphore_count)` again \n",
      "> Deleting pageno: 205. Please run `await main(fnames, model_name, semaphore_count)` again \n",
      "> Deleting pageno: 238. Please run `await main(fnames, model_name, semaphore_count)` again \n",
      "> Deleting pageno: 360. Please run `await main(fnames, model_name, semaphore_count)` again \n",
      "Composing tasks to be executed with asyncio, semaphore_count = 1 \n",
      "006 007 008 023 166 169 205 238 360 main: len(tasks): 9 -- Processing tasks as they complete\n"
     ]
    },
    {
     "name": "stderr",
     "output_type": "stream",
     "text": [
      "logging_for_main - L251 - INFO - 0 of 8 -- Successfully processed pageno:205. token_count:1961\n",
      "logging_for_main - L251 - INFO - 1 of 8 -- Successfully processed pageno:007. token_count:2367\n",
      "logging_for_main - L248 - ERROR - main pageno:008. '[' present in german_text. token_count:1591\n"
     ]
    },
    {
     "name": "stdout",
     "output_type": "stream",
     "text": [
      "pageno:008[Content continues with all maps and sketches as in raw_german]\n",
      "</body>\n",
      "\n",
      "------------------------------------------------------------------\n"
     ]
    },
    {
     "name": "stderr",
     "output_type": "stream",
     "text": [
      "logging_for_main - L251 - INFO - 3 of 8 -- Successfully processed pageno:166. token_count:1897\n",
      "logging_for_main - L251 - INFO - 4 of 8 -- Successfully processed pageno:360. token_count:1440\n",
      "logging_for_main - L251 - INFO - 5 of 8 -- Successfully processed pageno:006. token_count:2900\n",
      "logging_for_main - L251 - INFO - 6 of 8 -- Successfully processed pageno:169. token_count:2022\n",
      "logging_for_main - L251 - INFO - 7 of 8 -- Successfully processed pageno:023. token_count:1833\n",
      "logging_for_main - L251 - INFO - 8 of 8 -- Successfully processed pageno:238. token_count:1744\n",
      "wrapper - L88 - INFO - Finished main in 316.14 seconds.\n",
      "wrapper - L88 - INFO - Finished main in 0.01 seconds.\n",
      "wrapper - L88 - INFO - Finished main in 0.00 seconds.\n"
     ]
    },
    {
     "name": "stdout",
     "output_type": "stream",
     "text": [
      "\n",
      "bad_pagenos (0): []\n",
      "------------------------------------------------------------------\n",
      "Composing tasks to be executed with asyncio, semaphore_count = 1 \n",
      "main: len(tasks): 0 -- Processing tasks as they complete\n",
      "\n",
      "bad_pagenos (0): []\n",
      "------------------------------------------------------------------\n",
      "Composing tasks to be executed with asyncio, semaphore_count = 1 \n",
      "main: len(tasks): 0 -- Processing tasks as they complete\n",
      "\n",
      "bad_pagenos (0): []\n"
     ]
    }
   ],
   "source": [
    "# Check for unprocessed pages and print them to stdout.\n",
    "# ------------------------------------------------------------------------------------\n",
    "# 1. Rerun the missing pages on Claude without performing FFT based extraction. \n",
    "# ------------------------------------------------------------------------------------\n",
    "\n",
    "# Get missing keys based on empty raw_german_texts\n",
    "bad_pagenos = find_bad_pagenos(all_pagenos, raw_german_texts, german_texts, english_texts, good_pagenos[foldername])\n",
    "delete_bad_pagenos(bad_pagenos, raw_german_texts, german_texts, english_texts)\n",
    "await main(fnames, model_name=\"claude-3-5-sonnet-20241022\", semaphore_count=1, extract=False)\n",
    "\n",
    "# ------------------------------------------------------------------------------------\n",
    "# 2. If there still are missing pages, run them performing FFT based extraction. \n",
    "#    This time compute missing_keys based on 'english_texts'.\n",
    "# ------------------------------------------------------------------------------------\n",
    "\n",
    "# Now get missing keys based on empty english_texts\n",
    "bad_pagenos = find_bad_pagenos(all_pagenos, raw_german_texts, german_texts, english_texts, good_pagenos[foldername])\n",
    "delete_bad_pagenos(bad_pagenos, raw_german_texts, german_texts, english_texts)\n",
    "await main(fnames, model_name=\"claude-3-5-sonnet-20241022\", semaphore_count=1, extract=True)\n",
    "\n",
    "bad_pagenos = find_bad_pagenos(all_pagenos, raw_german_texts, german_texts, english_texts, good_pagenos[foldername])\n",
    "delete_bad_pagenos(bad_pagenos, raw_german_texts, german_texts, english_texts)\n",
    "await main(fnames, model_name=\"claude-3-5-sonnet-20241022\", semaphore_count=1, extract=False)\n",
    "\n",
    "bad_pagenos = find_bad_pagenos(all_pagenos, raw_german_texts, german_texts, english_texts, good_pagenos[foldername])\n"
   ]
  },
  {
   "cell_type": "code",
   "execution_count": 10,
   "id": "420883ef",
   "metadata": {},
   "outputs": [
    {
     "name": "stdout",
     "output_type": "stream",
     "text": [
      "../output_data/Der Weltkrieg v2 created\n",
      "\n",
      "dumped to ../output_data/Der Weltkrieg v2/*json files.\n"
     ]
    }
   ],
   "source": [
    "# save json outputs\n",
    "dump_output_to_json(foldername, raw_german_texts, german_texts, english_texts)\n",
    "\n",
    "# Save json files and .docx files.\n",
    "doc1, fname1 = save_document(german_texts, foldername, language=f'{foldername} - German')\n",
    "doc2, fname2 = save_document(english_texts, foldername, language=f'{foldername} - English')\n"
   ]
  },
  {
   "cell_type": "markdown",
   "id": "ac63eac8",
   "metadata": {},
   "source": [
    "``` \n",
    "1.  Upload Input folder of pdfs to blob storage.\n",
    "2.  Read file from s3.\n",
    "3.  FFT in y -> (x_hi, x_lo), write half_cropped_image to s3\n",
    "4.  FFT in x -> (y_hi, y_lo), write cropped_image to s3\n",
    "5.  Read cropped image from s3 -> encode_image -> translate and transcribe -> JSON output\n",
    "\n",
    "```\n",
    "\n",
    "### Available models and pricing:\n",
    "```\n",
    "\"gpt-4o-2024-08-06\":\n",
    "    \"price_txt\": \"$2.50 / 1M input tokens\"\n",
    "    \"price_img\": \"$0.001913 / 1500px^2\"\n",
    "    \n",
    "\"gpt-4o-mini-2024-07-18\":\n",
    "    \"price_txt\": \"$0.150 / 1M input tokens\"\n",
    "    \"price_img\": \"$0.003825 / 1500px^2\"\n",
    "    \n",
    "```"
   ]
  },
  {
   "cell_type": "markdown",
   "id": "64e6e3a6-1c7d-4cce-badb-8b664f6e75c8",
   "metadata": {},
   "source": [
    "---\n",
    "## PART 3\n",
    "## Load the German text and translate broken sentences."
   ]
  },
  {
   "cell_type": "code",
   "execution_count": 11,
   "id": "d4a46058-0503-4b3a-a1b6-c748b9d1cf86",
   "metadata": {},
   "outputs": [
    {
     "name": "stderr",
     "output_type": "stream",
     "text": [
      "load_output_from_json - L230 - ERROR - `english_texts_defragmented` path doesn't exist: ../output_data/Der Weltkrieg v2/english_texts_defragmented.json\n"
     ]
    }
   ],
   "source": [
    "# initialize output dicts\n",
    "english_texts_defragmented = {}\n",
    "contents = {}\n",
    "payloads = {}\n",
    "fragments_2 = {None:''}\n",
    "\n",
    "raw_german_texts, german_texts, english_texts, _ = load_output_from_json(foldername, load_defrag=True)"
   ]
  },
  {
   "cell_type": "code",
   "execution_count": 12,
   "id": "f23f10ed-d003-451c-8d19-27092ada0f20",
   "metadata": {},
   "outputs": [],
   "source": [
    "from src.constants import FRAGMENTED_SENTENCES_PROMPT\n",
    "\n",
    "def construct_payload_fragmented_sentences(\n",
    "                        german_page_1: str,\n",
    "                        german_page_2: str,\n",
    "                        english_page_1_old: str,\n",
    "                        german_page_1_top_fragment_to_be_ignored: str):\n",
    "\n",
    "    model_name = \"gpt-4o-2024-08-06\"\n",
    "    payload = {\n",
    "        \"model\": model_name,\n",
    "        \"messages\": [\n",
    "          {\n",
    "            \"role\": \"system\", \n",
    "            \"content\": \"You are a World War II historian, who's bilingual in German and English \"\n",
    "              \"You speak both languages with masterful efficiency and you're a professional translator from GERMAN to ENGLISH who \"\n",
    "              \"stays loyal to both the style and the character of the original German text in your book translations.\"\n",
    "          },\n",
    "          {\n",
    "            \"role\": \"user\",\n",
    "            \"content\": [\n",
    "              {\n",
    "                  \"type\": \"text\",\n",
    "                  \"text\": FRAGMENTED_SENTENCES_PROMPT.format(\n",
    "                      german_page_1=german_page_1,\n",
    "                      german_page_2=german_page_2,\n",
    "                      english_page_1_old=english_page_1_old,\n",
    "                      german_page_1_top_fragment_to_be_ignored=german_page_1_top_fragment_to_be_ignored\n",
    "                  )\n",
    "              },\n",
    "            ]\n",
    "          },\n",
    "        ],\n",
    "        \"max_tokens\": 5000,\n",
    "        \"temperature\": 0.1\n",
    "    }\n",
    "\n",
    "    return payload "
   ]
  },
  {
   "cell_type": "code",
   "execution_count": 13,
   "id": "7fee91b5-c14b-4a5e-afb2-8d9210b6be31",
   "metadata": {
    "scrolled": true
   },
   "outputs": [
    {
     "name": "stderr",
     "output_type": "stream",
     "text": [
      "main_broken_sentences - L41 - INFO - Processing pageno: 001 \n",
      "main_broken_sentences - L56 - INFO - pageno:001 next round's fragment_2: Mit vierzehn Karten und elf Skizzen\n",
      "*\n",
      "EML\n",
      "Verlegt bei E. S. Mittler & Sohn\n",
      "Berlin im Jahre 1925\n",
      "main_broken_sentences - L41 - INFO - Processing pageno: 002 \n",
      "main_broken_sentences - L56 - INFO - pageno:002 next round's fragment_2: \n",
      "main_broken_sentences - L41 - INFO - Processing pageno: 003 \n",
      "main_broken_sentences - L56 - INFO - pageno:003 next round's fragment_2: Die Historische Kommission hat Herrn General der Infanterie a. D. Dr. phil. h. c. Hugo Freiherrn v. Freytag-Loringhoven in Weimar sowie Herrn Geheimen Hofrat Dr. Walter Goetz, ordentlichen Professor der Geschichte an der Universität Leipzig, M. d. R., mit der Prüfung des zweiten Bandes beauftragt.\n",
      "main_broken_sentences - L41 - INFO - Processing pageno: 004 \n",
      "main_broken_sentences - L56 - INFO - pageno:004 next round's fragment_2: \n",
      "main_broken_sentences - L41 - INFO - Processing pageno: 005 \n",
      "main_broken_sentences - L56 - INFO - pageno:005 next round's fragment_2: \n",
      "main_broken_sentences - L41 - INFO - Processing pageno: 006 \n",
      "main_broken_sentences - L56 - INFO - pageno:006 next round's fragment_2: Zweites Kapitel. Die Schlacht an den Masurischen Seen.\n",
      "main_broken_sentences - L41 - INFO - Processing pageno: 007 \n",
      "main_broken_sentences - L56 - INFO - pageno:007 next round's fragment_2: Karte 6 (1:100000). Schlacht bei Tannenberg (2. Tag). Angriff der Westgruppe am 27. August 1914.\n",
      "main_broken_sentences - L41 - INFO - Processing pageno: 008 \n",
      "main_broken_sentences - L56 - INFO - pageno:008 next round's fragment_2: \n",
      "main_broken_sentences - L41 - INFO - Processing pageno: 009 \n",
      "main_broken_sentences - L56 - INFO - pageno:009 next round's fragment_2: \n",
      "main_broken_sentences - L41 - INFO - Processing pageno: 010 \n",
      "main_broken_sentences - L56 - INFO - pageno:010 next round's fragment_2: des polnischen Flachlandes vermochten sie den an Zahl schwächeren Ver- teidiger aus jeder Stellung herauszumarschieren; ebenso wie die Njemen- San-Front konnte die deutsche Weichsel-Front schon auf russischem Boden umgangen werden.\n",
      "main_broken_sentences - L41 - INFO - Processing pageno: 011 \n"
     ]
    },
    {
     "name": "stdout",
     "output_type": "stream",
     "text": [
      "dumped fragmented outputs foldername: Der Weltkrieg v2.\n",
      "max(keys) = 010\n"
     ]
    },
    {
     "name": "stderr",
     "output_type": "stream",
     "text": [
      "main_broken_sentences - L56 - INFO - pageno:011 next round's fragment_2: Chef des österreichisch-ungarischen Generalstabes, seit 1906 General der Infanterie Freiherr Conrad v. Hötzendorf, trat daraufhin am 1. Januar 1909 an General v. Moltke heran, um zu klären, welche Maßnahmen sich für beide Mächte aus einem militärischen Eingreifen Rußlands gegen die Donau-Monarchie ergeben könnten.\n",
      "main_broken_sentences - L41 - INFO - Processing pageno: 012 \n",
      "main_broken_sentences - L56 - INFO - pageno:012 next round's fragment_2: mit Serbien sich ruhig verhalten wird, scheint mir durchaus nicht unwahr- scheinlich.\n",
      "main_broken_sentences - L41 - INFO - Processing pageno: 013 \n",
      "main_broken_sentences - L56 - INFO - pageno:013 next round's fragment_2: zusammenzuwirken, könne dann „rein räumlich theoretisch genommen“ sogar zur Frage stehen, den österreichisch-ungarischen Aufmarsch unter Besetzung der Karpatenpässe bis in die Linie Bartfeld—Neu-Sandez—Bochnia (35 km östlich Krakau) — das hieß also weit nach Westgalizien — zurückzulegen.\n",
      "main_broken_sentences - L41 - INFO - Processing pageno: 014 \n",
      "main_broken_sentences - L56 - INFO - pageno:014 next round's fragment_2: Conradschen Briefe vom 1. Januar 1909 die Randbemerkung gemacht: „Sekundäre Gegner soll man sekundär behandeln“.\n",
      "main_broken_sentences - L41 - INFO - Processing pageno: 015 \n",
      "main_broken_sentences - L56 - INFO - pageno:015 next round's fragment_2: wohl eine erfolgreiche Einleitung des Feldzuges, in welchem dann die gegen Frankreich entbehrlichen und die vom Balkan heranzuziehenden Kräfte der Verbündeten einzugreifen vermöchten.\n",
      "main_broken_sentences - L41 - INFO - Processing pageno: 016 \n",
      "main_broken_sentences - L56 - INFO - pageno:016 next round's fragment_2: Unterstützung rechnete.\n",
      "main_broken_sentences - L41 - INFO - Processing pageno: 017 \n",
      "main_broken_sentences - L56 - INFO - pageno:017 next round's fragment_2: der nach einjähriger Unterbrechung soeben wieder an die Spitze des österreichisch-ungarischen Generalstabes berufen worden war, im Januar 1913 an General v. Moltke¹), er habe in den für Ostpreußen bestimmten deutschen Truppen „stets das Minimum jener Kraft erblickt, welche nötig erscheint, um die österreichisch-ungarischen Hauptkräfte gegen russische Vorstöße aus dem Weichselgebiet wenigstens einigermaßen zu entlasten und das Abziehen russischer Kräfte aus der Gegend nördlich des Polesie in jene südlich desselben, also gegen die österreichisch-ungarischen Kräfte, zu verhindern“.\n",
      "main_broken_sentences - L41 - INFO - Processing pageno: 018 \n",
      "main_broken_sentences - L56 - INFO - pageno:018 next round's fragment_2: Kräfte trage mehr wie je eine Gefahr in sich,\n",
      "main_broken_sentences - L41 - INFO - Processing pageno: 019 \n",
      "main_broken_sentences - L56 - INFO - pageno:019 next round's fragment_2: befehl gegen Rußland, der dann erwünscht oder gar notwendig werden mochte, war für die ersten Kriegswochen entbehrlich.\n",
      "main_broken_sentences - L41 - INFO - Processing pageno: 020 \n",
      "main_broken_sentences - L56 - INFO - pageno:020 next round's fragment_2: dann noch möglich sein würde, den Entscheidungskampf im Westen zum siegreichen Abschluß zu bringen, erschien äußerst fraglich.\n",
      "main_broken_sentences - L41 - INFO - Processing pageno: 021 \n"
     ]
    },
    {
     "name": "stdout",
     "output_type": "stream",
     "text": [
      "dumped fragmented outputs foldername: Der Weltkrieg v2.\n",
      "max(keys) = 020\n"
     ]
    },
    {
     "name": "stderr",
     "output_type": "stream",
     "text": [
      "main_broken_sentences - L56 - INFO - pageno:021 next round's fragment_2: Die Rüstungen und Stärkeverhältnisse bis zum Sommer 1914.\n",
      "main_broken_sentences - L41 - INFO - Processing pageno: 022 \n",
      "main_broken_sentences - L56 - INFO - pageno:022 next round's fragment_2: in einigen Punktten über die Kriegsbereitschaft der übrigen Großmächte einschließlich Deutschlands erhebt, nämlich: durch das Ausscheiden der militärischen Schwächeperiode im Winter infolge Zurückbehaltung des ältesten Jahrgangs bis zur vollendeten Ausbildung der Rekruten, — durch häufige praktische Erprobung der gesamten Mobilmachungsmaßnahmen mit Hilfe der Versuchs- und Probemobilmachungen, — durch die Möglichkeit außerordentlicher Beschleunigung der Mobilmachung mit Hilfe der Kriegsvorbereitungsperiode\n",
      "main_broken_sentences - L41 - INFO - Processing pageno: 023 \n",
      "main_broken_sentences - L56 - INFO - pageno:023 next round's fragment_2: In bezug auf Ausbildung, Bewaffnung und Ausrüstung wurde das russische Heer als vollwertig angesehen, obgleich seine aktiven Verbände in der Stärke der Geschützausrüstung hinter gleichartigen deutschen Verbänden zurückstanden; dafür waren sie den österreichisch-ungarischen in dieser Hinsicht um so mehr überlegen.\n",
      "main_broken_sentences - L41 - INFO - Processing pageno: 024 \n",
      "main_broken_sentences - L56 - INFO - pageno:024 next round's fragment_2: für die Mittelmächte 8—10 Divisionen weggefallen, ebenso viele feindliche aber frei geworden.\n",
      "main_broken_sentences - L41 - INFO - Processing pageno: 025 \n",
      "main_broken_sentences - L56 - INFO - pageno:025 next round's fragment_2: selbst wenn er sofort in Marsch gesetzt wurde, wahrscheinlich erst nach einigen Wochen an der Grenze gegen die Donau-Monarchie eintreffen.\n",
      "main_broken_sentences - L41 - INFO - Processing pageno: 026 \n",
      "main_broken_sentences - L56 - INFO - pageno:026 next round's fragment_2: wurde aber durch die Schwäche der Friedensstärke, den Mangel an Geldmitteln und, ebenso wie die Führung im Kriege, durch die Vielsprachigkeit des Ersatzes erschwert: neben der deutschen, für die honved der ungarischen und kroatischen Dienstsprache gab es noch zehn verschiedene „Regimentssprachen“, dabei bis zu dreien in einem einzigen Truppenteil!\n",
      "main_broken_sentences - L41 - INFO - Processing pageno: 027 \n",
      "main_broken_sentences - L56 - INFO - pageno:027 next round's fragment_2: macht versprach, fehlte aber.\n",
      "main_broken_sentences - L41 - INFO - Processing pageno: 028 \n",
      "main_broken_sentences - L56 - INFO - pageno:028 next round's fragment_2: So war das Stärkeverhältnis für die bei Kriegsbeginn im Osten zu lösende Aufgabe recht ungünstig:\n",
      "main_broken_sentences - L41 - INFO - Processing pageno: 029 \n",
      "main_broken_sentences - L56 - INFO - pageno:029 next round's fragment_2: \n",
      "main_broken_sentences - L41 - INFO - Processing pageno: 030 \n",
      "main_broken_sentences - L56 - INFO - pageno:030 next round's fragment_2: General v. Moltke hatte 1909 deutsche Verstärkungen für den Osten — übrigens unter allem Vorbehalt — im günstigsten Falle schon zum 30. Mobilmachungstage in Aussicht gestellt, später soll er gelegentlich vom 40. Mobilmachungstage gesprochen haben.\n",
      "main_broken_sentences - L41 - INFO - Processing pageno: 031 \n"
     ]
    },
    {
     "name": "stdout",
     "output_type": "stream",
     "text": [
      "dumped fragmented outputs foldername: Der Weltkrieg v2.\n",
      "max(keys) = 030\n"
     ]
    },
    {
     "name": "stderr",
     "output_type": "stream",
     "text": [
      "main_broken_sentences - L56 - INFO - pageno:031 next round's fragment_2: das Mögliche zu leisten, konnte nach den wiederholten Versicherungen des deutschen Generalstabschefs wohl kein Zweifel sein.\n",
      "main_broken_sentences - L41 - INFO - Processing pageno: 032 \n",
      "main_broken_sentences - L56 - INFO - pageno:032 next round's fragment_2: Generalstabschef, der zwischen Frankreich und Rußland zu entscheiden hatte — vielleicht doch zu dem Ergebnis gekommen, daß ein Aufmarsch und vollends eine Feldzugseröffnung auf dem Balkan nur möglich sei, wenn man der Neutralität Rußlands sicher war.\n",
      "main_broken_sentences - L41 - INFO - Processing pageno: 033 \n",
      "main_broken_sentences - L56 - INFO - pageno:033 next round's fragment_2: ungarischen Gesandten eine die Donau-Monarchie nicht befriedigende Antwort.\n",
      "main_broken_sentences - L41 - INFO - Processing pageno: 034 \n",
      "main_broken_sentences - L56 - INFO - pageno:034 next round's fragment_2: ohne Angriffsabsicht — in den Vordergrund1).\n",
      "main_broken_sentences - L41 - INFO - Processing pageno: 035 \n",
      "main_broken_sentences - L56 - INFO - pageno:035 next round's fragment_2: gemeldet worden. Über Russlands Absichten bestand somit kein Zweifel mehr.\n",
      "main_broken_sentences - L41 - INFO - Processing pageno: 036 \n",
      "main_broken_sentences - L56 - INFO - pageno:036 next round's fragment_2: 18. August, hinter der übrigen Transportbewegung wieder nach Norden rollen“).\n",
      "main_broken_sentences - L41 - INFO - Processing pageno: 037 \n",
      "main_broken_sentences - L56 - INFO - pageno:037 next round's fragment_2: war am 31. Juli mittags; und nun mußten nach den bestehenden Vorbereitungen zur Klärung der Haltung Frankreichs noch mindestens 24 Stunden vergehen, bis die Mobilmachung selbst folgen konnte.\n",
      "main_broken_sentences - L41 - INFO - Processing pageno: 038 \n",
      "main_broken_sentences - L56 - INFO - pageno:038 next round's fragment_2: In Rußland war schon am 26. Juli die „Kriegsvorbereitungsperiode“ in Kraft getreten.\n",
      "main_broken_sentences - L41 - INFO - Processing pageno: 039 \n",
      "main_broken_sentences - L56 - INFO - pageno:039 next round's fragment_2: Einsatz russischer Kräfte gegen Deutschland drang, glaubte der russische Generalstabschef, in den letzten Jahren vor dem Kriege General Schilinski, ich doch auch „der Gefahr eines Mißerfolges an der österreichischen Front nicht ausweichen“) zu dürfen.\n",
      "main_broken_sentences - L41 - INFO - Processing pageno: 040 \n",
      "main_broken_sentences - L56 - INFO - pageno:040 next round's fragment_2: gelegenen deutschen Angriff in der Abwehr zu bleiben, bis die asiatischen Korps heran seien oder die Lage sich durch einen französischen Sieg änderte.\n",
      "main_broken_sentences - L41 - INFO - Processing pageno: 041 \n"
     ]
    },
    {
     "name": "stdout",
     "output_type": "stream",
     "text": [
      "dumped fragmented outputs foldername: Der Weltkrieg v2.\n",
      "max(keys) = 040\n"
     ]
    },
    {
     "name": "stderr",
     "output_type": "stream",
     "text": [
      "main_broken_sentences - L56 - INFO - pageno:041 next round's fragment_2: \n",
      "main_broken_sentences - L41 - INFO - Processing pageno: 042 \n",
      "main_broken_sentences - L56 - INFO - pageno:042 next round's fragment_2: können. „Bis dahin aber durfte der Aufmarsch durch keine noch so wichtig erscheinende Maßnahme gestört werden, wollte man nicht den Sieg in Frage stellen.“\n",
      "main_broken_sentences - L41 - INFO - Processing pageno: 043 \n",
      "main_broken_sentences - L56 - INFO - pageno:043 next round's fragment_2: Die Operationen in Ostpreußen unter Generaloberst v. Prittwitz\n",
      "main_broken_sentences - L41 - INFO - Processing pageno: 044 \n",
      "main_broken_sentences - L56 - INFO - pageno:044 next round's fragment_2: \n",
      "main_broken_sentences - L41 - INFO - Processing pageno: 045 \n",
      "main_broken_sentences - L56 - INFO - pageno:045 next round's fragment_2: \n",
      "main_broken_sentences - L41 - INFO - Processing pageno: 046 \n",
      "main_broken_sentences - L56 - INFO - pageno:046 next round's fragment_2: sollten das Hervorbrechen über den Strom in breiter Front gewährleisten.\n",
      "main_broken_sentences - L41 - INFO - Processing pageno: 047 \n",
      "main_broken_sentences - L56 - INFO - pageno:047 next round's fragment_2: Ausnutzung der inneren Linie zu tühnem und raschem Angriff gegen einen Teil der feindlichen Übermacht war in solcher Lage ein Sieg zu erwarten.\n",
      "main_broken_sentences - L41 - INFO - Processing pageno: 048 \n",
      "main_broken_sentences - L56 - INFO - pageno:048 next round's fragment_2: Kräften in dem 90 km breiten Raum zwischen den Seen einerseits und dem Haff oder auch Königsberg andererseits zu verteidigen und währenddessen mit der Masse gegen die befestigte Narew-Linie anzugreifen, hätte dazu geführt, daß man an beiden Stellen zu schwach war.\n",
      "main_broken_sentences - L41 - INFO - Processing pageno: 049 \n",
      "main_broken_sentences - L56 - INFO - pageno:049 next round's fragment_2: (Stiitze 1, S. 44, und Kriegsgliederung, Anlage 1.) Für die Verteidigung des deutschen Ostens war im Jahre 1914 die 8. Armee bestimmt.\n",
      "main_broken_sentences - L41 - INFO - Processing pageno: 050 \n",
      "main_broken_sentences - L56 - INFO - pageno:050 next round's fragment_2: windlichen Hindernisse bieten.\n",
      "main_broken_sentences - L41 - INFO - Processing pageno: 051 \n"
     ]
    },
    {
     "name": "stdout",
     "output_type": "stream",
     "text": [
      "dumped fragmented outputs foldername: Der Weltkrieg v2.\n",
      "max(keys) = 050\n"
     ]
    },
    {
     "name": "stderr",
     "output_type": "stream",
     "text": [
      "main_broken_sentences - L56 - INFO - pageno:051 next round's fragment_2: Für die 8. Armee waren zunächst nur Truppen aus den östlichen Provinzen, darunter alle diejenigen, die östlich der Weichsel aufgestellt wurden, bestimmt.\n",
      "main_broken_sentences - L41 - INFO - Processing pageno: 052 \n",
      "main_broken_sentences - L56 - INFO - pageno:052 next round's fragment_2: ihre volle Höhe aber erst nach und nach zu erreichen.\n",
      "main_broken_sentences - L41 - INFO - Processing pageno: 053 \n",
      "main_broken_sentences - L56 - INFO - pageno:053 next round's fragment_2: korps besetzt.\n",
      "main_broken_sentences - L41 - INFO - Processing pageno: 054 \n",
      "main_broken_sentences - L56 - INFO - pageno:054 next round's fragment_2: daß sie nicht durch Stehenbleiben gelöst werden kann, ist klar.\n",
      "main_broken_sentences - L41 - INFO - Processing pageno: 055 \n",
      "main_broken_sentences - L56 - INFO - pageno:055 next round's fragment_2: Generalstabschef, begannen ihren Aufmarsch in Ostgalizien, um am 20. oder 22. August zur Offensive zwischen Bug und Weichsel vorzugehen; eine linke Flügelgruppe sollte von Krakau aus schon früher antreten.\n",
      "main_broken_sentences - L41 - INFO - Processing pageno: 056 \n",
      "main_broken_sentences - L56 - INFO - pageno:056 next round's fragment_2: 5 deutschen Ersatz-Divisionen gegen Frankreich einzusetzen.\n",
      "main_broken_sentences - L41 - INFO - Processing pageno: 057 \n",
      "main_broken_sentences - L56 - INFO - pageno:057 next round's fragment_2: scheidung im Westen einigermaßen ausreichende Kräfte zu vereinigen, war ohne schwere Schädigung der Abwehr im Osten unmöglich.\n",
      "main_broken_sentences - L41 - INFO - Processing pageno: 058 \n",
      "main_broken_sentences - L56 - INFO - pageno:058 next round's fragment_2: Generaloberst v. Prittwitz und Generalmajor Graf v. Waldersee wollten sich unter Ausnutzung des Bahnnetzes zunächst gegen die russische Armee wenden, die zuerst in Reichweite kam.\n",
      "main_broken_sentences - L41 - INFO - Processing pageno: 059 \n",
      "main_broken_sentences - L56 - INFO - pageno:059 next round's fragment_2: Suwalki—Wirballen angenommenen Njemen- oder Wilna-Armee.\n",
      "main_broken_sentences - L41 - INFO - Processing pageno: 060 \n",
      "main_broken_sentences - L56 - INFO - pageno:060 next round's fragment_2: XVII. Armeekorps abzulösen hatten, das ganze aktive XX. Armeekorps und die 70. Landwehr-Brigade zum Schutz der Südgrenze vor.\n",
      "main_broken_sentences - L41 - INFO - Processing pageno: 061 \n"
     ]
    },
    {
     "name": "stdout",
     "output_type": "stream",
     "text": [
      "dumped fragmented outputs foldername: Der Weltkrieg v2.\n",
      "max(keys) = 060\n"
     ]
    },
    {
     "name": "stderr",
     "output_type": "stream",
     "text": [
      "main_broken_sentences - L56 - INFO - pageno:061 next round's fragment_2: möglich in seinem eigenen Lande aufsuchen.\n",
      "main_broken_sentences - L41 - INFO - Processing pageno: 062 \n",
      "main_broken_sentences - L56 - INFO - pageno:062 next round's fragment_2: „Vorbewegungen geschlossener Abteilungen gegen die Grenze über die Linie Gumbinnen—Goldap verbiete ich bis auf weiteres unbedingt.“\n",
      "main_broken_sentences - L41 - INFO - Processing pageno: 063 \n",
      "main_broken_sentences - L56 - INFO - pageno:063 next round's fragment_2: noch dort zu befinden.\n",
      "main_broken_sentences - L41 - INFO - Processing pageno: 064 \n",
      "main_broken_sentences - L56 - INFO - pageno:064 next round's fragment_2: Die Auffassung der Obersten Heeresleitung war dem Oberkommando der 8. Armee bekannt.\n",
      "main_broken_sentences - L41 - INFO - Processing pageno: 065 \n",
      "main_broken_sentences - L56 - INFO - pageno:065 next round's fragment_2: ergab diese Meldung, daß stärkerer Feind östlich Margrabowa in 25 km Breite über die Grenze eingebrochen sei.\n",
      "main_broken_sentences - L41 - INFO - Processing pageno: 066 \n",
      "main_broken_sentences - L56 - INFO - pageno:066 next round's fragment_2: zugeschnitten.\n",
      "main_broken_sentences - L41 - INFO - Processing pageno: 067 \n",
      "main_broken_sentences - L56 - INFO - pageno:067 next round's fragment_2: hatte, und bald darauf kamen Meldungen, daß er freiwillig wieder über die Grenze zurückgehe.\n",
      "main_broken_sentences - L41 - INFO - Processing pageno: 068 \n",
      "main_broken_sentences - L56 - INFO - pageno:068 next round's fragment_2: erbeuteten russischen Befehlen die Zerstörung von Bahnen und Brücken ausdrücklich verboten gewesen.\n",
      "main_broken_sentences - L41 - INFO - Processing pageno: 069 \n",
      "main_broken_sentences - L56 - INFO - pageno:069 next round's fragment_2: Generalstabschef, marschierte mit der 1. Armee am Njemen, mit der 2. am Narew auf.\n",
      "main_broken_sentences - L41 - INFO - Processing pageno: 070 \n",
      "main_broken_sentences - L56 - INFO - pageno:070 next round's fragment_2: \n",
      "main_broken_sentences - L41 - INFO - Processing pageno: 071 \n"
     ]
    },
    {
     "name": "stdout",
     "output_type": "stream",
     "text": [
      "dumped fragmented outputs foldername: Der Weltkrieg v2.\n",
      "max(keys) = 070\n"
     ]
    },
    {
     "name": "stderr",
     "output_type": "stream",
     "text": [
      "main_broken_sentences - L56 - INFO - pageno:071 next round's fragment_2: und westlich Warschau versammelt werden.\n",
      "main_broken_sentences - L41 - INFO - Processing pageno: 072 \n",
      "main_broken_sentences - L56 - INFO - pageno:072 next round's fragment_2: Plan war nicht schlecht; es fragt sich nur, ob er nach dem Stande des\n",
      "main_broken_sentences - L41 - INFO - Processing pageno: 073 \n",
      "main_broken_sentences - L56 - INFO - pageno:073 next round's fragment_2: gungen noch nicht vollendet“ seien, decken.\n",
      "main_broken_sentences - L41 - INFO - Processing pageno: 074 \n",
      "main_broken_sentences - L56 - INFO - pageno:074 next round's fragment_2: hatte die 1. Kavallerie-Division mit Teilen der 5. Schützen-Brigade — vielleicht nur, um die an Frankreich gegebene Zusage) wenigstens der Form nach zu erfüllen — ihren Vorstoß) zur gewaltsamen Erkundung auf Marggrabowa gemacht.\n",
      "main_broken_sentences - L41 - INFO - Processing pageno: 075 \n",
      "main_broken_sentences - L56 - INFO - pageno:075 next round's fragment_2: mit seinem Gros nicht, wie vom Armee-Oberkommando befohlen und angenommen, zwischen Gumbinnen und Insterburg, sondern mit der 2. Infanterie-Division bei Goldap (3. Infanterie-Brigade) und Tollmingkehmen (4. Infanterie-Brigade), mit der 1. Infanterie-Division bei und westlich Stallupönen, mit der 1. Kavallerie-Division bei Pillkallen, mit der 2. Landwehr-Brigade bei Lüst.\n",
      "main_broken_sentences - L41 - INFO - Processing pageno: 076 \n",
      "main_broken_sentences - L56 - INFO - pageno:076 next round's fragment_2: Einen für denselben Tag angesetzten Vorstoß der 1. Kavallerie-Division, die dazu durch mehrere Bataillone Infanterie und Artillerie verstärkt worden war, gegen die russische Kavallerie bei Schirwindt hatte der Divisionskommandeur, Generalleutnant Brecht, angesichts der gemeldeten starken feindlichen Besetzung nicht durchgeführt.\n",
      "main_broken_sentences - L41 - INFO - Processing pageno: 077 \n",
      "main_broken_sentences - L56 - INFO - pageno:077 next round's fragment_2: General v. François hatte noch in der Nacht Meldung über starke feindliche Ansammlungen bei Wischtynjez erhalten und daraufhin am Morgen vor seiner Abfahrt aus Insterburg die Bereitstellung der 2. Infanterie-Division bei Tollmingkehmen befohlen.\n",
      "main_broken_sentences - L41 - INFO - Processing pageno: 078 \n",
      "main_broken_sentences - L56 - INFO - pageno:078 next round's fragment_2: \n",
      "main_broken_sentences - L41 - INFO - Processing pageno: 079 \n",
      "main_broken_sentences - L56 - INFO - pageno:079 next round's fragment_2: abends südlich der Eisenbahn geworfen, die russische 27. Infanterie-Division (vom III. Korps) unter schweren Verlusten im Zurückgehen über die Grenze.\n",
      "main_broken_sentences - L41 - INFO - Processing pageno: 080 \n",
      "main_broken_sentences - L56 - INFO - pageno:080 next round's fragment_2: den Rückzug an.\n",
      "main_broken_sentences - L41 - INFO - Processing pageno: 081 \n"
     ]
    },
    {
     "name": "stdout",
     "output_type": "stream",
     "text": [
      "dumped fragmented outputs foldername: Der Weltkrieg v2.\n",
      "max(keys) = 080\n"
     ]
    },
    {
     "name": "stderr",
     "output_type": "stream",
     "text": [
      "main_broken_sentences - L56 - INFO - pageno:081 next round's fragment_2: \n",
      "main_broken_sentences - L41 - INFO - Processing pageno: 082 \n",
      "main_broken_sentences - L56 - INFO - pageno:082 next round's fragment_2: \n",
      "main_broken_sentences - L41 - INFO - Processing pageno: 083 \n",
      "main_broken_sentences - L56 - INFO - pageno:083 next round's fragment_2: sie unmöglich machte.\n",
      "main_broken_sentences - L41 - INFO - Processing pageno: 084 \n",
      "main_broken_sentences - L56 - INFO - pageno:084 next round's fragment_2: Kavallerie näher gegen die Grenze vorgeschoben.\n",
      "main_broken_sentences - L41 - INFO - Processing pageno: 085 \n",
      "main_broken_sentences - L56 - INFO - pageno:085 next round's fragment_2: XVII. Armeekorps zum Angriff antreten zu lassen.\n",
      "main_broken_sentences - L41 - INFO - Processing pageno: 086 \n",
      "main_broken_sentences - L56 - INFO - pageno:086 next round's fragment_2: die Linie Walterkehmen—Perkallen—Plicken anzutreten.\n",
      "main_broken_sentences - L41 - INFO - Processing pageno: 087 \n",
      "main_broken_sentences - L56 - INFO - pageno:087 next round's fragment_2: Kattenau.\n",
      "main_broken_sentences - L41 - INFO - Processing pageno: 088 \n",
      "main_broken_sentences - L56 - INFO - pageno:088 next round's fragment_2: Eindruck dieses ersten unglücklichen Zusammenstoßes mit dem Feinde zog die ganze Brigade noch in der Nacht von der Front nach Westen ab.\n",
      "main_broken_sentences - L41 - INFO - Processing pageno: 089 \n",
      "main_broken_sentences - L56 - INFO - pageno:089 next round's fragment_2: verschleiern.\n",
      "main_broken_sentences - L41 - INFO - Processing pageno: 090 \n",
      "main_broken_sentences - L56 - INFO - pageno:090 next round's fragment_2: unterrichten, das südlich des I. seit Tagesanbruch im Vorgehen war.\n",
      "main_broken_sentences - L41 - INFO - Processing pageno: 091 \n"
     ]
    },
    {
     "name": "stdout",
     "output_type": "stream",
     "text": [
      "dumped fragmented outputs foldername: Der Weltkrieg v2.\n",
      "max(keys) = 090\n"
     ]
    },
    {
     "name": "stderr",
     "output_type": "stream",
     "text": [
      "main_broken_sentences - L56 - INFO - pageno:091 next round's fragment_2: Von der 1. Kavallerie-Division, die den Kampf der 2. Infanterie-Division hatte unterstützen sollen, fehlten Nachrichten.\n",
      "main_broken_sentences - L41 - INFO - Processing pageno: 092 \n",
      "main_broken_sentences - L56 - INFO - pageno:092 next round's fragment_2: Auffassung des I. Armeekorps deckte sich mit Meldungen, nach denen der Gegner südlich der Pissa in mehreren Kolonnen vormarschiert war und Walterkehmen besetzt hätte.\n",
      "main_broken_sentences - L41 - INFO - Processing pageno: 093 \n",
      "main_broken_sentences - L56 - INFO - pageno:093 next round's fragment_2: \n",
      "main_broken_sentences - L41 - INFO - Processing pageno: 094 \n",
      "main_broken_sentences - L56 - INFO - pageno:094 next round's fragment_2: 40. Infanterie-Division, die in zähem Ringen nach Osten zurückgedrängt wurden.\n",
      "main_broken_sentences - L41 - INFO - Processing pageno: 095 \n",
      "main_broken_sentences - L56 - INFO - pageno:095 next round's fragment_2: Brigade gegen Schützengruppen ohnehin schon ins Wanken gekommen war.\n",
      "main_broken_sentences - L41 - INFO - Processing pageno: 096 \n",
      "main_broken_sentences - L56 - INFO - pageno:096 next round's fragment_2: burg) auf Kleszowen, mit der 36. Reserve-Division nördlich daneben.\n",
      "main_broken_sentences - L41 - INFO - Processing pageno: 097 \n",
      "main_broken_sentences - L56 - INFO - pageno:097 next round's fragment_2: Die russische 30. Infanterie-Division vom IV. Korps war am 20. August früh in zwei Kolonnen von Goldap auf Kleistowen und Gawaiten angetreten.\n",
      "main_broken_sentences - L41 - INFO - Processing pageno: 098 \n",
      "main_broken_sentences - L56 - INFO - pageno:098 next round's fragment_2: Das Armee-Oberkommando hatte den ganzen Tag über in Verbindung mit den Generalkommandos gestanden und war über den Stand der Schlacht dauernd unterrichtet.\n",
      "main_broken_sentences - L41 - INFO - Processing pageno: 099 \n",
      "main_broken_sentences - L56 - INFO - pageno:099 next round's fragment_2: 5° nachmittags, ob es nicht nötig sein werde, die Schlacht abzubrechen und zurückzugehen.\n",
      "main_broken_sentences - L41 - INFO - Processing pageno: 100 \n",
      "main_broken_sentences - L56 - INFO - pageno:100 next round's fragment_2: ausführen.\n",
      "main_broken_sentences - L41 - INFO - Processing pageno: 101 \n"
     ]
    },
    {
     "name": "stdout",
     "output_type": "stream",
     "text": [
      "dumped fragmented outputs foldername: Der Weltkrieg v2.\n",
      "max(keys) = 100\n"
     ]
    },
    {
     "name": "stderr",
     "output_type": "stream",
     "text": [
      "main_broken_sentences - L56 - INFO - pageno:101 next round's fragment_2: weniger die Gefahren als die Möglichkeiten des Erfolges im Auge hatte, keinen Raum mehr fand.\n",
      "main_broken_sentences - L41 - INFO - Processing pageno: 102 \n",
      "main_broken_sentences - L56 - INFO - pageno:102 next round's fragment_2: fanterie-Regiment abgewartet zu haben, erst am 21. August von Wirballen aus den Vormarsch an.\n",
      "main_broken_sentences - L41 - INFO - Processing pageno: 103 \n",
      "main_broken_sentences - L56 - INFO - pageno:103 next round's fragment_2: selbst sähe, daß die benachbarte 1. Reserve-Division auch zurückginge.\n",
      "main_broken_sentences - L41 - INFO - Processing pageno: 104 \n",
      "main_broken_sentences - L56 - INFO - pageno:104 next round's fragment_2: Am Abend des 20. August hatten beim Oberkommando der deutschen 8. Armee die Erwägungen über die Fortführung der Operationen zurücktreten müssen gegenüber dem Bedürfnis, sich vom Feinde loszulösen und erst einmal wieder Bewegungsfreiheit zu gewinnen.\n",
      "main_broken_sentences - L41 - INFO - Processing pageno: 105 \n",
      "main_broken_sentences - L56 - INFO - pageno:105 next round's fragment_2: Am 21. August früh hatte sich das Armee-Oberkommando von Nordenburg nach Bartenstein begeben.\n",
      "main_broken_sentences - L41 - INFO - Processing pageno: 106 \n",
      "main_broken_sentences - L56 - INFO - pageno:106 next round's fragment_2: den Kampf bei Gumbinnen.\n",
      "main_broken_sentences - L41 - INFO - Processing pageno: 107 \n",
      "main_broken_sentences - L56 - INFO - pageno:107 next round's fragment_2: dem Westen in naher Aussicht stand.\n",
      "main_broken_sentences - L41 - INFO - Processing pageno: 108 \n",
      "main_broken_sentences - L56 - INFO - pageno:108 next round's fragment_2: Im Armee-Hauptquartier Bartenstein waren inzwischen weiter günstige Nachrichten eingegangen.\n",
      "main_broken_sentences - L41 - INFO - Processing pageno: 109 \n",
      "main_broken_sentences - L56 - INFO - pageno:109 next round's fragment_2: Abendmeldung des Oberkommandos die von der Obersten Heeresleitung empfohlene Angriffsrichtung gegen den Ostflügel der Narew-Armee nochmals ausdrücklich ablehnte, von einer sonstigen Angriffsabsicht aber nichts erwähnte.\n",
      "main_broken_sentences - L41 - INFO - Processing pageno: 110 \n",
      "main_broken_sentences - L56 - INFO - pageno:110 next round's fragment_2: schluß an eigene Truppen suchte, hatte sie aber den Weg nach Westen noch frei gefunden und brachte nun sogar 500 Gefangene zurück.\n",
      "main_broken_sentences - L41 - INFO - Processing pageno: 111 \n"
     ]
    },
    {
     "name": "stdout",
     "output_type": "stream",
     "text": [
      "dumped fragmented outputs foldername: Der Weltkrieg v2.\n",
      "max(keys) = 110\n"
     ]
    },
    {
     "name": "stderr",
     "output_type": "stream",
     "text": [
      "main_broken_sentences - L56 - INFO - pageno:111 next round's fragment_2: \n",
      "main_broken_sentences - L41 - INFO - Processing pageno: 112 \n",
      "main_broken_sentences - L56 - INFO - pageno:112 next round's fragment_2: \n",
      "main_broken_sentences - L41 - INFO - Processing pageno: 113 \n",
      "main_broken_sentences - L56 - INFO - pageno:113 next round's fragment_2: der anrückenden Narew-Armee unmittelbar gegenüberstand.\n",
      "main_broken_sentences - L41 - INFO - Processing pageno: 114 \n",
      "main_broken_sentences - L56 - INFO - pageno:114 next round's fragment_2: Graudenz (Goslershausen, Bischofswerder) festgesetzt, weiteres Vorführen der Transporte bis Deutsch-Eylau und östlich sei aber erwünscht.\n",
      "main_broken_sentences - L41 - INFO - Processing pageno: 115 \n",
      "main_broken_sentences - L56 - INFO - pageno:115 next round's fragment_2: 9° abends fuhr Generalmajor Ludendorff von Coblenz ab, 4° nachts bestieg der neue Oberbefehlshaber in Hannover den Sonderzug.\n",
      "main_broken_sentences - L41 - INFO - Processing pageno: 116 \n",
      "main_broken_sentences - L56 - INFO - pageno:116 next round's fragment_2: große Straße Soldau—Neidenburg—Ortelsburg erreicht und war von da am 23. August in nordwestlicher Richtung wieder angetreten.\n",
      "main_broken_sentences - L41 - INFO - Processing pageno: 117 \n",
      "main_broken_sentences - L56 - INFO - pageno:117 next round's fragment_2: wegen Mangels an Leerzügen auf etwa 12 Stunden ganz unterbrochen worden\n",
      "main_broken_sentences - L41 - INFO - Processing pageno: 118 \n",
      "main_broken_sentences - L56 - INFO - pageno:118 next round's fragment_2: Die russische Njemen-Armee unter General v. Rennenkampf war durch die Luftaufklärung auch am 22. August morgens mit ihrem Gros noch auf dem Schlachtfelde vom 20. festgestellt worden.\n",
      "main_broken_sentences - L41 - INFO - Processing pageno: 119 \n",
      "main_broken_sentences - L56 - INFO - pageno:119 next round's fragment_2: General Ludendorff rechnete etwa drei Tage — in Ansatz gebracht werden mußten.\n",
      "main_broken_sentences - L41 - INFO - Processing pageno: 120 \n",
      "main_broken_sentences - L56 - INFO - pageno:120 next round's fragment_2: Im Süden der Ostfront sollte die kleine Festung Lötzen die Sperrung des Seengebietes übernehmen; sie selbst sollte durch Ausbau von Stellungen beiderseits Rhein auch gegen einen Angriff von Westen gesichert werden.\n",
      "main_broken_sentences - L41 - INFO - Processing pageno: 121 \n"
     ]
    },
    {
     "name": "stdout",
     "output_type": "stream",
     "text": [
      "dumped fragmented outputs foldername: Der Weltkrieg v2.\n",
      "max(keys) = 120\n"
     ]
    },
    {
     "name": "stderr",
     "output_type": "stream",
     "text": [
      "main_broken_sentences - L56 - INFO - pageno:121 next round's fragment_2: den 25. August der Weitermarsch von Friedland über Bartenstein in Aussicht gestellt.\n",
      "main_broken_sentences - L41 - INFO - Processing pageno: 122 \n",
      "main_broken_sentences - L56 - INFO - pageno:122 next round's fragment_2: Angerapp wieder anzutreffen.\n",
      "main_broken_sentences - L41 - INFO - Processing pageno: 123 \n",
      "main_broken_sentences - L56 - INFO - pageno:123 next round's fragment_2: Bei der 2. (Narew-) Armee¹) hatte sich der für die Infanterie auf den 19. August festgesetzte Grenzübergang durch die Verschiebung nach Westen verzögert.\n",
      "main_broken_sentences - L41 - INFO - Processing pageno: 124 \n",
      "main_broken_sentences - L56 - INFO - pageno:124 next round's fragment_2: Gardekorps anhalten.\n",
      "main_broken_sentences - L41 - INFO - Processing pageno: 125 \n",
      "main_broken_sentences - L56 - INFO - pageno:125 next round's fragment_2: Truppen waren schon jetzt ermüdet und ungenügend verpflegt¹).\n",
      "main_broken_sentences - L41 - INFO - Processing pageno: 126 \n",
      "main_broken_sentences - L56 - INFO - pageno:126 next round's fragment_2: Generalmajors v. Unger (10 Bataillone, 3 Schwadronen, 9 Batterien aus Thorn, Kulm, Graudenz und Marienburg), — in der Mitte die 41. Infanterie-Division nebst halber 70. Landwehr-Brigade bis zum Kowmattken-See, — östlich dieses Sees über Frantenau (einschließlich) und Lahna bis zum Quellgebiet der Alle bei Orlau die andere Hälfte der 70. Landwehr-Brigade und die 37. Infanterie-Division.\n",
      "main_broken_sentences - L41 - INFO - Processing pageno: 127 \n",
      "main_broken_sentences - L56 - INFO - pageno:127 next round's fragment_2: commandos<sup>1)</sup> einig, die „Haushalten mit den Kräften und vorläufiges Zurückhalten der 3. Reserve-Division bei Allenstein“ vorschrieb,\n",
      "main_broken_sentences - L41 - INFO - Processing pageno: 128 \n",
      "main_broken_sentences - L56 - INFO - pageno:128 next round's fragment_2: See wieder auf, während er westlich davon noch länger untätig blieb.\n",
      "main_broken_sentences - L41 - INFO - Processing pageno: 129 \n",
      "main_broken_sentences - L56 - INFO - pageno:129 next round's fragment_2: der 8. Infanterie-Division hatte bei Orlau 100 Gefangene und 1 Fahne¹) in den Händen der Vorcfschen Jäger gelassen und war nachts fünf Kilometer bis Grünfließ zurückgegangen; ihre blutigen Verluste kennen wir nicht.\n",
      "main_broken_sentences - L41 - INFO - Processing pageno: 130 \n",
      "main_broken_sentences - L56 - INFO - pageno:130 next round's fragment_2: Am 24. August wurde das Oberkommando der deutschen 8. Armee von Marienburg hinter den sich bildenden Angriffsflügel der Armee nach Riesenburg verlegt.\n",
      "main_broken_sentences - L41 - INFO - Processing pageno: 131 \n"
     ]
    },
    {
     "name": "stdout",
     "output_type": "stream",
     "text": [
      "dumped fragmented outputs foldername: Der Weltkrieg v2.\n",
      "max(keys) = 130\n"
     ]
    },
    {
     "name": "stderr",
     "output_type": "stream",
     "text": [
      "main_broken_sentences - L56 - INFO - pageno:131 next round's fragment_2: bis zum Eingreifen des I. Armeekorps am 26. August halten könne.\n",
      "main_broken_sentences - L41 - INFO - Processing pageno: 132 \n",
      "main_broken_sentences - L56 - INFO - pageno:132 next round's fragment_2: räumlich getrennt die 2. Infanterie-Division vom XXIII. Korps westlich Neidenburg (dessen andere, die 3. Garde-Infanterie-Division, im Eintreffen bei Mlawa), nördlich Neidenburg das XV., bei Kurten das XIII. Korps.\n",
      "main_broken_sentences - L41 - INFO - Processing pageno: 133 \n",
      "main_broken_sentences - L56 - INFO - pageno:133 next round's fragment_2: aber jetzt der bei Ortelsburg gemeldete Teil der russischen Narew-Armee — soweit man wußte, das russische VI. Korps mit der 4. Kavallerie- Division — von Süden her zu wenden.\n",
      "main_broken_sentences - L41 - INFO - Processing pageno: 134 \n",
      "main_broken_sentences - L56 - INFO - pageno:134 next round's fragment_2: Siege.\n",
      "main_broken_sentences - L41 - INFO - Processing pageno: 135 \n",
      "main_broken_sentences - L56 - INFO - pageno:135 next round's fragment_2: Weg auf Neidenburg, in die Flanke und in den Rücken der gegen das deutsche XX. Armeekorps weit nach Norden ausholenden russischen Korps offen.\n",
      "main_broken_sentences - L41 - INFO - Processing pageno: 136 \n",
      "main_broken_sentences - L56 - INFO - pageno:136 next round's fragment_2: der über die Bewegungen der Narew-Armee Aufschluß gab.\n",
      "main_broken_sentences - L41 - INFO - Processing pageno: 137 \n",
      "main_broken_sentences - L56 - INFO - pageno:137 next round's fragment_2: Weitermarsch am Nachmittage — etwa wie am 23. August gegen Lahna und Orlau — durchaus möglich blieb.\n",
      "main_broken_sentences - L41 - INFO - Processing pageno: 138 \n",
      "main_broken_sentences - L56 - INFO - pageno:138 next round's fragment_2: ließ sich nach Ansicht des Generals v. François doch jetzt schon übersehen, daß die sechsten Teile des Armeekorps zum Angriff am 26. August früh bei weitem noch nicht vollkommen versammelt sein könnten.\n",
      "main_broken_sentences - L41 - INFO - Processing pageno: 139 \n",
      "main_broken_sentences - L56 - INFO - pageno:139 next round's fragment_2: Um auch das XX. Armeekorps von den Absichten für den folgenden Tag zu unterrichten, wurde der Oberquartiermeister Generalmajor Grünert zum General v. Scholtz entsandt.\n",
      "main_broken_sentences - L41 - INFO - Processing pageno: 140 \n",
      "main_broken_sentences - L56 - INFO - pageno:140 next round's fragment_2: \n",
      "main_broken_sentences - L41 - INFO - Processing pageno: 141 \n"
     ]
    },
    {
     "name": "stdout",
     "output_type": "stream",
     "text": [
      "dumped fragmented outputs foldername: Der Weltkrieg v2.\n",
      "max(keys) = 140\n"
     ]
    },
    {
     "name": "stderr",
     "output_type": "stream",
     "text": [
      "main_broken_sentences - L56 - INFO - pageno:141 next round's fragment_2: setzen.\n",
      "main_broken_sentences - L41 - INFO - Processing pageno: 142 \n",
      "main_broken_sentences - L56 - INFO - pageno:142 next round's fragment_2: I. Armeekorps durch Angriff seines rechten Flügels in Richtung Groß-Grieben—Jankowitz.\n",
      "main_broken_sentences - L41 - INFO - Processing pageno: 143 \n",
      "main_broken_sentences - L56 - INFO - pageno:143 next round's fragment_2: bauen und Orengfurth.\n",
      "main_broken_sentences - L41 - INFO - Processing pageno: 144 \n",
      "main_broken_sentences - L56 - INFO - pageno:144 next round's fragment_2: An demselben Tage, dem 24. August, hatte das Oberkommando der Heeresgruppe, das die Narew-Armee schon einmal auf ihre übermäßige Frontbreite und die Zerstreuung der Kräfte hingewiesen hatte, diese nochmals ernstlich ermahnt, die Korps enger zusammenzuhalten, um eine gegenseitige Unterstützung beim Gefecht zu ermöglichen.\n",
      "main_broken_sentences - L41 - INFO - Processing pageno: 145 \n",
      "main_broken_sentences - L56 - INFO - pageno:145 next round's fragment_2: kommando anwesenden englischen Militärattaché schon am 24. August erklärt hatte, den Weitermarsch als „ein Abenteuer“ an.\n",
      "main_broken_sentences - L41 - INFO - Processing pageno: 146 \n",
      "main_broken_sentences - L56 - INFO - pageno:146 next round's fragment_2: vallerie-Divisionen den gegen die Flanke der Armee erwarteten deutschen Stoß um jeden Preis zum Stehen bringen.\n",
      "main_broken_sentences - L41 - INFO - Processing pageno: 147 \n",
      "main_broken_sentences - L56 - INFO - pageno:147 next round's fragment_2: \n",
      "main_broken_sentences - L41 - INFO - Processing pageno: 148 \n",
      "main_broken_sentences - L56 - INFO - pageno:148 next round's fragment_2: 1145 erhalten.\n",
      "main_broken_sentences - L41 - INFO - Processing pageno: 149 \n",
      "main_broken_sentences - L56 - INFO - pageno:149 next round's fragment_2: Eintreffens der Truppen verzögert werde.\n",
      "main_broken_sentences - L41 - INFO - Processing pageno: 150 \n",
      "main_broken_sentences - L56 - INFO - pageno:150 next round's fragment_2: Höhen westlich Meischlis, mit ihrem Nordflügel die Gegend südlich Groß-\n",
      "main_broken_sentences - L41 - INFO - Processing pageno: 151 \n"
     ]
    },
    {
     "name": "stdout",
     "output_type": "stream",
     "text": [
      "dumped fragmented outputs foldername: Der Weltkrieg v2.\n",
      "max(keys) = 150\n"
     ]
    },
    {
     "name": "stderr",
     "output_type": "stream",
     "text": [
      "main_broken_sentences - L56 - INFO - pageno:151 next round's fragment_2: Sees das Vorgehen starker russischer Kräfte gegen die Stellungen der 37. Infanterie-Division fühlbar machte.\n",
      "main_broken_sentences - L41 - INFO - Processing pageno: 152 \n",
      "main_broken_sentences - L56 - INFO - pageno:152 next round's fragment_2: war, schwer erschüttert, abends im Zurückfluten südlich des Rownatten-Sees.\n",
      "main_broken_sentences - L41 - INFO - Processing pageno: 153 \n",
      "main_broken_sentences - L56 - INFO - pageno:153 next round's fragment_2: 3. Reserve-Division stehengeblieben war, erfuhr¹) das Generalkommando des XX. Armeekorps erst am 26. August abends, das Armee-Oberkommando erst nach Ausgabe der Befehle für den folgenden Tag.\n",
      "main_broken_sentences - L41 - INFO - Processing pageno: 154 \n",
      "main_broken_sentences - L56 - INFO - pageno:154 next round's fragment_2: her dauernd weitere Verstärkungen zuflossen, um Borchersdorf stehe und etwa eine Division bei Usdau, diese in vorbereiteter Stellung.\n",
      "main_broken_sentences - L41 - INFO - Processing pageno: 155 \n",
      "main_broken_sentences - L56 - INFO - pageno:155 next round's fragment_2: Über die Gesamtlage meldete Generalmajor Ludendorff der Obersten Heeresleitung am 26. August abends am Fernsprecher und zog dabei das Ergebnis: „Nach menschlichem Ermessen wird der Angriff erfolgreich sein.“\n",
      "main_broken_sentences - L41 - INFO - Processing pageno: 156 \n",
      "main_broken_sentences - L56 - INFO - pageno:156 next round's fragment_2: fassung des XX. Armeekorps an1).\n",
      "main_broken_sentences - L41 - INFO - Processing pageno: 157 \n",
      "main_broken_sentences - L56 - INFO - pageno:157 next round's fragment_2: Das I. Armeekorps wollte seine ganze Kraft gegen Usdau zusammenfassen, während die 5. Landwehr-Brigade und der Süßflügel der 2. Infanterie-Division zunächst in der Abwehr bleiben sollten.\n",
      "main_broken_sentences - L41 - INFO - Processing pageno: 158 \n",
      "main_broken_sentences - L56 - INFO - pageno:158 next round's fragment_2: Division und 1. Schützen-Brigade), zum Angriff angetreten. Er führte damit vermutlich den ihm schon für den 26. August gegebenen Auftrag aus1).\n",
      "main_broken_sentences - L41 - INFO - Processing pageno: 159 \n",
      "main_broken_sentences - L56 - INFO - pageno:159 next round's fragment_2: Schütze der Artillerie an die Waldränder östlich und nördlich Heinrichsdorf zurückgenommen.\n",
      "main_broken_sentences - L41 - INFO - Processing pageno: 160 \n",
      "main_broken_sentences - L56 - INFO - pageno:160 next round's fragment_2: Der Gegner südlich Usdau hatte sich der Bedrohung seiner Flanke und seines Rückens aber so rechtzeitig entzogen, daß es nicht gelang, wesentliche Teile gefangen zu nehmen.\n",
      "main_broken_sentences - L41 - INFO - Processing pageno: 161 \n"
     ]
    },
    {
     "name": "stdout",
     "output_type": "stream",
     "text": [
      "dumped fragmented outputs foldername: Der Weltkrieg v2.\n",
      "max(keys) = 160\n"
     ]
    },
    {
     "name": "stderr",
     "output_type": "stream",
     "text": [
      "main_broken_sentences - L56 - INFO - pageno:161 next round's fragment_2: wechselte — gar nicht, dem Armee-Oberkommando erst um 1<sup>35</sup> nachts bekannt geworden.\n",
      "main_broken_sentences - L41 - INFO - Processing pageno: 162 \n",
      "main_broken_sentences - L56 - INFO - pageno:162 next round's fragment_2: Sonntag, verfügte über 10 Bataillone, 2 Schwadronen, 13 Batterien.\n",
      "main_broken_sentences - L41 - INFO - Processing pageno: 163 \n",
      "main_broken_sentences - L56 - INFO - pageno:163 next round's fragment_2: hatte und daher ganz allein weiter vorstieß, zum sofortigen Abzug auf Neidenburg veranlaßt.\n",
      "main_broken_sentences - L41 - INFO - Processing pageno: 164 \n",
      "main_broken_sentences - L56 - INFO - pageno:164 next round's fragment_2: \n",
      "main_broken_sentences - L41 - INFO - Processing pageno: 165 \n",
      "main_broken_sentences - L56 - INFO - pageno:165 next round's fragment_2: mandos, Generalmajor Grünert, zutreffend bedeutete, die „Trümmer\" der am Tage vorher geschlagenen Russen.\n",
      "main_broken_sentences - L41 - INFO - Processing pageno: 166 \n",
      "main_broken_sentences - L56 - INFO - pageno:166 next round's fragment_2: der 3. Reserve-Division sollte das Ziel seines Angriffs sein.\n",
      "main_broken_sentences - L41 - INFO - Processing pageno: 167 \n",
      "main_broken_sentences - L56 - INFO - pageno:167 next round's fragment_2: für den folgenden Tag.\n",
      "main_broken_sentences - L41 - INFO - Processing pageno: 168 \n",
      "main_broken_sentences - L56 - INFO - pageno:168 next round's fragment_2: \n",
      "main_broken_sentences - L41 - INFO - Processing pageno: 169 \n",
      "main_broken_sentences - L56 - INFO - pageno:169 next round's fragment_2: zu Hilfe. Dazu wollte er östlich der Seen in einer Kolonne über Lautern auf Bischofsburg marschieren.\n",
      "main_broken_sentences - L41 - INFO - Processing pageno: 170 \n",
      "main_broken_sentences - L56 - INFO - pageno:170 next round's fragment_2: russische Division stehen.\n",
      "main_broken_sentences - L41 - INFO - Processing pageno: 171 \n"
     ]
    },
    {
     "name": "stdout",
     "output_type": "stream",
     "text": [
      "dumped fragmented outputs foldername: Der Weltkrieg v2.\n",
      "max(keys) = 170\n"
     ]
    },
    {
     "name": "stderr",
     "output_type": "stream",
     "text": [
      "main_broken_sentences - L56 - INFO - pageno:171 next round's fragment_2: Die russische 4. Infanterie-Division hatte die Bedrohung ihrer Westflanke und ihres Rückens durch das deutsche I. Reservekorps wahrscheinlich schon seit den ersten Nachmittagsstunden empfunden.\n",
      "main_broken_sentences - L41 - INFO - Processing pageno: 172 \n",
      "main_broken_sentences - L56 - INFO - pageno:172 next round's fragment_2: \n",
      "main_broken_sentences - L41 - INFO - Processing pageno: 173 \n",
      "main_broken_sentences - L56 - INFO - pageno:173 next round's fragment_2: um 7<sup>30</sup> vormittags angewiesen worden, sobald der Bischofsburger Gegner erledigt sei, mit allen verfügbaren Kräften die Richtung nach Südwesten auf Jedwabno zu nehmen.\n",
      "main_broken_sentences - L41 - INFO - Processing pageno: 174 \n",
      "main_broken_sentences - L56 - INFO - pageno:174 next round's fragment_2: 27. August schon bis vor Heilsberg und bis Preußisch-Eylau.\n",
      "main_broken_sentences - L41 - INFO - Processing pageno: 175 \n",
      "main_broken_sentences - L56 - INFO - pageno:175 next round's fragment_2: Über das Vordringen der Deutschen gegen Usdau, angeblich zwei bis drei Divisionen aus nordwestlicher Richtung und eine Division von Lautenburg her, hatte General Samsonow schon am Abend des 26. August Meldung, ebenso über das Mißgeschick seiner 2. Infanterie-Division südlich Mühlen1).\n",
      "main_broken_sentences - L41 - INFO - Processing pageno: 176 \n",
      "main_broken_sentences - L56 - INFO - pageno:176 next round's fragment_2: so wie General Klujew es selbst beantragt hatte, mit dem ganzen Korps zur Unterstützung des XV. nach Hohenstein zu marschieren1), konnte er aber wegen Übermüdung seiner Truppen an diesem Tage nicht mehr ausführen.\n",
      "main_broken_sentences - L41 - INFO - Processing pageno: 177 \n",
      "main_broken_sentences - L56 - INFO - pageno:177 next round's fragment_2: Infanterie-Regimenter seines Korps (zwei, vielleicht auch drei weitere be- fanden sich beim I. Korps, die leichte Feldhaubitz-Abteilung beim II. Korps vor Lötzen).\n",
      "main_broken_sentences - L41 - INFO - Processing pageno: 178 \n",
      "main_broken_sentences - L56 - INFO - pageno:178 next round's fragment_2: \n",
      "main_broken_sentences - L41 - INFO - Processing pageno: 179 \n",
      "main_broken_sentences - L56 - INFO - pageno:179 next round's fragment_2: Fortgang der Schlacht für den folgenden Tag mit voller Zuversicht entgegen.\n",
      "main_broken_sentences - L41 - INFO - Processing pageno: 180 \n",
      "main_broken_sentences - L56 - INFO - pageno:180 next round's fragment_2: Der Entwurf des Armeebefehls für den 28. August lautete für die gegen die russische Mitte angesetzten Verbände: „Verstärktes XX. Armeekorps, Landwehr-Division Bischofstein und I. Reservekorps schließen russisches XIII. und XV. Korps im Angriffe ein.\n",
      "main_broken_sentences - L41 - INFO - Processing pageno: 181 \n"
     ]
    },
    {
     "name": "stdout",
     "output_type": "stream",
     "text": [
      "dumped fragmented outputs foldername: Der Weltkrieg v2.\n",
      "max(keys) = 180\n"
     ]
    },
    {
     "name": "stderr",
     "output_type": "stream",
     "text": [
      "main_broken_sentences - L56 - INFO - pageno:181 next round's fragment_2: Armeekorps greifen den Feind bei Allenstein an.\n",
      "main_broken_sentences - L41 - INFO - Processing pageno: 182 \n",
      "main_broken_sentences - L56 - INFO - pageno:182 next round's fragment_2: mindestens drei russische Divisionen vor seiner Front angenommen.\n",
      "main_broken_sentences - L41 - INFO - Processing pageno: 183 \n",
      "main_broken_sentences - L56 - INFO - pageno:183 next round's fragment_2: über 9 Bataillone, 2 Schwadronen, 13 Batterien¹).\n",
      "main_broken_sentences - L41 - INFO - Processing pageno: 184 \n",
      "main_broken_sentences - L56 - INFO - pageno:184 next round's fragment_2: Russen war es zu danken, daß der Kampf nicht mit der Gefangennahme wesentlicher Teile der Division endete.\n",
      "main_broken_sentences - L41 - INFO - Processing pageno: 185 \n",
      "main_broken_sentences - L56 - INFO - pageno:185 next round's fragment_2: des Generalmajors v. Unger und die 3. Reserve-Division (zusammen 23 Bataillone, 10 Schwadronen, aber nur 11 Batterien, dabei keine schwere) um 4° vormittags in der 8 km breiten Linie Nordspitze des Mühlen-Sees—Kirsteinsdorf zum Angriff bereitgestellt.\n",
      "main_broken_sentences - L41 - INFO - Processing pageno: 186 \n",
      "main_broken_sentences - L56 - INFO - pageno:186 next round's fragment_2: die pommerschen Reservetruppen den Gegner über Sauden auf Hohenstein zurück.\n",
      "main_broken_sentences - L41 - INFO - Processing pageno: 187 \n",
      "main_broken_sentences - L56 - INFO - pageno:187 next round's fragment_2: v. Stwolinski, fiel an der Spitze seiner Truppe.\n",
      "main_broken_sentences - L41 - INFO - Processing pageno: 188 \n",
      "main_broken_sentences - L56 - INFO - pageno:188 next round's fragment_2: \n",
      "main_broken_sentences - L41 - INFO - Processing pageno: 189 \n",
      "main_broken_sentences - L56 - INFO - pageno:189 next round's fragment_2: General v. François hatte seinen Truppen eine längere Nachtruhe gegönnt, als es beim XX. Armeekorps möglich gewesen war.\n",
      "main_broken_sentences - L41 - INFO - Processing pageno: 190 \n",
      "main_broken_sentences - L56 - INFO - pageno:190 next round's fragment_2: v. Schmettau, die schon etwas früher angehalten worden war, und die 1. Infanterie-Division wurden auf Neidenburg in Marsch gesetzt.\n",
      "main_broken_sentences - L41 - INFO - Processing pageno: 191 \n"
     ]
    },
    {
     "name": "stdout",
     "output_type": "stream",
     "text": [
      "dumped fragmented outputs foldername: Der Weltkrieg v2.\n",
      "max(keys) = 190\n"
     ]
    },
    {
     "name": "stderr",
     "output_type": "stream",
     "text": [
      "main_broken_sentences - L56 - INFO - pageno:191 next round's fragment_2: So gab Generaloberst v. Hindenburg am 28. August um 1<sup>30</sup> nachmittags in Frögenau den Befehl zur Verfolgung: „Feind aus Hohenstein—Waplitz in Flucht nach Südosten.\n",
      "main_broken_sentences - L41 - INFO - Processing pageno: 192 \n",
      "main_broken_sentences - L56 - INFO - pageno:192 next round's fragment_2: inzwischen nur langsam vorwärts gekommen.\n",
      "main_broken_sentences - L41 - INFO - Processing pageno: 193 \n",
      "main_broken_sentences - L56 - INFO - pageno:193 next round's fragment_2: licher Schanztätigkeit und teilweise großer Verpflegungsschwierigkeiten so mitgenommen, daß der General ein Vorgehen zum Angriff zunächst für ausgeschlossen hielt und in diesem Sinne auch dem Generalkommando meldete.\n",
      "main_broken_sentences - L41 - INFO - Processing pageno: 194 \n",
      "main_broken_sentences - L56 - INFO - pageno:194 next round's fragment_2: mit der Front nach Süden gegen die Straße Hohenstein—Mörken im Angriff lag), waren breite Schützenlinien vom russischen XIII. Korps über Grieslienen nach Südwesten vorgegangen.\n",
      "main_broken_sentences - L41 - INFO - Processing pageno: 195 \n",
      "main_broken_sentences - L56 - INFO - pageno:195 next round's fragment_2: 28. August allein die Artillerie in Tätigkeit treten konnte.\n",
      "main_broken_sentences - L41 - INFO - Processing pageno: 196 \n",
      "main_broken_sentences - L56 - INFO - pageno:196 next round's fragment_2: folgender zutreffenderen Fassung übermittelte: „Vom Armee-Oberkommando 10° abends. I. Reservekorps und XVII. Korps angreifen Allenstein und XVII. verfolgen Ortelsburg. So früh als möglich. I. Reservekorps soll nicht auf XVII. warten, sondern anfangen. XVII. kommt dann nach. Entscheidung muß morgen fallen. — General Ludendorff.“\n",
      "main_broken_sentences - L41 - INFO - Processing pageno: 197 \n",
      "main_broken_sentences - L56 - INFO - pageno:197 next round's fragment_2: General v. Below aus eigenem Antriebe mit ihm in Verbindung.\n",
      "main_broken_sentences - L41 - INFO - Processing pageno: 198 \n",
      "main_broken_sentences - L56 - INFO - pageno:198 next round's fragment_2: für das Armee-Oberkommando jetzt die Möglichkeit, dem Gegner durch das ganze XVII. Armeekorps zusammen mit dem auf Muschaken—Willenberg und auf Grünfließ angesetzten I. Armeekorps an der Straße Neidenburg—Jedwabno—Passenheim und nochmals an dem Straßenzuge Neidenburg—Willenberg—Ortelsburg eine Sperre vorzulegen und dadurch auch alles, was etwa aus der engeren Einkreisung entkam, abzufangen.\n",
      "main_broken_sentences - L41 - INFO - Processing pageno: 199 \n",
      "main_broken_sentences - L56 - INFO - pageno:199 next round's fragment_2: die 36. nördlich davon über Darethen anzusetzen.\n",
      "main_broken_sentences - L41 - INFO - Processing pageno: 200 \n",
      "main_broken_sentences - L56 - INFO - pageno:200 next round's fragment_2: wieder aufgenommen.\n",
      "main_broken_sentences - L41 - INFO - Processing pageno: 201 \n"
     ]
    },
    {
     "name": "stdout",
     "output_type": "stream",
     "text": [
      "dumped fragmented outputs foldername: Der Weltkrieg v2.\n",
      "max(keys) = 200\n"
     ]
    },
    {
     "name": "stderr",
     "output_type": "stream",
     "text": [
      "main_broken_sentences - L56 - INFO - pageno:201 next round's fragment_2: übersehen.\n",
      "main_broken_sentences - L41 - INFO - Processing pageno: 202 \n",
      "main_broken_sentences - L56 - INFO - pageno:202 next round's fragment_2: \n",
      "main_broken_sentences - L41 - INFO - Processing pageno: 203 \n",
      "main_broken_sentences - L56 - INFO - pageno:203 next round's fragment_2: vom XVII. Armeekorps bei weitem noch nicht erreicht.\n",
      "main_broken_sentences - L41 - INFO - Processing pageno: 204 \n",
      "main_broken_sentences - L56 - INFO - pageno:204 next round's fragment_2: betrage mehrere Tausend.\n",
      "main_broken_sentences - L41 - INFO - Processing pageno: 205 \n",
      "main_broken_sentences - L56 - INFO - pageno:205 next round's fragment_2: nach Süden vorstoßen.\n",
      "main_broken_sentences - L41 - INFO - Processing pageno: 206 \n",
      "main_broken_sentences - L56 - INFO - pageno:206 next round's fragment_2: Wann der Oberbefehlshaber der Narew-Armee in den Morgenstunden des 28. August erkannt hat, daß eine Fortsetzung des Angriffs aussichtslos sei, steht dahin.\n",
      "main_broken_sentences - L41 - INFO - Processing pageno: 207 \n",
      "main_broken_sentences - L56 - INFO - pageno:207 next round's fragment_2: Beim XV. Korps hatte sich die Lage inzwischen folgendermaßen gestaltet: Das von Allenstein zur Unterstützung anrückende XIII. Korps war nicht mehr rechtzeitig herangekommen, um die Niederlage abzuwenden.\n",
      "main_broken_sentences - L41 - INFO - Processing pageno: 208 \n",
      "main_broken_sentences - L56 - INFO - pageno:208 next round's fragment_2: Samsonow, wohl noch am Abend des 28. August, den allgemeinen Rückzug östlich an Neidenburg vorbei für das XV. und XXIII. Korps auf Janow, für das XIII. auf Chorzele angeordnet.\n",
      "main_broken_sentences - L41 - INFO - Processing pageno: 209 \n",
      "main_broken_sentences - L56 - INFO - pageno:209 next round's fragment_2: Am Morgen des 29. August lebte der Kampf zuerst bei Hohenstein wieder auf.\n",
      "main_broken_sentences - L41 - INFO - Processing pageno: 210 \n",
      "main_broken_sentences - L56 - INFO - pageno:210 next round's fragment_2: entsprechend, die Truppen der 37. Infanterie-Division zu sammeln.\n",
      "main_broken_sentences - L41 - INFO - Processing pageno: 211 \n"
     ]
    },
    {
     "name": "stdout",
     "output_type": "stream",
     "text": [
      "dumped fragmented outputs foldername: Der Weltkrieg v2.\n",
      "max(keys) = 210\n"
     ]
    },
    {
     "name": "stderr",
     "output_type": "stream",
     "text": [
      "main_broken_sentences - L56 - INFO - pageno:211 next round's fragment_2: folgte Generalmajor Sonntag.\n",
      "main_broken_sentences - L41 - INFO - Processing pageno: 212 \n",
      "main_broken_sentences - L56 - INFO - pageno:212 next round's fragment_2: \n",
      "main_broken_sentences - L41 - INFO - Processing pageno: 213 \n",
      "main_broken_sentences - L56 - INFO - pageno:213 next round's fragment_2: 2<sup>45</sup> nachmittags<sup>1)</sup>, der „Verfolgung bis zum letzten Atemzuge“ nach Süden vorschrieb, denn alle späteren Weisungen des Armee-Oberkommandos<sup>2)</sup> erhielt das Generalkommando des XVII. Armeekorps erst, als es durch die Bewegungen des Korps schon überholt waren.\n",
      "main_broken_sentences - L41 - INFO - Processing pageno: 214 \n",
      "main_broken_sentences - L56 - INFO - pageno:214 next round's fragment_2: bogen.\n",
      "main_broken_sentences - L41 - INFO - Processing pageno: 215 \n",
      "main_broken_sentences - L56 - INFO - pageno:215 next round's fragment_2: sämte Njemen-Armee nach dem am frühen Morgen aufgefangenen Funkspruch) nunmehr im beschleunigten Vormarsch an; die Vermutung, daß das russische II. Korps den Rückmarsch zur Grenze nicht antreten werde“), schien durch einen neuen russischen Funkspruch bestätigt.\n",
      "main_broken_sentences - L41 - INFO - Processing pageno: 216 \n",
      "main_broken_sentences - L56 - INFO - pageno:216 next round's fragment_2: Ostfront absperren, während das I. Armeekorps ihm entgegen längs der großen Straße und nördlich davon nach Osten vorzurücken hatte.\n",
      "main_broken_sentences - L41 - INFO - Processing pageno: 217 \n",
      "main_broken_sentences - L56 - INFO - pageno:217 next round's fragment_2: Angriffsabsichten habe\n",
      "main_broken_sentences - L41 - INFO - Processing pageno: 218 \n",
      "main_broken_sentences - L56 - INFO - pageno:218 next round's fragment_2: mehr, russischerseits war ein groß angelegter Entsatzversuch in vollem Gange!\n",
      "main_broken_sentences - L41 - INFO - Processing pageno: 219 \n",
      "main_broken_sentences - L56 - INFO - pageno:219 next round's fragment_2: versammelten Festungstruppen und die Landwehr-Division Goltz bei Hohenstein nach Guben in Marsch zu setzen.\n",
      "main_broken_sentences - L41 - INFO - Processing pageno: 220 \n",
      "main_broken_sentences - L56 - INFO - pageno:220 next round's fragment_2: Dorf—Wallendorf angesetzt, sie sollte außerdem ein Regiment zur Sicherung von Neidenburg stellen.\n",
      "main_broken_sentences - L41 - INFO - Processing pageno: 221 \n"
     ]
    },
    {
     "name": "stdout",
     "output_type": "stream",
     "text": [
      "dumped fragmented outputs foldername: Der Weltkrieg v2.\n",
      "max(keys) = 220\n"
     ]
    },
    {
     "name": "stderr",
     "output_type": "stream",
     "text": [
      "main_broken_sentences - L56 - INFO - pageno:221 next round's fragment_2: Russen aufrechterhalten, dann konnten von beiden Divisionen des Korps nur Teile gegen den neuen Feind eingesetzt werden.\n",
      "main_broken_sentences - L41 - INFO - Processing pageno: 222 \n",
      "main_broken_sentences - L56 - INFO - pageno:222 next round's fragment_2: westlich neben diese gesetzt und Michalken erreicht.\n",
      "main_broken_sentences - L41 - INFO - Processing pageno: 223 \n",
      "main_broken_sentences - L56 - INFO - pageno:223 next round's fragment_2: Gegner in vollem Rückzuge auf der großen Straße der Grenze zu und nahm ihn mit seinen drei schweren Batterien unter Feuer.\n",
      "main_broken_sentences - L41 - INFO - Processing pageno: 224 \n",
      "main_broken_sentences - L56 - INFO - pageno:224 next round's fragment_2: Inzwischen war aber bei Ortelsburg, ohne daß es dem Generalkommando zunächst bekannt wurde, der Kampf schon seit 5<sup>30</sup> vormittags wieder im Gange.\n",
      "main_broken_sentences - L41 - INFO - Processing pageno: 225 \n",
      "main_broken_sentences - L56 - INFO - pageno:225 next round's fragment_2: truppen überall gehalten.\n",
      "main_broken_sentences - L41 - INFO - Processing pageno: 226 \n",
      "main_broken_sentences - L56 - INFO - pageno:226 next round's fragment_2: XV. Korps, General Martos, den Truppen der 1. Infanterie-Division in die Hände gefallen.\n",
      "main_broken_sentences - L41 - INFO - Processing pageno: 227 \n",
      "main_broken_sentences - L56 - INFO - pageno:227 next round's fragment_2: oder in kleineren Trupps in den Waldungen umherirrten und sich in den nächsten Tagen ergaben.\n",
      "main_broken_sentences - L41 - INFO - Processing pageno: 228 \n",
      "main_broken_sentences - L56 - INFO - pageno:228 next round's fragment_2: Der Oberbefehlshaber der Nordwestfront, General Shilinski, hatte am 26. August mit vier deutschen Gruppen in Ostpreußen gerechnet:\n",
      "main_broken_sentences - L41 - INFO - Processing pageno: 229 \n",
      "main_broken_sentences - L56 - INFO - pageno:229 next round's fragment_2: „unzweifelhafte Überlegenheit“ der Deutschen.\n",
      "main_broken_sentences - L41 - INFO - Processing pageno: 230 \n",
      "main_broken_sentences - L56 - INFO - pageno:230 next round's fragment_2: vorverlegt hatte, arbeitete die Drahtverbindung nur sehr unvollkommen.\n",
      "main_broken_sentences - L41 - INFO - Processing pageno: 231 \n"
     ]
    },
    {
     "name": "stdout",
     "output_type": "stream",
     "text": [
      "dumped fragmented outputs foldername: Der Weltkrieg v2.\n",
      "max(keys) = 230\n"
     ]
    },
    {
     "name": "stderr",
     "output_type": "stream",
     "text": [
      "main_broken_sentences - L56 - INFO - pageno:231 next round's fragment_2: gruppe zu dieser Zeit von den Kämpfen am 26. und 27. August hatte, wissen wir nicht.\n",
      "main_broken_sentences - L41 - INFO - Processing pageno: 232 \n",
      "main_broken_sentences - L56 - INFO - pageno:232 next round's fragment_2: General v. Rennenkampf, mit zwei Korps und drei Kavallerie-Divisionen nach Westen vorzurücken, um den gegen die Narew-Armee kämpfenden Deutschen in den Rücken zu gehen, die übrigen Teile sollten diese Bewegung gegen Königsberg decken.\n",
      "main_broken_sentences - L41 - INFO - Processing pageno: 233 \n",
      "main_broken_sentences - L56 - INFO - pageno:233 next round's fragment_2: des XXIII. Korps schwere Kämpfe bei Hohenstein—Neidenburg; wo sich diese Truppen am Abend des 29. August befanden, ist unbekannt.\n",
      "main_broken_sentences - L41 - INFO - Processing pageno: 234 \n",
      "main_broken_sentences - L56 - INFO - pageno:234 next round's fragment_2: weichen.\n",
      "main_broken_sentences - L41 - INFO - Processing pageno: 235 \n",
      "main_broken_sentences - L56 - INFO - pageno:235 next round's fragment_2: \n",
      "main_broken_sentences - L41 - INFO - Processing pageno: 236 \n",
      "main_broken_sentences - L56 - INFO - pageno:236 next round's fragment_2: besatzungen1) für Warschau und die übrigen Festungen in Polen —, eine so gewaltige Übermacht gegen die deutsche 8. Armee zu vereinigen, daß alle Tüchtigkeit von Führung und Truppe sie wohl schwerlich hätte ausgleichen können.\n",
      "main_broken_sentences - L41 - INFO - Processing pageno: 237 \n",
      "main_broken_sentences - L56 - INFO - pageno:237 next round's fragment_2: reichten an Infanterie eine Gesamtstärke von drei Divisionen, hatten aber wenig oder gar keine Maschinengewehre und nur ganz geringe Artillerie.\n",
      "main_broken_sentences - L41 - INFO - Processing pageno: 238 \n",
      "main_broken_sentences - L56 - INFO - pageno:238 next round's fragment_2: reibungen war man nicht gewachsen.\n",
      "main_broken_sentences - L41 - INFO - Processing pageno: 239 \n",
      "main_broken_sentences - L56 - INFO - pageno:239 next round's fragment_2: \n",
      "main_broken_sentences - L41 - INFO - Processing pageno: 240 \n",
      "main_broken_sentences - L56 - INFO - pageno:240 next round's fragment_2: überlegenen Feind geschlagen1), während gleichzeitig beide Flanken von weiterer Übermacht bedroht waren.\n",
      "main_broken_sentences - L41 - INFO - Processing pageno: 241 \n"
     ]
    },
    {
     "name": "stdout",
     "output_type": "stream",
     "text": [
      "dumped fragmented outputs foldername: Der Weltkrieg v2.\n",
      "max(keys) = 240\n"
     ]
    },
    {
     "name": "stderr",
     "output_type": "stream",
     "text": [
      "main_broken_sentences - L56 - INFO - pageno:241 next round's fragment_2: von Führer und Truppe und damit jede Unternehmungslust auf russischer Seite immer mehr.\n",
      "main_broken_sentences - L41 - INFO - Processing pageno: 242 \n",
      "main_broken_sentences - L56 - INFO - pageno:242 next round's fragment_2: Die Schlacht an den Masurischen Seen und die Kämpfe an der galizischen Front bis Mitte September 1914.\n",
      "main_broken_sentences - L41 - INFO - Processing pageno: 243 \n",
      "main_broken_sentences - L56 - INFO - pageno:243 next round's fragment_2: \n",
      "main_broken_sentences - L41 - INFO - Processing pageno: 244 \n",
      "main_broken_sentences - L56 - INFO - pageno:244 next round's fragment_2: \n",
      "main_broken_sentences - L41 - INFO - Processing pageno: 245 \n",
      "main_broken_sentences - L56 - INFO - pageno:245 next round's fragment_2: 1 Korps von 24 Bataillonen [Landwehrkorps1) 2)] gegen Tschenstochau und Kalisch.\n",
      "main_broken_sentences - L41 - INFO - Processing pageno: 246 \n",
      "main_broken_sentences - L56 - INFO - pageno:246 next round's fragment_2: zusammen: 870 Bataillone, 350 Schwadronen und 350 Batterien);\n",
      "main_broken_sentences - L41 - INFO - Processing pageno: 247 \n",
      "main_broken_sentences - L56 - INFO - pageno:247 next round's fragment_2: angesichts der für den Kriegsbeginn an der ostpreußischen Front erwarteten Stärkeverhältnisse — auch gar nicht gegeben werden1).\n",
      "main_broken_sentences - L41 - INFO - Processing pageno: 248 \n",
      "main_broken_sentences - L56 - INFO - pageno:248 next round's fragment_2: Auch ohne die 2. Armee behielt der Feldzeugmeister gegen Serbien 2 Infanterie-Divisionen mehr zur Verfügung, als für den „Minimal-Fall“ gegen Serbien bestimmt waren.\n",
      "main_broken_sentences - L41 - INFO - Processing pageno: 249 \n",
      "main_broken_sentences - L56 - INFO - pageno:249 next round's fragment_2: seiner Masse in die Gegend östlich und nördlich Lemberg vor, um den Raum um diese Stadt zu halten.\n",
      "main_broken_sentences - L41 - INFO - Processing pageno: 250 \n",
      "main_broken_sentences - L56 - INFO - pageno:250 next round's fragment_2: den Kampf abgebrochen habe.\n",
      "main_broken_sentences - L41 - INFO - Processing pageno: 251 \n"
     ]
    },
    {
     "name": "stdout",
     "output_type": "stream",
     "text": [
      "dumped fragmented outputs foldername: Der Weltkrieg v2.\n",
      "max(keys) = 250\n"
     ]
    },
    {
     "name": "stderr",
     "output_type": "stream",
     "text": [
      "main_broken_sentences - L56 - INFO - pageno:251 next round's fragment_2: Österreichisch-ungarischerseits waren zum Angriff westlich des Zug einschließlich des deutschen Landwehrkorps zunächst 23 Divisionen Infanterie (17 aktive Divisionen, 2 deutsche Landwehr- und 2 österreichische Landsturm-Divisionen sowie 4 einzelne Landsturm-Brigaden) im Vorrücken.\n",
      "main_broken_sentences - L41 - INFO - Processing pageno: 252 \n",
      "main_broken_sentences - L56 - INFO - pageno:252 next round's fragment_2: nicht abwartete, ebenso wie bei der Nordwestfront allenfalls schon am 22. August.\n",
      "main_broken_sentences - L41 - INFO - Processing pageno: 253 \n",
      "main_broken_sentences - L56 - INFO - pageno:253 next round's fragment_2: krasnik.\n",
      "main_broken_sentences - L41 - INFO - Processing pageno: 254 \n",
      "main_broken_sentences - L56 - INFO - pageno:254 next round's fragment_2: gedrängt: 60 km südlich Cholm suchte der Oberbefehlshaber der 4. Armee, General v. Auffenberg, unbeirrt durch alle Schwierigkeiten, die Masse der russischen 5. Armee durch beiderseitige Umfassung zu vernichten.\n",
      "main_broken_sentences - L41 - INFO - Processing pageno: 255 \n",
      "main_broken_sentences - L56 - INFO - pageno:255 next round's fragment_2: \n",
      "main_broken_sentences - L41 - INFO - Processing pageno: 256 \n",
      "main_broken_sentences - L56 - INFO - pageno:256 next round's fragment_2: dung des Generals v. Freytag vom 20. August hatte das Bild ergeben, daß Ende August an der galizischen Front auf verbündeter Seite 45 Divisionen Infanterie1) versammelt sein würden, denen gegenüber, wie General v. Conrad mitteilen ließ, bisher 34 russische Divisionen im Kampfe festgestellt waren.\n",
      "main_broken_sentences - L41 - INFO - Processing pageno: 257 \n",
      "main_broken_sentences - L56 - INFO - pageno:257 next round's fragment_2: nach Ostpreußen Kenntnis erhalten hatte, hoffte man, daß nach den deutschen Siegen in Frankreich und in Ostpreußen nun auch eine unmittelbarbare Unterstützung durch deutsche Truppen in Galizien möglich sein werde.\n",
      "main_broken_sentences - L41 - INFO - Processing pageno: 258 \n",
      "main_broken_sentences - L56 - INFO - pageno:258 next round's fragment_2: aber hartnäckig um den Erfolg ringen, der ihnen in den blutigen Schlachten von Krasnik, Samostje¹) und Komarow auch hier zuteil wurde, allerdings auf Kosten der östlichen Armeegruppen, welche deshalb nur schwächer sein konnten und vom überlegenen Feind gedrängt wurden.\n",
      "main_broken_sentences - L41 - INFO - Processing pageno: 259 \n",
      "main_broken_sentences - L56 - INFO - pageno:259 next round's fragment_2: volle Gültigkeit: auch das Schicksal Österreichs würde nicht am Bug, sondern an der Seine endgültig entschieden werden1).\n",
      "main_broken_sentences - L41 - INFO - Processing pageno: 260 \n",
      "main_broken_sentences - L56 - INFO - pageno:260 next round's fragment_2: soeben erwiesen hatte, was gegen russische Truppen auch mit Minderheiten zu erreichen war.\n",
      "main_broken_sentences - L41 - INFO - Processing pageno: 261 \n"
     ]
    },
    {
     "name": "stdout",
     "output_type": "stream",
     "text": [
      "dumped fragmented outputs foldername: Der Weltkrieg v2.\n",
      "max(keys) = 260\n"
     ]
    },
    {
     "name": "stderr",
     "output_type": "stream",
     "text": [
      "main_broken_sentences - L56 - INFO - pageno:261 next round's fragment_2: Ostpreußen rasch fertig zu werden.\n",
      "main_broken_sentences - L41 - INFO - Processing pageno: 262 \n",
      "main_broken_sentences - L56 - INFO - pageno:262 next round's fragment_2: Nikolajewitsch in Bjelostok eine Besprechung mit dem Oberbefehlshaber der Nordwestfront General Sihliniski.\n",
      "main_broken_sentences - L41 - INFO - Processing pageno: 263 \n",
      "main_broken_sentences - L56 - INFO - pageno:263 next round's fragment_2: Am 31. August, dem letzten Kampftage der Tannenberger Schlacht, hatte die deutsche Oberste Heeresleitung der 8. Armee folgende neue Weisung gegeben: „Zunächst wird Aufgabe der 8. Armee sein, Ostpreußen von Armee Rennenkampfs zu säubern.\n",
      "main_broken_sentences - L41 - INFO - Processing pageno: 264 \n",
      "main_broken_sentences - L56 - INFO - pageno:264 next round's fragment_2: \n",
      "main_broken_sentences - L41 - INFO - Processing pageno: 265 \n",
      "main_broken_sentences - L56 - INFO - pageno:265 next round's fragment_2: sowie einzelne der Gefangennahme entronnene Teile des XIII., XV. und XXIII. Korps in Frage.\n",
      "main_broken_sentences - L41 - INFO - Processing pageno: 266 \n",
      "main_broken_sentences - L56 - INFO - pageno:266 next round's fragment_2: Im einzelnen bot die Lage vor der Front der deutschen 8. Armee folgendes Bild: Der geschlagenen russischen Narew-Armee hatte bisher nur Reiterei folgen können.\n",
      "main_broken_sentences - L41 - INFO - Processing pageno: 267 \n",
      "main_broken_sentences - L56 - INFO - pageno:267 next round's fragment_2: Gegen den Nordflügel war jede Umfassung ausgeschlossen.\n",
      "main_broken_sentences - L41 - INFO - Processing pageno: 268 \n",
      "main_broken_sentences - L56 - INFO - pageno:268 next round's fragment_2: bringen. Nach allem, was man von der Kriegführung der Russen wußte, nach ihrem Verhalten im ostasiatischen Kriege wie nach der bisherigen Betätigung des Generals v. Rennenkampf in Ostpreußen und vollends nach der eben vorgegangenen Zertrümmerung der Narew- Armee, war es allerdings nicht gerade wahrscheinlich, daß die Njemen- Armee jetzt den Entschluß finden werde, aus ihrer starken Stellung heraus, mit der Festung Königsberg in der Nordflanke, im richtigen Augenblick zu einem frühen und wirkungsvollen Gegenangriff zu schreiten; möglich aber blieb es.\n",
      "main_broken_sentences - L41 - INFO - Processing pageno: 269 \n",
      "main_broken_sentences - L56 - INFO - pageno:269 next round's fragment_2: anzusetzen.\n",
      "main_broken_sentences - L41 - INFO - Processing pageno: 270 \n",
      "main_broken_sentences - L56 - INFO - pageno:270 next round's fragment_2: des Armee-Oberkommandos entsprechend — auch schon überschritten.\n",
      "main_broken_sentences - L41 - INFO - Processing pageno: 271 \n"
     ]
    },
    {
     "name": "stdout",
     "output_type": "stream",
     "text": [
      "dumped fragmented outputs foldername: Der Weltkrieg v2.\n",
      "max(keys) = 270\n"
     ]
    },
    {
     "name": "stderr",
     "output_type": "stream",
     "text": [
      "main_broken_sentences - L56 - INFO - pageno:271 next round's fragment_2: der Seen nach Norden weitergeführt zu werden.\n",
      "main_broken_sentences - L41 - INFO - Processing pageno: 272 \n",
      "main_broken_sentences - L56 - INFO - pageno:272 next round's fragment_2: schütze“ war, wie das I. Armeekorps abends meldete, im Zurückgehen nach Osten auf Bialla.\n",
      "main_broken_sentences - L41 - INFO - Processing pageno: 273 \n",
      "main_broken_sentences - L56 - INFO - pageno:273 next round's fragment_2: Arÿs auf Gegner, mußte den Angriff aber der einbrechenden Dunkelheit halber auf den nächsten Tag verschieben\n",
      "main_broken_sentences - L41 - INFO - Processing pageno: 274 \n",
      "main_broken_sentences - L56 - INFO - pageno:274 next round's fragment_2: Ganz im Sinne des Armee-Oberkommandos hatte General von François die 3. Reserve-Division für den 8. September schon östlich am Arrys-See vorbei auf Neuhof (6 km südwestlich Neu-Jucha) angesetzt.\n",
      "main_broken_sentences - L41 - INFO - Processing pageno: 275 \n",
      "main_broken_sentences - L56 - INFO - pageno:275 next round's fragment_2: stein—Preußisch-Eylau erreicht.\n",
      "main_broken_sentences - L41 - INFO - Processing pageno: 276 \n",
      "main_broken_sentences - L56 - INFO - pageno:276 next round's fragment_2: Reserven dort fesseln, damit sie nicht nach Süden gegen den deutschen Angriffsflügel verschoben wurden.\n",
      "main_broken_sentences - L41 - INFO - Processing pageno: 277 \n",
      "main_broken_sentences - L56 - INFO - pageno:277 next round's fragment_2: 41/2 Divisionen angesetzt.\n",
      "main_broken_sentences - L41 - INFO - Processing pageno: 278 \n",
      "main_broken_sentences - L56 - INFO - pageno:278 next round's fragment_2: Auferkundung das Gelände bis zum Narew vom Feinde frei gefunden.\n",
      "main_broken_sentences - L41 - INFO - Processing pageno: 279 \n",
      "main_broken_sentences - L56 - INFO - pageno:279 next round's fragment_2: Division, Generalleutnants Brecht, am 9. September bei Widminnen zu einem Kavalleriekorps vereinigt werden und auf Goldap vorgehen.\n",
      "main_broken_sentences - L41 - INFO - Processing pageno: 280 \n",
      "main_broken_sentences - L56 - INFO - pageno:280 next round's fragment_2: dieser neuen Bedrohung des eigenen Rückens hielt das deutsche Armee-Oberkommando an dem Abtransport der 1/2 35. Reserve-Division nach Westen fest.\n",
      "main_broken_sentences - L41 - INFO - Processing pageno: 281 \n"
     ]
    },
    {
     "name": "stdout",
     "output_type": "stream",
     "text": [
      "dumped fragmented outputs foldername: Der Weltkrieg v2.\n",
      "max(keys) = 280\n"
     ]
    },
    {
     "name": "stderr",
     "output_type": "stream",
     "text": [
      "main_broken_sentences - L56 - INFO - pageno:281 next round's fragment_2: die Flanke des Gegners vorgedrungen war, der bei Kruglanken dem XVII. Armeekorps gegenüber stand.\n",
      "main_broken_sentences - L41 - INFO - Processing pageno: 282 \n",
      "main_broken_sentences - L56 - INFO - pageno:282 next round's fragment_2: Nördlich des Mauer-Sees hatte das XX. Armeekorps dem XVII. in die Hand arbeiten sollen.\n",
      "main_broken_sentences - L41 - INFO - Processing pageno: 283 \n",
      "main_broken_sentences - L56 - INFO - pageno:283 next round's fragment_2: Reserve-Infanterie-Brigade unter Generalmajor Freiherr v. Langermann und Erlencamp vorging, wenn auch unter erheblichen Verlusten, bis dicht an die russischen Stellungen heran.\n",
      "main_broken_sentences - L41 - INFO - Processing pageno: 284 \n",
      "main_broken_sentences - L56 - INFO - pageno:284 next round's fragment_2: scheinlich, daß General v. Rennenkampf mit einer solchen Streitmacht die Schlacht infolge der deutschen Umfassung ohne weiteres verloren geben werde.\n",
      "main_broken_sentences - L41 - INFO - Processing pageno: 285 \n",
      "main_broken_sentences - L56 - INFO - pageno:285 next round's fragment_2: Beim Armee-Oberkommando, wo man zu dieser Zeit von der Südfront ungünstige Nachrichten hatte¹) und auch um die 3. Reserve-Division nicht ohne Sorge war, empfand man die Meldung von der Räumung der befestigten russischen Stellung vor allem als eine Erlösung aus schwieriger, aufs höchste gespannter Lage.\n",
      "main_broken_sentences - L41 - INFO - Processing pageno: 286 \n",
      "main_broken_sentences - L56 - INFO - pageno:286 next round's fragment_2: äußerster Anspannung der Truppe der 3. Reserve-Division zu Hilfe eilen.\n",
      "main_broken_sentences - L41 - INFO - Processing pageno: 287 \n",
      "main_broken_sentences - L56 - INFO - pageno:287 next round's fragment_2: von den Generalkommandos kamen keine Meldungen, die das Bild weiter klären konnten.\n",
      "main_broken_sentences - L41 - INFO - Processing pageno: 288 \n",
      "main_broken_sentences - L56 - INFO - pageno:288 next round's fragment_2: gezogen war, nach den Anstrengungen und Kämpfen der letzten Tage nur noch bis 6 km nördlich Lyck, während sich die Anfänge der Landwehr-Division Goltz dieser Stadt von Süden näherten.\n",
      "main_broken_sentences - L41 - INFO - Processing pageno: 289 \n",
      "main_broken_sentences - L56 - INFO - pageno:289 next round's fragment_2: 11° vormittags hatte General v. Scholz für sein Korps den Befehl zum planmäßigen Angriff gegeben, aber schon bald darauf zog der Gegner auch hier ab.\n",
      "main_broken_sentences - L41 - INFO - Processing pageno: 290 \n",
      "main_broken_sentences - L56 - INFO - pageno:290 next round's fragment_2: wurde gemeldet, es scheine fraglich, ob Rennen­kampf noch entscheidend geschlagen werden könne.\n",
      "main_broken_sentences - L41 - INFO - Processing pageno: 291 \n"
     ]
    },
    {
     "name": "stdout",
     "output_type": "stream",
     "text": [
      "dumped fragmented outputs foldername: Der Weltkrieg v2.\n",
      "max(keys) = 290\n"
     ]
    },
    {
     "name": "stderr",
     "output_type": "stream",
     "text": [
      "main_broken_sentences - L56 - INFO - pageno:291 next round's fragment_2: nicht östlich der Rominterischen Heide.\n",
      "main_broken_sentences - L41 - INFO - Processing pageno: 292 \n",
      "main_broken_sentences - L56 - INFO - pageno:292 next round's fragment_2: jetzt noch durchaus möglich, zumal in Verbindung mit einem hinter dieser Front nach Süden oder Südosten gegen die deutsche Umklammerung geführten Angriffe.\n",
      "main_broken_sentences - L41 - INFO - Processing pageno: 293 \n",
      "main_broken_sentences - L56 - INFO - pageno:293 next round's fragment_2: folgte ihm das XX. Armeekorps und erreichte abends in 10 km Breite das Westufer der Angerapp südlich Darkehmen und bei diesem Städtchen.\n",
      "main_broken_sentences - L41 - INFO - Processing pageno: 294 \n",
      "main_broken_sentences - L56 - INFO - pageno:294 next round's fragment_2: den Pregel lange aufgehalten, da sein gesamtes Brückengerät bisher noch an Omet und Alle eingebaut gewesen war.\n",
      "main_broken_sentences - L41 - INFO - Processing pageno: 295 \n",
      "main_broken_sentences - L56 - INFO - pageno:295 next round's fragment_2: \n",
      "main_broken_sentences - L41 - INFO - Processing pageno: 296 \n",
      "main_broken_sentences - L56 - INFO - pageno:296 next round's fragment_2: Pillupönen auf Milkowischki gegeben.\n",
      "main_broken_sentences - L41 - INFO - Processing pageno: 297 \n",
      "main_broken_sentences - L56 - INFO - pageno:297 next round's fragment_2: gelangte spät in der Nacht bis über Walterkehmen, wo 1000 Gefangene gemacht wurden, und Trakehnen hinaus.\n",
      "main_broken_sentences - L41 - INFO - Processing pageno: 298 \n",
      "main_broken_sentences - L56 - INFO - pageno:298 next round's fragment_2: 10000 Gefangene und etwa 80 Geschütze angewachsene Beute konnte\n",
      "main_broken_sentences - L41 - INFO - Processing pageno: 299 \n",
      "main_broken_sentences - L56 - INFO - pageno:299 next round's fragment_2: im wesentlichen ihren Abschluß.\n",
      "main_broken_sentences - L41 - INFO - Processing pageno: 300 \n",
      "main_broken_sentences - L56 - INFO - pageno:300 next round's fragment_2: njemen-Armee kein Zweifel mehr war, konnte man auf die halbe 35. Reserve-Division bei Königsberg verzichten.\n",
      "main_broken_sentences - L41 - INFO - Processing pageno: 301 \n"
     ]
    },
    {
     "name": "stdout",
     "output_type": "stream",
     "text": [
      "dumped fragmented outputs foldername: Der Weltkrieg v2.\n",
      "max(keys) = 300\n"
     ]
    },
    {
     "name": "stderr",
     "output_type": "stream",
     "text": [
      "main_broken_sentences - L56 - INFO - pageno:301 next round's fragment_2: ben Masurischen Seen stehende 1. Armee wenden oder gegen den Narew, außerdem mit neuen Kräften, über deren Anrollen von der französischen Front die russische Presse schon am 30. August berichtete), von Westen her gegen den Raum von Warschau.\n",
      "main_broken_sentences - L41 - INFO - Processing pageno: 302 \n",
      "main_broken_sentences - L56 - INFO - pageno:302 next round's fragment_2: Vormarsch abzuwehren, wo er jetzt stand.\n",
      "main_broken_sentences - L41 - INFO - Processing pageno: 303 \n",
      "main_broken_sentences - L56 - INFO - pageno:303 next round's fragment_2: das Haff oder von See her befürchtete.\n",
      "main_broken_sentences - L41 - INFO - Processing pageno: 304 \n",
      "main_broken_sentences - L56 - INFO - pageno:304 next round's fragment_2: front am 8. September schwankend: General v. Rennenkampf, der zwar selbst seine Lage bisher für sicher hielt, sollte nötigenfalls auf Gumbinnen ausweichen, die Korps der 10. Armee „im Falle des Vormarsches bedeutender feindlicher Kräfte“ auf Augustow und Grajewo.\n",
      "main_broken_sentences - L41 - INFO - Processing pageno: 305 \n",
      "main_broken_sentences - L56 - INFO - pageno:305 next round's fragment_2: 3/4 andere, die weniger gelitten oder noch gar nicht gekämpft hatten, zurückblieben.\n",
      "main_broken_sentences - L41 - INFO - Processing pageno: 306 \n",
      "main_broken_sentences - L56 - INFO - pageno:306 next round's fragment_2: Am 10. September schien mit der gelungenen Loslösung vom Feinde die Gefahr beseitigt, zumal da General v. Rennenkampf das XXII. Korps zu dieser Zeit im Vorgehen gegen den Rücken der deutschen Umfassung annahm.\n",
      "main_broken_sentences - L41 - INFO - Processing pageno: 307 \n",
      "main_broken_sentences - L56 - INFO - pageno:307 next round's fragment_2: mandos enthoben.\n",
      "main_broken_sentences - L41 - INFO - Processing pageno: 308 \n",
      "main_broken_sentences - L56 - INFO - pageno:308 next round's fragment_2: ein, sondern enthob schließlich den Oberbefehlshaber der Heeresgruppe, General Ghinski, selbst seiner Stellung und ersetzte ihn durch General Russki, den bisherigen siegreichen Führer der 3. Armee.\n",
      "main_broken_sentences - L41 - INFO - Processing pageno: 309 \n",
      "main_broken_sentences - L56 - INFO - pageno:309 next round's fragment_2: 10. September auf eine Stärke von 72 Bataillonen, 38 Schwadronen und 252 Geschützen anwuchs, wurden im ganzen nicht mehr als 24 Reserve- und Landwehr-Bataillone, 15 Schwadronen, 60 Geschütze eingesetzt.\n",
      "main_broken_sentences - L41 - INFO - Processing pageno: 310 \n",
      "main_broken_sentences - L56 - INFO - pageno:310 next round's fragment_2: Wie wir die beiderseitigen Kräfte und ihre Verteilung heute kennen, ist es aber keineswegs sicher, daß der deutsche Angriff nach dem 10. September noch viel weitergekommen wäre, wenn General v. Rennenkampf standgehalten hätte.\n",
      "main_broken_sentences - L41 - INFO - Processing pageno: 311 \n"
     ]
    },
    {
     "name": "stdout",
     "output_type": "stream",
     "text": [
      "dumped fragmented outputs foldername: Der Weltkrieg v2.\n",
      "max(keys) = 310\n"
     ]
    },
    {
     "name": "stderr",
     "output_type": "stream",
     "text": [
      "main_broken_sentences - L56 - INFO - pageno:311 next round's fragment_2: ihre Gesamtverluste auf 100000 Mann an (70000 Tote und Verwundete, 30000 Gefangene).\n",
      "main_broken_sentences - L41 - INFO - Processing pageno: 312 \n",
      "main_broken_sentences - L56 - INFO - pageno:312 next round's fragment_2: \n",
      "main_broken_sentences - L41 - INFO - Processing pageno: 313 \n",
      "main_broken_sentences - L56 - INFO - pageno:313 next round's fragment_2: sammenarbeitens der beteiligten selbständigen höheren Reichsbehörden bis zum Kriege über Vorberatungen nicht hinausgekommen war.\n",
      "main_broken_sentences - L41 - INFO - Processing pageno: 314 \n",
      "main_broken_sentences - L56 - INFO - pageno:314 next round's fragment_2: zurückgezogen, die staatlichen Kassen und alle wichtigen Akten geborgen werden.\n",
      "main_broken_sentences - L41 - INFO - Processing pageno: 315 \n",
      "main_broken_sentences - L56 - INFO - pageno:315 next round's fragment_2: Diese Fluchtbewegung nahm sehr bald einen immer größeren Umfang an.\n",
      "main_broken_sentences - L41 - INFO - Processing pageno: 316 \n",
      "main_broken_sentences - L56 - INFO - pageno:316 next round's fragment_2: in Sicherheit zu bringen.\n",
      "main_broken_sentences - L41 - INFO - Processing pageno: 317 \n",
      "main_broken_sentences - L56 - INFO - pageno:317 next round's fragment_2: Die Fluchtbewegung bildete für die Behörden eine schwere Sorge.\n",
      "main_broken_sentences - L41 - INFO - Processing pageno: 318 \n",
      "main_broken_sentences - L56 - INFO - pageno:318 next round's fragment_2: nicht entziehen konnten — die Verteidiger ihrer Heimat nach bestem Können und unter vollem Einsatz ihrer Person unterstützt haben.\n",
      "main_broken_sentences - L41 - INFO - Processing pageno: 319 \n",
      "main_broken_sentences - L56 - INFO - pageno:319 next round's fragment_2: entsprach auch der Meinung der russischen Obersten Heeresleitung, die per vom 5. September eine Verfügung ähnlichen Inhalts bekannt ist.\n",
      "main_broken_sentences - L41 - INFO - Processing pageno: 320 \n",
      "main_broken_sentences - L56 - INFO - pageno:320 next round's fragment_2: Einzelhöfen, in deren Nähe Patrouillenzusammenstöße stattgefunden haben, in großer Zahl anführen.\n",
      "main_broken_sentences - L41 - INFO - Processing pageno: 321 \n"
     ]
    },
    {
     "name": "stdout",
     "output_type": "stream",
     "text": [
      "dumped fragmented outputs foldername: Der Weltkrieg v2.\n",
      "max(keys) = 320\n"
     ]
    },
    {
     "name": "stderr",
     "output_type": "stream",
     "text": [
      "main_broken_sentences - L56 - INFO - pageno:321 next round's fragment_2: mit der Waffe in der Hand, gegen die eigenen Soldaten eingegriffen, Plünderungen mit Knuttenhieben bestrafen lassen.\n",
      "main_broken_sentences - L41 - INFO - Processing pageno: 322 \n",
      "main_broken_sentences - L56 - INFO - pageno:322 next round's fragment_2: die vordersten russischen Aufklärungsabteilungen vielfach Scheunen und Strohmieten angezündet, um anzuzeigen, wie weit sie gekommen seien.\n",
      "main_broken_sentences - L41 - INFO - Processing pageno: 323 \n",
      "main_broken_sentences - L56 - INFO - pageno:323 next round's fragment_2: Ortschaften aber war in der warmen Jahreszeit und im Bewegungskriege militärisch völlig unwirksam.\n",
      "main_broken_sentences - L41 - INFO - Processing pageno: 324 \n",
      "main_broken_sentences - L56 - INFO - pageno:324 next round's fragment_2: \n",
      "main_broken_sentences - L41 - INFO - Processing pageno: 325 \n",
      "main_broken_sentences - L56 - INFO - pageno:325 next round's fragment_2: \n",
      "main_broken_sentences - L41 - INFO - Processing pageno: 326 \n",
      "main_broken_sentences - L56 - INFO - pageno:326 next round's fragment_2: wesentlich andere Bahnen.\n",
      "main_broken_sentences - L41 - INFO - Processing pageno: 327 \n",
      "main_broken_sentences - L56 - INFO - pageno:327 next round's fragment_2: Mit diesem für einen weiten Zug in Feindesland und vollends für den Kampf gegen wohlgerüstete aktive Truppen wenig geeigneten Verbande war General v. Woyrsch am 15. August von Tschenstochau und Kalisch aufgebrochen.\n",
      "main_broken_sentences - L41 - INFO - Processing pageno: 328 \n",
      "main_broken_sentences - L56 - INFO - pageno:328 next round's fragment_2: Abschnitt der deutschen Landwehr vor, als gerade Teile der Infanterie, die keine Feldküchen hatte, zum Abkochen nach rückwärts gegangen waren.\n",
      "main_broken_sentences - L41 - INFO - Processing pageno: 329 \n",
      "main_broken_sentences - L56 - INFO - pageno:329 next round's fragment_2: ungünstigere Zusammensetzung der Divisionen, vor allem ihre Unterlegenheit an Artillerie, immer mehr fühlbar machte.\n",
      "main_broken_sentences - L41 - INFO - Processing pageno: 330 \n",
      "main_broken_sentences - L56 - INFO - pageno:330 next round's fragment_2: des Westflügels ganz einstellen1), als ihr der Zusammenbruch der österreichisch-ungarischen 1. Armee einen unerwarteten Sieg brachte.\n",
      "main_broken_sentences - L41 - INFO - Processing pageno: 331 \n"
     ]
    },
    {
     "name": "stdout",
     "output_type": "stream",
     "text": [
      "dumped fragmented outputs foldername: Der Weltkrieg v2.\n",
      "max(keys) = 330\n"
     ]
    },
    {
     "name": "stderr",
     "output_type": "stream",
     "text": [
      "main_broken_sentences - L56 - INFO - pageno:331 next round's fragment_2: Stimmung zurück gegenüber dem Eindruck, daß das eigene Heer in seiner Kampfkraft aufs schwerste gelitten habe.\n",
      "main_broken_sentences - L41 - INFO - Processing pageno: 332 \n",
      "main_broken_sentences - L56 - INFO - pageno:332 next round's fragment_2: sichts der inzwischen weiter angewachsenen russischen Massen nur durch kräftige Hilfe von der Westfront wieder hätte freimachen können.\n",
      "main_broken_sentences - L41 - INFO - Processing pageno: 333 \n",
      "main_broken_sentences - L56 - INFO - pageno:333 next round's fragment_2: Angriff überzugehen.\n",
      "main_broken_sentences - L41 - INFO - Processing pageno: 334 \n",
      "main_broken_sentences - L56 - INFO - pageno:334 next round's fragment_2: Die Leistungen der Truppe und ihrer Führer. Das Ergebnis der bisherigen Kämpfe.\n",
      "main_broken_sentences - L41 - INFO - Processing pageno: 335 \n",
      "main_broken_sentences - L56 - INFO - pageno:335 next round's fragment_2: \n",
      "main_broken_sentences - L41 - INFO - Processing pageno: 336 \n",
      "main_broken_sentences - L56 - INFO - pageno:336 next round's fragment_2: \n",
      "main_broken_sentences - L41 - INFO - Processing pageno: 337 \n",
      "main_broken_sentences - L56 - INFO - pageno:337 next round's fragment_2: 5. Landwehr-Brigade am 26. und 27. August, der Angriff der 6. Landwehr- Brigade am 26., der Landwehr-Division Golz am 28. und des Landwehr- korps bei Tarnawka sind Ruhmesblätter für die deutsche Landwehr.\n",
      "main_broken_sentences - L41 - INFO - Processing pageno: 338 \n",
      "main_broken_sentences - L56 - INFO - pageno:338 next round's fragment_2: zuweisen, dessen Truppen zum Schutze der Südgrenze zunächst weit nach Osten vorrückten und dann wieder nach Westen zurückgeführt werden mussten.\n",
      "main_broken_sentences - L41 - INFO - Processing pageno: 339 \n",
      "main_broken_sentences - L56 - INFO - pageno:339 next round's fragment_2: Die deutsche Infanterie hat überall, besonders aber wo sie zum ersten Male auf den Feind traf, mit dem ganzen ihr damals innewohnenden Ungestüm angegriffen.\n",
      "main_broken_sentences - L41 - INFO - Processing pageno: 340 \n",
      "main_broken_sentences - L56 - INFO - pageno:340 next round's fragment_2: luste z. B. beim Angriff der 6. Landwehr-Brigade am 26. August auf etwa 10 v. H. des Gesamtverlustes dieser Brigade.\n",
      "main_broken_sentences - L41 - INFO - Processing pageno: 341 \n"
     ]
    },
    {
     "name": "stdout",
     "output_type": "stream",
     "text": [
      "dumped fragmented outputs foldername: Der Weltkrieg v2.\n",
      "max(keys) = 340\n"
     ]
    },
    {
     "name": "stderr",
     "output_type": "stream",
     "text": [
      "main_broken_sentences - L56 - INFO - pageno:341 next round's fragment_2: Verbände (Kavallerie-Divisionen) gegliedert war.\n",
      "main_broken_sentences - L41 - INFO - Processing pageno: 342 \n",
      "main_broken_sentences - L56 - INFO - pageno:342 next round's fragment_2: die Kavallerie, denn sie konnten in die Tiefe der feindlichen Kräftegruppierung sehen.\n",
      "main_broken_sentences - L41 - INFO - Processing pageno: 343 \n",
      "main_broken_sentences - L56 - INFO - pageno:343 next round's fragment_2: Lücken rasch auszufüllen.\n",
      "main_broken_sentences - L41 - INFO - Processing pageno: 344 \n",
      "main_broken_sentences - L56 - INFO - pageno:344 next round's fragment_2: zusammenwirken, ohne ihre freudige Bereitwilligkeit, zu helfen, wo es nötig war, wäre ein Tannenberg unmöglich gewesen.\n",
      "main_broken_sentences - L41 - INFO - Processing pageno: 345 \n",
      "main_broken_sentences - L56 - INFO - pageno:345 next round's fragment_2: wirkte sich aus in dem Zusammenfassen auch der letzten Kräfte auf dem entscheidenden Punkt und in einem unermüdlichen Tatendrang, der auch die Lauen und Widerstrebenden in seinen Bann zwang.\n",
      "main_broken_sentences - L41 - INFO - Processing pageno: 346 \n",
      "main_broken_sentences - L56 - INFO - pageno:346 next round's fragment_2: \n",
      "main_broken_sentences - L41 - INFO - Processing pageno: 347 \n",
      "main_broken_sentences - L56 - INFO - pageno:347 next round's fragment_2: \n",
      "main_broken_sentences - L41 - INFO - Processing pageno: 348 \n",
      "main_broken_sentences - L56 - INFO - pageno:348 next round's fragment_2: Die deutsche 8. Armee am 26. August 1914, I. Tag der Schlacht bei Tannenberg¹).\n",
      "main_broken_sentences - L41 - INFO - Processing pageno: 349 \n",
      "main_broken_sentences - L56 - INFO - pageno:349 next round's fragment_2: \n",
      "main_broken_sentences - L41 - INFO - Processing pageno: 350 \n",
      "main_broken_sentences - L56 - INFO - pageno:350 next round's fragment_2: \n",
      "main_broken_sentences - L41 - INFO - Processing pageno: 351 \n"
     ]
    },
    {
     "name": "stdout",
     "output_type": "stream",
     "text": [
      "dumped fragmented outputs foldername: Der Weltkrieg v2.\n",
      "max(keys) = 350\n"
     ]
    },
    {
     "name": "stderr",
     "output_type": "stream",
     "text": [
      "main_broken_sentences - L56 - INFO - pageno:351 next round's fragment_2: Von der Festung Thorn.\n",
      "main_broken_sentences - L41 - INFO - Processing pageno: 352 \n",
      "main_broken_sentences - L56 - INFO - pageno:352 next round's fragment_2: \n",
      "main_broken_sentences - L41 - INFO - Processing pageno: 353 \n",
      "main_broken_sentences - L56 - INFO - pageno:353 next round's fragment_2: \n",
      "main_broken_sentences - L41 - INFO - Processing pageno: 354 \n",
      "main_broken_sentences - L56 - INFO - pageno:354 next round's fragment_2: Stellvertretende Generalkommandos des:\n",
      "main_broken_sentences - L41 - INFO - Processing pageno: 355 \n",
      "main_broken_sentences - L56 - INFO - pageno:355 next round's fragment_2: I. Reservekorps.\n",
      "main_broken_sentences - L41 - INFO - Processing pageno: 356 \n",
      "main_broken_sentences - L56 - INFO - pageno:356 next round's fragment_2: \n",
      "main_broken_sentences - L41 - INFO - Processing pageno: 357 \n",
      "main_broken_sentences - L56 - INFO - pageno:357 next round's fragment_2: \n",
      "main_broken_sentences - L41 - INFO - Processing pageno: 358 \n",
      "main_broken_sentences - L56 - INFO - pageno:358 next round's fragment_2: Von Anfang September an zugeteilt: Deutsches Landwehrkorps: 34 Batt., 12 Schwadr., 12 Battr. (= 72 Gesch.)\n",
      "main_broken_sentences - L41 - INFO - Processing pageno: 359 \n",
      "main_broken_sentences - L56 - INFO - pageno:359 next round's fragment_2: \n",
      "main_broken_sentences - L41 - INFO - Processing pageno: 360 \n",
      "main_broken_sentences - L56 - INFO - pageno:360 next round's fragment_2: \n",
      "main_broken_sentences - L41 - INFO - Processing pageno: 361 \n"
     ]
    },
    {
     "name": "stdout",
     "output_type": "stream",
     "text": [
      "dumped fragmented outputs foldername: Der Weltkrieg v2.\n",
      "max(keys) = 360\n"
     ]
    },
    {
     "name": "stderr",
     "output_type": "stream",
     "text": [
      "main_broken_sentences - L56 - INFO - pageno:361 next round's fragment_2: \n",
      "main_broken_sentences - L41 - INFO - Processing pageno: 362 \n",
      "main_broken_sentences - L56 - INFO - pageno:362 next round's fragment_2: \n",
      "main_broken_sentences - L41 - INFO - Processing pageno: 363 \n",
      "main_broken_sentences - L56 - INFO - pageno:363 next round's fragment_2: \n",
      "main_broken_sentences - L41 - INFO - Processing pageno: 364 \n",
      "main_broken_sentences - L56 - INFO - pageno:364 next round's fragment_2: 1. Don-Kosaken-Division\n",
      "main_broken_sentences - L41 - INFO - Processing pageno: 365 \n",
      "main_broken_sentences - L56 - INFO - pageno:365 next round's fragment_2: 11., 12., 13. u. 14. sibir. Schützen-Division, 1. u. 2. taufas., 6. turkestan. Schützen-Brigade\n",
      "main_broken_sentences - L41 - INFO - Processing pageno: 366 \n",
      "main_broken_sentences - L56 - INFO - pageno:366 next round's fragment_2: \n",
      "main_broken_sentences - L41 - INFO - Processing pageno: 367 \n",
      "main_broken_sentences - L56 - INFO - pageno:367 next round's fragment_2: Vergleich des Kampfwertes deutscher, russischer und österreichisch-ungarischer Truppenverbände.\n",
      "main_broken_sentences - L41 - INFO - Processing pageno: 368 \n",
      "main_broken_sentences - L56 - INFO - pageno:368 next round's fragment_2: Busse, Oberst. Aus der belagerten Feste Boyen, Feldzugsbriefe des Kommandanten. Berlin 1919.\n",
      "main_broken_sentences - L41 - INFO - Processing pageno: 369 \n",
      "main_broken_sentences - L56 - INFO - pageno:369 next round's fragment_2: des III. Korps am 17. August 1914 (Heft 1, S. 70).\n",
      "main_broken_sentences - L41 - INFO - Processing pageno: 370 \n",
      "main_broken_sentences - L56 - INFO - pageno:370 next round's fragment_2: Abkürzungen siehe S. 357.\n",
      "main_broken_sentences - L41 - INFO - Processing pageno: 371 \n"
     ]
    },
    {
     "name": "stdout",
     "output_type": "stream",
     "text": [
      "dumped fragmented outputs foldername: Der Weltkrieg v2.\n",
      "max(keys) = 370\n"
     ]
    },
    {
     "name": "stderr",
     "output_type": "stream",
     "text": [
      "main_broken_sentences - L56 - INFO - pageno:371 next round's fragment_2: \n",
      "main_broken_sentences - L41 - INFO - Processing pageno: 372 \n",
      "main_broken_sentences - L56 - INFO - pageno:372 next round's fragment_2: \n",
      "main_broken_sentences - L41 - INFO - Processing pageno: 373 \n",
      "main_broken_sentences - L56 - INFO - pageno:373 next round's fragment_2: \n",
      "main_broken_sentences - L41 - INFO - Processing pageno: 374 \n",
      "main_broken_sentences - L56 - INFO - pageno:374 next round's fragment_2: \n",
      "main_broken_sentences - L41 - INFO - Processing pageno: 375 \n",
      "main_broken_sentences - L56 - INFO - pageno:375 next round's fragment_2: \n",
      "main_broken_sentences - L41 - INFO - Processing pageno: 376 \n",
      "main_broken_sentences - L56 - INFO - pageno:376 next round's fragment_2: 2. Kav. Brig. 89.\n",
      "main_broken_sentences - L41 - INFO - Processing pageno: 377 \n",
      "main_broken_sentences - L56 - INFO - pageno:377 next round's fragment_2: \n",
      "main_broken_sentences - L41 - INFO - Processing pageno: 378 \n",
      "main_broken_sentences - L56 - INFO - pageno:378 next round's fragment_2: Heeresgruppe der Südwestfront 35f. 233. 255f. 264f. 335f.\n",
      "main_broken_sentences - L41 - INFO - Processing pageno: 379 \n",
      "main_broken_sentences - L56 - INFO - pageno:379 next round's fragment_2: 4. Inf. Div. 171. 173f. 204.\n",
      "main_broken_sentences - L41 - INFO - Processing pageno: 380 \n",
      "main_broken_sentences - L56 - INFO - pageno:380 next round's fragment_2: Leib-Garde-R. Rezhom 179. 210.\n",
      "wrapper - L260 - INFO - Finished main_broken_sentences in 5962.39 seconds.\n"
     ]
    },
    {
     "name": "stdout",
     "output_type": "stream",
     "text": [
      "dumped fragmented outputs foldername: Der Weltkrieg v2.\n",
      "max(keys) = 380\n"
     ]
    }
   ],
   "source": [
    "from src.utils import log_execution_time_synchronous\n",
    "\n",
    "def make_gpt_request_for_broken_sentences(payload: dict, pageno: str) -> dict:\n",
    "    global english_texts_defragmented \n",
    "\n",
    "    headers = {\n",
    "        \"Content-Type\": \"application/json\",\n",
    "        \"Authorization\": f\"Bearer {openai.api_key}\"\n",
    "    }\n",
    "\n",
    "    model_name = \"gpt-4o-2024-08-06\"\n",
    "    response = requests.post(\n",
    "        \"https://api.openai.com/v1/chat/completions\",\n",
    "        json=payload,\n",
    "        headers=headers\n",
    "    )\n",
    "    result = response.json()\n",
    "    try:\n",
    "        content = result['choices'][0]['message']['content']\n",
    "        english_texts_defragmented[pageno] = re.search(r'<english_page_1_new>(.*?)</english_page_1_new>', \n",
    "                                                       content, re.DOTALL).group(1)\n",
    "        return content\n",
    "    except Exception as e:\n",
    "        print(f\"hey An Error occurred. Error details: {e}\")\n",
    "        ipdb.set_trace()\n",
    "        return None\n",
    "\n",
    "@log_execution_time_synchronous\n",
    "def main_broken_sentences():\n",
    "    global payloads, contents, fragments_2\n",
    "    for i in range(len(all_pagenos) - 1):\n",
    "        pageno = all_pagenos[i]\n",
    "        prev_pageno = all_pagenos[i-1] if i > 0 else None\n",
    "        next_pageno = all_pagenos[i+1]\n",
    "        if pageno in english_texts_defragmented.keys() and len(english_texts_defragmented[pageno]) > 10:\n",
    "            logger.info(f'pageno:{pageno} already in `english_texts_defragmented`... skipping')\n",
    "            continue\n",
    "        \n",
    "        for trial in [1,2,3]:\n",
    "            try:\n",
    "                logger.info(f\"Processing pageno: {pageno} {' ...trying again '+ str(trial) if trial > 1 else ''}\")\n",
    "                time.sleep(.1)\n",
    "                payload = construct_payload_fragmented_sentences(\n",
    "                    german_texts[pageno],\n",
    "                    german_texts[next_pageno],\n",
    "                    english_texts[pageno],\n",
    "                    fragments_2[prev_pageno]\n",
    "                )\n",
    "                payloads[pageno] = payload['messages'][1]['content'][0]['text']\n",
    "                content = make_gpt_request_for_broken_sentences(payload, pageno)\n",
    "                contents[pageno] = content\n",
    "                fragments_2[pageno] = re.search(r'<fragment_2>(.*?)</fragment_2>', content, re.DOTALL).group(1)\n",
    "                if fragments_2[pageno].count('\\n') > 10:\n",
    "                    print('not accepting fragment_2. fragments_2[pageno].count(\"\\\\n\")', fragments_2[pageno].count('\\n'))\n",
    "                    fragments_2[pageno] = '' \n",
    "                logger.info(f\"pageno:{pageno} next round's fragment_2: {fragments_2[pageno]}\") \n",
    "                break\n",
    "            except Exception as e:\n",
    "                logger.error(f\"Error processing. {e}. trial:{trial}, pageno: {pageno}\")\n",
    "                if trial == 3:\n",
    "                    english_texts_defragmented[pageno] = ''\n",
    "        \n",
    "        if pageno[-1] == '0' or pageno == all_pagenos[-2]:\n",
    "            dump_fragmented_output_to_json(foldername, english_texts_defragmented, fragments_2, contents)\n",
    "            \n",
    "    english_texts_defragmented[next_pageno] = ''\n",
    "\n",
    "main_broken_sentences()\n"
   ]
  },
  {
   "cell_type": "code",
   "execution_count": 14,
   "id": "73c7b6b7-c714-4ae6-be9f-84da57934845",
   "metadata": {},
   "outputs": [
    {
     "name": "stdout",
     "output_type": "stream",
     "text": [
      "dumped fragmented outputs foldername: Der Weltkrieg v2.\n",
      "max(keys) = 380\n"
     ]
    }
   ],
   "source": [
    "dump_fragmented_output_to_json(foldername, english_texts_defragmented, fragments_2, contents)\n",
    "\n",
    "doc1, fname1 = save_document(german_texts, foldername, language=f'{foldername} - German_defragmented')\n",
    "doc2, fname2 = save_document(english_texts_defragmented, foldername, language=f'{foldername} - English_defragmented')\n"
   ]
  },
  {
   "cell_type": "markdown",
   "id": "62c320ba-f6da-41bd-8d1d-250459c68878",
   "metadata": {},
   "source": [
    "<!-- --- -->\n",
    "## Experiments"
   ]
  },
  {
   "cell_type": "code",
   "execution_count": null,
   "id": "8eca6d41-1a7c-43aa-9639-88863c9444bd",
   "metadata": {},
   "outputs": [],
   "source": []
  }
 ],
 "metadata": {
  "kernelspec": {
   "display_name": "Python 3 (ipykernel)",
   "language": "python",
   "name": "python3"
  },
  "language_info": {
   "codemirror_mode": {
    "name": "ipython",
    "version": 3
   },
   "file_extension": ".py",
   "mimetype": "text/x-python",
   "name": "python",
   "nbconvert_exporter": "python",
   "pygments_lexer": "ipython3",
   "version": "3.10.9"
  }
 },
 "nbformat": 4,
 "nbformat_minor": 5
}
